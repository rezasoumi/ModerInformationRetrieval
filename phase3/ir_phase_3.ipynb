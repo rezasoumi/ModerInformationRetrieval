{
  "cells": [
    {
      "attachments": {},
      "cell_type": "markdown",
      "metadata": {
        "id": "x4LLkkvu_44w",
        "pycharm": {
          "name": "#%% md\n"
        }
      },
      "source": [
        "<div style=\"direction:rtl;line-height:300%;\">\n",
        "<font face=\"XB Zar\" size=5>\n",
        "<div align=center>\n",
        "<font face=\"B Titr\" size=5>\n",
        "<p></p><p></p>\n",
        "Besmehi Taala\n",
        "<p></p>\n",
        "</font>\n",
        "<p></p>\n",
        "<font>\n",
        "<br>\n",
        "Modern Information Retrieval\n",
        "<br>\n",
        "Dr. Mahdieh Soleymani Baghshah\n",
        "</font>\n",
        "<p></p>\n",
        "<br>\n",
        "<font>\n",
        "<b> Phase 3</b>\n",
        "</font>\n",
        "<br>\n",
        "<br>\n",
        "Reza Soumi<br>\n",
        "<br>\n",
        "<br>\n",
        "<br>\n",
        "<font>\n",
        "Sharif University of Technology\n",
        "<br>\n",
        "Computer Engineering Department\n",
        "<br>\n",
        "<br>\n",
        "</font>\n",
        "</div>\n",
        "</font>\n",
        "</div>"
      ]
    },
    {
      "attachments": {},
      "cell_type": "markdown",
      "metadata": {
        "id": "_q6LVEVq_44y",
        "pycharm": {
          "name": "#%% md\n"
        }
      },
      "source": [
        "<div>\n",
        "<font face=\"XB Zar\" size=5>\n",
        "    <h1>\n",
        "    <b>Intro</b>\n",
        "    </h1>\n",
        "    <p></p>\n",
        "    <p></p>\n",
        "</font>\n",
        "<font face=\"XB Zar\" size=3>\n",
        "     <br>\n",
        "     In this phase of the project, we focus on\n",
        "    crawling\n",
        "    and the analysis of articles extracted from the Internet. We examine different techniques\n",
        "    web crawling\n",
        "    We will start by extracting articles and other relevant information from the web.\n",
        "    <br>\n",
        "    Next, link analysis algorithms such as\n",
        "    PageRank\n",
        "    And\n",
        "    HITS\n",
        "    will apply to determine the importance of these articles based on citations, references or other forms of links. We will also learn how an algorithm\n",
        "    PageRank\n",
        "    Implement personalization that takes into account user preferences to deliver more relevant results.\n",
        "    <br>\n",
        "    In the third part of this step, we implement a personalized search engine and learn how to build a search engine that provides results based on user preferences.\n",
        "    <br>\n",
        "Finally, we have one\n",
        "    task\n",
        "     about\n",
        "    recommendation system\n",
        "    where we will use different techniques to recommend articles or web pages to users based on their preferences and behavior.\n",
        "    <br>\n",
        "     The only acceptable language for the project is Python. The limitation of using ready-made libraries is specified in each section. At the end of the project, you are supposed to have an integrated search system, so pay attention to the implementation of this phase as best as possible.</font>\n",
        "</div>\n",
        "   "
      ]
    },
    {
      "attachments": {},
      "cell_type": "markdown",
      "metadata": {
        "collapsed": false,
        "id": "gv1FPxP7_44y",
        "pycharm": {
          "name": "#%% md\n"
        }
      },
      "source": [
        "<div>\n",
        "<font face=\"XB Zar\" size=4>\n",
        "    <h1>\n",
        "    <b>Implement Crawler (۴۰ نمره)</b>\n",
        "    </h1>\n",
        "</font>\n",
        "    <br>\n",
        "\n",
        "<font face=\"XB Zar\" size=3>\n",
        "In this section should be a crawler\n",
        "    Implement Semantic Scholar</a> to retrieve information from a number of articles.\n",
        "   The fetched information should contain the following.\n",
        "</font>\n",
        "</div>\n",
        "<br>\n",
        "<table dir=\"ltr\" style=\"width: 100%; border-collapse: collapse;\">\n",
        "  <tr>\n",
        "    <th style=\"padding: 8px; text-align: justify; border: 1px solid black;\">ID</th>\n",
        "    <th style=\"padding: 8px; text-align: justify; border: 1px solid black;\">Title</th>\n",
        "    <th style=\"padding: 8px; text-align: justify; border: 1px solid black;\">Abstract</th>\n",
        "    <th style=\"padding: 8px; text-align: justify; border: 1px solid black;\">Publication Year</th>\n",
        "    <th style=\"padding: 8px; text-align: justify; border: 1px solid black;\">Authors</th>\n",
        "    <th style=\"padding: 8px; text-align: justify; border: 1px solid black;\">Related Topics</th>\n",
        "    <th style=\"padding: 8px; text-align: justify; border: 1px solid black;\">Citation Count</th>\n",
        "    <th style=\"padding: 8px; text-align: justify; border: 1px solid black;\">Reference Count</th>\n",
        "    <th style=\"padding: 8px; text-align: justify; border: 1px solid black;\">References</th>\n",
        "  </tr>\n",
        "  <tr>\n",
        "    <td style=\"padding: 8px; text-align: justify; border: 1px solid black;\">Unique ID of the paper</td>\n",
        "    <td style=\"padding: 8px; text-align: justify; border: 1px solid black;\">Title of the paper</td>\n",
        "    <td style=\"padding: 8px; text-align: justify; border: 1px solid black;\">Abstract of the paper</td>\n",
        "    <td style=\"padding: 8px; text-align: justify; border: 1px solid black;\">Publication year</td>\n",
        "    <td style=\"padding: 8px; text-align: justify; border: 1px solid black;\">Name of the first author, ..., Name of the last author</td>\n",
        "    <td style=\"padding: 8px; text-align: justify; border: 1px solid black;\">topic1, topic2, ...</td>\n",
        "    <td style=\"padding: 8px; text-align: justify; border: 1px solid black;\">number of citations of the paper</td>\n",
        "    <td style=\"padding: 8px; text-align: justify; border: 1px solid black;\">number of references of the paper</td>\n",
        "    <td style=\"padding: 8px; text-align: justify; border: 1px solid black;\">ID of the first reference, ..., ID of the tenth reference</td>\n",
        "  </tr>\n",
        "</table>\n",
        "    <br>"
      ]
    },
    {
      "attachments": {},
      "cell_type": "markdown",
      "metadata": {
        "collapsed": false,
        "id": "XK_3K-YI_44z",
        "pycharm": {
          "name": "#%% md\n"
        }
      },
      "source": [
        "<div>\n",
        "\n",
        "<font face=\"XB Zar\" size=3>\n",
        "First, start the retrieval process from 5 articles of each professor\n",
        "    Add the 10 first reference of each article to the article queue.\n",
        "    Continue the retrieval process until you have the information of 2000 articles.\n",
        "    Save the information of the articles in the crawled_paper_profName.json file.\n",
        "</font>\n",
        "</div>\n",
        "\n",
        "<div>\n",
        "\n",
        "<font face=\"XB Zar\" size=3>\n",
        "Pay attention to the following in the implementation of the crawler.\n",
        "    \n",
        "    \n",
        "<ul>\n",
        "<li>You do not have the right to use the api of the semantic scholar site.</li>\n",
        "<li>You can download from packages like <a href=\"https://www.selenium.dev/selenium/docs/api/py/\">Selenium</a> or <a href=\"https:// Use github.com/scrapy/scrapy\">Scrapy</a>. The use of other packages is also allowed. You can also use the <a href=\"https://pypi.org/project/beautifulsoup4/\">Beautiful Soup</a> package to parse the fetched information.\n",
        "</li>\n",
        "<li>Give an interval of a few seconds between each request from the site.</li>\n",
        "<li>At the time of delivery, your crawler code will be executed and its accuracy will be checked.</li>\n",
        "<li>If your crawler gets an error like request timeout, it should not stop working.</li>\n",
        "</ul>\n",
        "\n",
        "\n",
        "</font>\n",
        "</div>"
      ]
    },
    {
      "cell_type": "code",
      "execution_count": 49,
      "metadata": {
        "id": "uEi5x-FcCNuq"
      },
      "outputs": [],
      "source": [
        "import json\n",
        "import time\n",
        "from collections import deque\n",
        "from bs4 import BeautifulSoup\n",
        "import requests"
      ]
    },
    {
      "cell_type": "code",
      "execution_count": 52,
      "metadata": {
        "colab": {
          "base_uri": "https://localhost:8080/"
        },
        "id": "NVpWvoHiUimd",
        "outputId": "a11eaf74-b5eb-488d-8281-efec64bdbb87"
      },
      "outputs": [
        {
          "name": "stdout",
          "output_type": "stream",
          "text": [
            "fetching https://www.semanticscholar.org/paper/CoLAKE%3A-Contextualized-Language-and-Knowledge-Sun-Shao/7eda139d737eea10fc1d95364327a41ec0cee4a4 failed with status 500\n",
            "Prof Soleymani spider completed.\n",
            "Prof Rohban spider completed.\n",
            "Prof Sharifi spider completed.\n",
            "Prof Kasaei spider completed.\n",
            "Prof Rabiee spider completed.\n"
          ]
        }
      ],
      "source": [
        "class ScrapperFetcher:\n",
        "\n",
        "    def __init__(self):\n",
        "\n",
        "        self.API_KEY = \"00b00b1cc9919e53b9ca57389b1ecc9b\"\n",
        "        self.SCRAPPER_API = 'http://api.scraperapi.com'\n",
        "\n",
        "\n",
        "    def fetch_article(self, url):\n",
        "        header = {'api_key': self.API_KEY, 'url': url}\n",
        "        r = requests.get(self.SCRAPPER_API, params=header)\n",
        "\n",
        "        if r.status_code != 200:\n",
        "            print(f'fetching {url} failed with status {r.status_code}')\n",
        "            return\n",
        "\n",
        "        soup = BeautifulSoup(r.content, 'html.parser')\n",
        "\n",
        "        return soup\n",
        "\n",
        "class ArticleCrawler:\n",
        "    def __init__(self, professors, articles_per_professor):\n",
        "        self.professors = professors\n",
        "        self.articles_per_professor = articles_per_professor\n",
        "        self.base_address = \"https://www.semanticscholar.org\"\n",
        "        self.fetcher = ScrapperFetcher()\n",
        "        self.seen = set()\n",
        "\n",
        "    def start_crawling(self):\n",
        "        for professor in self.professors:\n",
        "            professor_queue = ProfessorQueue(professor, 200)\n",
        "            self.crawl_articles(professor_queue)\n",
        "            print(f\"Prof {professor} spider completed.\")\n",
        "\n",
        "    def crawl_articles(self, professor_queue):\n",
        "        crawled_articles = []\n",
        "        max_article_crawl_per_professor = self.articles_per_professor\n",
        "\n",
        "        while max_article_crawl_per_professor > 0 and professor_queue.has_articles():\n",
        "            article_id = professor_queue.dequeue()\n",
        "            if article_id in self.seen:\n",
        "                continue\n",
        "            self.seen.add(article_id)\n",
        "            article = self.fetch_article_info(article_id)\n",
        "            if article:\n",
        "                for new_ref in article.references[:10]:\n",
        "                    professor_queue.enqueue(new_ref)\n",
        "\n",
        "                crawled_articles.append(article)\n",
        "\n",
        "                max_article_crawl_per_professor -= 1\n",
        "\n",
        "        self.save_crawled_data(professor_queue.professor_name, crawled_articles)\n",
        "\n",
        "    def get_related_topics(self, soup):\n",
        "        related_topics_html = soup.findAll('li', class_='paper-meta-item', recursive=True)\n",
        "        related_topics = ''\n",
        "\n",
        "        for topic in related_topics_html:\n",
        "            if topic.find('span') is not None:\n",
        "                continue\n",
        "            else:\n",
        "                related_topics = topic.text.split(', ')\n",
        "        return related_topics\n",
        "\n",
        "    def get_citation_ref_count(self, soup):\n",
        "        citation_count, reference_count = None, None\n",
        "        for bar in soup.find_all(\"span\", attrs={\"class\": \"paper-nav__nav-label\"}):\n",
        "          if \"Citations\" in bar.text:\n",
        "            citation_count = bar.text.split()[0]\n",
        "          if \"References\" in bar.text:\n",
        "            reference_count = bar.text.split()[0]\n",
        "          continue\n",
        "        return 0 if citation_count is None else citation_count, 0 if reference_count is None else reference_count\n",
        "\n",
        "    def get_title(self, soup):\n",
        "        return soup.find(\"h1\", attrs={\"data-test-id\": \"paper-detail-title\"}).text\n",
        "\n",
        "    def get_abstract(self, soup):\n",
        "        return soup.find(\"meta\", attrs={\"name\": \"description\"}).get(\"content\")\n",
        "\n",
        "    def get_publication_year(self, soup):\n",
        "        res = soup.find(\"meta\", attrs={\"name\": \"citation_publication_date\"})\n",
        "        return \"\" if res is None else res.get(\"content\")\n",
        "\n",
        "    def get_authors(self, soup):\n",
        "        return [tag_author.get(\"content\") for tag_author in soup.find_all(\"meta\", attrs={\"name\": \"citation_author\"})]\n",
        "\n",
        "    def get_references(self, soup):\n",
        "        return [ref.get(\"href\") for ref in soup.find_all(\"a\", attrs={\"class\": \"link-button--show-visited\"})]\n",
        "\n",
        "    def get_id(self, article_id):\n",
        "        return article_id.split(\"/\")[-1]\n",
        "\n",
        "    def fetch_article_info(self, article_id):\n",
        "        url = self.base_address + article_id\n",
        "\n",
        "        try:\n",
        "            soup = self.fetcher.fetch_article(url)\n",
        "            if soup is None:\n",
        "                return None\n",
        "\n",
        "            citation_count, reference_count = self.get_citation_ref_count(soup)\n",
        "\n",
        "            article = Article(\n",
        "              id = self.get_id(article_id),\n",
        "              title = self.get_title(soup),\n",
        "              abstract = self.get_abstract(soup),\n",
        "              publication_year = self.get_publication_year(soup),\n",
        "              authors = self.get_authors(soup),\n",
        "              related_topics = self.get_related_topics(soup),\n",
        "              citation_count = citation_count,\n",
        "              reference_count = reference_count,\n",
        "              references = self.get_references(soup),\n",
        "            )\n",
        "\n",
        "            return article\n",
        "        except requests.RequestException:\n",
        "            print(f\"Error fetching article with ID: {article_id}\")\n",
        "        return None\n",
        "\n",
        "    def save_crawled_data(self, professor_name, crawled_articles):\n",
        "        filename = f\"crawled_paper_{professor_name}.json\"\n",
        "        data = [article.to_dict() for article in crawled_articles]\n",
        "        with open(filename, \"w\") as file:\n",
        "            json.dump(data, file, indent=4)\n",
        "\n",
        "\n",
        "class Article:\n",
        "    def __init__(self, id, title, abstract, publication_year, authors, related_topics,\n",
        "                 citation_count, reference_count, references):\n",
        "        self.id = id\n",
        "        self.title = title\n",
        "        self.abstract = abstract\n",
        "        self.publication_year = publication_year\n",
        "        self.authors = authors\n",
        "        self.related_topics = related_topics\n",
        "        self.citation_count = citation_count\n",
        "        self.reference_count = reference_count\n",
        "        self.references = references\n",
        "\n",
        "    def to_dict(self):\n",
        "        return {\n",
        "            \"id\": self.id,\n",
        "            \"title\": self.title,\n",
        "            \"abstract\": self.abstract,\n",
        "            \"publication_year\": self.publication_year,\n",
        "            \"authors\": self.authors,\n",
        "            \"related_topics\": self.related_topics,\n",
        "            \"citation_count\": self.citation_count,\n",
        "            \"reference_count\": self.reference_count,\n",
        "            \"references\": self.references\n",
        "        }\n",
        "\n",
        "class ProfessorQueue:\n",
        "    def __init__(self, professor_name, max_size):\n",
        "        self.professor_name = professor_name\n",
        "        self.queue = deque(maxlen=max_size)\n",
        "\n",
        "        with open(f\"{professor_name}.txt\", \"r\") as file:\n",
        "          for line in file:\n",
        "              self.queue.append(line.rstrip().split(\"semanticscholar.org\")[1])\n",
        "\n",
        "    def enqueue(self, article_id):\n",
        "        self.queue.append(article_id)\n",
        "\n",
        "    def dequeue(self):\n",
        "        return self.queue.popleft()\n",
        "\n",
        "    def has_articles(self):\n",
        "        return len(self.queue) > 0\n",
        "\n",
        "professors = [\"Soleymani\", \"Rohban\", \"Sharifi\", \"Kasaei\", \"Rabiee\"]\n",
        "articles_per_professor = 400\n",
        "\n",
        "crawler = ArticleCrawler(professors, articles_per_professor)\n",
        "crawler.start_crawling()"
      ]
    },
    {
      "attachments": {},
      "cell_type": "markdown",
      "metadata": {
        "collapsed": false,
        "id": "arMvUIiS_440",
        "pycharm": {
          "name": "#%% md\n"
        }
      },
      "source": [
        "<div>\n",
        "<font face=\"XB Zar\" size=4>\n",
        "    <h1>\n",
        "    <b>Personalized PageRank</b>\n",
        "    </h1>\n",
        "</font>\n",
        "    <br>\n",
        "<font face=\"XB Zar\" size=3>\n",
        "In this section, we implement the personalized PageRank algorithm, which is an extension of the PageRank algorithm that takes into account user preferences. The personalized PageRank algorithm ranks nodes in a graph based on their importance to the user, not their overall importance in the graph.\n",
        "</font>\n",
        "</div>"
      ]
    },
    {
      "cell_type": "code",
      "execution_count": null,
      "metadata": {
        "colab": {
          "base_uri": "https://localhost:8080/"
        },
        "id": "omF5L2HV_440",
        "outputId": "8ec7288c-0a94-4e92-e722-30ebe9eee08a",
        "pycharm": {
          "name": "#%%\n"
        }
      },
      "outputs": [
        {
          "name": "stdout",
          "output_type": "stream",
          "text": [
            "{'1': 0.037211965079867564, '2': 0.05395734936634448, '3': 0.04150565335840604, '4': 0.3750808151060863, '5': 0.20599833187652833, '6': 0.2862458852127689}\n"
          ]
        }
      ],
      "source": [
        "import numpy as np\n",
        "from typing import Dict, List\n",
        "\n",
        "def pagerank(graph: Dict[str, List[str]]) -> Dict[str, float]:\n",
        "    \"\"\"\n",
        "    Returns the personalized PageRank scores for the nodes in the graph, given the user's preferences.\n",
        "\n",
        "    Parameters:\n",
        "    graph (Dict[str, List[str]]): The graph represented as a dictionary of node IDs and their outgoing edges.\n",
        "\n",
        "    Returns:\n",
        "    Dict[str, float]: A dictionary of node IDs and their personalized PageRank scores.\n",
        "    \"\"\"\n",
        "\n",
        "    alpha = 0.1\n",
        "    num_nodes = len(graph)\n",
        "\n",
        "    node_to_index = {node_id: index for index, node_id in enumerate(graph)}\n",
        "    index_to_node = {index: node_id for node_id, index in node_to_index.items()}\n",
        "\n",
        "    adjacency_matrix = np.zeros((num_nodes, num_nodes), dtype=float)\n",
        "\n",
        "    for node_id, edges in graph.items():\n",
        "        node_index = node_to_index[node_id]\n",
        "        outgoing_nodes_count = len(edges)\n",
        "\n",
        "        for outgoing_node in edges:\n",
        "            outgoing_node_index = node_to_index[outgoing_node]\n",
        "            adjacency_matrix[node_index, outgoing_node_index] = 1 / outgoing_nodes_count\n",
        "\n",
        "    teleport_weights = np.ones(num_nodes, dtype=float) / num_nodes\n",
        "    zero_rows = np.where(~adjacency_matrix.any(axis=1))[0]\n",
        "    adjacency_matrix[zero_rows] = teleport_weights\n",
        "\n",
        "    adjacency_matrix = (1 - alpha) * adjacency_matrix + alpha * np.outer(teleport_weights, np.ones(num_nodes))\n",
        "\n",
        "    pagerank_scores = teleport_weights\n",
        "    for i in range(50):\n",
        "        pagerank_scores = np.matmul(pagerank_scores, adjacency_matrix)\n",
        "    pagerank_dict = {index_to_node[index]: score for index, score in enumerate(pagerank_scores)}\n",
        "\n",
        "    return pagerank_dict\n",
        "\n",
        "graph = {\n",
        "\"1\": [\"2\", \"3\"],\n",
        "\"2\": [],\n",
        "\"3\": [\"1\", \"2\", \"5\"],\n",
        "\"4\": [\"5\", \"6\"],\n",
        "\"5\": [\"4\", \"6\"],\n",
        "\"6\": [\"4\"],\n",
        "}\n",
        "\n",
        "print(pagerank(graph))"
      ]
    },
    {
      "attachments": {},
      "cell_type": "markdown",
      "metadata": {
        "collapsed": false,
        "id": "WT9o-OT4_441",
        "pycharm": {
          "name": "#%% md\n"
        }
      },
      "source": [
        "<div>\n",
        "<font face=\"XB Zar\" size=3>\n",
        "In this section, we use the personalized PageRank algorithm implemented in the previous section to identify important articles related to the field of work of a particular professor. This function receives a field as input. The output is also the best articles that are most related to that field; will be.\n",
        "</font>\n",
        "</div>"
      ]
    },
    {
      "cell_type": "code",
      "execution_count": null,
      "metadata": {
        "colab": {
          "base_uri": "https://localhost:8080/"
        },
        "id": "ONb564nX_442",
        "outputId": "b2dc101a-1c22-4130-8f09-7404aff92c2f",
        "pycharm": {
          "name": "#%%\n"
        }
      },
      "outputs": [
        {
          "name": "stdout",
          "output_type": "stream",
          "text": [
            "([('6364fdaa0a0eccd823a779fcdd489173f938e91a', 0.0007757710070957733), ('3aa681914a7da79f7d7293f51a058eefe61c8bb7', 0.0006901612906066653), ('0535625be630c6a67f4c244ebf3aa61ad088fc70', 0.0005746229022888887), ('6885c45614f78f9d2e7cc8ef11b3c38b34e67f7d', 0.0005730548373870571), ('41747cbdbed84762dfbfc305254c97021279dc6e', 0.0005362351851194293)], dict_items([('0b5b33b7ea1dc12f3e9252ac1852170a6a6775bf', 0.0003108706974165954), ('8ab76eba8c98c302def3e2d3bedea1e00b371add', 0.00024244856575432276), ('fbf097f626a02b2c49947e003f80915aab08147a', 0.00025582804239935946), ('0f1425c2fc9c3b817b4285813b5fc0a2cb777bf9', 0.0003294103382473947), ('b6d233e5a2c14e958c19cf1fc5d0a87531889f8f', 0.0002672435092860936), ('9a2ce0b25d3a0f82eae38a0d1e8064d710aa11d0', 0.0002604652931153505), ('81c35b12898c7f46115547b70f628f966ed73c50', 0.0002972683388400818), ('02a3042552b70feb47f3dca08806f8ce82f35b84', 0.00024244856575432276), ('0a78085721f70d82c1284c124c3137bb7c2b34e7', 0.00026655737624937053), ('4a6bf17538ded4eae48629728ee17adebb688094', 0.00031646407630280264), ('056806e5ba9f2b39cbe86b529c325998c3bdd016', 0.0002906485004610931), ('dc90e115e348908891a4e990242e726b3d4e8b15', 0.00024244856575432276), ('48cc41c7b2fac21d7bbd2988c5c6a2c5f9744852', 0.00025444580099305195), ('1294067d8237497b6cd3ee8731c3636215981de3', 0.00024244856575432276), ('a1af04fa0a581a9f134a734363b1786ab2c355b7', 0.00024244856575432276), ('779b489971775507fe6a39d98c52c4df56d9cce1', 0.000287711486194143), ('31a27c6500b6652d7ecc055c9b08457ad90128c1', 0.00024244856575432276), ('713e881b5c3134debf934026edf6f0ba3cb42c3c', 0.0002555888195069342), ('0878ad6d3692c27eed44cc76b64662d228b4cf1e', 0.00024244856575432276), ('c89bfd998b0a6c656010b629814ab0cad3cff72e', 0.000291953228710557), ('c26e4b47660692e500ad5afb5225e62b58b2e411', 0.00024244856575432276), ('6885c45614f78f9d2e7cc8ef11b3c38b34e67f7d', 0.0005730548373870571), ('0e8446c00ed21c19f62d71ab208a7b3601671766', 0.00031131312339191747), ('3b3aefbbdb64e5812f133f220b3f129a36a30065', 0.0004022937511034656), ('2013f18832e0fb11c7aaf1f4f8da453aebda488c', 0.0002977346352944533), ('61840de4d9610558d510cfcf32986e93511a4cef', 0.00028709112689565604), ('180300ff8282220c76c7c41ded4d9d8c1be4d3fc', 0.0003789527256048269), ('ac62ed8a9b77d613189b63004f4a5d4c5cc082fe', 0.0003065156855933578), ('f48d6b404932c23b701d01d7f7382384103b0bd6', 0.0002688329636607213), ('205a1c89058ea55fe536c6484a62213d1d0f0160', 0.00027235543864719935), ('854c92e791ca2d81fec787736866b892b73b87f6', 0.0002542489700325628), ('a4b4b63968260f142b0b5a10d8868f18d6930f4c', 0.0002542489700325628), ('4c1abd8969fc1c360f50373f6552bcfb3cc408b7', 0.00034076197773602043), ('5db790198b9acf4e5efe350acdd814238fcacaa7', 0.00036983481908647604), ('0535625be630c6a67f4c244ebf3aa61ad088fc70', 0.0005746229022888887), ('3aa681914a7da79f7d7293f51a058eefe61c8bb7', 0.0006901612906066653), ('41747cbdbed84762dfbfc305254c97021279dc6e', 0.0005362351851194293), ('dbc7401e3e75c40d3c720e7db3c906d48bd742d7', 0.0003368880709111722), ('8bedee52bf14e326d7fe2b1f1c1d0cb256aa53f6', 0.00029629408411534474), ('2b75ba7f75170b73d913c515cc0deefef6c88f5f', 0.0002870525992729571), ('8381157eae4fbf8908d0312a9642f8e69e944449', 0.00035546470379859807), ('d9d7ab13ce305ccee309c989a2341d72b1252070', 0.00026555248406099675), ('1e1f905c5d8c6a2ad18b09ce8eb5d2b4c6b174f5', 0.00032968396654849044), ('4d0506d3e7f5dd23e1620cf8c48650bf1552bd3e', 0.0002671192641153805), ('069c15e8891c9260d9545d0f82b8a08145044482', 0.00024329531484287067), ('dbe577b3cdc30f0f1b264a86affc9db96c6065a7', 0.00030838495671555404), ('0591de4af9853d4fd6225e73568b669d69c5f8a8', 0.00024329531484287067), ('42be3e7f9b95fcfa4455988a27dd17cf01d68507', 0.0003412763099522159), ('0b1bde9d681580b807d5da5933cfc6920fa922fc', 0.00024329531484287067), ('a8f057a67b17ed18eecdff46a4f15e4e6e2e3863', 0.00024329531484287067), ('8f8a0de72c285f10bd3af311899026193eda632e', 0.00027250634086571824), ('f091d0da11f8a4a2ed44e10fd34c6e76d8cd5456', 0.00024329531484287067), ('047d1a132c24aca4b3dc9bad12b752c615b78f95', 0.00024329531484287067), ('929a490198770abcb8c123d68a59384879b69adb', 0.0002792938111675132), ('29c736eb38861ecf346ce49eedf163c03974566b', 0.00024329531484287067), ('36748de338909976f72ffbadaf097470ec040da0', 0.00035462423054807103), ('e5c33c8df40dd55cb3068b759a30f76bbd8b9933', 0.00024329531484287067), ('aa0875ccc516862edc0b6bd2181ee27ce882933d', 0.00024329531484287067), ('a2e75b7d9727b7ea7cefb4060d93ac75813e3c48', 0.00025925626994792976), ('8db554d7e597000f5a0e13712ef0cb3299c05187', 0.00024329531484287067), ('bfc8a8724b36cd2b1d068d1f997400e74791a68d', 0.00025925626994792976), ('8a7ce466e8f119f033aeace4210cc348ed62520b', 0.00024329531484287067), ('669832b732a20ccbdbb81c22393f4bc8f9371dbc', 0.00024329531484287067), ('0e16a10560b4f7d5f891b932c79d1b2005407acf', 0.0002641132298725252), ('f7ec3c2396844cb7f60649be7c059f206d8c3b46', 0.00026129971146627277), ('b9dc8c417fb660a705c538ba16b22d199dd9c1d4', 0.00024034410199801445), ('9e35901cbd1c258e99a2d119c666d8f1f0c62c88', 0.00027935797705457515), ('90d5988e60124db3e2221b90e2560d99790e7daf', 0.0002760004587799591), ('c0ff008fe0ea97f117d200b702be481a073fbae8', 0.0002760004587799591), ('f0737ce218f93f5252fe2c7978e33fead964dbc3', 0.00025504484931170056), ('a2c7b7db0ef5994cc43fb550880406c595d14d5f', 0.00024034410199801445), ('bc0aef148b8ec2f3dbdced4686b1ad094a2f0789', 0.00024034410199801445), ('e8e1b2d7917c22b01d0528d6d6159564cc284cfd', 0.0002760004587799591), ('9e46ff3d4b13b099fb6281a7d74f2777c238f038', 0.00024034410199801445), ('3ecba59e99a4cd5f146270debc5ef8d214697c77', 0.00024034410199801445), ('51ff6cfb98eec39da52035d87f329cf9e89462e6', 0.0002760004587799591), ('1ed22f981940b25d3ceac8846153b3521e8cae7b', 0.00025504484931170056), ('46dfa751eade5e60ab16b51496a9c764bced2322', 0.00024034410199801445), ('e4d56ec1be5603ddb2cd5b9264e365a19dbd5217', 0.00024034410199801445), ('8f4f9faa26027f8eae4474d90f6d31c0749acd49', 0.00024034410199801445), ('5f56320c5979faeab78dbd9ddb7db755ba4550f3', 0.00024034410199801445), ('e716688ddc25dcc8871ef04c7f864063949aa8b9', 0.00024034410199801445), ('fe09efb519b26d59c64c715c4efcbe752dc933be', 0.00024034410199801445), ('046d550f95db0dae9aa26b34c31cb502b5b72983', 0.00024034410199801445), ('10b219619e88931fabb674037bbb633682775136', 0.00023922388020131916), ('38ca689c2f916c648ea3ecb1043facbc4bea0d4f', 0.00023922388020131916), ('12ebe64bf81b85b2331875895bd3a2b5978dabd8', 0.00028527985022997225), ('027c44214e34f06bfd82625c393ddc73cf4ae760', 0.00023922388020131916), ('bd6262ebdd1a865e8e6859ab7dd8dc576d2a90e6', 0.00023922388020131916), ('69244cd6455392f7eb0dec90119d5c689ee6f1ba', 0.00026285930239611493), ('5e5ae3d3439151cd7a026aadb8da9eab16a7b7a7', 0.00025627981411471964), ('32c82fa3e438521d010e7c7b95a7c01d61f2ceff', 0.0002638088541015909), ('8b153cc2c7f5ea9f307f12ea945a5e9196ee5c52', 0.0002499908873120577), ('4093d9e59f0be07b709d1157aab7fa2d0e41689b', 0.00023922388020131916), ('70f9968a356d840040a1c9207906f60376dc6bd4', 0.0002499908873120577), ('7aa38b85fa8cba64d6a4010543f6695dbf5f1386', 0.00023922388020131916), ('6af440915b8a0718c93be1cf61905e41e620484a', 0.0003952445362703404), ('d65eb30e5f0d2013fd5e4f45d1413bc2969ee803', 0.0002968413833351741), ('599fd051c9438011ec5b581983c89e8922b4a5e6', 0.0002908752104082127), ('5f1e7c3c81d6a9e716eab660bb7536ecb204ef7d', 0.00023922388020131916), ('0314e777333a63aca5735ea136c74e113aa8801d', 0.00023922388020131916), ('6e97f1ced85428cf7207fbcc9205afc0daa68017', 0.00024829713492753233), ('8d1ae1fb2fdaddd58e57f089a1df8c78786510cf', 0.00024829713492753233), ('ec59fe08fab6bfb9c91606f66b7c4543c4953453', 0.00024829713492753233), ('715a5f8c6d63e3c191b49f969ffe6a859fbcf5e6', 0.00024829713492753233), ('a1e392a596bc2f34fe34dddf79ee11c20fe5d00e', 0.00024829713492753233), ('88b3a6c3900b189f02cb8a3bfae95214f90ca585', 0.00024829713492753233), ('721d3a3c0d8f9d7cabf6a708286306af14bb5ab5', 0.00024829713492753233), ('97b3aae575c18e395c38b966fc1c5bf039cdf9cd', 0.00024829713492753233), ('061218e8c8e2bb4e31ea6aaf6ab5e681fd2787aa', 0.00024829713492753233), ('a514e1f6d9eda557e06f69844a2c863c78f59ad4', 0.0002711409193918456), ('857ca3a4591332dbb4d2d56a9f386fb203dbce1b', 0.00024829713492753233), ('ba124bbde8d114a9103eb5751036e2e4710e2fff', 0.0002811608039351049), ('34c062e2b8a3f6421b9f4ff22f115a36d4aba823', 0.0004552342230659858), ('6364fdaa0a0eccd823a779fcdd489173f938e91a', 0.0007757710070957733), ('87c0dd990287d92796c7dc83edba6f52a2f52e21', 0.00028717958399568106), ('1e5e8106700c8dbdfa036a5a9be5e61e06c0ed02', 0.0003851386488916282), ('42b0a8f757e45462e627e57f9af7e9849dcdacdf', 0.0003442443036477828), ('317aee7fc081f2b137a85c4f20129007fd8e717e', 0.0003499559995504085), ('1f476738e6d2950ab2ca08ac852764640c8e9d93', 0.0002514855301738298), ('3379d2fb4f23b19cfcf0d6ed4b246b7f724a7122', 0.00026615962818348426), ('2b473717c8923ac78693006ff22e3508a98f639e', 0.0002531670835377686), ('c9adc95b6d67621c72b5a8b68d144ac7851b0b4d', 0.00027329251498624826), ('4f2eda8077dc7a69bb2b4e0a1a086cf054adb3f9', 0.00027329251498624826), ('2c03df8b48bf3fa39054345bafabfeff15bfd11d', 0.00033743529722393814), ('9e7e1d962ab25ae00e6fb5713116967e9b64be50', 0.0002531670835377686), ('441555b5cd09703e55c03e70bd2c9f82c0ffcf9b', 0.0002531670835377686), ('4a91c15880a788711c0a7e00ba3968580e3052a5', 0.00027727589403281637), ('a3e36619f167b9ae2f1b9162a5a270966b86c5cd', 0.00027544992494371525), ('7ae5b1b4b488473314d40711e4d2b0e8d7e210ed', 0.00027005486072809724), ('5104b466cbccba132fbad0a0f9660b9464d62ea0', 0.0002503261763053281), ('5d1d45c89ec13f3b0a83078759bb1dfbac695102', 0.00037732919071895845), ('9e125fff5eb38d3ea120d6cc57aa41bc1ce586e5', 0.0002503261763053281), ('7f91d6acef932c471ca40a81cc8ec22d0482e459', 0.0002634604011540866), ('3ad945c6e59f10da30f7bd506c7c47ab42c869cd', 0.0002503261763053281), ('3d5f72d8f649d3014e53a2ca1f4145a15cd5953e', 0.0002503261763053281), ('a33a87a73287e4e940d1d0733fb98d13fafd68c4', 0.0002503261763053281), ('31cf1c5198a37a8bee0e9a497744a110dcdb72f1', 0.0002503261763053281), ('03d66c8cb662f7b93f50570b2664ed894502cfe4', 0.0002401799153751281), ('bca61b46a57a93fa9d8bd9a81f2ab31ff139270c', 0.00025355939202016475), ('9d33b323a549d67b22c88d74411ce9f24be0fad1', 0.0002401799153751281), ('44005894791836969cc5408d5ebb37f31dac3fc7', 0.0002401799153751281), ('20ae765c8e49d12088a2434e84d8827f7b6e38e4', 0.0002401799153751281), ('1cb5a1fce0b65b616e69cc5ffd4e43e03d259e97', 0.0002401799153751281), ('865d5745ac3f1c54fdbb38f24f5841cf5a9cedac', 0.0002401799153751281), ('68269c90117a261f741f60bacbfc40c2c9b143ad', 0.0002401799153751281), ('56ac99469b08321d60e3f3d8ed904cf20a27d3bd', 0.0002715761193811927), ('c38d90a41c70ac73139da412f3e681c9206ad57e', 0.0002401799153751281), ('24b8a0b02bcb7934967757fc59d273a71ba67e30', 0.0004660937521065738), ('937253956dc6ab942764c13ab1a132238740d5b3', 0.00026172030384984595), ('441ff323c92331e655ce9ff896773fc00b55089a', 0.0002401799153751281), ('5090fbfc9cf5db61ed060e5afdf01d2c08a8fcce', 0.000287966025246772), ('a86d7289c76d832e83c99539859b7b186e4ea6c8', 0.00029589128687372015), ('349461d60b4d3d34dc97147e4b9ec2b9bd611be8', 0.0002966683337885881), ('e77d17d21941ed10adf14800d4a28bbd0f7c6eca', 0.0002401799153751281), ('78db21fabea962592ac0aef54624251550929109', 0.0002673373171118061), ('19b0b1c8629904a81121e0311aed2a401ebc3aae', 0.0002418363497356173), ('2b7aecc0c942ffe2abcea5bb8742d01314a69fa1', 0.0002418363497356173), ('7c274eb51477d8aedb253a1be88fc10ff8005de4', 0.0002418363497356173), ('b556d04e6f62abb904bb47799f1ceb113fbfd940', 0.0002418363497356173), ('69b985ae4a8331107cdfa148335bf08d15787bda', 0.00028212929234632005), ('237c7533357933c5d8f1ee087000dc66420a0134', 0.0002418363497356173), ('2a2bdf5cf0d73bc333423a8fd246593f4bf65322', 0.0002418363497356173), ('5bc8d8e541045d5c5a2b4c329e5fea5b5e3bc10d', 0.0002418363497356173), ('557180b3ec281593cf4d7088c735316ab3405a8b', 0.0002548970324426074), ('ae1c89817a3a239e5344293138bdd80293983460', 0.0002968378176479578), ('27c761258329eddb90b64d52679ff190cb4527b5', 0.00026854716620533444), ('0ebc300c16f01a4e94c8551997922fdb67ac1951', 0.000254601750209166), ('61af9ff6ec3dbb5299455746a1c63588ccf62cf8', 0.0002955404501967929), ('6af3f80dfc19651187ef568880ba61a542f54010', 0.0002418363497356173), ('35996e1b1f34985ab10cdb07163f00c50a23d8d4', 0.0002552107279999475), ('5adf5d8b6d9a6f327257a8b1c5bf47bc47e596e0', 0.0002430063984376785), ('5dba785e24772910be9817992033851c89b57603', 0.0002430063984376785), ('a75bd45c1b623de4793dc9d82aa7831f17219dbb', 0.0002430063984376785), ('f34611a051a9160b8e38f12a7272249a7072d089', 0.0002430063984376785), ('b218b13756f3aacadf5f06d09652058d024dc9d4', 0.0003132793276121656), ('bbffe75a1b5c5bc02f3a13bbc4f6700b17686102', 0.00025986679731535315), ('220530cc1db8c822d56bddb749bb525143d1e640', 0.0002564050156601358), ('5986547c7380f5a8fb6028093f827b3662f838a2', 0.0003455088788803474), ('1a0912bb76777469295bb2c059faee907e7f3258', 0.0002615584073009611), ('d2c733e34d48784a37d717fe43d9e93277a8c53e', 0.0002430063984376785), ('b57c925acd708fd7e27facd3e8d11053ea7cca30', 0.00028382546404069403), ('ab0e039f03059e5d143b90b83324712827d16fad', 0.0002430063984376785), ('5fd490e5ceed129a83d16dbda29ab61fe4aa1acb', 0.00028283988612905995), ('c7c1b005a042e52be8523ddf0d26941a242d5402', 0.0002678275928652163), ('3a8150de52d52c3d3ac36a7db695b00949409942', 0.00024045410832930974), ('81f0e648e4776dcbe933bda553f6ac4e5b31876e', 0.00024045410832930974), ('9fc2e80923c10f1619e51be64cf44516f55cd131', 0.00024045410832930974), ('191d3915ce8f8edb9d38a5486798f84c9c7488a8', 0.00024045410832930974), ('86e92a4b836db293a7a63d81e2a400846088648a', 0.00024045410832930974), ('2b40eabd11fe435dfa56bb0f8a6434b0dcccb5bf', 0.00024045410832930974), ('3ad4b29906c8987bac46ea0ea9586b58a38fa8f4', 0.00024045410832930974), ('e33f7928a45e395f1bc2a1aa1dd9349bc725ba24', 0.00025468733911260456), ('bd316183cad100b12d717d25f2e55676eaa8f701', 0.00024045410832930974), ('e1b3ad532f9346d51578c32dc6b070c9744a8d88', 0.0002535943620819212), ('5c5be36e3111e42247d78a6d529e4b1d7d2ced12', 0.00024045410832930974), ('268241fd604918a86e1b27e1a880d47e0ecc2d5b', 0.00024045410832930974), ('318f82a3e593e391cfd0da7964b16d83299aa943', 0.0002535943620819212), ('b2d952fbd6951cbed68ea13003a045300970731a', 0.00025284045373938173), ('06791ac9c0d9fe98ddd7da2117ca8ef1809480e3', 0.00024045410832930974), ('2fc4c2b52f2b9becb63915af6b8f1cddda63331e', 0.000521971854890082), ('9a7a17ef18f70d121bdb25d8a8aa90bb2727aa8a', 0.00025036985754924626), ('2bf7a8f4731bcd1d10bd506234c96aaad0345c2d', 0.00025036985754924626), ('6feecbba7eacf002edeee797db2704d15ffbda1b', 0.00030328186193261716), ('1f94d3883f0f4ad29546faa5ad185321d7be4d21', 0.00025036985754924626), ('20db2a2fadcf563a2d522aabc440b6b4f3ee46f4', 0.0002877786585818258), ('0a041d4ca50fb6c5a01b809313488b92031f6730', 0.00025036985754924626), ('75808111f4b554d3d99563c8f2b22359bc011c45', 0.0002908443680732962), ('a6876ea89e677a7cc42dd43f27165ff6fd414de5', 0.0004121928684692097), ('c49a547b3424f42cc290f29c4f648514efc37229', 0.0002609500915361991), ('fdb10b8cd4125bdd1b4ed889a155c04a7c86e82f', 0.00024858230453906005), ('505e72b8d60e987e89b93fdd98859b857ca94207', 0.000296030695523983), ('d7ddad7bbda29de7676c21bfeac6be2ce0a07d6f', 0.00024858230453906005), ('5694e46284460a648fe29117cbc55f6c9be3fa3c', 0.00024858230453906005), ('b5c26ab8767d046cb6e32d959fdf726aee89bb62', 0.00024858230453906005), ('2c91de722d5cbb7048c2e80a3c7676a3c576f762', 0.00025377905754062687), ('361493f638981e3aec1f55966a066f0138f01bc8', 0.00024246847849722396), ('4141b5740f8ff7464f9bbcb152b0ac7cde5d7954', 0.0002827599655063467), ('1312e46326f7e36fc82d16098b824540fe2dca66', 0.00031122891192780175), ('829417264611445436f635020d942244911d8301', 0.00025858194790025506), ('c39aac50bc5dbaf1ea14eef48043156b51884238', 0.00031122891192780175), ('dbab222bcaa0717048feb2967e184ee267226ef5', 0.0002560979255307309), ('861d11c147a8ad472c733ede13e8ef1275994a0d', 0.00025881901558884253), ('21ef67614bb9733adf46f378c4bc7e816a1a829c', 0.00024246847849722396), ('188a76b513b61a496f50f3e7bcd2540dde66d65e', 0.00025723456282346726), ('78661cecf81340be9bd5720ac5ae97dc0e037bb9', 0.000323876059252915), ('78d80c343d36baaf89f18e12d325cf6309fb6c8f', 0.0005095414099420903), ('4758baad6b22c61682e7f7182bb93723046f36f5', 0.0002749324849918737), ('02805f18989b7e77f30ee13defd6fecfcd0f499f', 0.0003827768883950783), ('2e8d62277e40d465343e8dfb32ecc246f320540e', 0.0003829774166763898), ('18f207d8dab7357f4f674211ec4f150de1c93a0e', 0.00039469463471154646), ('8ee35ed698527d9695c872e3b76715fec4ef69ad', 0.0002749324849918737), ('93040f8a5d10e8fde279e18d353aa3dca2873900', 0.0003179761855234214), ('5c04ce7f8510af40f2931535feeaf220832ab548', 0.00028632810957649813), ('d17df33c9b6453d61d01353e94592f1757caee8a', 0.00032258332732861266), ('a2098146f85a41e38d3d33c86ba9060dd2ce26a1', 0.00025954165642236635), ('bb0c598b0306bcc862e83a997fd42131d0c292bf', 0.0002588381901299134), ('2c820847a5fa8ca285066bc48920ca95c1e2168e', 0.00024656334170521685), ('a865519bd5373cc5b73f672c1c787064c380aaaf', 0.0002601543001803996), ('30895c61bb836f2cae7ef5ba6516886f746a7153', 0.00024656334170521685), ('9fe3cebb4454abc5d3bcfcad9c3228fbacdbdb08', 0.00024656334170521685), ('35dfd96486c38d9a21b1d29e2381d72cd7928b2f', 0.00028194046107265575), ('58d59beb750e8c0e1d52b04dbc6c1c8b5ea3178a', 0.00026714151643607574), ('cc63b87a654e28aefe60250e950572bfb3d7e2ea', 0.0003073225676204478), ('7d90243c5a46430a36c5ba88627b5d254450a1e1', 0.00025079097934445707), ('23ad8fc48530ce366f8192dfb48d0f7df1dba277', 0.0002754074481400168), ('931dffdd56d60b6b9619a9f5ea8b533ec1ccdf04', 0.00032807631234688486), ('363c81a08858df8dd7d1bde79c6e002e3b19f900', 0.00035756767308192715), ('2b32b46f346d9b13268f0e74e5242a10a712a352', 0.00025429971287826525), ('8e180ffb0c4bfe4db41a245637042a28fc98d891', 0.00030428485757565046), ('d08775cf2bebcffa05c6fa506f687ef56953f128', 0.0003274009651871584), ('6517f92d519fc126cc18924231bafd8945a554d1', 0.00027849780558978704), ('30aa23a6a32312666f2609339582744203024993', 0.0002734948178597692), ('9f667d6cec1d607d729ac3a4b6ff9b673d634887', 0.00024551280700398114), ('6a4f7514cf25a36b746b09eab4a2576a12961cb0', 0.00028931787269817103), ('62d49fa60b54fed1e2a2cde3cb49d3639db76768', 0.0002774470264245184), ('0795b7462b6d186d4ccd63d185a25f54d56aaf5f', 0.00024551280700398114), ('2e925205de0150d759518c767811dcbb89fca058', 0.00024551280700398114), ('ad4a998b7b2af6e607ea917d5e6974b0a097cc54', 0.00035476097500492735), ('c635a32124b0ae9f71e04af94df589c5d82dc41e', 0.00024551280700398114), ('8ed98bd58c799718d6fd389e2218bb89b1ecb9d7', 0.00025782228315731563), ('f24dc0f3c1cc1da6c4fd12e1a65f55a6d82bb8ed', 0.00029197707754240594), ('c48def9076e58095c4aea49a8daa931af1990701', 0.00026850561025561356), ('f5a951b9596be0df5ad7ede180b405c9e97a65c9', 0.00026850561025561356), ('182d11020bf2842f135f1ec1dcac20237e0dc8b7', 0.0002683702160567528), ('5f61089d3d548a515f01b473f0119137d1f340d4', 0.00024551280700398114), ('55d49aa6bd3e6605c6510a147c1fb5bdd7af0b12', 0.0002637245247669093), ('e5349e937545d3f3d18d254bd21d695e7350ea8e', 0.0002772238322435393), ('11709bfadfd6bbb371f4077bccb7c26d93c39cdd', 0.0003632800541695064), ('912a659ba09887c3abc99dc3ec5818bd1a36e1ec', 0.00025144967634221286), ('19862af96b6af51e879e6e3f1d3d421af5427005', 0.0003240305786628223), ('62b77e5cb85fc61b84edd532f6d65714be152596', 0.00039260880583340333), ('9277dc70c74bcadf80dab11c28ead83fd085deec', 0.0003139007514744701), ('46276273cf92c31e103feab0cdc2ad0adda0dcc9', 0.00026466303625846677), ('881b3732b72fc42968e8ccda0c256f3f5d3a9540', 0.0002484944143101639), ('05ba3c532b7b98c9448da0bee52d7cba0ef29621', 0.0002974154342345446), ('8b73514fd708f6bdd3786d47a8673a97fdce4dfe', 0.0002484944143101639), ('c6bf43a2bfffec64989baa2d193a6a845defa59e', 0.0003228591269902433), ('f638edf9370a9a07681d80f7c6366e9783848a25', 0.0002484944143101639), ('796f794f3aa5366e8f525a0d2c814fa19c917db4', 0.0002484944143101639), ('8a2b9eac4e36e5f62a59f118c7bfc1ed9763b59c', 0.0002484944143101639), ('559c6ae809700119458006edb129ba966b147bda', 0.0002484944143101639), ('64bda8b75fcb70e60efc6816888fa7a0368f2c96', 0.0002484944143101639), ('62085a0d75c7daeb2b8b9ee58428e3339bc4ce48', 0.00024315762040426673), ('da7523cd505a253a6d86131897696354ff65232e', 0.00024315762040426673), ('b5a4218270924748ab6ea2f122ae446faf937b8b', 0.0002641132298725252), ('ef9125a2db9ee309baaaa86254528fc93c2f5fd1', 0.00024315762040426673), ('dca27a6f185258eca876c209ceaab0bf810f16c8', 0.00024315762040426673), ('b88f2df713c30c358076441e188d4339db993f65', 0.00024315762040426673), ('18b04752a09119494d21c9d57c6097e9595be8c8', 0.0002641132298725252), ('5136c28493c6cc15a61c4a6aa45b834494935b39', 0.00024315762040426673), ('338c55f43bc6bce1174a766b9f6bd2fec4cf6c5e', 0.00023922388020131916), ('b632ec4447c1d5dfdf41bb0288e9fcaa8d02f713', 0.00023922388020131916), ('0f23a44418aabe3344c6f3809d6a8ab898292813', 0.00025281483867650175), ('a090711c5e17f0d9907f243c05251350215c088f', 0.00023922388020131916), ('cf122c84af8c85e15c3dffaca4069dd455b56a1e', 0.00023922388020131916), ('b94a3bfe8ca48855e4b4c6bcab5b051197052d9e', 0.0002607642686760369), ('c2b733a79db700b971327a58ef42699fe8a416aa', 0.00025121472023893006), ('6d4a87759917132913319960389f17fa1fe8b630', 0.00023922388020131916), ('f75bf767d060785e553326627adfee77f8e19d86', 0.00026744497535934747), ('a2a0fc5014423d6283c80511b9272d941109ece2', 0.00026918758498083926), ('435a43bbb6d6fbbf2beb03ef17868df9d5be87e8', 0.0002508076268288021), ('77d785cedf8be8ca6aeb4cb249af579ecb839956', 0.0002723480153035201), ('8356d155d730e374f4db6dfd03d19a7b66c348a8', 0.00032001647582273463), ('ec561a375a100097f00fcf4924a2c14a9a7735e7', 0.0002508076268288021), ('faa30dfcb1531df4e4d5c219bad06d65f6c860fa', 0.0002824144851934702), ('929c9a90e2ceac3f6684f2b29e6579c40b4ce3c1', 0.00036163855878172874), ('ef3bcf7951dc144fe4f6a898b62e6e16afa85da1', 0.0002411113805447806), ('61be61a2da82291f01ee5ea0abd19528adfc6045', 0.0002411113805447806), ('318e936b588aebb4bbc047e0882d5a645ebcf715', 0.0002411113805447806), ('2ae725a2819ecd72aa8a35de5a22f13581c7de46', 0.0002411113805447806), ('6f759136e1a074bd0ca166b5eefc6228ddb53a61', 0.0002411113805447806), ('11d051f9c6a959bfd60e1a7beb256d018614e690', 0.0002411113805447806), ('08c9e730aa7af6d5c9f3a1325a01f71de58863f7', 0.0002411113805447806), ('7afad945dd099d19af6ad51e5f0b52fcf5c9b282', 0.0002411113805447806), ('859a5cc656b37cbcfb072b267952c116f5aa37f6', 0.0002411113805447806), ('ca29aaab1ecdd80120b80a405ecec530ec4d63a8', 0.00025738803708359823), ('a7da95bdbd0ccab6762d069214f9c7475548ddea', 0.0002411113805447806), ('e3168cffeafc53b8f72076f4699057250a9fe31c', 0.0002411113805447806), ('8ecc6ecd5b77665b261cce1a96d431d9f43bdaea', 0.0002411113805447806), ('49a86f6bf8f684f2d5cbb01dca7da03ee53b69d5', 0.0002411113805447806), ('39ad6c911f3351a3b390130a6e4265355b4d593b', 0.0002411113805447806), ('f084f0126d48a0793cf7e60830089b93ef09c844', 0.0002411113805447806), ('31e53eaf795ff31ea949f23a276d7db2668f6fbc', 0.0002411113805447806), ('8da55e685a7bef9c897788ab519a8710c695c419', 0.0002411113805447806), ('a9c564185882bc9dd2b7becfc6928407bf1089b2', 0.0002886713932544005), ('35ee6606ec99b5bf282a0c5f400edbd16a6e22d9', 0.00028811180957480663), ('e926486ab0dfd772d7da41489b47da0db935b3d8', 0.00028815633526397855), ('a243c7bbd2affd548e18a35dadf0313c1b2198c2', 0.0002778818792410709), ('6ca8dd91ffa9e80975bcd44a3734cb967078cd02', 0.0002524155398159212), ('0ddfdbf470c961bcf9ecbba42e9afebcbab044ee', 0.0002524155398159212), ('77873e0843113d5465417f5309f5ae258af52a6f', 0.0002663860414711098), ('70727c82f1ab97b3f64ee3e81e6e209c40fa0a02', 0.00029181927711581496), ('a91c08128834b7add5c556f67d2939335d137762', 0.0002532518166223512), ('185f8bb9bfc4252c5aca4bb2d30b47cca2dc91df', 0.0002532518166223512), ('7d649e7843ce681b399a81d5302617b3768f622f', 0.0002532518166223512), ('95db99286b274352e7e1906ebf63e10ae9fce30c', 0.00027126310562993936), ('f0c24d4ba514081a7bc77905e3e12998937ba68b', 0.00029153799608128925), ('2c0cdbf4f412f320242481bf7fe718a6237e74e2', 0.0002663860414711098), ('e334e781e58ec06834a93e924c57ed5c8a64c897', 0.0002532518166223512), ('5ea7d1e0934876fac06c7ca6f5f56dbc57f133d9', 0.0002639378108628525), ('a07aa5b834e5083624189a929be07c7ae2389229', 0.0003124015502742363), ('c6ee91b3faf751fd3273fbbfb4e40f2a98f2bcb9', 0.00024647360045160823), ('6dca4cd021e3dceb2e50714f4f3f2bd084756d63', 0.00024647360045160823), ('6b78b2cde7015539ecb0e4be4ee14ed021210753', 0.00024647360045160823), ('c27dcfd2e6bbe0954eeb06c9b72f4937778ec4bb', 0.00025829085089624566), ('8270afd12aa683d166586983abfdde024cefa5c8', 0.00024647360045160823), ('7863d62073960398f4ca258bd08b5f2b7854e574', 0.00024647360045160823), ('2080d37c0072934b6a0d9c06d307037f03677a5a', 0.00024647360045160823), ('a822077fa6047efcff467d396aa9c8562e5fb6a9', 0.00026213537245805906), ('1e6f7813662022b4b344438b8da8a395d6d7f963', 0.00024659785533036343), ('c5846a04695928d1a568ff2c817195ffca19013a', 0.00024659785533036343), ('5106e4f5e3e6fbc3a183d4dec21f5d72e64d9264', 0.00027019427402281884), ('ac2ffe760e939c3bf2ece44c472e9c11cf52b38b', 0.00024659785533036343), ('70cf7c785952375e8061c92235aa20e94b02ecd4', 0.00024659785533036343), ('f80a77c7800b10a3ef83ab7cac51e42b14ff5a15', 0.00027115864632705624), ('f0d7076beb1938487942570043a3e3f746da53a7', 0.00025142996190428713), ('50004c086ffd6a201a4b782281aaa930fbfe6ecf', 0.0003857438297466297), ('3fbe96fafecd31e3f3ee4c02baef2c61137de2b5', 0.00025142996190428713), ('38d037e22c056827fa3d0295d9615cc08788309d', 0.00025142996190428713), ('0ea3e5215ac2676a15bef2354b2938704a0789a3', 0.0003162372478034977), ('29fbe4a6c55f8eae8ff40841440e4cb198cd9aec', 0.0002525656835856281), ('26d5ad3849f97cfa9fa61f68330e3fa31f261668', 0.0002525656835856281), ('a62e525615747b4b6dd58709c3f1f914f6512b9d', 0.0002525656835856281), ('139f1748e12275bc52b34579b77f2e75e9d043d3', 0.00027544277323129695), ('71f3b720e7bd9d26488a5fa323b7b3d1c6890353', 0.00028911365164327024), ('e32a6d4bd0f266615e2e359cc3899de4b427d5ee', 0.00027544277323129695), ('ed3e670cef62677636fae24d9ad66bcfb76d47bb', 0.00027544277323129695), ('0e3431af8a9b17a6c3d3da28e951f87cf71c9629', 0.0002991017729510652), ('02fac38c2b79a58840783697833bba6340781cac', 0.00027544277323129695), ('ab1614a6b46f99d892177858d33de0eb960f49f9', 0.00027544277323129695), ('ea7cfe7f2340584cbe653da6077ee7c213e49b92', 0.0003600822591104403), ('f1c7da2117cba702aebea99818fe9a8db1886694', 0.00027544277323129695), ('a89cf9c6aa4cad62a78421916726b8b16c0cb9f2', 0.00027479038181447594), ('d97e70d8fa6cbe4fcac9096491ce6e6a5e974e88', 0.00030461203983659117), ('cf2e99c821af11966bf415e8c277ae3eb9f8677c', 0.0002513010884322678), ('ca56df64a351f873c8c138874326a6f64eec011d', 0.0002513010884322678), ('0bff4af924788d9779041513b6894385eac51ffd', 0.00029183343764760546), ('4dd78b8d466b4cfe55a1bbdc694291197ce62541', 0.00034151854670933976), ('7d5c0ae2985e0c665cb3713aaa169ee5c7c9794f', 0.0002665301516048066), ('ca6294ce6f38f3f6ff694ba67d02eaad7fc92f4e', 0.0002538360697378345), ('d997beefc0922d97202789d2ac307c55c2c52fba', 0.00032954925839765364), ('cd382609f0029aae042e91a5a46b3dc2ba58a321', 0.0002538360697378345), ('655158947fd2a3b1e77703d9f4e951e7c583f894', 0.0002538360697378345), ('5fdd9cfb9b22b9e575d36e98e5d6f52a83729e42', 0.0002538360697378345), ('19fd7a304b1496260adcc4e85de7a26e51646543', 0.00024322295741682385), ('fc086bf5f6d1627153b68abdd5a4450e141b4ca3', 0.00030196709156488766), ('f533e50758dfdfe18d52d9cc2287cf9b8d98f233', 0.00024322295741682385), ('00b46923c31b21f59ab53cf693b6159c3dc4375d', 0.00026869171234496946), ('08b66b00a9ce6ab8090668f9f848c5659617bae9', 0.00024322295741682385), ('3c38d1145fc91245de7d9f2bc80a1e331bdb0b4e', 0.0002568524044503307), ('19aaeec8a81a711eb9a497c7d158068b27cb7b75', 0.0002725426392934391), ('a26218ab1d36d4afdf68707a7e7bf95583dee6b8', 0.00024322295741682385), ('317c172f314f8cb634f7569ed5bf3ae7dd25c313', 0.00024322295741682385), ('388645c44061f6e88fff0ecdad2f622936207d67', 0.00024322295741682385), ('67b9c2b376a01d8757dc6d704be450d1c46c4ced', 0.0002742857907646692), ('f076e4355c0facf111716dcab2837803367dd2d8', 0.0002610121544189042), ('2528a82dd2266600d4ee2b54165556a984de94d4', 0.00026680414472194877), ('775247047d0b56950ba5ea77d4a29772eca95c1b', 0.0002407663492439151), ('7ac3e09d74ca15fdafa5f730617cd65059a144f3', 0.0002407663492439151), ('f1305bbd54db0345533906726e3425f742312c55', 0.00025743778105630016), ('66d9814f0ce0a83145f5904f03289145bd578d4b', 0.0002407663492439151), ('16117969f1fd354e90ed9906d8b3f7d9c1fd39d7', 0.0002407663492439151), ('36307c1180292a2942b66e836b20ac7c3374f567', 0.0002407663492439151), ('401910c5c2abe1a65e1efe9ff2271c7363c1d733', 0.0002407663492439151), ('5365948c073e51a0568b20931c56dc8d6a6f94cb', 0.0002407663492439151), ('16a67491ed4bdb6293d1c2be35b0e8bae962cdeb', 0.00028451209131837767), ('267502d21b44884570fcd95a855821cc3e86e6eb', 0.0002407663492439151), ('de638f32e6e5762328357b855a9af3de8c20ea29', 0.0002407663492439151), ('49785334abf54313682b940c25e7a52cdbe941e9', 0.0002407663492439151), ('add459d9d37743dc2baad703fe17f794cb6b5d3f', 0.0002407663492439151), ('0e7af8e91b8cb2cea1164be5ac5d280b0d12c153', 0.0002407663492439151), ('ea1d04d4d83253d6343993e5a550b22b7833000c', 0.00026231305612916454), ('20f6fce7726e7b3ab4ca45ef40d92b79f093f825', 0.0002727254508924988), ('bacfa58d33e53efc40bffd87094f8731371277f2', 0.0003113010416589072), ('6eedf365c6b580a6fc201eab867f1608f09adbae', 0.00026850962164688447), ('5533bf9f2385ebece563fea35b19e998db64e597', 0.00026850962164688447), ('8ae2303e51f78954199e2a400c827aae4bb8e76a', 0.00026850962164688447), ('7db5da4321d526539ac567fb56cd8900def4b1e5', 0.00024304086671873886), ('b93e7503fc1092cf6b012e1053df4a3a9d3561c7', 0.00024304086671873886), ('886fa942f73fa0c047c5a5ab87d9770dda3c8119', 0.00024304086671873886), ('45535b86c60661dd4c4e4f375abae80937563499', 0.00025434438074717255), ('2c89b183df320c3ef698989bdc5d1d4731c4d65d', 0.0003024285107634086), ('24046c62be024695e9c73768ef6bcf870ca383c0', 0.0002566703137522458), ('a70bc416b1124525499b0ac3d5b009637dc6c187', 0.0002560191814358883), ('5435a9ab36a308cef10bc725104e8f778ed3a328', 0.0002657281099067696), ('cb3d43139c682518b1e05e64df6239b7c26527ff', 0.0002955104893432524), ('6b0bbf3e7df725cc3b781d2648e41782cb3d8539', 0.0002561343016393215), ('1f7bb6a080c1db96c778793514bf2b1638b623ab', 0.0003360971852668059), ('0e9789615e4f3a55d300b8ca46070efab8a93513', 0.00025228082236309024), ('0a82315290e1a527895075a5471d0a3c96c6027b', 0.00025228082236309024), ('faf891f3f9bd76dcdd348c0ce8c389782cd49c90', 0.0002775168482755454), ('650531d909502e0ac2a54feb5539ba1877bef141', 0.00026532322643763517), ('849a24bf0a00783e7d564c26c99ed8e2bf50b9f6', 0.00025228082236309024), ('745990a3a401900874855d6041b03015e114eb09', 0.00027009737704546626), ('ab2452f31db5505c2a03553acc573167a4f8840c', 0.0002494124825588389), ('20723ba867599bdd492b1b0fd6f05072626ea84a', 0.0002494124825588389), ('96c3209106cc0fd1310be658eac19124ec01bf85', 0.0002494124825588389), ('8f66cd3c89239ae596656eb13d8290035c7e550a', 0.00024197255499795555), ('8afe9473732dfa46e7ce0f4ea3197328021aeeb9', 0.00025815585706403285), ('09b8bef3ba56535c989c641d504386656d6f907d', 0.00024197255499795555), ('8d6d799d6723a751b8808ab783d223671f89e552', 0.00024197255499795555), ('2ddda82f40b6b1509402385e379e1b422aa55fd8', 0.00024197255499795555), ('681ea93c2c87766551fadd807f9b882f1b7e6fa8', 0.00024197255499795555), ('0b27accabd084450c88b356202ef409b5afe414d', 0.00024197255499795555), ('0c24e6fcd3d1cc4242e94eb702aeca2a6b0f4df4', 0.00024197255499795555), ('c688a1fdf4646f306dec15c3c3650f09f55e83df', 0.00024197255499795555), ('fef6f1e04fa64f2f26ac9f01cd143dd19e549790', 0.0003517127840879847), ('1df6db34c477aa43218f2efc4ec5458eaf734849', 0.00025715311360224543), ('a03bda078490e8ee991a1f86b53f27df7cf93a14', 0.00025864398681034066), ('97e7c94a78ae17cfb90848c1cfca8c431082a7b2', 0.000355346746943364), ('a4c94b221062d0737ee967affa80ce2110cc50c0', 0.0002532831340413584), ('96d7a07237e146c28173767dfc6290a337696c04', 0.00027727457978739175), ('e4667dab1f686537b66806b9061275f8ee1eba85', 0.00024197255499795555), ('7c75203739f5f89e109b11144d170d4d3f2a6abc', 0.00036803518556182953), ('355b4e74774798c177c82943eef925d66a2bb2ce', 0.0002677467108992819), ('c3dff4eb8c0ec1cbe6fc0db17522cc26bb693dac', 0.00026417118167513577), ('7519a1e9e7371df79bd8a21cee871feb0ec597a5', 0.00030209890068516555), ('ba66adf1b73793c46dbcd39cfbe0f244a881e0ad', 0.0002457912235230987), ('eaeb6e0fb32626677018fa94d452e06bcb8e24f6', 0.0002457912235230987), ('d27eac86c86a953a5b1ad13f7c7bc9d5fb127837', 0.0002457912235230987), ('18863dbfa32eaa1ccdb56ff180e6ab079a7f1ec6', 0.0002457912235230987), ('2ac218e12afb4959c00839c5723b175fbcc9e87c', 0.0002457912235230987), ('aeed5c63744cc11ebaa4c52517e7d76a543d316d', 0.0002457912235230987), ('00a43fd83bef341da691695dc9acd3c9f6c4338f', 0.0002457912235230987), ('380f9376e00ae9e56c79c1bef7e4e3a10ae75365', 0.0002457912235230987), ('0b444f74dd9cc06c2833dd15f9258ef5e169e6ea', 0.0003145632777286809), ('366244acdd930e488ae224ab6e2a92dc24aa7e06', 0.0002457912235230987), ('c42eceea279e7a95dce87b56d8f8792f98325f45', 0.0002457912235230987), ('50f94d7225158d6ec467aca927b2d533a478512c', 0.0002576577005827812), ('5e1335f1cf45fb4c29a0697f65c1e5c8e26d7dd4', 0.0002447335296293982), ('7058f9b5e86fe98d5014ff74400cb4e7cc1e5af8', 0.0002447335296293982), ('15f43d9d78d4ea9ea4c3ee3c929640c258653d07', 0.0002447335296293982), ('9a5356d74076b7e1b8a7bcb0e459fc923abafb27', 0.00028715225057944374), ('e8ba771b0a7028dcbe30ff31f640a68961019c55', 0.0002447335296293982), ('7256aed0fbfb4df74f3831a9bbad3a5b89a1cc2f', 0.0002447335296293982), ('78079ff363b4b7ecc1d03b88be69e526668432ec', 0.0002447335296293982), ('25dcad21b45a7a5a5fd24ab195140e96241d6f4d', 0.0002447335296293982), ('ccb0d384ed0a8d4223a771421a394bf87ba39ccb', 0.0002447335296293982), ('6605814a6a0abac781bd8c15549f19a1aa958a52', 0.0002569378591916672), ('807ae6760d799acae11c0b8cab5326ef0597c5a2', 0.0002447335296293982), ('4092d01c4d069bd9102d0bd5b5bf1f9bb3092a65', 0.0002447335296293982), ('bed1bcdf96bdd3bc56e80fe769e87f12ad6b2e6b', 0.0002447335296293982), ('8ad3263bf71ffae41fbb777d600ef1e3e8689bb6', 0.0002447335296293982), ('77d2b5423e591585f07bc5c0b27c59024fc91962', 0.0002447335296293982), ('9e2d1a10e5732c1d9efca5ec72193a3252869b02', 0.0002447335296293982), ('78e82653b2da81541350dc0616372ac5a45b683a', 0.0002414494177362961), ('da663cac292b8c6e714ee8ee9300cb3bc35e16d5', 0.00027714568749518146), ('e4729ac7bfdb707e3207b0a91b57a2f907f5351b', 0.00025392321251573003), ('299fd96bd856c0ae4391a8c0348dd0b885e767ec', 0.0002414494177362961), ('e7155f21263042383036a283b46128ba4a49a581', 0.0002414494177362961), ('fbf7dce2ee7b06e6b56e35e3ee0b0d1be8468ba8', 0.00026527600208451317), ('76e18a25cc01010cc6de76ca2e83967a422542da', 0.0002414494177362961), ('7ff1912b10d5886545d74f54b6cbe4ae8df9d382', 0.0002414494177362961), ('5d90bf78c959be9821ad4e0fcb83d575e98d495c', 0.0002414494177362961), ('0eac0ed2c87910dbb7d9f622854efb7c7b7b6f0b', 0.00027719021318435333), ('1ebe0ec51f314a345b02edf839b2bad69c4219eb', 0.0002414494177362961), ('2729d2918978d5ed602aa843fbdd027d83e0036f', 0.00025392321251573003), ('e39a5aa36977c617a9caecb6da5c87e27886ad6f', 0.00025392321251573003), ('c176210be9ae5506e139605dc0b5145ffb5c7136', 0.0002414494177362961), ('bd898f483476e3dcacf83cd85efc64e6319da0e1', 0.0002414494177362961), ('c767fbf94ae063f91fbf14b511bbb21664a394bf', 0.0002414494177362961), ('8efdf7bc5e765673feae964735a9ebd1312e8b99', 0.0002414494177362961), ('2e457079a643f399fe9a82160c3e34eca5bb9258', 0.0002414494177362961), ('c626c7c6fdf0f7b0e23dd42e9ff1fc6d1d8c5326', 0.00024044639688020904), ('e2c16ffbb1a590d8cc04f7bfbe080b611484a75e', 0.00024044639688020904), ('322a90333cd2ca86d559641c37c8cd0eb1428560', 0.0002535806217289674), ('8bc9516bbd2bdec86d882c533a0c6853e2011c2c', 0.0002535806217289674), ('cad483ac27725e769bba0cf576c1eb6d828fa68d', 0.00024044639688020904), ('13e05e18964c7cc7221149125364a075e57cf1fe', 0.00024044639688020904), ('37078710fc9148fe539b53c6a54a4e86e4407d29', 0.00024044639688020904), ('56c63032a3ad764dbd24c3777005d3c0fd2b00a1', 0.00024044639688020904), ('d9ba3644714b249be7d89e848d7ec5b0eb5d4aa5', 0.00024044639688020904), ('769149c0dc0ed308eca8bc916f4326b2e2f57a1f', 0.00026448328621023805), ('bd6f783022ebd6704ff34f6bf824ef1cb1ad0cee', 0.00024044639688020904), ('7bfc41af5653255df067395928f164210f71d7f9', 0.0002523083736982969), ('70c403c8ef04d1b63358df4532f0587c1637a620', 0.00024044639688020904), ('94087ad5ed11555c260a42f2f9ca9da183c6f87e', 0.0002629640099535496), ('77e07e0576d27cb60e0b0eafbf4a2e3997eab250', 0.00024044639688020904), ('82deacec91ccd7b94e416a047e133c8ee34fbfe6', 0.00024044639688020904), ('8d82925550395b5b545eae4475222b215ad149fb', 0.00024044639688020904), ('2d5cc6d5c8a30ba13c8645fc3f38ea5ad1882b3e', 0.00024044639688020904), ('315635d267ba033b0ba66de398d925edb38549a8', 0.0002522155403604332), ('1f249c7824dcd68013851fb6ec1a9a825b80e9b8', 0.0002522155403604332), ('0b25744e1a88e5746d8b442b2072c62073e1925a', 0.0002522155403604332), ('227a9738447669f973ffa61d6bf8ba513c92e467', 0.0002522155403604332), ('351acb62d197a17a713720a7a0ba8e12c05e31d7', 0.0002522155403604332), ('1dc7195e6460d5949f1f80128ba6369030da3df4', 0.0002522155403604332), ('712e32e2da67428ba6c6add1605410e1c3792883', 0.0002696797507716774), ('81a1660d57738347a04b22920571bc394dd97a9e', 0.0003498499722084999), ('609d68085efa9b1da1068639e4850252cc0cf6ae', 0.00034521618661091506), ('33850edc37e06732f843aa0aaaadb572023f4634', 0.0002520532917830357), ('2d2d5bb1d025c5e17abe13716599c93e1f131927', 0.0003373001038006723), ('ce50fa888551b640fe3dddc57289c27f325c029b', 0.0003233144395459945), ('2871cb56a9a8b0dfe882d16996defec0a0e0732b', 0.0002520532917830357), ('f96ffd8c71b97e46eb3ba48263c9012d197494d4', 0.00032269238095601133), ('a97b13151ee3b3ddfc6f17c3cc04eaf827f00341', 0.0002751390610038252), ('714df3e97817ec56b8dbc7217155adadf2a0487f', 0.0002675908089107315), ('2e71e26bb816c6729e955e3c9e2b1c14906e73b4', 0.0002575216015305242), ('3499afedecabd747d913bb184721b6a4e82dca59', 0.0002630019126211023), ('c7461acf6deb778cbc21cde4ca341bef51c9adba', 0.0002406612026528496), ('9e166d301097ab2755918a82379527161c522d4d', 0.0002406612026528496), ('bf993ea34b71addffad744fc57d28da70f4157cb', 0.0002406612026528496), ('48d0975ff581640b970d29b84af95cdd04e63f11', 0.0002530289896499886), ('bbd8077eb30e29af29b06fbbdfce4b8c75d03f24', 0.0002406612026528496), ('718f074cf42574450afcaf85935cc4bc35deeeb8', 0.0002406612026528496), ('7892a557922ec919fafe67ca3240ae2dbfe900a6', 0.0002406612026528496), ('52df0f3f7d765380370c87faf4e45596bf6c09d7', 0.0002406612026528496), ('f77ae2f69b7432d9505d737c6209661f7be1eeb4', 0.0002406612026528496), ('883a659062b3412747ea9b2f72539cc63dfca709', 0.0002406612026528496), ('930b28f5255a6633ec89bdafb9f72af8e9148fac', 0.0002406612026528496), ('69bce314f35a83b83665b0bb03b3a165c58e0edc', 0.000241597126843192), ('40071396490823a1f110911ee314c8bdb6aea813', 0.00025303956736295825), ('9ff52e99a1246b5b65bed186bce559e2152ca3f3', 0.000241597126843192), ('3af9f90488ef3333d55f8785fd95f63b3c3bf9e7', 0.000241597126843192), ('c1f68f43973e9312bd35420d3c25e79375f3b520', 0.000241597126843192), ('3d157f03484d913cbdb2463b8bc33fc4266c42d6', 0.000241597126843192), ('65389e7ab951a21fd0610236ae84f0cd48941860', 0.000241597126843192), ('6b5b67dc4c2d4925ba7f182c8adc5606abbb454e', 0.000241597126843192), ('75bdaacf355d0a6d52d9a4a8790e1fdc936eb867', 0.000241597126843192), ('68f30bd22817a17adc837eb285e51c9628f00e8d', 0.000241597126843192), ('cdecac6e2f578cfc56140e00aaa74a78f864fea2', 0.000241597126843192), ('1268de7bda769e651dc6c089d006c7edbe37f563', 0.000241597126843192), ('7d457bbc2bde775d6b4bf81723da814b045aa8ff', 0.00030374277139753425), ('adc56d5e838ab24975933a62a1f112add80887cb', 0.0002521158728103488), ('a135408c51e0bf7ea619ae88f37287eea96aa8ee', 0.0002521158728103488), ('ea2e2bd633917f823eba2f100acfe1df9b41edcd', 0.0003084587084334918), ('b04cc7e7c62a64f28b25a3742b63f6e7d99ae0df', 0.0002521158728103488), ('e34ad487fc5cce498ff2e1a78301e22598e4b794', 0.0002521158728103488), ('957de8517d96d464e73bb77ce2d95202ac3a9dcc', 0.0002521158728103488), ('63d913b8c6acea2232db76dac1d552244868acfd', 0.0002521158728103488), ('5abb245c2741706c55b9578c684a1a5c7b255029', 0.0002521158728103488), ('ea1016999109a842b3c6cb33a26bd30e6396f281', 0.00025377427087353), ('a5ee62db221460479384528652b18c312166e3aa', 0.000274824265664418), ('baac3cd5cb1850cb714232c50aa5bd7d3a4e9591', 0.00024082466008771962), ('a2aa5a08ad6d5e6432f0468e077e523430cf46a1', 0.00024082466008771962), ('a6d82676c10d1440ef4c19f8621fa3313a9096b5', 0.00024082466008771962), ('2af96daa1456fdb2a004f62a3fa28986e76e7fa4', 0.00031303487650447345), ('5d3fa9334df96ff26916aa3cdb750c9deb179c16', 0.00024082466008771962), ('2b60f01e916725a8f0b5dddc44b4cb9bd3e5e8c3', 0.00032392817761454045), ('a4387fb99253e13ef998446e33b0737f0903b269', 0.00024082466008771962), ('e312652daf82ed144d1696aae7ab412030d4f7eb', 0.0002769421869216004), ('70a5603dec6b400eb364f9483808df2aae45c2bd', 0.00024082466008771962), ('f98788f32b0d33d200c9bc7d900d0ef39519c927', 0.00024082466008771962), ('e74f9b7f8eec6ba4704c206b93bc8079af3da4bd', 0.00024082466008771962), ('a0589621579ef10004024a4544f28d9582d0b185', 0.0002624589425339696), ('4ca6c59584e3379908a1a87ba447811b1f1ccc02', 0.00023976745213398352), ('3bf2ce96a12639491409072a2d9089a95a34b816', 0.00023976745213398352), ('b2c8a5666080cc840c0bf53a0538c25c0c8c1e5a', 0.00023976745213398352), ('f4b296d2ded4f6ac789f98034512825874ead447', 0.00023976745213398352), ('e432f46393b45bb146000a92d7993b6f5ebc2493', 0.00023976745213398352), ('85da2a80112d789e04ecdb69f847d30de953843a', 0.00023976745213398352), ('5dc752aa4a5e1fed1ad85791fc017cb1d60c2e27', 0.00023976745213398352), ('bd307d3f9c9be3785faffbf5d92af4d2494d314c', 0.00023976745213398352), ('8af41682af9a33f833543dc8ba70b88084c94ba4', 0.00023976745213398352), ('a79a3c277ef865b35ac3a674289c1b9570ec5a33', 0.00023976745213398352), ('854e5eadfb692631de3fba86bf0208a2f09a28d5', 0.00023976745213398352), ('57e0b6a1a47afe3d0cee58d387a7cfcd3bdd5e73', 0.0002513903527224856), ('6d27d4104738b3ee75be4ecf3ad7f527f1be2849', 0.0002513903527224856), ('1a7a28740c6eec40f9d8a8c3d987a8fa1b1437af', 0.0003774080966621621), ('f088df615c52381c1e84527543b403edea4f6fe8', 0.0002513903527224856), ('61eb26d960eb7b9ea45c26694eec09356773f43a', 0.0002513903527224856), ('a7d75aa3a0a9faa310fb524c350fba2093b0ec97', 0.00026363979415856343), ('d78f2e0d5e3040ad62d5bcd0abca8a8507bff209', 0.0002513903527224856), ('1b57766d294f54fdeb453695f886686c123b23ee', 0.0002513903527224856), ('b9ca44d3501a101200ecedb8812d5a2c7eebc24b', 0.0002513903527224856), ('d0697fb970ba92e970bf39ebf25561a8fee61cd6', 0.0002649813111976684), ('6cf1d69e447e9687dbd2d92572f44bddbabd8192', 0.00032339371170263053), ('37595f7a51982d776e57c7280b9445474d90f0be', 0.000312394681637132), ('206c2e79b5f1b4541b85f47517666961ed49500e', 0.0002651405960296966), ('30b99ae0682d42a2010be401dd1d8f7baca9bb5f', 0.0002649813111976684), ('31b8ea745f2f6b2c8b2fe3d6e6377aa1318e48ff', 0.00027352328298134654), ('1e8b8a1438ca258bffd93625efba7b82845ea582', 0.00024115095495755247), ('bd7897e3cf57755541def9d58f7bad0601a9cb1c', 0.00024115095495755247), ('5a94570cb1617133b06457f8a9099fe551e5700c', 0.00024115095495755247), ('e6c013c835be471502023b3f31d52d59ada76770', 0.00024115095495755247), ('8c6ed1fac4b9f9a2db417252dc2b2ad86224ccb7', 0.00024115095495755247), ('22cc76c6d9b25facb2874bbcbbbfe781a4d85bcd', 0.00024115095495755247), ('40b36071bd553b9fda2ea26c6d4e057f37c0e7e7', 0.00024115095495755247), ('572a5aa00f0569887469ffb7554699c21156ba0b', 0.00024115095495755247), ('5eb4a5ac7faa2fc75e1739b45c511ba3fab5bb56', 0.00024115095495755247), ('b3159fd22e19e24d7cde9d37b3e482b832d4fa58', 0.00024115095495755247), ('77a5a4dd1dd2d5532f0d0619909eae131d4d9cb5', 0.00024115095495755247), ('a2e667e4382aaa8e02a17d0522c1a910790ab65b', 0.00024115095495755247), ('9ccef6c69e5c16ac2ce9da4f1411415e402dd59c', 0.00024115095495755247), ('1a00dc525da31292e3734cbae2de681f114e30b1', 0.00025588664320600927), ('b6c1dff75a15e5dbf52dd120371fce2cb4d52fe2', 0.0002420478315657632), ('76077e1e12908b525907e7c3419368291f5965ab', 0.0002706478100934596), ('d4cf347ba89b0663c0464bbb9d5160010ebaaa70', 0.00025839836865738176), ('3f1ab9aec5920752eb5dc478b30485df1e437066', 0.0002543226799904595), ('4b182347b943548fe6479393bb24adac21740675', 0.0002649052406185349), ('06671547fd94c44688b10c8cd550242557e55154', 0.0002420478315657632), ('99dff291f260b3cc3ff190106b0c2e3e685223a4', 0.00029689464215676257), ('a1302409469284cdd9dbf535548e6b3a401caae2', 0.0002451283049029656), ('2bba87662399bd5d856afdcb848124d3e1e67df4', 0.0002650737195392218), ('88504c972e84aefd8d11ece83961765b80fde6c2', 0.0002451283049029656), ('8d53096bdf5c0b387fbad537a755151e015518ec', 0.0002451283049029656), ('ec59f3b23c74aa0d1b12a8c2f3e83dce144e274d', 0.0002451283049029656), ('e9b3da7ef244d233acf307dbf0ec01237e05cd0f', 0.0002451283049029656), ('49133ffa30e0acaf4ea5bd8bbf68c841b02e3f2a', 0.0002451283049029656), ('297e83bc6d4498ad2e2906092e2b3df1b7621c26', 0.0002451283049029656), ('28367cd3b68489ebd819ddfc3fb042b301abd3c7', 0.00025203523554371063), ('daf9247aae99a36058a6f37912eeaf70b85cf8af', 0.00024073172151527694), ('646ec133173ac3aa1a602935d2ea7eb2ec87f19d', 0.00024073172151527694), ('4ccc473ab4322da33f84cb194158305e2b9e5238', 0.00024073172151527694), ('5ed3143fda212a40c4267666fbb7382fbae27cd2', 0.00024073172151527694), ('71ff5bb5b6206cfda2790627cc446fe1fcc03bab', 0.00025696173929244383), ('de18baa4964804cf471d85a5a090498242d2e79f', 0.00024073172151527694), ('f88cfc38dec02dcf050eb1f56d2d59d90b24e04c', 0.0002980366140960165), ('0d4154cbd76c4753ba3cb7a5b89ab29bab53384f', 0.00024073172151527694), ('ae97c81b45780dc91e18eb84236d8a40a290b329', 0.00025205766755673805), ('e163a2e89c136cb4442e34c72f7173a0ff46dc79', 0.00031946169686801175), ('54e325aee6b2d476bbbb88615ac15e251c6e8214', 0.00030642139019521536), ('87e9842de97fc610ba69f0e8bc3e13b9619787b9', 0.00024073172151527694), ('7d0effebfa4bed19b6ba41f3af5b7e5b6890de87', 0.00024073172151527694), ('32b64b7c68f29f2f92f571eb1e2a2b60fdcc9303', 0.00024457034249361154), ('9cbbce7fc7fd38abf568e005606ea35e02da6cfa', 0.00024457034249361154), ('913d43b69fd4ddee2ff64d3a1e6402d3787e2b7e', 0.0002653826049361692), ('10d692fe72765a890974ceb1f0ac4b160b8a8c87', 0.0002444178281956396), ('0c827ba45612a206f4a31a45606f0c924f306518', 0.0002444178281956396), ('04bb5d374c1fb4215fd4de02fc865a5994627046', 0.0002444178281956396), ('2c3ad6d1afad0be4eee76bb08aa38e3192769c7b', 0.0002444178281956396), ('98ac4c2e541ac29d2f23f2d015a1ac4e0991c934', 0.0002444178281956396), ('93c2b03652546fbefa4760714501371610d96f9f', 0.0002444178281956396), ('df775e0093d4e96e2690fa9f48f60d76e4fede19', 0.00026058645014394235), ('4cebfa50e9e48afc6260df161582f0271c84d86a', 0.0002444178281956396), ('9e93ab699a70701f8100a7730b9f6ee250bbaa18', 0.0002444178281956396), ('a1e06f125aeb3899c0eda9e9286820ccff76a494', 0.0002444178281956396), ('ff8a3d41bf4a3a6415d77a84ba58cd9b0b2c4869', 0.00025781644541809695), ('fdb0014af8197c8f303dca3fccad5d27bd264dcd', 0.0002444178281956396), ('cd989ec0c4b17b06921668b2030020ce51736f7c', 0.0002444178281956396), ('620c8bd40fb70209659c31a8055fc6cc79b07d78', 0.0002527700008334549), ('df96cfba7b910fa24e92f8d0ab01f1a731e9104d', 0.0002779542008981558), ('b3ec8f5cca12b8684d063ee4c5630f2e801a963f', 0.0002527700008334549), ('38c991d92a4d5531ef0b0e6b8eb5ec46c0e18369', 0.0002527700008334549), ('60f55c80d06c39006acf21cacc2e2f3c2aa751b9', 0.0002527700008334549), ('d9732e8cc593070b3ff4724da8cec7f7bf37d301', 0.0002527700008334549), ('923bceafbf4e1c5a80e763d9c0a8b4a96eb87917', 0.0002527700008334549), ('1739c6d0cb3bf9c52631520c9fde423179e95eab', 0.0002527700008334549), ('094b8bb98b45a622404e30271dca5f96103ae9ca', 0.0002527700008334549), ('1a50298e16ebefb61151bcdfa0e2a4bd5afb92cf', 0.00025169507110282005), ('57b2198f9a8df773425aa6cc88c9870cb07779e2', 0.0003139044827607677), ('8a6acba7fb2aad1299fcf35701417e063d410ed4', 0.0004712066005611629), ('8109587a56d53c6ba30fe19ba9aa4d9213ec91a0', 0.00025169507110282005), ('e7b7d97042ad2fdf3a7238a724c9dc3195537bea', 0.0003569608531096995), ('98df4dd94f6d5fb5527984c8067d869744ff9ad7', 0.00025169507110282005), ('51548f7f7493b8ae758925a924df0394051b8ba8', 0.0002736346092323092), ('be65c197d5a72b7a3154e97ecb73c8f7abab0479', 0.00025169507110282005), ('7070ae889786abe2b363bb7a0e3b1a7b81077742', 0.00026544063361338624), ('bd9ab344da99022cbbbfd3f5c9c82a0b21c60ad9', 0.00024210700685330734), ('d16e5ab3919188d89bef1ce9cc7d813b90e94df5', 0.00024210700685330734), ('f20982cea07674eb779de507f09c26f65d445719', 0.00024210700685330734), ('34b702d794e9601f0aab42b115fa3f546696ae49', 0.00024210700685330734), ('56ae4887db15b38c7773123efd9ef69e7bd3ef54', 0.00024210700685330734), ('44173878ed1c8acc4fa5fef0e8c4a5e4fd1a8f97', 0.00024210700685330734), ('e4234671cd432fc5003e66ea0d74493386b509cd', 0.00025533390706593815), ('7bbd8d675df1b08cb73a0f260c7c3606f707323c', 0.00026048696500534423), ('f737fccce1c34492ee736f2c455ad6929232c17c', 0.00024210700685330734), ('b3b0ef5dbd138e6ac5c94f92c93808dcb671d688', 0.0002645743999244613), ('ac158a0fa7ae122cc5e3785382aa364762c26839', 0.0002645743999244613), ('2bb4dd5d7d33dcd5a6ebfae71a02f85fbc3ab982', 0.00025165022897107817), ('450bd98214fdbe72b38ddb7ac4539df0c6d1d577', 0.00025165022897107817), ('4613161c6d14962c5119c299194227e9484a3e68', 0.00026471272652905974), ('ce201c4c74744821435a27bdf2e9513219c6645d', 0.00025228345743879746), ('bfd02f617bbbc76db0eb831d97de8897275938a4', 0.00025284487896985464), ('8bc4473651760a4156ffd747fab09c03c68d87f4', 0.00024093066787001454), ('2c3b756bed31b3ce8106201973016045a4fdced9', 0.00024093066787001454), ('e3d1a9e6c7292e7ac25490487dc7524a9dfc3f2c', 0.00026419766853863773), ('37c884bacb33fe029dd8aeddd4cfec45370f32ea', 0.00025284487896985464), ('0fb4a5ce936abdf3d7b83ed463e91d08f5ab0657', 0.00024093066787001454), ('70a0d404cd603168ce1f4e5cded4d3e44eebd5bd', 0.00026419766853863773), ('24875f5dfc6e3005e3673defce975fbe7ff7dd18', 0.00024093066787001454), ('71786049c8c73a007807463c4281431f2b66cc25', 0.00024093066787001454), ('87b612323f759cea5cb224331bfacf59a0f335b6', 0.00024093066787001454), ('3afe6c838fd4303d3b67c505c69723701b462649', 0.00029525740443206395), ('9811afe1246d52f422545457b06c30bc4b63ae8d', 0.00024159109793933897), ('d0283780f2020cd51c2b44948b4b2c5d7bdc5a21', 0.00024159109793933897), ('545d08577056ba64c9ca6434182fa203bfaaf96a', 0.00024159109793933897), ('085b85233eed7edeced0c0f199d1dd96316c6f52', 0.00024159109793933897), ('e6b9410207916df5f1505c6d1e970902dfaac314', 0.00024159109793933897), ('2c66eb266e48d8d257a874f65e478560c0037e51', 0.00024159109793933897), ('88ece19685da12245045d2047d1c826242d2ff8a', 0.00024159109793933897), ('3bad80e7e1c38945900c8089a443f91a92c7a93c', 0.00024159109793933897), ('73f266f2f495f86331609d9d3e24cbc8a762510c', 0.00024159109793933897), ('8fc05034aea7c1856cd464eb4e0b0a57037ba085', 0.00024159109793933897), ('b63248405e0778332209ef2ed88e7d2f2c00da6b', 0.00024159109793933897), ('101e7f9f3bc331fec84c9dc857a67b2482e811bf', 0.00024159109793933897), ('66b92a2250d9b899c03c3f2699a40e18e56bcd51', 0.00026255843203236987), ('98c14a19544da78d7c9b348ffe7b36f19727793c', 0.00024592108350182467), ('41d96e594de2ab2d3c041227db255794debe2f11', 0.000265807609761832), ('b0c065cd43aa7280e766b5dcbcc7e26abce59330', 0.00024592108350182467), ('cab372bc3824780cce20d9dd1c22d4df39ed081a', 0.00029460730332510685), ('9217e28b2273eb3b26e4e9b7b498b4661e6e09f5', 0.0002689824642195821), ('cf986bfe13a24d4739f95df3a856a3c6e4ed4c1c', 0.00024592108350182467), ('9c0032a7e3a3a7dcd6f5caa9780ffbb7ffe5a237', 0.000265807609761832), ('695173e66bf118966e41de1c80b7c3d5e36add55', 0.00024592108350182467), ('63399cd601e8f58a833c31d98d87a9c3c144041f', 0.00032109943135623663), ('8cac1a726a7fa1160ce86733e66ebba6c78b71eb', 0.00026005224390819495), ('a5b8e64c15c29bc372d040d26e9f5c7cb5ddde99', 0.00024399439021827608), ('9302c6454350f85c8157aeabe3e60604b9402259', 0.00024399439021827608), ('314e3cc058b0633a1ca228efa8c455534ed689ca', 0.00030931402535451773), ('a252999601363856a35a003d3b4f80d740411b9a', 0.00024399439021827608), ('1f55d35e1d1a148898a756cb0380b22fa8878dcb', 0.0003153767144232603), ('ff03fe2efa8e0283f06098e9f1ae41b76e66efec', 0.00028789550359983266), ('d461accbe1c24e8db79ac8305a869bd30cbd7285', 0.00024399439021827608), ('a1e2665ac39dcb389e12f3f993004b4b4651826d', 0.00029674138069310995), ('6af09da568edee80075ec610f431ffa91bfce061', 0.00032355969933096885), ('a3c850001340266d4b2e7479f78387b5fda0815c', 0.0002609408107554955), ('d370d25ba348f33bb5a5ff10d78b5dc9630694ec', 0.00024399439021827608), ('964502ea316fe9049c464a0925e3dc4246023a0d', 0.0002572299270652526), ('f4a391a41b386612a86f6296a7a86b0e71f1381e', 0.00024399439021827608), ('fed150a219f9c31bdb4920e615c7c9264c634736', 0.0002481855575133495), ('65b42215894e5252f34f06ac56594c5ba5091465', 0.0002481855575133495), ('992ea6ad094af25a36a3bedb2da81ab41a0f92e5', 0.0002481855575133495), ('c616b0fe93dc0b52b04ce6bf68ae3a67701200e8', 0.00031592224866442786), ('962676b688b6e35ec2a3c8e6b3bdce638d6ca8db', 0.0002481855575133495), ('abee18114d9ff757dc82e44bead6bad39cfb758c', 0.0002481855575133495), ('9b23dcc2709724d84c61b96e00be2f9b2b4a29fb', 0.0002481855575133495), ('1bfc7eb3be7d905dc2cb7ac8f5470c38a62ad7d3', 0.0002481855575133495), ('25bafc9f20ee8b4390f939766a26fc895dfc7c3b', 0.00025423081752971085), ('67711d66ff40194c4578b9135ff05d7e60033f35', 0.00024185549031303786), ('f311c0c066f21838afbadf07d9c834bdd65e496c', 0.00025608872109633273), ('751c2884390f49a44c7e47500f45ff2bcd3b624a', 0.00024185549031303786), ('09ad8aab80361feea5c0bed6dd10cdb1b3f135fd', 0.00024185549031303786), ('48a1067461d22e4edae25cfc857dff5a3d09341c', 0.00024185549031303786), ('9226ff1a514271fb096d9f0897212baa26f84385', 0.00024185549031303786), ('37680090f534ae1dfdc4e7312cf6de8d7b22177a', 0.00024185549031303786), ('7fc464470b441c691d10e7331b14a525bc79b8bb', 0.00025423081752971085), ('c97042386e3571fa39e6e97aeb7dd966636eef05', 0.00024185549031303786), ('5896bd31724bd2f57630473e1e466ea08c3b0c34', 0.00025329793083280405), ('6972cf59c18bce34175d131c690aa22f72e002e9', 0.00024185549031303786), ('48e25055325747db9edffcce0177b653e1538624', 0.0002548260465269398), ('338f4b9f57034ef52e39aa3af43089f60b4e970a', 0.0002662952771599687), ('13b23089f515381cd82a3e71a0a93ca2630c45d4', 0.00024212775150255384), ('6aef9ec3ee997bffb42550b74ffaf7b30d522734', 0.0002535969821355825), ('8bb5549b7b86f65f0157f2374a4f047e2d999008', 0.0002548260465269398), ('57acd9b63daee439b292ad3ab3657554a3cc2d67', 0.0002817214068846643), ('e5dddd3b88688d2a53397edb7e798af3389d053b', 0.0002821336864025113), ('7c5abd0cf656ed48db39c27f4f4cefc6d8801ef0', 0.00029566509622032963), ('609acd3a806945f6095b9da3be6141cbd67718e2', 0.0002688263686267003), ('8a7053554d0dd74e61eaf648c0fc47b4d15b580c', 0.0002535969821355825), ('9c5e01f8d012a45b4cdae955a7a049272f7f9c28', 0.0002535969821355825), ('786baba477038f4d232df47ca4643adac167912c', 0.00026853675549328966), ('e8ec19938c8c885e770429735157d338c42c7c43', 0.00024212775150255384), ('c5ef43064be085f2cf4003d7cd14ef47d59badd6', 0.0002662952771599687), ('95dfd55d5816a3e40ec0706fcd13dd3322f37d6b', 0.0002535969821355825), ('daed83085dc0534bdc430db43a6d36b2de80282e', 0.00024212775150255384), ('05e71335d1a56212176ff1a9d17838a40d0167a7', 0.00024212775150255384), ('b17acbe5657fa9bad031ce5ad6365ab8b282c0f8', 0.00024212775150255384), ('39962b5f0c6fe869dca15fcaf755ac7cb31916b9', 0.00024212775150255384), ('8500d2883a31e2aae12bcaa4cdf6b13df84419a0', 0.000287717478721524), ('6a6bc1f358a03b73f902f6e454f19cb06cda61c1', 0.00025130065755489366), ('30d4a6588647db444228bd799381dcd7cdd90eb3', 0.00025130065755489366), ('064bbc7df01855d681c34b4fec4a5bd11052c7bc', 0.00025130065755489366), ('0decb43be5171fcf69b8983844fd4449743b5ab4', 0.00025208241831760423), ('a3196e65467b80f4755968923b382e40c02ccb51', 0.00031874616840534643), ('48d5c7b3dbf631dec66b51f7b7a9e168a86506bd', 0.00025208241831760423), ('9eac5c0978696c5cca84a9d730994bbf7d284460', 0.00025208241831760423), ('ca117d143e0e3f6a073ac6705b472072c8f676e5', 0.00028945565059610714), ('15c4b134bd764739cff0b546e82d6f6e9d0d0cb9', 0.00025208241831760423), ('a20c2d1fe8122f8c59f0a35bcfa08f14e082daad', 0.00025208241831760423), ('875393ef46f5d3b6b51dfbad039e6a5cef8223a4', 0.00025208241831760423), ('4c1385a5d8f985dde69546bb2c9c2b2531c8e4c6', 0.00025208241831760423), ('20c889b6af0758dcf40aabf49a24c98cd91bc7b8', 0.00025208241831760423), ('95a26eafabf06b1fc5dec6c460a927cf5964e97e', 0.00034057198478510276), ('cbe677a5e9870cd829bd041a99d61ae00db48c97', 0.0002510860664056981), ('ea68899e52526ce59c1f0b0cbc7cd992a0700383', 0.0002510860664056981), ('72564a69bf339ff1d16a639c86a764db2321caab', 0.000265243955012938), ('0eaf7b23698b7d37166e66b8346cf0bb4f89b9fd', 0.00024691227295180716), ('5ee147684b06ffc4db0f6326e0cba017d12ceff3', 0.00024691227295180716), ('06f3e42c28fe87156c8be5188ff38fe9845df769', 0.00024691227295180716), ('3cf833c45a6d56896a0487d332099e1646a16472', 0.00024691227295180716), ('ea2ed8207be092a332cf07a30f8003ab02d2dfc8', 0.00024691227295180716), ('494908832aebc61beb522804f59a9cfc694332e4', 0.00024691227295180716), ('458a8e1461667c549f779ae4f1871f8fa0ac9f59', 0.00024691227295180716), ('2c2d7daabd764f981950b71230e3ac96a0d21984', 0.00024691227295180716), ('0311ace1d499cadd1cc0c515a625d1d045f60d25', 0.0002691383667377911), ('a58715797b61588cbd020b9a98292a98f8483420', 0.00024691227295180716), ('375197faaeefc9362cb7655b8fa1f088746cf20b', 0.00024480741018219907), ('2eb411964cc0fe51f7ee76f1904df2a2ea1ac976', 0.00024480741018219907), ('66811ed2a06af032413ea029257808c8dc058523', 0.00024480741018219907), ('1634ee92621a332cbb250a1bdbb951e4e70e232a', 0.00024480741018219907), ('43e15ca0c27b7e2e6137393b2e56c8587fc08d6d', 0.00024480741018219907), ('4a76ea74e48ee96a0b846c58a843b2031da7b9de', 0.00026589113014054936), ('53e80869c6582d7f95ef0a351170736afd1742d0', 0.0002722632051297892), ('62ed9bf1d83c8db1f9cbf92ea2f57ea90ef683d9', 0.00025231779049353294), ('6b7d6e6416343b2a122f8416e69059ce919026ef', 0.00025231779049353294), ('5d11aad09f65431b5d3cb1d85328743c9e53ba96', 0.00025231779049353294), ('b7394e219eb2b3f39db5bfc49187e91bb09a902d', 0.00025231779049353294), ('fea848dfcf44e67fe149bbcebcb52c92fba40f28', 0.00025231779049353294), ('bbed89eee0a43baf17dd5eab8354deecadda8acf', 0.00025231779049353294), ('7487499f91f0c198347a8ebc747ad8d220bdd155', 0.0003209556496933282), ('9775d372bfaf889a395dc714e283b6a179e62537', 0.00025114411627861105), ('2c1837be2e4e6c4f47d51c42773e398897c372a6', 0.00025114411627861105), ('26b8d5fb1083506cb7569c534312a24c02cb9119', 0.0002539256280187259), ('51ba3b33f445199d9f3cddb5b00c7e2927199b0c', 0.00030282223934838823), ('48f9a48aa5b1230b05a443d2d531e6441a541686', 0.0003214753174528498), ('53c480c422d528fc379ba1cb160bd4cdbf38bffc', 0.0002539256280187259), ('1f96460299f3c74965b4fe8e64c28957ada06c74', 0.0003319014308405257), ('6c26c1c68782bb2b4821f9f2343431d3785b3b59', 0.0003488769917173579), ('3e173f19037739ae6e84bc3b9f97957c42412660', 0.00028977918169611523), ('e2f4ffbb02f50b50f81bd3070d266b32dab0800a', 0.0002446254950388833), ('bdaa483118aca85811f4612b78122d33d611129e', 0.0002446254950388833), ('98496b462b6a0406e41a956e68319ac17344a739', 0.0002681868466874004), ('ececbef8af719d96990ebd5998296ca42fd1a727', 0.0002446254950388833), ('590fc45e167068cac9a8a98eee95725531a5a352', 0.00026986152095133837), ('c5dd04fdd9e9e55cc172e4e1316b58ff1fb7aa45', 0.0002645431557836602), ('bff33206f1782c889c393aecb87bbd7939af61f0', 0.0002446254950388833), ('98a56025b90612c8f214f6b5551057e43e9991c5', 0.0002761289870887373), ('14da37bc7afc9dd125adaca89789f2aef0882dd9', 0.0002491417675772078), ('bdd4e52c88601085cfffa63493f4f5b95eed6034', 0.0002608756195736484), ('6e08add5629c51b78421e20053d348814da17f66', 0.0002658719700364837), ('ccc43ab1ed556e13df84a8ffbec3fe6293d9f006', 0.0002491417675772078), ('1eaf167053b01698378b16e340e48f867772aaf3', 0.0002491417675772078), ('86f3d5fef1a3d50e37fa75cbf79a89b0cdc6b630', 0.0002491417675772078), ('e93b1233d6abf6b6b5711fb45822c5ba40bfb93b', 0.0002491417675772078), ('9fe0346e354f91c6db34fb37e35c194be8be05f7', 0.00028341945541533276), ('dd5396f6999c51f6541d4a442c2226eb96147d72', 0.00026189793259388794), ('484bbbfe3a4a8cc5fcf3218cac61a7d0efe77490', 0.00027333125935287975), ('54de7eb889fc1a4b9dfa2816c4769be3c26f8cdd', 0.0002446401751566578), ('e3530ad791d345822e9b18fbe942120a5d1a7696', 0.0002446401751566578), ('e5366a704ffa3b41aacd385f3c087ec3fd566934', 0.00031613885349566096), ('74793980135737800c9d579f80605669d97cfcdb', 0.0002446401751566578), ('527cc8cd2af06a9ac2e5cded806bab5c3faad9cf', 0.0002785489565522378), ('b918b9a7573956d3d718e88e988bfa7d16856779', 0.0002446401751566578), ('60fef33549f57f5cbb6712a510c3a444ab682429', 0.0003084244770431779), ('a4e86e9df17292555c10e1023fd2dd1cf635ab35', 0.0002446401751566578), ('74e0152a128a1acc2429473d50a7f3b7e16887d3', 0.0002446401751566578), ('f33b3acd937f70d3408fcbc3f7c63b1b1903f3fe', 0.0002446401751566578), ('4cfd8f903506865e7ccf28b0a07ee3c551487e92', 0.0002446401751566578), ('f8e79ac0ea341056ef20f2616628b3e964764cfd', 0.0002446401751566578), ('bcce3ad67cd6bd91f1d82b834a7a110c1ea136b9', 0.0002592159861744747), ('915bd2032f0689d75084ca3842271b24f65d8c07', 0.0002468368312426174), ('10c4e1e65313cba9f08f9736916d92fe58066a7a', 0.0002468368312426174), ('e85ed2810da4ce240c31f4e7d282fa14dfc10282', 0.0002468368312426174), ('0ede258f3007863ade1bb2c7316b4b57925485ac', 0.00027764987511377494), ('07341eaa7ea8d8261a15c946127ce5eebb0d463b', 0.0002413810440439635), ('c96757792971d93b7a5a3cff3bcc9fbe6e7fa97b', 0.0002413810440439635), ('e34b82190c9177300ed3e002ca5ce1c770eb24d8', 0.0002413810440439635), ('21b003003dda08d6299328cbeee519343976ff9b', 0.0002413810440439635), ('650a504033b1c138dc440b7bea9a496c812c377c', 0.0002413810440439635), ('f11e9a50197a62ad32b6c8502e3cb952ff7e0dd5', 0.0002413810440439635), ('ea6700185bf1188ee1747f5805f0907fe07343f6', 0.0002413810440439635), ('67649beadb20095c41fd9f0beb96eea1fdf8b948', 0.0002413810440439635), ('c9a372fc3b30bb2da051e941cab44c3e5ba31065', 0.0002606064091135114), ('63a373063d51489b31e07ee639ab74b6cf586240', 0.00025561427482725837), ('39735a28b35b58a05ad80a4ae37adc5d019b0f7d', 0.00024037108419042071), ('4a446868cb8c2edba9d08153a44150e19e50ebea', 0.00024037108419042071), ('d4e106c61be5134ed7e7136955e4f8155f89fbce', 0.00024037108419042071), ('8a4d9e176918a0566aa826b1a20bcc3cca9ca040', 0.00024037108419042071), ('0ebeadfccb243526c4677e8b29f9c9fa7f3fb98c', 0.00024037108419042071), ('bbd95a5cc0137cadadba79ca3b7e5e62c84cc444', 0.00024037108419042071), ('fadacd4b2bf12bdd4f208b9d8823644927b9f854', 0.0002641531428494659), ('e328836a747c0e51bac7fbd7201e90143cd3a65a', 0.00024037108419042071), ('e9a0e056e0bc51a105323a1938f79821fa0400c1', 0.00024037108419042071), ('d8ea4f5a2e63bbb3e2447d499e0fc3e23767a800', 0.0002641531428494659), ('ab613e80271896c2a2721f08be1adc60a02a856e', 0.0002641531428494659), ('81aa6aea42e017bc421ab0d72617fc8aefb2bb47', 0.00024037108419042071), ('ad43ed303b0366d10605a67e7be6ca79558a0afe', 0.0002550348097944156), ('b002572090eacb1353e40d1e84f171d44f7cc5c6', 0.0002550348097944156), ('1d4515b228621962f48e873d50edd7442d6b3fc5', 0.0002550348097944156), ('665311d9a1482513145b3befddeaa5a6ed524989', 0.0002550348097944156), ('5d1aadd4053ba4fdcd71fe1c87a53b7540ef4eea', 0.0002550348097944156), ('806d8867c0ddf393d52302896d75a66676b14b0f', 0.0002550348097944156), ('7510553411e05cab7c1ed9e1823d164e65627d38', 0.0002550348097944156), ('0bb89ae07cc71db0792fd1985d24e4d8ca928466', 0.0002667430525495186), ('0b2f76cda2b8aded9e67629b52361f55f1e8aba7', 0.00024027412353521793), ('ad2d04b17caafe4c8b349b275244a1eee71f6d8c', 0.00024027412353521793), ('532ba9f0fe152469b8690fc96433b85b0410f834', 0.00024027412353521793), ('6b8c7bf8fb6104f439c60058ccebdd6bf698260f', 0.00024027412353521793), ('aa9d5f650bb31f48be1de98785e7b9fb0128bbb1', 0.00024027412353521793), ('624eb5680f4198f2c1fd7afdf0f981bc810a1ba7', 0.00024027412353521793), ('b6dbc6e7f676e0e52f0d649ef9ccad9f97a64677', 0.00024027412353521793), ('ed4448734e4e38b5ea335321dd5bc7436d2fc10e', 0.00024027412353521793), ('cd53b4c3ad92c2bf32bcffed7fe6f05d1035d463', 0.00024027412353521793), ('8775dd7a4f3582de8d1b196865495df73638931c', 0.000256911472065763), ('8cd4364347f647f2d2165953988c8895524dd8cc', 0.00029331771019847194), ('3db5d75f4eac3d79128558993e9a5490c32c1f82', 0.00024027412353521793), ('c7c4c25a5d6a92d386125fa6ff4d259f461ef775', 0.000256911472065763), ('f36ff155a741f4c404fcac9de1d47e53aa99e71b', 0.00028200984269438037), ('b86cf0116da79318b07062b1d3456711fdf808aa', 0.00024027412353521793), ('492ed313c743b58ba64751ebddaba0638e8939d8', 0.000256911472065763), ('b3b3cb0dca8200dc64971020b39e036e64d72416', 0.00024027412353521793), ('78bc5b0a9fa28ccf2a580f36783e310d436a7874', 0.00024451472678049943), ('6648bbbb7ad41397d315d1c83ac02a39ac875b19', 0.00027441053508164587), ('539c2d729819d561e0e9a157bb38c611ec6817fb', 0.00024451472678049943), ('d9c38e7957c10252cc0e66b20c55d5be615db10d', 0.00028660366044858825), ('33e309f993023a0384221733dd884e2b891c8311', 0.00027302652623349677), ('d76e2a01f914b81afacec214c302e82c000c65ef', 0.000270074248973597), ('9d8ef2cbaaf8281600135670d44dda3acd82e1aa', 0.00024451472678049943), ('c6ac64877b2bcac2389be4d91a62dea8c6f73844', 0.00025079758305883323), ('31d84fb10f8c99a0a6fd68c69495d78e2f5fe02a', 0.00025079758305883323), ('ebb1acf1eb3705510de5a19065092404427428a5', 0.00025079758305883323), ('ce429fbb0533585f662a3fdb8a636f3c2403498f', 0.00025079758305883323), ('4dd869a2c17cacd03b3e8a9b7efcd48f40651925', 0.00025079758305883323), ('1648b4b355e15a814453c3a3c297fad815172f67', 0.00025079758305883323), ('076a8e778f2e9efb3c2fd45fed534ae9e6035f1b', 0.0002938783600082691), ('979a9f247700d00ff2c3f0612d5eb001379f93c8', 0.00025079758305883323), ('9faa2b0e5cb93f20df0555c3c350fab0b2eccf3a', 0.00025079758305883323), ('3c468c3a4211d4df54b16e6fa1246c6bcad9f182', 0.00023989931361034685), ('12ed6a69793430ff42e0c5ada0efa32d768caaa2', 0.00023989931361034685), ('94705d9bc8580c3d0c64000689c3389dae6e2755', 0.00023989931361034685), ('462923d1dec7ab6fae044f4505ea49581f7f5e2e', 0.00023989931361034685), ('373d6b3df9642698ead3b555589d4280a6249774', 0.00023989931361034685), ('b2514a7768f7488042ee1a110799f0d319012003', 0.00023989931361034685), ('e8177965012b16c95bb0db3ea5c085e939c2f02f', 0.00023989931361034685), ('492904963d34db850cf6053d52bbb298eb0bebe7', 0.0002749579121742068), ('98fef026effaf736eb93e7dcb06edf89d953c637', 0.00023989931361034685), ('ef9329565b114a36ce6ddab2602e1c0bda89107b', 0.00023989931361034685), ('b04d54821b7aab4b371c273d51bbb7cf381048c3', 0.00023989931361034685), ('556de729a6a4c7fa90acb2bd9a8c8fe9d62f1c93', 0.00023989931361034685), ('9e339bf47933a1b11379e3e3c4d40170f82549d2', 0.00023989931361034685), ('7d514e2a999b37b665e42078fc29d48743ed173c', 0.00023989931361034685), ('1c9d2244346972d582560b5dbfd10ad7a0784a38', 0.00023989931361034685), ('da2f85e313160992b1a0e3db70eb02b58ec740c0', 0.00023989931361034685), ('e90568386be825ef357fe057bc8b6d8c7a7a8feb', 0.00023989931361034685), ('ac98f481ee44e89f926728f166a9ee037929aa44', 0.00023992610372360935), ('f1a4c4788027295b3bb6e8fc6bccc93efb175ff0', 0.00023992610372360935), ('f2c310e5e7b813094c5ebd7dc6e269059e366dca', 0.0002551554902147268), ('da4fbd5b776eaa044b1b57f1f9bf87dd7b2d8aaf', 0.00028064773169619053), ('ab9f07ade8567a44fb6c4947d275d8922fd7e676', 0.00023992610372360935), ('2e54aa9d490352320bcb56ea86708442d9e19ccc', 0.00026682146408133373), ('5c504874b7e081c4aadd1acf64716bcc80871b7a', 0.00023992610372360935), ('1ee7affd0a4a918ab153311d6d5c541c94ce43a9', 0.0002540781588775688), ('5d3aa2a5aaaa21d55e6158ab7c6b4a2825ae89c5', 0.00023992610372360935), ('f73864e1891474c45d34869a65374f5f5794be48', 0.00023992610372360935), ('278a955814209be919449a616c5b8a25781478b7', 0.000241406483876391), ('d1c5c22fac0be0728417c028a4106fa8c215dafb', 0.000241406483876391), ('49d91f47f80156ba6767f263afe24f3a6d1e5e22', 0.000241406483876391), ('45155461fdf4863d7860540938a9696afcceeb63', 0.00026245647866727877), ('41d93b3a5740fc48af22d1d6043b759a1ee9e5be', 0.0002806162221480109), ('87f99e385207066c5658a9e28405ca5770e9b090', 0.000241406483876391), ('a7acdf0cfa9971e1cad316b560e96b7a5c54ce8f', 0.000241406483876391), ('043b28c2586e390d6295578243b71e67ecac9a36', 0.000241406483876391), ('a2e06c347c192c94bcae153c36199d1272f7408f', 0.000241406483876391), ('9831dc24bba0aaaf32218989a5259d9110437950', 0.000241406483876391), ('3d1e82b69663758a1db87fbebed6525d23090146', 0.000241406483876391), ('6775ba237f3c3d077ba3639d96cb307ce2bce260', 0.000241406483876391), ('36ad8eaa6d01ceec2efda3a9563320822920088f', 0.000241406483876391), ('99daf0b8c7a3880d34acff7bc7b370fc7e8a4cf1', 0.000241406483876391), ('7dd50431db3c4983270f9d089b1767c3afe981fd', 0.000241406483876391), ('51377aee7e62d369aadc785ffc2c55355944280e', 0.00025114836349056656), ('1048b5d749a57074a1e0a0b8ff368a82e0572cd3', 0.00025114836349056656), ('2a1ea90a71131275685d815daa9c5c40208f9c9f', 0.00028850195826890773), ('c503f54e890f4d92dc4ca098a16910dce0fa46d6', 0.00026549451596854216), ('0339a004619428c06eb619dcb1a4fc41d8542254', 0.00025114836349056656), ('89cd811263e20d97cdd7c975a479614561e1039b', 0.00025114836349056656), ('d88f92840f600f6d35bcf42ad021c1d9be2acc3f', 0.00029197203469853435), ('3d039c6902f5ffcdd93a1f0322b9906ee2452a57', 0.00025114836349056656), ('bf4cfbc8c937db95ba965c30941c6c784b2e182d', 0.00025114836349056656), ('4588b87fcec20e40761feb0c4bfce2cb96667d0a', 0.0002595197064384258), ('75ff16feb277f705239daf331b8085b7b1ddf037', 0.0002595197064384258), ('2d86ea32eac8da6fbb3f3d24936515e39e477bdb', 0.0002595197064384258), ('63976e0132590dd77be422185846f4269c6ee39f', 0.0002595197064384258), ('90962dfefabe152e36376ff04d9fd66a54b9ad86', 0.0002595197064384258), ('eb60fe884c53b420edbce57059b242cfcbae0f7c', 0.00032686511584115543), ('732c21998e251d64cd58b6a86886ee5907efeaa5', 0.0002715704713441008), ('9c24454b071bc8e96ea46c5064a7bddf07cca464', 0.00030550611918724236), ('abd1c342495432171beb7ca8fd9551ef13cbd0ff', 0.000294608321294851), ('5d90f06bb70a0a3dced62413346235c02b1aa086', 0.0002595197064384258), ('8d62db434a5fec66c85153a8109509ff786dd29a', 0.0002730205800222012), ('18b308b2c82a3207de8f3467249731c494ccf5ad', 0.0002506829668765643), ('e60da8d3a79801a3ccbf1abcdd001bb6e001b267', 0.0002506829668765643), ('b2b0c31d036941cb557be4afb7101dc1b72f17cb', 0.0002506829668765643), ('675784f097dbf87cd75a5640019d4469e7bd7905', 0.00031110615892769247), ('5125a16039cabc6320c908a4764f32596e018ad3', 0.00030804433847124885), ('ddb42aace56362ea9725a33815a64bb213d0329a', 0.0002506829668765643), ('fe3eb5bdd6aec1633efaf9f71fba21aeae48234a', 0.0002506829668765643), ('10a498003e9204f5fc1328e706510a37e514d8c7', 0.0002504934952202361), ('04513c7c0b3a63fde81a996dae064a28d453c17a', 0.0002721609524818372), ('0eb80e81580568ce9d70ad1c2495aef188a9587f', 0.0002504934952202361), ('a6812ef3160d0b2751c08a960d691dba4718dfbf', 0.00024840228772683666), ('4becb19c87f0526d9a3a2c15497e0b1c40b576e2', 0.00024840228772683666), ('14156438bafed28a626738630b5181b83ed5d79c', 0.00030338535513381107), ('0ee0801ba010a441403f9ed666ef9bf006b3aa07', 0.00024840228772683666), ('5aea95e1ae78a66474051a330ded374e199b658c', 0.00024840228772683666), ('414668b64b026ff50e4d91d14fbe7b8327cfe026', 0.0002714180690909002), ('23e176e940cfb2362687a2c3dc1e81f1ec0eb55a', 0.00024840228772683666), ('27313cb7a36d419b49b6c81b39d815c9b660bfef', 0.00028036957376974763), ('36eff562f65125511b5dfab68ce7f7a943c27478', 0.00026061009600024274), ('12b1b40d6fa7dc97b3c9093eb668a2517c54bedc', 0.00024840228772683666), ('dffe0f7cd102210333ef533761753a909aa03294', 0.0002535106304262251), ('57c0eb0d5e89e82336ac605c24d95c4ae99109dc', 0.00023976038711901436), ('0ab8bd8ac5d19981af4a12bd07559e77246644e1', 0.00023976038711901436), ('7c1cfab6b60466c13f07fe028e5085a949ec8b30', 0.00023976038711901436), ('bf79f0b8b68d7ba67420aa6f88dc7aa5eddd1d73', 0.00023976038711901436), ('e858bcc487cea96695102db9bdafe3c5d4269d04', 0.00023976038711901436), ('061146b1d7938d7a8dae70e3531a00fceb3c78e8', 0.00023976038711901436), ('38c3d447839a7fde117a21fdab7ed28c00a51a41', 0.000251314282143352), ('06147c4e743d4cbc7d95541c4aaf08d09139cc79', 0.00025369289900303545), ('cd14ca2ba7775aa6ba29b0823ee52fd5d660dcdd', 0.00024088490813860118), ('4e81a2fd72000928cb2dc93c1646332b9dd1ee1b', 0.0003003794497923111), ('5fdbb81992d1db84e0e6e3243be75a126d2a4ad2', 0.00025511596263345037), ('c5e3b3b5ff261a08f4b52a173b421a6a25ab31da', 0.00025511596263345037), ('fcb04dffc7bcf6ee3978b66a3fe1b56b572c3ebb', 0.00024088490813860118), ('51b5de4767a68ad8d7a654736bdeb5a80cc9b0ac', 0.00024088490813860118), ('95b2cf72f6d1e5a3eff92209d3997c48eb0ab5d6', 0.00024088490813860118), ('b476af597f1ab4a305f91685b0d33c5859a2354e', 0.00024088490813860118), ('c080e6bdb23022ebb64b7426ff81d1eeb6dd0e61', 0.00025364107315528124), ('22797927db9bdbe7a981aa7bf02408fdffae6471', 0.00025364107315528124), ('2bde3e5067726b559357487cdacdbf0965fc9a02', 0.00026787212765013075), ('45369c0c67b621d3896cfb1f79400f8982551636', 0.00027549072594538565), ('468fb302ecc4f3b5aff2994feff7894c3e9e8566', 0.00024088490813860118), ('e73c95e06bead21081813593f1c59d73ca77f499', 0.00024088490813860118), ('b75e166f08bca90315bc76c5d463db2bbc585a3d', 0.00024088490813860118), ('71256819d874f4aaa8cdb65c71c751a4123bb568', 0.00024088490813860118), ('d498e0de0a632245223c8a14ac6fea90960a104d', 0.00024088490813860118), ('51e381eadec88bc80591fcde98daac8eb98a7c1e', 0.00025364107315528124), ('fcc6ab7340575dfb6db7a13225f9bea19bd02c10', 0.0002649410039997225), ('9d3f0d47449c7db37d1bae3b70db2928610a8db7', 0.00031475808938452934), ('49ae00b9a8539ba1a2a7d77408daad850fd33095', 0.00026669054952261533), ('d85b756b8e4d584a53483c6562eb968efdb1fc0c', 0.00028841970522516054), ('790eceaa2cb59fef2634dad40f628346eb07cd3d', 0.00025306110248910825), ('296a22664daf1a4a39a22697a6e379720646c283', 0.0002683331220787673), ('211b7caa1d47f22dc1f1b2f90b7710fc74e32d5d', 0.0002814262377710721), ('7f3fbfcc36170de79bdecebdd2da3861ccf1023e', 0.00025179049985065924), ('73c9d413f275a1520aedf4649be817e1a228cedd', 0.00025179049985065924), ('ff8b823d6f04a78bdb568a09139ef6d02111764e', 0.00027606738084972086), ('d7105ecd0f481f089bd88669e52e36c68611c048', 0.00025179049985065924), ('f56d33f5fa0a10b8a352734f2343b25c1d025ba5', 0.0002750429572446919), ('8711d7fc8326211f1627ff8f9ea5dc86a268b486', 0.00025179049985065924), ('3651275781811643bcda8a39fe7c2ba7e95a1864', 0.0002619154689434233), ('23cd3ee21cbd6d3259dee9f02f607c0df5518558', 0.00024768223816012844), ('301f1c0d3ab3df8a886b2456e34239baf23d0242', 0.0002692756642481012), ('e177824a15acd20bd2ceb01fb8ca7e5f5c895198', 0.00028287194383216295), ('5938b820125a91e19dd05de6c897a835992f3799', 0.00024768223816012844), ('92713358f5748548b03c3130336b04b5f9028561', 0.00024768223816012844), ('4860e4067b1616cc214c971fb86e381855493ba8', 0.00024768223816012844), ('160befefc99d88390d40910b8cd77a5b4d4e310a', 0.00024768223816012844), ('3a40073f704057920b4306d18d7326a568d6b578', 0.0002522389317496256), ('588cbc6327da542686e45b44dea53e10741edab8', 0.0002522389317496256), ('b8eedcdc6e6bfa58deb7f16f79630586e5a00c69', 0.0002522389317496256), ('841edcf5ae140f455b180fd58029a071286c0095', 0.00027260573884936215), ('b59b468797d05d8c95e0110592f1fef9afdbf03c', 0.00026125294928057907), ('ed078564801135ffd1cb06470575e2bd63f2539c', 0.00026125294928057907), ('e8acb3e6ae754b18eb5e1d8466b11d6e1d81d1ae', 0.00026125294928057907), ('2af087d2de6007bd6e75e6f1535cbae463057fce', 0.00026125294928057907), ('b7e0a37ddc88d7d72b024486f1757459a3e9c454', 0.00026125294928057907), ('9858f280a7e2d8fb1bdf08bf3a1ec79e4a9d8f41', 0.0002601364737115448), ('30a8bd0be5d8d92d91ff8b161460028a0c342f1d', 0.0002493271033933069), ('bd75d4d93aa2c530caa3e71504dc40e42d27d0ad', 0.0002493271033933069), ('47574ea4ab88175d7f4d7656198edadb794b34db', 0.0002493271033933069), ('ae1def118c46e656fcf6bad7ff9cf2aff955b38e', 0.0002493271033933069), ('31587412083d1d1693e62afb257d8e4b75f31dc7', 0.0002493271033933069), ('e61e6ee03e05247a05de919f8e13226356eefbf7', 0.0002493271033933069), ('fca6b836ace6df914ff6cc911cb1d15efde74234', 0.0002493271033933069), ('55ed6e83cba98f6f9a73ee02365f02bb054fae79', 0.0002493271033933069), ('874a3baeaffc8cb5c993d1e3b2c09bc5dde403e9', 0.0002493271033933069), ('ba212ac65a49e92b30e5f46a5d1284faa07b1958', 0.00025619157307881386), ('d2c49618d8ce3883ce68f51e893c669e12432da8', 0.00024509422162112576), ('f4caafa1acf1ea6f157622f466ce9671f703233f', 0.00024509422162112576), ('89c6badea0d7bf834d4c069517116dd99c4cc0fd', 0.0003234318329337409), ('b7c060cf11fea4c1e6583ca6a7b10bad63c70aa7', 0.00024509422162112576), ('7ca83bac3e9836d4088101e53bfceddfdeadd7ff', 0.00024509422162112576), ('2e0d7289231dc4b1cd822186690b426810da620b', 0.0003175238507064519), ('39c6076a1284324282d6234c033ef1539c959039', 0.0003165137135769774), ('bd712a873ae4eefb6c623c8e605e42c5a0173e3e', 0.00029157624997386316), ('aaa0ac831a2546303611419cca74af367effb92a', 0.0002519104730285188), ('d66e13a5e128a4ecad78e0c1c128893684292dec', 0.0002519104730285188), ('73f9d37cf8bd4f2bbcf35ab542d32b53804c1b5f', 0.0002632241617779294), ('631e3879b7daa24da4014a797850146bfd9f7926', 0.00024168377330321153), ('6b88227581a7b06b3ee62e38f80309aef037380c', 0.00024168377330321153), ('efd02c06d2323d699d6d3bbf198e62077a445dbd', 0.00024168377330321153), ('6e87a157747b7136953fab8be429397a455b0626', 0.00024168377330321153), ('08caef75e11e67712e7f71bd14d6baabf057b691', 0.0002632241617779293), ('f7091ba836cbdd6111b3aa14148041182193e549', 0.00024168377330321153), ('831ab0f9e9f94bd41f1966d45fdd87640871ec43', 0.00024168377330321153), ('c7c1ecc0a6ba1d83be684b4f96cb8d53c92be598', 0.00024168377330321153), ('11bdffb5d46e8510626384db9ae7420f4a88d981', 0.0002632241617779293), ('9ec095b8a711f76d4404a812558a5cb1f6b1f390', 0.00024168377330321153), ('5bcda431e0b615e094562bf038f1ef4df1865088', 0.0002544491737767603), ('74ded012a2e1174c91adfc850096cebe75ca59f6', 0.00024083220030725365), ('ba80a77aab48f49b6b7a53f84bc5e3f029d20a48', 0.00024083220030725365), ('3bd2a11581376468c63d88ee83a62e56181594d4', 0.00024083220030725365), ('f6cbf70ea872c74c29ab69d5c952fb0a7b08e10a', 0.0002532496786815101), ('2be74dd2433f98d6a3eb8172d84269c436645991', 0.0002542120098553944), ('fca0ce67c436d382085e73e4a31b4a60558855e8', 0.00024083220030725365), ('6cf00c0077db26325120961c39d6371432e4cac6', 0.00024083220030725365), ('f428c2a920daa9bb4768cc12aa148f34fe6e77d8', 0.00024083220030725365), ('a583fba699112c88dae067f549f937c876a6ab6e', 0.00024083220030725365), ('b52691c0adeb33c78efc25556bac3b3b3ac24c02', 0.00024083220030725365), ('4f17e652b2e090c93175eec37dfcd862c848113c', 0.00024083220030725365), ('489ece232ec65477db0ed2ca01a43edc1bfc4318', 0.0002542120098553944), ('55c1d3a71da590b3948dee378ec4d125e33fb4e3', 0.00024083220030725365), ('6e84d83faca994438e5628525123f3466ee9c55d', 0.00024083220030725365), ('3ac69d67b746f0e514d88e34fdc224b1c8597818', 0.00024083220030725365), ('907d6d24ddf4a74491f611be6fb57fd102c6d9b0', 0.00029567830904292933), ('958aebc86388e7625fb8df4b0882bc3b764364a8', 0.0002972757353590477), ('4da9ea1dbfaca1bc13afc8f1e7b854fe3a6b4ea7', 0.00024083220030725365), ('aa88fa15f92cdd413c481162b7cad303acd8dc4c', 0.0003383700681182874), ('a3711983671315b4345e847351c122ac9d720aa2', 0.00027132432796379125), ('dcdae538590024e33ab3f364d09cf7ca49b9b7c5', 0.00024115516811496656), ('f1fdc50bbdb70a635ec30b6d6835060cd16dd15c', 0.000282990301830398), ('7b8be1217598c349aef1f576669e26fd97b81a59', 0.00024115516811496656), ('4ff3a409def9dfe9bb88ee9808c1eb8ebfc2126d', 0.00029878370089356194), ('241a41010c51be3e36da663b23c12c0a6beeaa55', 0.00024115516811496656), ('52e894911895fa923e4dc04dbe8b8c3403f7c60e', 0.00024115516811496656), ('3daa7579087bec926a569faae7a01bf0fad37a87', 0.00024115516811496656), ('608156e2bae124b16b12c13e4485e75db8c335dd', 0.00028355431440244434), ('faa280f7f947a37897d8bbb6dc843770c93e0c0b', 0.00024115516811496656), ('81394e40bbb59ebcccae4a010e1332c1e2adc806', 0.0003127273902292271), ('0c45d90ef8a9cf62364aad391e62b60ece8222b2', 0.00024115516811496656), ('ea1e445e610822786ee7322885edfec66dfe421b', 0.0002648736942572109), ('974ffaf2775a8c32e405c551436a111714a5dc3c', 0.00030013619140817376), ('1f8f0abfe4689aa93f2f6cc7ec4fd4c6adc2c2d6', 0.00024950686788146833), ('f9282d8871dd3d87a002ffd6e38eefff65978128', 0.00029021017865502047), ('7af7213190d85a5f148383dce1e7b1f26dc41637', 0.00024950686788146833), ('1f3135323b2c134eff09d230e9ec8b3db7bb9665', 0.00024950686788146833), ('d875b9eb9fc89a8ceeabdd195820f0f137cb3c5f', 0.00026409953856171167), ('9f01323502e19092f2fc976225c4d3fd9ef44e9b', 0.00024867395028133326), ('48e66c4c08c2a90cb5e29bc2a0e350de18935c7f', 0.00024867395028133326), ('108bbf9ca70a634521961f2b9a25a18914eeb90a', 0.00024867395028133326), ('0017ece1f39a0ed3a054697e87bc4d92c52a3658', 0.0003788307901358503), ('aa5069cd1675d513cf874038dc7457cf309e5583', 0.0002787318907263506), ('375eec55ae39ebb39ee0537db9d924858a4fb94b', 0.00024867395028133326), ('d9b12b6967f0b3ac3e7981a073de44a8bbad5c6d', 0.00024867395028133326), ('9fd905eb9de1be660aca05bfbd989d09c40c278b', 0.0002724471756570252), ('91bfa0458e09f094e110ca657a3fa10284761e8d', 0.00026572439611360915), ('ab3a1407179e67f18f81497f915d1b010a552092', 0.0003585276411897853), ('3c71fc1b4ee39e722494c4dfff89eca6b1ef2178', 0.00024867395028133326), ('ad536f11c7d1e4d254232d68b4793ee9e79f580d', 0.00024867395028133326), ('0d77e8ee951acedfe2e80c4927df43956ee692a2', 0.00024143518780773), ('5e2bb736775f1ddd01884a6bf289eca0ca41ca94', 0.00024143518780773), ('0c612d739dda43f1e0afa95cc2c5d3a337d03f49', 0.00024143518780773), ('7ad25dbb5022c119144990cde0d364e2519df728', 0.00024143518780773), ('d743c1b674ae539ef387252b8400a8b06c3ecf20', 0.00024143518780773), ('507d3bf6e6ee737e49171ad2fce47d4f0dbba724', 0.00024143518780773), ('f0a32283217a78ada5d5dc42e0317d15eafd96d6', 0.00025416616740678224), ('764089b07dcb6c1b75d0e1691412b2821415935a', 0.00024232135676985009), ('cb15fab48c0e4770a68b09a6e5d7d4e274d4406f', 0.00024232135676985009), ('396320fcabdba131650d74ffc30a19fb5d3dfce2', 0.00024232135676985009), ('b0d1261bf192e26f3665347f36f2461afad80c40', 0.00024232135676985009), ('a2c0bfd6e7eac7f1ca9c70f733e25a7d5017f8a6', 0.00024232135676985009), ('257c9cded80b51050a1c876fdcf696389b494bf1', 0.00024232135676985009), ('11a49f858af15d148af5011e126f4c06f9cc9e36', 0.00024232135676985009), ('c2023c25d6f65fdc19883be7ae40ebb8e06e2c1b', 0.00024232135676985009), ('dca9d1e1ab03c9e98a4689d85fbb49315ffd6e5c', 0.00024232135676985009), ('7a6ca00c0e2ec1bf97352e13cd3e5f35d608567d', 0.00024232135676985009), ('1d6a5d0299ed8458191e4e0407d4d513e6a7dd7e', 0.0002652004182538041), ('da09eaa1412aaf0a62622f01f50e2e801a3b4c52', 0.00024232135676985009), ('dc200ab22bf63e10e8b2af328a9e072d82cf75b7', 0.0002888800651417089), ('b6de1d55aee1e4c2949d220c986ac07f127a9f8c', 0.00024232135676985009), ('2bcfce1e68e9adb5f1547307e66a7b23c16d319a', 0.00027704522889073635), ('11356cd6bb0f2776a88cd584ff108470414c6594', 0.00024232135676985009), ('d821767b7c7315c69daa39fbb0f4a44426bfaf41', 0.00024232135676985009), ('526cf249c2760b7bdbb28f2a2a7c85851d3c2727', 0.0002541561930208225), ('ab6625763940699a8fdc78b732d762ca4f395d5a', 0.00024070631452665834), ('2494d35c9c84f9b3cede710c16b7f78e9cee3738', 0.0002623737717882592), ('6823583720f1ccaf027c1dc8f158d406d7ea4bb1', 0.00024070631452665834), ('5647fab83543536ea8424317630e6056dc94076d', 0.00024070631452665834), ('cc09fa97cd8a535339184d4d17ef250bffbab88e', 0.00024070631452665834), ('a68e8666257c02e6d0f2aebf79aff96bfae6a5c8', 0.00024070631452665834), ('f98dbe64ed6fa8925048291fcceb625d704fb294', 0.00024070631452665834), ('912b647c5bb250958389cf7c21d470e970b4258c', 0.00024070631452665834), ('3447d8b47a8cf7ce9f04ede314f0ded8172fa470', 0.00027323119977719546), ('4d39ee7cca8fedf792570724255a4357aa41dbf8', 0.00024070631452665834), ('b5781eaafe1aff25a084d83dc38831ea09db42f3', 0.0002623737717882592), ('ee70341e75c2dffebbabd24b239cc158ad691ed1', 0.00024070631452665834), ('a7c828184693a453a6c2867dee233ed054b2012e', 0.0002623737717882592), ('1c06870e1ecc63e120e45a2283ca4b72c153e867', 0.00024070631452665834), ('a73137f4c21e2fb1845d5f50dc7bf286036a8b67', 0.0002556850045304175), ('c45ca17fd3f360128c2f1f2ee288efa2a33bd253', 0.00024203021273759686), ('6ebe806cdc93521f5bdeefd5c0facd6d84aa79e1', 0.00024203021273759686), ('f84494e71541f605fd4b7dd36223651fda08e61b', 0.00024203021273759686), ('e2b4cea3142daf95dddd6987087eb82592c57f66', 0.00024203021273759686), ('9fc8fdfdc4bfa3dc5e7052cb5da6c1570bd41fad', 0.00024203021273759686), ('5b50aa69dc0eddc552aa43f7e96504479651275b', 0.0002556850045304175), ('d2383b6a00fb52b936d21622b00e6cbc691383c2', 0.00024203021273759686), ('fbc136c8c81cd89206dc0fcb54e16bd98df83b62', 0.00024203021273759686), ('7e71eedb078181873a56f2adcfef9dddaeb95602', 0.00024203021273759686), ('3a014744804a12c8565775d2c93c59084ccf3ad6', 0.00024203021273759686), ('febf81c438668b15b561eb879a78562042fcd2e5', 0.00024203021273759686), ('4bc7d63595d194a6e0930019764216e6b42da0d4', 0.00024203021273759686), ('a39193f071efed10af6704133061c15818a27edc', 0.00024203021273759686), ('bab40171eafbcf1bc372627c94b500e0f4ec6691', 0.00025437284940750613), ('247f7c2b667d1d315f002f258a0c60e55ac15cfe', 0.00024208632012408748), ('015e11f1862ccb808e701123dbe1a84f0bead671', 0.00024208632012408748), ('72c92bb989a031318156f876238a8c81f2d1e998', 0.00024208632012408748), ('3081d3499fdf9b1e50122e7ae9419d032d4966f2', 0.00024208632012408748), ('2895770450e9cdfa4bfa42ea035b0a2397205e95', 0.00024208632012408748), ('7eb24c2109f75c614cc7aa4c1cac8b643c05e70c', 0.0002740205395446247), ('e50f35840c6f9bbfeb468bede9201df2619769e3', 0.00025694280464624814), ('a6a93419c94dfe141dbf5b70ba70f0e1edd430d5', 0.00024220711639779145), ('b1464ca857593c049873421db2f37bf2d0ff676d', 0.00024220711639779145), ('5b6b1f438ba40e04a4e3c1e02bd14fe2e66167f9', 0.00024220711639779145), ('518cadf4765b5e3a84784fade5d205d6b328101f', 0.00024220711639779145), ('cb958dcdf5b50dd8642492193ba8e700e7b96388', 0.00024220711639779145), ('41486714f22dfa7837366d253479104b8b053ca4', 0.00024220711639779145), ('2fe348f8be60fd9bb6e4c8cf9945b8ebc159f8fb', 0.00024220711639779145), ('90e4f12fa8fb126d0f416c8b61bfb5f73f8b7b74', 0.00024220711639779145), ('8d7aa1e9c135c6998e9abe098c9478874a73f357', 0.00024220711639779145), ('9179e740dad4ca4c183f7677b854e5b15f9a122f', 0.00024220711639779145), ('eae2e0fa72e898c289365c0af16daf57a7a6cf40', 0.00025515951945005884), ('63eb7986f726c7a8cf14b720fa6eba3ab168c4a4', 0.00024220711639779145), ('6180c1217c2c37d0b2f3e41930032d5f64b28af2', 0.00024220711639779145), ('75a838cbc1541858b9c484001cade327640dc280', 0.00024220711639779145), ('85384a8871030bbd1681adee9e9956dce4d751ba', 0.00024220711639779145), ('a4040560bed2818f9e64293c462627858d99cf3e', 0.00026399333146330653), ('668754bae874a8197a31da172c754ce81df43543', 0.00024149927716512527), ('fdad88ff3273f539824d1052e74013df304b717e', 0.00024149927716512527), ('930a3aabbaf3476807dd0fa0cd2830e371cb5b1c', 0.00024149927716512527), ('7bfc47f93c5b48222cc553883d24a4f0be291328', 0.00028792038942636365), ('463b1c43dfd689841d2fd43d24058e68b7224dcf', 0.00026506062881364234), ('cf533695bb16e80a922b3a6b3c5b420c2307afc5', 0.00024149927716512527), ('a721d255ce68659b8aeb6119f26db1cdd7df2e8f', 0.00026700338053626144), ('cd20010c23c2a776633f8ddd78bc1058031ff631', 0.00024121303810726067), ('cc03b15e4c4aae4b5f18e6883be60ed5903c5dab', 0.00024121303810726067), ('88488bc60165980ad1b7bec6eba7290d0e54ab77', 0.00024121303810726067), ('afd2fccb32d622eb06375e6452c8547984708469', 0.00024121303810726067), ('2d61fd4defb4d7d18fdf3882559dc0212d2bfb18', 0.00024121303810726067), ('ed7ebe0059ea966e8e9589be1b26edb016433078', 0.0002929682870275514), ('4664038fc96e038d1531b1d186c88ed3a5b831ba', 0.00024121303810726067), ('c2b51b8f5c9984307e3ac8982d3525b3a7d22c09', 0.00024121303810726067), ('6d7ffcc466374eed3deafdd6a69a0e86c5438034', 0.00024121303810726067), ('6064764eba1475f8e10be7b341c2ace0bef595cb', 0.00024121303810726067), ('ce5cb407a67f31d8fc2bf449d05df6f29d06cc94', 0.00024121303810726067), ('1c1c590ffd5d5f4e9ce455bbdbc15d0e781ac540', 0.00025435755337034307), ('6192fff1c7e296ae0a98985c55246e150d02214b', 0.0002548283407494111), ('7eac922309a7f562a3012595e86b28529859ca33', 0.00024187593769714363), ('495035ca18ceb82d13e5b42beece8eb633f6095c', 0.0002544520403337389), ('781cf89d2aaf41a4089ad82cadf37530415327f7', 0.00024187593769714363), ('40fc6787c87d60f3f070281c53c8289230009558', 0.0002571479572868024), ('094ac7510d1723cb9c2da01db47291322aa29025', 0.00026972405992339794), ('925182b91f51f8f2b747f7829e9d25ffc2729e5d', 0.0002571479572868024), ('e399a626ba21fafb19b3661603ec9724058e951b', 0.0002538667777347545), ('ae9bf201f128cabaa4350b54ff6607525c736cd5', 0.00024187593769714363), ('424561d8585ff8ebce7d5d07de8dbf7aae5e7270', 0.0002556258112920266), ('3d057498bb3dde5f3117b63d9271180b21542683', 0.00025831426620255636), ('25c7b6038b930cf0d1de9312363aeb9a9e4b66ae', 0.00024083602802243775), ('84652767d9104496c583d7f09f8d30717bcdf2c1', 0.00024083602802243775), ('21f1151da578924276a04054ebc25b6125d14bb8', 0.00024083602802243775), ('aaf20fb403df8cfcf4a05c1c25f05284c6be1049', 0.00024083602802243775), ('e48bdaae13c7de29c4d49b28f695c4325719b9fe', 0.00024083602802243775), ('7d81774fdfa51cec836fde558ebe1f3e064ed9d1', 0.00024083602802243775), ('c847d909e23f2fa7af5d760d4505dfdfeda17d09', 0.00024083602802243775), ('17311bbaf0b62c4ea9e17426cb0fb8528023a58b', 0.00024083602802243775), ('3c69ad722c2daaf53b1374b351a30077dd53e867', 0.00024083602802243775), ('eb03c608d8f09fd84e2248b7e71a3d869df06857', 0.00024083602802243775), ('7496fcafc07de084ebeb854d4aa5487bfdfab33c', 0.00026408848541647025), ('714584876668701d5c89a13e07f19225012f31fa', 0.00024083602802243775), ('1edf94bbfbb5c78c005782171381bd9dca3d2a23', 0.00024083602802243775), ('ff943fad2fe1f9d061c44b0296a621e2c030dd05', 0.00024083602802243775), ('4a58a76c5af8f757fced46b65c39bb6c9e9daa1c', 0.00024083602802243775), ('7dd8873f6faa241eea4fda5703726e3f4f457a9b', 0.00024083602802243775), ('84dbc5daa22db4ec6213a13e84aeff386050156a', 0.00024083602802243775), ('725ea55f830fd95b330135b26ce285395e48b0c1', 0.00024083602802243775), ('9f3dc34d787404ade95a80c0367d4ddd3b190ccd', 0.00024269010387387543), ('87c85b7525de3f4127c006174e60d95b6f8b9a7c', 0.00024269010387387543), ('d35248733e8b0cd8b5e13e7a63af318772f3081a', 0.0002636465787626149), ('3ba787154b2411fe89d88b6ab50ea84aa62dea04', 0.00024269010387387543), ('ee07d8530c080caa5056a60bcc176569544a8927', 0.00024269010387387543), ('0aa9c29e32cb13b2d011e5730bd4955c7962083b', 0.00024269010387387543), ('cd12413a9a90ab802497eb2cd0ba162c38c98182', 0.00027441600253186977), ('4fbbf2a1c21c702cd551bcf570bd976b391724ae', 0.0002398096626593636), ('e5880a6e539f68619cff909491a27d52e2bb84c8', 0.0002398096626593636), ('9ec7bc53535a8e0773a9373e80d31f0d75b3e416', 0.0002398096626593636), ('34f7e0f14329ca96b36b2163ba74db0f09848039', 0.0002398096626593636), ('190cd1600840d5197ae9eefdaf4e6db1edf522df', 0.0002398096626593636), ('a8f3dc53e321fbb2565f5925def4365b9f68d1af', 0.0002398096626593636), ('68cb9fce1e6af2740377494350b650533c9a29e1', 0.0002398096626593636), ('84de7d27e2f6160f634a483e8548c499a2cda7fa', 0.0002398096626593636), ('80018ab17ba5b77e44a4b811cb22fdabea5d4d56', 0.0002398096626593636), ('74ff6d48f9c62e937023106629d27ef2d2ddf8bc', 0.0002398096626593636), ('915adc7d9aacc46b6b8575f4a8be4b7cb4a1caf7', 0.0002521605995644694), ('ed81378eb0937a6425f6221800049c03dd8dd114', 0.0002398096626593636), ('5b307b0c9177ac507cbead55d28e5434748e59ca', 0.0002401651158456834), ('2166b7a622e8e336056bd1dd8a3fd7e35287a446', 0.0002401651158456834), ('bb31bde7cb2c04fec3c59608506373e95ade33be', 0.0002401651158456834), ('d9a34cd562e936a9722c75c34cb2f13078c91cd4', 0.0002401651158456834), ('dbbab1d26e32b903261bb4d729b4598e3298ba56', 0.0002401651158456834), ('103257816e2a8be988ad46136ff9609d20ae22c3', 0.0002401651158456834), ('4f3280b5e4b49e3c4f351c83f010ca6ad8d66bc2', 0.0002401651158456834), ('17b6e6d7ce3ec7afcea1ce46c5a1d28d83b8e3cf', 0.0002581764048532713), ('7b05161938f4e5f89ddd7ab7f432de8ecab1566e', 0.00025097448616392113), ('39b7971c483eca7b032e5bfd826fc693a7e27bb5', 0.00027501137549395025), ('a4eb7cc590b65e6be34fb74a4568d661385f28a2', 0.0002822766615469822), ('77ac601c30d06782f870f4f9a53b55be2c413347', 0.0002518156597656401), ('1807d003294f83dcdf16ee4b970c2dc2ef12ec6d', 0.0002401651158456834), ('cfa3d45a6fcf704fe7ab6953424481d1698055a4', 0.00025097448616392113), ('ba913e2c03ece1c75f0af4d16dd11c7ffbc6e3ba', 0.0002525514612557553), ('00938d5b99d9d1029931eaca2a7b1b1f342e4c47', 0.0002401651158456834), ('d29430adccb805ab57b349afa8553954347b3197', 0.00028710688282767053), ('0f6d6301370df7d40a3336b459224fa3e89e7a49', 0.0002515182538083379), ('68f080e0ac836ea230cb5316fbed273c70422d75', 0.000302286030827587), ('bbd8411033f125b06ad0b59912cfb49395b3cc82', 0.0002515182538083379), ('94c7be3d026586be7531ad50a4404d2dabafd986', 0.0002515182538083379), ('f8f40e3bf5c7d578462980ccc46b2447a76a4429', 0.0002515182538083379), ('e746c8eec81384bd37dede9700be9c8a3700f936', 0.00026962492882001156), ('d18a3fbbdc9b0877eede2740aefe23932c2071c3', 0.0002515182538083379), ('ad655c25e052fa4eeed53421344aca6f239c4c9d', 0.00026962492882001156), ('630348d3e789ac1775223fac9d0b64f99e4b469c', 0.00025630013278221816), ('37232ccce1cfafbe9b9918557f0b6cdf80e5b83a', 0.00025630013278221816), ('96494e722f58705fa20302fe6179d483f52705b4', 0.00025630013278221816), ('33703b1bfecb918aea4dcc2644a759f1de37c940', 0.00028898257733035726), ('147164a3905f41a7a5a10f732d086a621c9c5862', 0.00024999726156529835), ('dd556921696c1bd67445349351c663c404dac8a6', 0.00024999726156529835), ('509d2110dafee224097f200ad5cc1f51c8dadd0c', 0.00024999726156529835), ('6351ebb4a3287f5f3e1273464b3b91e5df5a16d7', 0.00024999726156529835), ('b9c4a09f00c17c65605387e3d2a9f1dbaddc6c4c', 0.0002634435745658636), ('220fa61fc328646c3401b8b0baad635c07ebb418', 0.0002501356621062996), ('d43a3713cdbf9f39755e4337ece7e04917087da1', 0.0002501356621062996), ('3c67fb8cecd880f333ef79f3494af5de8315b06e', 0.0002501356621062996), ('7b7991db1e251ded0a7f0091a4fd958ca5715ef4', 0.0002625531404805561), ('4714f863564b32be86dab6f2cd7ef8fbecc9bafb', 0.0002501356621062996), ('2825be06b3f199977d1a51bac3db745e3f7842fc', 0.0002501356621062996), ('2a4b0f6f50ab629a183a77ac8b69851208e5f3bc', 0.0002501356621062996), ('f887e72876126a010587098dca682084c08e968e', 0.0002806303660970204), ('de3cb4048338111ad010fc03dd35a1d94eb28e1e', 0.0002586260329394052), ('b2e58514f52bf0e5705c362c24a02e131ef2a7f4', 0.0002576299489173635), ('16713ba75cf3e5f4e21aef525f5ff6f77093c52c', 0.00031778332068455376), ('e9f42702f018cc45ae185e61cc47a6950f55ab0a', 0.00030980414825515875), ('6c1bd115932d1737e42b6bb490211ec7d2891f52', 0.0002631180033763073), ('efbef93d335a163cc4eae358caf34918e335155b', 0.00024368625958169822), ('a657b6d3bc46b482b7c0ea2dec886d954a6de1ee', 0.0002594760808689523), ('40698b032912d301afa310e05e5b7409a6dd3660', 0.0003319353758385133), ('d308fc6b5537c5e5db6238e049e2ae43cebe2e66', 0.0002586260329394052), ('94275749bd2c05f2080ba455f9ae728fc30453e1', 0.00027277808809336485), ('c2800488f3956c0640a1b05fe3bdb68189a7e26f', 0.00024368625958169822), ('f92e32c7df9eca8b10bbd1df7b3ab660b241cfb6', 0.0003000290952048412), ('d571627b938399be35a8268c6f743d03a9fe95ed', 0.00028680373107550187), ('5c5a02edeb5623cbe82968d711f505ac76df62f5', 0.00025229978498645793), ('d2dd993ebd5fe26aeeb9c87b1fb4530031a62e64', 0.00025229978498645793), ('66c211884f5c8580200c3a99ece3da825c73772d', 0.00025229978498645793), ('f30e6ce1323d306c20e4331ab7c8d03c2879b085', 0.00025229978498645793), ('09e0363a81c010157ebb2454497a3a06c249c458', 0.00025229978498645793), ('5f1e6b38d476773bebd09e15a7c8f7bffde66674', 0.00027418346025904783), ('6c1bd2f72daaee0136f605a43ae21a08de48421b', 0.0002676556867466509), ('cb713443e49f09cc5ef760e145a89c7b115590bd', 0.0002522300984662724), ('fff3236a634df15a5f6dba0ceb198d71c6a7d67a', 0.0002522300984662724), ('db5796032ac7fec7abd457dfa6531131b3ebe70f', 0.0002752254066020399), ('29f4a957802fa54c5e23a170121e46f5f1e7a49b', 0.00028470613257892665), ('5b0beb1372ae2e1992ed0ecc3a3524997fe715f1', 0.0002522300984662724), ('cd6ddc39829928d76f96c95032783d64156db59e', 0.0002522300984662724), ('a23c0a89bd21bd2481fedcdd6d1ac891c6c06bdc', 0.00027884749778746656), ('09c958fa8e755ccb5a5f2ca22f9834e7e0a045ff', 0.00026317077082550696), ('80f5ee8578ee76e2c17824f211762ffec7e029d4', 0.0002750155814624394), ('85d9aff092d860aebf8ea5aa255b06de25a1930e', 0.0002513359345745344), ('1dc1281096cbbd8a36de307bca1b6573b1c62ee0', 0.0002513359345745344), ('bcfe57e2d05648c7ace15f3e96bb899b3fa262f2', 0.0002631807452114667), ('db787640c9b42416ff8d7015546e667e58267177', 0.00025012433035218143), ('8cf8e7fe56f26e9e811cf409e1ceeb7c9d7fb60b', 0.00028352139264335957), ('748c865ebf0845827ca23fa5874decce9646b226', 0.000251472654454644), ('21e33bd0ad95ee1f79d8b778e693fd316cbb72d4', 0.000251472654454644), ('35067cc8153b7e6270797fffaefc5c9cefdfe515', 0.000251472654454644), ('ddb842d2d609ddd535c4d15637e4bcd2c6d834b2', 0.000251472654454644), ('29026991e05d548ad6419b7b325db8008a18cfec', 0.000251472654454644), ('69813821ea86d630a4e63f65ef1030f799662410', 0.0002651274462474649), ('06a0ecac6c017a543982d7010cba7f925d4b6815', 0.0002729849789413708), ('9c06aae54db232de76b2e8a51cf5565d6688b86c', 0.0002513545392938424), ('1d2105616d122389efbd1b0ac7c04c0c2f8ac996', 0.0002513545392938424), ('4936c8c03c7d9720530ce29b47b5266a7d79efd9', 0.0002513545392938424), ('7c08fa254918d323c865c32626115799336319b2', 0.0002513545392938424), ('ad8848b837e8610e57b801d2520523974dad59c0', 0.0002513545392938424), ('77c2843a171941f15534bf1744bb46f8ff7cbbe9', 0.0002513545392938424), ('e5014a547281b5d64c89cb14825757c565f02639', 0.0002513545392938424), ('71ab1aaecefb699d064e9a75d973d23894f7a75b', 0.0002513545392938424), ('6cac1a97e6c6277dfd556db6c967babc701c96f9', 0.0002513545392938424), ('d67b9dafcf94017784c266e021fe29baf2ffd572', 0.0002515858767866256), ('31bc0d4ec9a5bfc2152c4928ac2c3864959c0342', 0.0002515858767866256), ('e13d3f39cb9d03c57fef1344a825c163160dd8e7', 0.0002663215650350825), ('b77b1fc188f3834541efbb75add8f1ea80fd6225', 0.0002638724060700444), ('d798d90b55122bede19569e76cce33fb81a7673f', 0.000274877985351819), ('cba82aa85450344a37c6004c973ba58004c6d282', 0.0002944299397820556), ('ade6cfe42892f4a9621c6a10e632ae283cf6885b', 0.000274877985351819), ('f08c5a30f1f0c9d79861f7eb993bf89fa9ef1074', 0.0002708685881335387), ('96d7bd865f90dbac943b40b6c9bd56fec22c6162', 0.00028650792760380266), ('f2e2d5528cc24433c2cdb55667e2342b0528fa4e', 0.0002503065258806848), ('d9e3ecd7d63ac700025f57fdf461a19f4ed643e4', 0.0002503065258806848), ('3a4eb71e3cd6182d3f24852b662d9de01be72c10', 0.0003200793130359339), ('8d387d2b68f31fb96f06ed9c243bffb150838dcf', 0.000280057916112084), ('90b90513da0c74d2e426ffbac9c4c8701aad1762', 0.0002503065258806848), ('a9998c4a9ad73b9963df053f6d5643e935059a88', 0.0002503065258806848), ('417bd43e223b77b8d622d2f729727f264c9d19ee', 0.0003160847537729123), ('48905b7b0149d88ba221afa0f1ef2fb9426a3c12', 0.00029034867434674376), ('08485f86df52e9cf9b02394d6a3aae05aff0a799', 0.00024372889268023943), ('e7935d6944ec6ee2f7e2d5f40833300e4daa78d0', 0.00024372889268023943), ('a9992f1fa5341d3c8a3b681f933d7625750fd6bb', 0.00024372889268023943), ('9e45f928e499ba2b97d2b396cc402aa842ef159b', 0.00024372889268023943), ('459176889454154373c3b368903b3b4f55baae8a', 0.00024372889268023943), ('ee1d50a0c6448253eaf8d1f7f6b00d893419589d', 0.00028889024367574753), ('c017a2bc601513a1ec2be2d1155e0384e78b6380', 0.00024372889268023943), ('5a820db92ba51c624e72dd748cb60004c5056f32', 0.00027183490634574215), ('eaea106b4e8647a3348750345368da8a019afb45', 0.00025170933048461295), ('a9c2ea54765af3f4ea0be4afdbbbd9adb0fe82e8', 0.00025170933048461295), ('ceb4fa04acc02995780301023638ca8218bb081d', 0.00025170933048461295), ('8d4248d238634bad1973cf212ca1a9585f0be7a3', 0.00026918756866473173), ('20d95ac93db02787dd0b43a96c51a03950a81b7c', 0.00025170933048461295), ('a913af3b3c05dbbfe65c4a09d147c2549f169f37', 0.00025170933048461295), ('637ac63555806b8c997c9944ae30319fe7af6d58', 0.00026918756866473173), ('d94751a9165af603fa9d3563fa88f7f36ea31fb9', 0.00024941334797932003), ('5d61a6af14d1d66c121f99843a03de6cd45ac51e', 0.00024941334797932003), ('cced09655a03c64a849c354bc534086f468264d5', 0.00024941334797932003), ('f920b0ca3e6113b4b145a0dbc19f9dcc9a0988f7', 0.00024941334797932003), ('7ba18c90be2166a848ab509f9e9de950750a91da', 0.00024941334797932003), ('4c8e87d996826725192d15273c14bc0f16a6f17e', 0.00024941334797932003), ('0ea25f1599fd520c1df29d2bde83f09cb53fb2da', 0.00024941334797932003), ('b3816c29d0a696b4c562284b99bda3d906060d55', 0.00024941334797932003), ('02a8883f756f09327cc134970be71db4dd893843', 0.0002635521730501046), ('58229c28af74d3a0de745aaad0b8d693c197b7c8', 0.00025266978681377436), ('290a6382c543058edf2a369389285de138d8be30', 0.00024080780999568646), ('693b7f7e5703f44eeec1de83fb4bcf3ba110e58f', 0.00024080780999568646), ('10d19ddad9c5463a4e8717b5b7c14ba6da53e92c', 0.00024080780999568646), ('838733b65054ab160d9a8e23e60bcfe6050bf48d', 0.00024080780999568646), ('0a12fc125cde470d81ac01f4fc8d9c55f034d597', 0.00024080780999568646), ('e835dff0822820429843d366dc30af1edf95be47', 0.00024080780999568646), ('62ad9173d994ab264b5560f68f9488d9013cc226', 0.00024080780999568646), ('629c3a99f0f62a12f8aee93aea9934bc61509335', 0.00025414308829531737), ('d847ee63fe234f9cc2a8be851ed511b7d1a8da36', 0.00025319415540575845), ('addae423490bbe82da4fb2fc265237178686b4e8', 0.00027520271697006155), ('d5b91f292c611dea61f6e95b007ae53c2766a5f9', 0.0002635521730501046), ('9ae6c4198c7d55dae13e7294f36ab81899fe4aa2', 0.00024080780999568646), ('2e860259741de4f75311a6af5684510944e29f83', 0.00027541414986819265), ('01b1860903518ec9f2acc31a7712fe532838a98b', 0.00024080780999568646), ('1c2c5ad8446cb953dae3daaa7156508dfc2cee2d', 0.00024080780999568646), ('574a35aec7eb12fa4b21242dad4ad5c60a99e999', 0.00024080780999568646), ('c58b9fa7bec19c9c1a91ad16c21073ae331048c3', 0.00024080780999568646), ('5aa3760a3000b6966f01850f4535c166f7ebda5e', 0.00025891514566501946), ('3e776e6ae7d584995cb80b6a97ea04dd6e7d5272', 0.00023926624340881851), ('f7c9d9a217387d3a73a39b232a3bc14e6706b533', 0.00023926624340881851), ('6a57cdefa6c89c339b35ae90d588e78a87f1ce0c', 0.00023926624340881851), ('78eeef335b22d24a5f01a6ee9f872798c71f8b75', 0.00023926624340881851), ('b20b195c772a03a7deb4dd7fb970c810e8b21049', 0.0002509195165356783), ('98adae1da186b11df8fb0974e996ea3efb097d9d', 0.00023926624340881851), ('095378dfef8d2c339af40ca6bfa648eddb210a2c', 0.00023926624340881851), ('2459ec3eb36bcdec26d9629bbbb557f4ad0a4a96', 0.00023926624340881851), ('a1adf0cb57e72ff284727bb77669c58c95e7bbff', 0.00023926624340881851), ('dcbc71903e272776777b8fe686c67779307700f2', 0.0002509195165356783), ('7f4d596e874cb83894e450bd375bbe731940e20f', 0.00023926624340881851), ('a4b8b1c6681528d3ad25a68638597bbd86b7b648', 0.00023926624340881851), ('4e6c052422f4a4ad92106fb5ad19e5337fc1b752', 0.00023926624340881851), ('63049ba1767693afe20c474ede9f891b376c630c', 0.00024137900212864335), ('79c75b66c6748bbe20ec101d7cd324948aae2df2', 0.00024137900212864335), ('11c3bcdf992ffbe00f213569ab996ff431ddf21b', 0.00024137900212864335), ('a80fa838a229f8473a5a4c063863b2e49001639b', 0.00024137900212864335), ('e9767464b82a0cf8899b7ee19e0b39a633f68d8d', 0.00024137900212864335), ('87297d4ae3aa78547c07b69ece13212338bffd41', 0.00024137900212864335), ('5725d6c141cef18ce062ea1e8867adfedc7d6c88', 0.00024137900212864335), ('87a7e598d4d2b7f6b168551fc92c5db70f64d0db', 0.00024137900212864335), ('e757a9ac30fdb650fa7b76afe448969d309dd873', 0.00024137900212864335), ('d03508e98f61f08db51058019601261c80f988d6', 0.00024137900212864335), ('3419ccd5c94d301ee08d716d037f0c3c6a62e78e', 0.00024137900212864335), ('ec86ce7f0139e9bb3af7bdf25cba45fbe2a5e93e', 0.00024137900212864335), ('1031a69923b80ad01cf3fbb703d10757a80e699b', 0.00026663424219357126), ('ad7ddcc14984caae308c397f1a589aae75d4ab71', 0.000358833078946809), ('268d347e8a55b5eb82fb5e7d2f800e33c75ab18a', 0.00037421674134956715), ('a84906dbd4d6640f918d0b6ed2a7313dda0d55f1', 0.0002559305189815262), ('8899094797e82c5c185a0893896320ef77f60e64', 0.0002559305189815262), ('204e3073870fae3d05bcbc2f6a8e263d9b72e776', 0.00026429117143393334), ('832298578168aacc3fb1433296a63dbfa849ee4e', 0.00029407025076851376), ('a77ca914695d2989aec40b9d85351b2b021ffa6f', 0.0002662272793424654), ('f203f52c0f4151b89f0a1797c6be750b64af0a02', 0.0002499972615652984), ('d8efe29581a4a476c567188752faa00b0b6a27f2', 0.0002499972615652984), ('a2c5e2f70e6441430cf48232da815e0d00653467', 0.0002499972615652984), ('8654c84f172e436081a973f1b500e4ac449a0bc0', 0.00027589443644398555), ('3eecfcdc29ba47730e3cf84caa837e380bf647e2', 0.00025418226392440104), ('5b19a2bf6c98444dac40f17710861cd2391a20ee', 0.00024176478555014463), ('7ee90290f67f014092fe6fc58ff5571e6539ab7c', 0.00024176478555014463), ('636caf10552e22e855ddd1855a55a6036267891c', 0.00029736473585966595), ('19a9461fc7f4289eb8d7d306c0f8fdbffceb1f3a', 0.00027661489451396594), ('309f2d7ee3c973fec5eca019a3cd600ff9382fab', 0.00024176478555014463), ('b9450c4eb65b73a1ab384ba6abd6adab6a767304', 0.00025418226392440104), ('831644f7cbd6bedc2caccf6a252a5c4a62b28a6b', 0.00025418226392440104), ('46f9886e62fd80ad5976cc4ab3649c31f26edfeb', 0.00024176478555014463), ('fb5c4bf41fd879c9c64028a817db7f7ab6aba429', 0.00025418226392440104), ('678d7db924485754f726c1049dd0c49961f26b32', 0.00024176478555014463), ('0485745f7470856427b76abe2b68797b9e2a8bd1', 0.00024176478555014463), ('6e5865bb00875421c5cdfdc36f0ff7c5dc35995c', 0.00024176478555014463), ('0d3b81307e123cdf77eef35b2158f5392fc9bafe', 0.00025418226392440104), ('294dd05a7c0077d33936b89f7c918967a622762f', 0.00026251462689584463), ('6dcd3a79802def26242d28103c36da123748c193', 0.00024176478555014463), ('52e60c68f376cbedb5e360b4f5b6246b2e29e836', 0.0002478886168851897), ('a8ff37f4afa542e62292fcefa92262bce84d1c92', 0.0002478886168851897), ('ed1f9048c96946ebb6ae519015cd8b362af885ea', 0.00026989295004280493), ('50bf12f18af0010afe49c7bed0ad4b30ed9804f6', 0.0002478886168851897), ('e3b1c30aef1d6aeacee20db4b33803b711283788', 0.0002478886168851897), ('b2037db084893c7a96a79a14ddc6bcc81ed6e394', 0.0002478886168851897), ('e58c15a33806c7e4ac80cbdbd35c53d48f96e886', 0.0002478886168851897), ('e66b0b6ce08deff805885c75afccd6c4a5628e23', 0.0002478886168851897), ('1c62d4bea6e2a11a1585b21d06f8aa2ee786ed10', 0.0002478886168851897), ('66731f14a22a11b1467297e6b1fcedb50ec1377a', 0.0002622257977396112), ('9f32ec899ce4078597a4a72118cb81b6b5e25ea4', 0.00024382369946632302), ('3204034db9687dcf7e7fb1931ac5482639cecd72', 0.00024382369946632302), ('eb8348f95373bb6c391ef55417fb32b348b892c1', 0.00024382369946632302), ('729d7ccc0054a5c56e3e6d774d31d11b587288ac', 0.00024382369946632302), ('56d0b88ffe62467ed5b8dc6fd36e081454682d75', 0.00024382369946632302), ('9d528f6d0f4a1f17683d07e8e80d93a896c663fb', 0.00024382369946632302), ('a791277cd596d68a293386dca660a576776cec13', 0.00024382369946632302), ('d46bc623f5eecb44c5a053587f841dac5cc9b743', 0.00024382369946632302), ('61c235074fad55fadf3d84043ac5f47e6947d3f7', 0.00024388246137095891), ('00c941f2f6b1e5180a6ad2823046e30241de6113', 0.00024388246137095891), ('7168d1dcf7f6d0020c3329ab3a12c27af69914dd', 0.00024388246137095891), ('a895cdbdab009e7cca74676df83cf4cf1f0778e6', 0.00024388246137095891), ('532ce2b97ba81e8017f6d581a03107ad946a65ec', 0.00024388246137095891), ('9b78914473d445868b1ec76a3efc5d1aa2aac685', 0.00024388246137095891), ('af8b44eb60e136b625eb500d97d6f0a7e4c52990', 0.00024388246137095891), ('3b60d6920cc5bc7b3ebe48630cb40436aae6839f', 0.00024388246137095891), ('63564b066baf1b31daac5f8d1463d847d42bfc55', 0.00024388246137095891), ('db692f7c9250d4478f4040860e087715a96a43f5', 0.00024388246137095891), ('cc7e1d84cc8f69a1135737bd6b16f8b40a8417b3', 0.00024388246137095891), ('1902736a8fab704f34cf52a48486d099b287a70a', 0.00024388246137095891), ('0766511167faf980a42d2dc438244b421088ef00', 0.00024388246137095891), ('c6a3c11da0e45e5a18539752d42751f2a5e63d91', 0.0003175505701577444), ('a469cb515cd9a2e1923a7a9b3b3fca3690881b19', 0.00024050763799625548), ('e4b4349d19124be609622b75585d158055c1a0b3', 0.0002934884072141217), ('dbe1eb127c20920eaaa66d642098be26684930d4', 0.0002674408912543357), ('1c825f19567fe421ac81a760ac84898b6849063d', 0.00024050763799625548), ('7998468d99ab07bb982294d1c9b53a3bf3934fa6', 0.00024050763799625548), ('992847be33f4bf7afbe66e198cb20a53e00dfa76', 0.00025839319342896023), ('e98adbecca61777bf4a2789715f156f55af3091f', 0.00024050763799625548), ('792250ae660b7c25f85eeea7dcae623e4301d97c', 0.000384362508706139), ('598fe25743f9492c5c1ba30274ea446f65426d85', 0.00031853860930054165), ('fb675e55eb7abe9be5009fa57d0114a85f324afc', 0.00026294915758727093), ('61502aa4665add575eced99ccd159758ad5a8c4b', 0.00024030168372751287), ('e4a5c0e4827c0738e834d8f1529e7fe96360c49b', 0.00024030168372751287), ('7d27fc8ff82ac6ad7ad3c2e5f57ae2bb4220e340', 0.00024030168372751287), ('813b03e123d448d53d93a087a2d34a04dfe70c5c', 0.00024030168372751287), ('e216ac339cbb4a8accdc266be8f26b554c37a284', 0.00026294915758727093), ('4e158d089924e1c7fd184026cc868a49fe9bd579', 0.00024030168372751287), ('3c3fe084caa8fd3798c1ae1a48909b9eb2d4dc5f', 0.00024030168372751287), ('06fff0d2ef35ab2b662cdd325993da127d3b9f96', 0.00024030168372751287), ('2ba1ca08540b77c7b5c4318e989050774aaca8d2', 0.00024030168372751287), ('b63b861cb907331dfd5d7dbfbb0a1563f25f2c5a', 0.00024030168372751287), ('f23bf58437140927ee7b2107597568e23a398ba1', 0.00025213651997848526), ('7ce6eca495909de2ffa0b6d9c16993757208764e', 0.00024030168372751287), ('ffaaf30b1013352ebccf81d924f351863dbc2025', 0.00024030168372751287), ('a17a7926dc5ec33a36e0a3f1eda86a1404f458cd', 0.00025757201613412216), ('ba1d8720d23d467fc44d6adae9c7216b815b6281', 0.00025757201613412216), ('98d1178c5190c73e70770c5c87b9bbcc1a0e9eae', 0.00024624607009266083), ('06f565d668b77fb4cd228d497b86d70a44ca44e7', 0.00025757201613412216), ('099312ed4588644287364363e0d4b209895bdb13', 0.00024624607009266083), ('d094c10a596308130258f4fbd786ac132577b0e7', 0.00024624607009266083), ('4b83e9a048e677ff9fab226e8f7fbaa33fd32024', 0.00024624607009266083), ('2c487159d7d712c195449f9a5fa77419c9d700e6', 0.00024624607009266083), ('8388f1be26329fa45e5807e968a641ce170ea078', 0.0002691934099956339), ('bee044c8e8903fb67523c1f8c105ab4718600cdb', 0.00024624607009266083), ('1b225474e7a5794f98cdfbde8b12ccbc56799409', 0.0002694317129884247), ('e2b7f37cd97a7907b1b8a41138721ed06a0b76cd', 0.00024624607009266083), ('843959ffdccf31c6694d135fad07425924f785b1', 0.00024624607009266083), ('320c6bf28a2a8e2cab7aa7b491708b522f99a4b6', 0.0002656426497595614), ('71347530f0c343e0e5e2402f9d9c514e3f7524e5', 0.0002421116648834013), ('8ae96115d2af72677fd65d06c402452c49f0eb72', 0.0002421116648834013), ('07d8705dcf2ec1ecf35d680c80e6bef519ca967b', 0.0002421116648834013), ('bd76a4d60647eb1b77e90ecb7a457f808f67f5d1', 0.0002421116648834013), ('6955237f5d604251e6156562da1e43fb7332430a', 0.0002421116648834013), ('75876006c7b54626677c62896f79ced54af40c6d', 0.0002421116648834013), ('f818d937724469aaf301243bd6bc7526f4c7f6c9', 0.0002421116648834013), ('0353c467cb380025d8ef927996436b8e9cfedccc', 0.0002605056112792959), ('8f80fcc31071d056e91c66e504823bb1f4639a82', 0.0002421116648834013), ('3bfdb516a68eced068701ac6ade535300da1d2f5', 0.0002605056112792959), ('a5b5dde1da8ac8d9247a32172f76d5d1831309a0', 0.0002605056112792959), ('e5796f483f48f26d517aebe6b5de26cff84b190a', 0.0002421116648834013), ('83f83990e39758f58aa8819cddf86c5ace6bfcf5', 0.0002421116648834013), ('832dbadab16629f6811b91ed8646403af2f43c0d', 0.0002421116648834013), ('9e4dda9d146c8b0afe3075810584d99313558aaa', 0.00026432458967912424), ('937e123eae3eeb9568f5931d5154237872435f64', 0.00024074340237399932), ('811725468465d572925ea2c99b1f57b240556bd8', 0.00024074340237399932), ('d5d634629463c74a32f45ec77a5282d4ba8b21cd', 0.00024074340237399932), ('20c60441427e72257263ba5d1cfebf96d2da26ca', 0.00024074340237399932), ('b5b4a84559d6525e24372241be72d95f060b652b', 0.00024074340237399932), ('726ef243640d8acbefe124e5393cfe8c74a4299b', 0.00024074340237399932), ('191ebc2d63098c82e9cb49da24103a2c5fad4fee', 0.00024074340237399932), ('235e94e2c54de4c324c9aa33f5a21f5c0df54bf3', 0.00024074340237399932), ('97ec22e0c2f7eee796cecec6374a0b284c4d0cb9', 0.00024074340237399932), ('6edc23999d72b03f309a0b680beafc859ac21329', 0.00024074340237399932), ('31db339dfe02a42923cfab7d103a0372c5aa7ddb', 0.00024074340237399932), ('845533e69456e8d52996acb550cc50d2aabc3d8e', 0.00024074340237399932), ('3c433b7f69026f6d4e5bbfff966e637b0863073f', 0.00024074340237399932), ('0ef002eb9b0959257d6af4ff4c4044b6192e03fc', 0.00024074340237399932), ('358b9707c2d45c06e23a264d21390c2ed5a1d7ee', 0.00024074340237399932), ('680fb04e5c62ff24e7308e75c86300195e9e9053', 0.00024074340237399932), ('b919a6e2f13873be7bec163c24fb0b521d605c13', 0.00024074340237399932), ('92822a2072b3ed906ccb450374341a7d56138582', 0.0002431925613390373), ('5de172c1031a38184a431b6e704f040f6f509064', 0.0002431925613390373), ('d1f788e9ac58de5d2dc6a3928939b411cf9ec5a6', 0.00025201822473909746), ('469636449a996299e43176a6ecca36dcbbb9e669', 0.00025201822473909746), ('b802bb5ffeba07f05d6095672dbdb8b8f58f9497', 0.00025201822473909746), ('ac9659baf2574010f8989715420f252af59c2fcb', 0.00025201822473909746), ('ffc2ce1cb183bfb78a9ca354f79b643e8fd0b66d', 0.00025201822473909746), ('4588b1d60c812d1072ea341189a0300877aeb797', 0.00025201822473909746), ('c1b727ea6b8818fe90d190bb339be76447151212', 0.00025201822473909746), ('4dd7d3d93d79fadeb34597d27c2461bd6f9a527d', 0.00026847827001443063), ('5571f56c517c454d76515c849ae89c21a911b3f1', 0.00027621756274784977), ('8f64798dffa4f901e6730ab2d92d3915e1fd70bb', 0.0003057007478490338), ('5452910bb955c3af53b1f0d2588b6abdc12b7089', 0.0002542472155195811), ('50b98cc888fd59742d535f8c20f7975322dbe7d3', 0.00029392498396912833), ('53599f3748b73f5d3bbddab646905b5b8e7d3210', 0.0003973854504006083), ('b9bdc61d63d75d82f24de21be26f61879df5a01b', 0.00026297251385666505), ('9d5290fadb7625862a966e0330bd0f9e111fc99d', 0.0003326171398660515), ('68fc022550246d8b76e41c778c7af926ab60dc5a', 0.0002459351112706991), ('11db5c672bc6791bf0909b186c830e312e9e4c23', 0.00025802327048790363), ('80e4c15cb8b7b76303247fca68bf2e0b99b70d94', 0.0002459351112706991), ('535da9c138982b26204c32b7859af669d172b660', 0.0002459351112706991), ('0f03e0b1e52cc22dde7b194d0c28fa5708825519', 0.0002459351112706991), ('49023ac42bcba3da4f7173ceb8f215588ef78f00', 0.0002781488463490327), ('a2fef36ecf7f02c1c2b7ff067900c0fe14a74139', 0.0002459351112706991), ('3a81c85dd6188ebbfb665f81831d616b2f274b56', 0.0002459351112706991), ('e6928911454c38632caba1cc5aba53bf587475f3', 0.0002459351112706991), ('b194a7b5a2b23c2f450485cf3cd93b021e7a7505', 0.0002459351112706991), ('4b2fac1fc329d1141b0ccf41cd61af1f187b37de', 0.0002459351112706991), ('dea97b27e858cce6cbbde2294688cd3262dd16a6', 0.00025849592141439343), ('44569d9a592a6ea3b98e5ce69aa7f6584b3a6440', 0.0002471662322129957), ('7d6bd8c1ae15fe1a0f0dd38ec6cf72fcf0d9776f', 0.0002471662322129957), ('e8c43542362c761bd7907f1270206edb12f902a8', 0.0002471662322129957), ('05e668911470bcc670946a9611ea7315d7055022', 0.0002471662322129957), ('010fa179478998f2ecf3f1cb62f4b33d59057770', 0.0002471662322129957), ('e39b6bdb6a2c813350e639f9b14dfdae4d534540', 0.0002471662322129957), ('73429d3175b8535e8bb53535a96f8f1f9bf94136', 0.0002471662322129957), ('51257ad3a7e8516ee53bf9bcde3648f769ce914e', 0.0002471662322129957), ('a40fc28943f5d65b9451e772995726c581752ac3', 0.0002471662322129957), ('dceae4af22b958a787a05411053ac4f801fb2a64', 0.0002471662322129957), ('3c00dca355a8b3e6b504349538294c169325224d', 0.0002471662322129957), ('8b57cd8a8e8d82c99110770ccef8246b1a1af2eb', 0.0002403188499086685), ('fef79211929c629781d9bcd10b901ff45fc500d7', 0.0002403188499086685), ('983181623ab4d083d101212229b28d918a383e8d', 0.0002403188499086685), ('9702368c1e0a0fb447ef7047e8c13760f16054bc', 0.0002403188499086685), ('d72a025e73701e4a3279fa8e94336660303a1f57', 0.0002403188499086685), ('a3c2d89d82dabdb9969796439e04a65d8ba7eb8f', 0.0002403188499086685), ('223154b3837a75160875fa9ef7bfb31fed31fa5f', 0.0002403188499086685), ('69f8e99f2a27b4c11219378da887c3fb467d05e8', 0.0002403188499086685), ('1e29047e719cb8551751bf98a3d6fa180af4e253', 0.0002403188499086685), ('61244d24d769fb6c9626becd58204e766c059513', 0.00025933066905804307), ('c969e7dec8838365fa5dad1e3048f8a142e4d50d', 0.0002403188499086685), ('c377304af802f1ea67c6d696806a69f516a4472f', 0.0002403188499086685), ('5387d5a5decfde74bf19528cf30a4f5b893cbf67', 0.0002403188499086685), ('16a1d12b5dfbce72af25cc5b667a36aaf7224672', 0.0002403188499086685), ('86f0b58404a264a6216e29c78a5c113d900ca461', 0.0002403188499086685), ('90d88c630346e1819240a7d54015b969b8e707fe', 0.0002403188499086685), ('f499dfe48c1886e1bb7a5bf00a29b613f041c9e6', 0.00024011014621744053), ('f7ffc466251ae8b781fa49eab913edb5f3b76765', 0.00024011014621744053), ('e7a8e979511dccacec5918ea86bfd27fa8a1f1f6', 0.00024011014621744053), ('fb52c9004eb8f2bef2d58df6febdba2f60d70b4f', 0.0002534454245170714), ('341bc7d6498bdb2283dd88b07e059f975dbbbbff', 0.00024011014621744053), ('bb3cb1f396efb6bbba064819cc9b444d46b3c260', 0.00024011014621744053), ('2467f497a13139ed501e25e06f5961615944681e', 0.00024011014621744053), ('c4ffd0b1d072bf33287ac69157cde58429a12008', 0.00024011014621744053), ('5c09161e7d76b96b673efb9c37447019df32df72', 0.00024011014621744053), ('9531fb91f6876c57e3cf9bcb77ec79cc6f2a84d3', 0.00024011014621744053), ('4d2d58af2b8a1288d5452fe75d0cbad95eb8cfc7', 0.00024011014621744053), ('356e321fef99253f1cc01504a6dd2d4c7f8668e9', 0.00024011014621744053), ('c08fceb62442574a8ec2c6ed0a0dd3624da471e3', 0.00024011014621744053), ('7db4ca90fb4b36b27f987eb837c5263f128a3b52', 0.00024011014621744053), ('c29bbcd4116408fce055798bc5bfaeee5010eac1', 0.00024011014621744053), ('5561647733128b1f6931cca1c3facadebb997d75', 0.00024011014621744053), ('016dc879654cb4faa6430f9740fb9480ef8d702a', 0.00024011014621744053), ('aae20d8092ebd15d73cdcdf89a331bb689c947ce', 0.0002465635481022541), ('cc982540fe75856d6cc02ff0e19ae974a2b5c47c', 0.0002465635481022541), ('00e7abfade8b6b560bef8026a4f6493d69b2c11d', 0.0002465635481022541), ('174cd8e98f17b3f5bda1c8e16cb39e3dec800f74', 0.0002465635481022541), ('fbcbe5a222786f38a1c69c3487b4edf8ca469934', 0.0002465635481022541), ('60f791a926ed64830736d3d25ae0dbd89e60671d', 0.0002465635481022541), ('a51407ab566711e6238b80ca9b85d72052a7ef11', 0.0002465635481022541), ('6b4b3777eb0e50d56463b58f344e30efc4271e17', 0.0002465635481022541), ('2c34833c35c81135d9b32f92c4cf8f83b0c8b6e1', 0.0002465635481022541), ('0fcc797aeed56bcc127476d5b68836dc402021ea', 0.0002839437186321808), ('c7ba1a2b7363301328162bb31ea6d2155cf4977b', 0.00024169240993755716), ('dc75e95a9e8d34e450fb910c84c7ca8cb6192e97', 0.00025593808391400827), ('18b8675237185c3272f727b5c9e6a63db15833a4', 0.00024169240993755716), ('919efc30ab8c45456ab72fb4ebeb5e25f2ad7642', 0.00025593808391400827), ('ce6ded430dd3bdc01a12ef4ca14ee8e350d531dc', 0.00024169240993755716), ('14b5740f5f1d64dcc9bf09964b63d29bbb13a856', 0.00024169240993755716), ('356d2b911a83c6685efd884d4769eb2d8a87b3e2', 0.00024169240993755716), ('9023437b9bfb741094f9ff50323093573c9f8e60', 0.00029535520154406564), ('0b2538f9c22273db62b205402864062bf222b68c', 0.00029968145009440916), ('874063b6c71aef8382eb66a66d8a1c1188e78a9a', 0.00025593808391400827), ('91a8da0d5429b0be63b2495587908d4583931ab5', 0.00026979567935096814), ('310a8e2c9f2650fa2e44fdf0d82d11c0cb3e387e', 0.0002672519321306547), ('d6b47a0ee5149be524aa585aef6ca35e6a903fe6', 0.00024169240993755716), ('86fe4904650db35c8e33da4deda7a66ff0e41455', 0.00025242162951323057), ('d82800c79dd335297336fe10b1a60d47706e4296', 0.0002686516472903977), ('dc21d8ee24038e99ddfd0fe88b263e0eabc54337', 0.00025242162951323057), ('988a5fc8111bcb15aaa4b9f220b49872b005ead3', 0.0002686516472903977), ('83d83640b4c3eb2cbd2b857e17de8e5f9f1ef476', 0.0002686516472903977), ('1fbbe6fcf6465bab87b9ae55bc5fd23c528f24b9', 0.0002686516472903977), ('7e2a0e481177799f50f9d2776162c6ded6eb970c', 0.00025242162951323057), ('6e96438d4ed2467cfba2833c98c7cdb6a0bcac87', 0.00024087435146483708), ('58b5d5173a31f0c7c9960fd3d006d1f7d11d2b45', 0.00027500400235867806), ('9cc202a2154693c8c175a9dfbdb28f118600cddb', 0.00024087435146483708), ('b3647c4b4f9d0a777a416c5811babb1def8f5e4b', 0.00024087435146483708), ('4cc1b701f42953ddb473e6b0bcbf78b655828f4a', 0.00024087435146483708), ('dd8a2ef642059bc48d91f928274207001bdec924', 0.00024087435146483708), ('e0067a9c3f30aab46d9e6f8844dc36e83c85869f', 0.00024087435146483708), ('3000a3e87802380039f8d8d6e8687d121bb92269', 0.00024087435146483708), ('05a942d2d585b44a47a511802a3f0cc2e40f03d5', 0.0004523813234041411), ('21db66a912d65b66f5c9e9a2fcfd52b3aa170e72', 0.0002821174919177772), ('93bb83ab47a35ee648f0d1f55209b6a45d386566', 0.0002504612062481957), ('70068616c7042e7e73c216226be50d061d2826d7', 0.0002504612062481957), ('89be424e28fb7ed0e0e6c5a469904a182e26f593', 0.0002906638843817312), ('51e71b0c2130fe731ac86f302a9f68c18ae31ee2', 0.0002504612062481957), ('36d95d2f8972d640c56cacb3704136255f55da0a', 0.0002675796907310757), ('f1f9bfe36ffafeca2c24f260988d84ebe1914f2d', 0.0002504612062481957), ('f3c00b9d49c5b63e843b86b9a5d7302a7375789f', 0.0002504612062481957), ('de3bc68d712eb59c2773af1275a869c6a1210e55', 0.00024531727196825515), ('c34889d11513ec621d0aa114d9337da69adaeaa2', 0.0002637193702415434), ('79d244d2bd0e4a5842aee2529b0fb2fe826c7da0', 0.00024531727196825515), ('c64f75b5db7fdad560ec5112c9ad9074105f0367', 0.00024531727196825515), ('7ff4f7701fa4afc9ac20415350efc2087e6776a2', 0.00024531727196825515), ('90b115737efb108a39e6134035b33b26941cc85f', 0.00024531727196825515), ('675b96a38f37f92043189d7e90377a6b41a2a9cd', 0.00024531727196825515), ('45fd2181ebf90a273d816f508aefaa9e6f5d0da8', 0.0002504102348833558), ('d5c30e1fb1a7f98ad3dcdee3cd22ca5e4650d1a7', 0.0002504102348833558), ('173a954bab2a7ab531bfb0dca42a3191a691ed12', 0.0002504102348833558), ('ba891f1f9fee45b1bb77c5cc543476b81c95c344', 0.0002504102348833558), ('bb4d8ebca96f3c467c660d62339f0828d8442305', 0.0002504102348833558), ('47899fc484fda880af2168a2e8d91beaf68e7722', 0.0002647563873613314), ('13b44f818acd5b46265d4dae8025c972e2d94ac8', 0.0002504102348833558), ('7fd052d40660d65c8497599794467812b78e1d0b', 0.00029291141027033477), ('fe09f7a379944444201552e952b910188c0aeaca', 0.0003190875154008503), ('e789f2fbc002baf389fc2300ef5c2fbfb94202bc', 0.0002570415548876504), ('f22f2a4c09a0cdd212039cedb358a6c7818ca3d4', 0.0002570415548876504), ('a0e4296b9e3dc5584ac0550cc18019efb181610f', 0.0002570415548876504), ('40705d94f532f909b2a95cabcdaa97e603515247', 0.0002570415548876504), ('58a9a798525969cdeeb610a52e6f58cb67b24186', 0.00027981940936916904), ('6c1c586e483ef2385644333976505902b152734b', 0.0002570415548876504), ('1028c987f9d2dd0a1249714382e79f5c986e1804', 0.0002570415548876504), ('d0f56fbe02512194ea7321b50f88094d1ecae214', 0.0002515934334289493), ('5ad0dc22dc16c56c847f47c036f6de67757a19f6', 0.0002402917093415531), ('c79aaf2a0b8407438af6c6b6b1d62af9f108a5c1', 0.0002402917093415531), ('a1ea6e836fda42bf33f80d0a1268af505ca70428', 0.0002402917093415531), ('cd4cda9a3b843c9ca8c697f59b4d53cb1564a867', 0.0002402917093415531), ('bb5a06ea18d0a1f4b10b2950b1cc285147af271b', 0.0002402917093415531), ('fa9c5e362ead588310413add62e4809c46eddcfd', 0.0002402917093415531), ('892b37c45d860226b49b8dfa85e5d68fa3f29fb8', 0.0002402917093415531), ('806863dbf222eaaae0b4a629d2044696dcf5d516', 0.0002402917093415531), ('9c6df268cf110ad6359ba4c2b4aee633c94705c6', 0.0002515934334289493), ('5ab019173eef5b83138743b1c4431638bef8e065', 0.0002402917093415531), ('86c613cff08dccc6c69eb204b27390f1b7bf3797', 0.0002629391832013112), ('6e77287f1ee0e8cddc6d891e1054f3b646a1dd64', 0.0002402917093415531), ('1856809b8bcd0ba7b2c294201718018ead419cb7', 0.00025164251598634426), ('68e7f5bcb2e2c628b15a96bfa72b612bd992a8e6', 0.00025164251598634426), ('aa6f7ad0a06b52a8be89dbd8d056561418276ff2', 0.00027458985588931737), ('2ba23d9b46027e47b4483243871760e315213ffe', 0.00026296846202780553), ('33e7f916daef8d17427a08b992ba7c6044f445c4', 0.00026140846054699917), ('9e11c6037664b9ed4968caca85b342dc49924e02', 0.00024685081948647516), ('3407dd5a763b6afc1898bfe8f377ecdeedcb6e4d', 0.00024685081948647516), ('e96899777544e9494ccae0536f77e693bb8ace2a', 0.00024685081948647516), ('9c0fc1e5503c12f8487d40859ebc1f4cf1a3b5f5', 0.00024685081948647516), ('6000cda023f9e096f3692df94c3f17a98e0c030b', 0.00024685081948647516), ('d8a3a938740f235201d7b76fa27740a04576460e', 0.00026196616519644266), ('18a018f49ec9862a4d38e80bf67245071c4d022d', 0.0002500873127381088), ('2a719e05f9fab58bad6c461e77ac4d315e84abe7', 0.0002500873127381088), ('25858fefef01c7d81995afc69af3a7929dd02240', 0.0002500873127381088), ('ca048414792249a0a5cc04b328d8fc0f82c24eac', 0.0002500873127381088), ('19d11ac87bf1894572fc5adc92861ff157bb9387', 0.0002500873127381088), ('ad4a0938c48e61b7827869e4ac3baffd0aefab35', 0.00026245418632705987), ('512b8ef0002e0bfd0ecb5ab17d533c1762eb9786', 0.0002500873127381088), ('4c94ee7df6bc2bfcac76703be4f059a79010f7e5', 0.0002500873127381088), ('37c59035e9985cda2321b2bdcb4849335210ac85', 0.0002500873127381088), ('9b09c3424456c587aa8239d108116d1e2afd4992', 0.0002734672282446598), ('5a9cb1b3dc4655218b3deeaf4a2417a9a8cd0891', 0.00025496032460704197), ('c2d2a9ef2bacc4d73ec659774b855e35d06a30fe', 0.00025496032460704197), ('356aeafad108a52a6f8a150c97eb4672cae85c22', 0.00025496032460704197), ('c74b5d298cd5fe735f2c8bc18a94f28010a2ccfc', 0.00025496032460704197), ('e32e2068310f5f525df06518a212525acc256d80', 0.00025496032460704197), ('4300aa6b2938554b0b7dd426e94acc7a1f76ab93', 0.00025496032460704197), ('f996114a22f29227ca147c4bdf378f1f359d7786', 0.00025042722031884895), ('e87f942b9b37a4fcb1bd7799f7823def5bf7c37f', 0.0002684447585538075), ('7b2ab099ec4b6e07ec330c352387337ec48af6e4', 0.0002769467556364273), ('1d389fb433bdda22cfb604010b0bc9e900d61b68', 0.00025042722031884895), ('1ad02c229f464e7e3db8447fb124f9853cc0cb2e', 0.00025042722031884895), ('60a603f4e1486514c96380504e580ac7a2996e23', 0.00030188075264830184), ('bed4e2c6ad4f9754192e3fa9b84b8a96c40e7522', 0.00025042722031884895), ('8ad02e32318ec54c1918b5f99280ef0a6fd6b8c5', 0.00024634242852328525), ('74863ff04ca4654d5c2861f5d8d85dc488eb65cc', 0.0002588240441964849), ('0a7fbc80202b255fa8c57fe5a295ba948b24e1a7', 0.00024634242852328525), ('08c4fa2132dda85c5f02a88fddfb7f17973f3978', 0.0002615229871275753), ('be089bf77c9df64e2ef258a50f29924949f08aa2', 0.00024634242852328525), ('b441bc847e30a6b018f45a3d04071cd13f85eb5e', 0.00024634242852328525), ('2e6088d5f1081f2b46295d8783a5c2642ec35041', 0.00027808754354481706), ('6b1c013e1de3346c4cfe1da631be1a5f61f044c1', 0.00027181101748573525), ('01bc4aa30aa0ad201bf6cbb6948bb155198f9c60', 0.00028930552877629403), ('9b849a35f45a543aa9bbcf71f7c709761a798299', 0.00024634242852328525), ('17fa1c2a24ba8f731c8b21f1244463bc4b465681', 0.00024634242852328525), ('84f7f9e121c1285e15cefbfc44bcb3322f73b6aa', 0.0002755217478882442), ('c8341d4d88e3e4ebc0846227d0d6c0ddb7defeb4', 0.000260670608168914), ('97b9f3eb335071171e145691b04bfb6b6504dea8', 0.0002485824489517096), ('41dcbf158891fb46195555318d1d20f2ddaea2ad', 0.0002485824489517096), ('13903ad8d490f4b8eb32b86c281e3edced8707d8', 0.0002485824489517096), ('ad0a00b080b5922ffff97a06f3797b5b7c6f6948', 0.0002485824489517096), ('40929c17a060b665683244f0793bef5574d31afc', 0.0002485824489517096), ('cd2c9bf3a5715f7b7852309f1bacf4b27d5e4ef4', 0.000260670608168914), ('26a3d38bbb5b6235548e9bb5f46496348aa141a4', 0.0002485824489517096), ('c06e476580231cc34d17de26de8ba542a3f94d17', 0.00027204701519278326), ('84f24118658a9b4dea4020650945e7ab7d239929', 0.0002517256823885776), ('098f09b1e29b433b1e1324bd6c6aff4f2f3b3cf0', 0.0002517256823885776), ('194db7dc4b13a3fc302b7c9daf4aaa67495fba35', 0.0002517256823885776), ('c9e1a8cae4b368c25aa146018dd3e9e1b4800cbf', 0.0002630553715899754), ('ab5736857e8357744e9a22a08f448bf9118fab74', 0.0002517256823885776), ('514c93fb3492bf3152b906c9e24ea48984dc0b14', 0.0002517256823885776), ('15d03ad4ec1e5f37190c9ea6b61c58ad445686de', 0.0002517256823885776), ('046a7ff4881898e2fd8b2a9c73972873bb66d155', 0.0002517256823885776), ('cfa55a70b72ef3325e5e37fe3e299cba0ec8e680', 0.0002517256823885776), ('ab8196e01ec26c905fb123df3fe7df157532d1d8', 0.0002517256823885776), ('2058cecce6832084f853f5eceeab94cbbae88baf', 0.0002512012361449986), ('4c4065be13921a0a21aa1417b01acd23ae192a0f', 0.0002512012361449986), ('a98052e633627ea7aa6eaddb7cae0c2730320f6a', 0.0002512012361449986), ('376fab5f7886ad389cb341a587796ca4df9ba016', 0.0002512012361449986), ('de23cf4c78ac347066aad7ac0e474cba2b6500dc', 0.0002512012361449986), ('bb61e505ea1f874f3590d69706eabc4c72009403', 0.00024810577534678155), ('e141f55115793d217f3dc3338a7f75b85af108e8', 0.00024810577534678155), ('8e932280b044b5ad33d6eeb658e49ece909bcbe9', 0.00024810577534678155), ('0e67255fdec1d4f463d05380064058f960f0e69e', 0.00024810577534678155), ('ccd16a7f755c3a1691d4596e1e0acecb25f6eedf', 0.00024810577534678155), ('9118bea7ba8e1b681ba33dfbc4438bed7f8a3da3', 0.00024810577534678155), ('1bacb6a55aa540f1bf974589235212fcd20dc0f8', 0.00024810577534678155), ('6184e4069b8dc3d70af4b93aaa1868a2edf2ac61', 0.00024810577534678155), ('93025dd25a580daa07af2caae14f6cc356fbe985', 0.00024810577534678155), ('83dbc15934831ce98a265db526f4c380ce9e04bb', 0.0002395542245482687), ('e92a62da0ab6b9769f84dd9ea195debd3254243b', 0.0002611179750981558), ('9981debf3a3c35f0731732a45ac3d58bb522deab', 0.0002395542245482687), ('e830995cfb0e5d219a0a93ecc037654018eb23fb', 0.0002395542245482687), ('84499860fe6a8d1be31c535be69a3ec38ce9afe9', 0.0002395542245482687), ('d203076c28587895aa344d088b2788dbab5e82a1', 0.0002395542245482687), ('2b50e72ffd2db2915dd1c6bddab710195cc64583', 0.0002395542245482687), ('5598c4ece8ffc69a7eb584d16f6de6629044e76a', 0.0002611179750981558), ('31a29fabcfdd7f05995431124f56cede89febae3', 0.0002395542245482687), ('8e33914d6051dd031a5e096962b9398fc1d16067', 0.0002611179750981558), ('88512be44744615f4baa8e14f600f036db4c2433', 0.0002395542245482687), ('19c79ca9898266404623312dfbdad9b4331ee051', 0.0002395542245482687), ('77f0a39b8e02686fd85b01971f8feb7f60971f80', 0.0002395542245482687), ('c8b25fab5608c3e033d34b4483ec47e68ba109b7', 0.0003116080274031214), ('bc64a21ee79b730660cfcd51dc656c61f817b5d8', 0.00024270254706703173), ('47d61b881d770818ecb13fc1c45ea036625a3ee6', 0.00025656014250399143), ('8127d7f49663526964ac6c80b49816f88c54568a', 0.00024270254706703173), ('dd964ffeb47efb9a3691b5d233e02284ee8228a7', 0.00024270254706703173), ('efe28238909dc5c1877297fa830d85e9daecc29f', 0.0002682620692601293), ('05dcdfece56d1869895f53ed581d8ad64118c05f', 0.0003765195318199134), ('ca9adbc1fa8919d8cb7e3aa58d622e069131b60b', 0.00025745229134129633), ('b57b8b6b8052bf2e7f6fe5c8e91cdcb385b75ab6', 0.00030016618666222657), ('673377fa6f2cd6f013c095b3e4c05ce48482ab38', 0.00024468689086774745), ('2a64030d34abc67343bbacdcdb0748d104203a32', 0.00024468689086774745), ('13c1e50d2bd916e6d33987d29acbe7ef57c6e9a7', 0.00024468689086774745), ('efe77e08cf7133628cf15d74d7489b27d02a2e18', 0.0002492067144362806), ('2576cae4e65d8b4853fd371289e2916417c74587', 0.0002708001405242534), ('7c2bcf6f32b05a04cd3444c030db743e5666af88', 0.00026258652398442143), ('441281c07b5e5949aeb56375e25623ddbdab94f4', 0.0002492067144362806), ('691d10c5c69466e43a0d93f8e442f8f8915f6bc7', 0.0002492067144362806), ('6b935a3dde229ddc3f9bb74e1b90050e6e371ca8', 0.00026917850106316184), ('7a54197003809bf1a6c7feaef00ce46ccd0ec57f', 0.00026917850106316184), ('f5a2edb67b839ed830bce734fee491cca6f45027', 0.00026917850106316184), ('5df2d52a098f3519428455e121d964041491daa8', 0.00026917850106316184), ('7f839fb9d6eb09c0620b1d221982cc0600f48721', 0.00026917850106316184), ('c75ccab2a60344b7839ee0a2dd7cabafd2b51d42', 0.00026917850106316184), ('3b97235b457f5861e7a808894e85eae4ea6355f9', 0.00026917850106316184), ('9afbd717de63f01d8915a0af120b303f222d80b6', 0.0002468589713638687), ('cb321bc38a6f6135de16436e0f9412d00e028767', 0.0002468589713638687), ('05cdbd30751f649b892cc730d3287d9bd6cca56f', 0.0002468589713638687), ('f2b3de7f036f8f35294d7c8008622f7d3ad2b4eb', 0.00030215355871165484), ('83e1eb609e4267251a3bcb7ec47cc0754ae5f54b', 0.00037970059574887375), ('9c0e4e03d2c9a2f62ea6b58fc69d9dc03232eec2', 0.0002622107202474686), ('ba62442fc88eb4da204e98899214c45960341fa5', 0.0003410887443501563), ('58a72b40a3af91f5ecfa934566ef5c288a38aecd', 0.0002468589713638687), ('17134a53c9ce22f8b2b9e7f8fefd563f443c213c', 0.0002468589713638687), ('4406d6b8810965d31b721d59255305d5430b55ef', 0.00027287310017817156), ('cd56c698449580467a0e99d7fd95d2c0b87c421c', 0.0002455073189228564), ('8024433b38c8051c25b811bcf9b543e1c73f3a29', 0.00025986560556543007), ('21242acafa3cb57e4455bd23868f5598e1a6a804', 0.00027209354337779556), ('97fd011e2b6f67f5e32575c3f81eb774ef1a6be3', 0.0002585148135355978), ('5e956e96b93716589884be7a6efe45109b409bc8', 0.0002890035551155407), ('f312682ae93523de41a4f1e2bc0ca30e4345c8a4', 0.0002598534714008318), ('539b28563ecd9fa14be7134bc17ec942958d00db', 0.00028288055120135913), ('4cc906f0fcf2f648001db1f6466920a0b11e770b', 0.0002455073189228564), ('13b53a507b5849df318cb30fc8971683e2a8ccc1', 0.0002455073189228564), ('62efd4e8913ac5c4cd3a771fdd02e5abb51afc30', 0.0002455073189228564), ('8d3041129b500b90521c7d768996fc2de11b0e47', 0.0002455073189228564), ('ce017fea1e01e85d750d2699d597b90885b4be30', 0.0002455073189228564), ('0c94e465c495586a323dfdea9784d747d0bdd318', 0.0002455073189228564), ('9e875a417b411bc2923db87cc1b80df4b705bc1c', 0.00025415643866395977), ('a66b466fbea9cc11324b270395f79c7d817e4102', 0.00025555718091634485), ('0c9add302abbc4efc853fd6766fdf0bb40c91e2b', 0.00025363109279138854), ('173cc12234e34d65ee4e9a53d3cddedde7b4b544', 0.00024164025275377765), ('c5386effca34bdf0a99d97004d72dab8b71dc1b5', 0.0002545926558060451), ('e06fff74e048526b5c4141517216216a283c7830', 0.00024164025275377765), ('a412398394cdc7a8c11733a2df1ca57a9a884a88', 0.00024164025275377765), ('63474535e6e0f1650707dd02c01f6e14d0756a10', 0.00024164025275377765), ('945b53ede48dae40af9870030fc4985a119cd1b8', 0.00026446066187001425), ('3c439ef038419f9db396628ed9766af568625f31', 0.0002541218684269771), ('d8663556aa1a875dcdc4f15ad1fd31933e724348', 0.0002877795179502132), ('32323526b61685d007f4d2a62b23b8669e602fa8', 0.00026768242448754406), ('1be10a34f619e203651036d2609fc0d9780525c5', 0.00028110371783127337), ('6f4d8061c5491335f83d238c4917edccfce7d15b', 0.00025110434695033856), ('d8fc74db276e3f2630fcf95e26b0f82ab73d3d87', 0.00025110434695033856), ('d8dbaf83fc2b82269221e391e280491659d43315', 0.00025110434695033856), ('aec826fccf6eb25fb34a6564d21ec1df0513ee9f', 0.00025110434695033856), ('64a9e7b3d5260e496c6ab857368483245ae85627', 0.00025110434695033856), ('b59ae9c7700374fbda35c2be278a745896f1c55a', 0.00025110434695033856), ('efdfcb7f91330e3d0a41618db01cd5db7c401afd', 0.00023978281913204183), ('63207e9edaf55b24bb587ac0102a128389aead50', 0.00023978281913204183), ('139cb0307a7b0740006d037b4913378686cd6780', 0.00023978281913204183), ('665aef21052fa31d6cbdd2fdfc336bf3b951828e', 0.00023978281913204183), ('84aadbd2c9a1337e8a9e7b956d19227d232c0786', 0.00023978281913204183), ('49130e2084f99c59150a86d4f1be6623a694386b', 0.00023978281913204183), ('b3acb6f183b5f4b651f53c0eec5cb5c805224ac1', 0.00023978281913204183), ('5e6668c4163f356ebc25f8e825dde1edb1b9c24a', 0.00023978281913204183), ('1db6e3078597386ac4222ba6c3f4f61b61f53539', 0.00023978281913204183), ('571b0750085ae3d939525e62af510ee2cee9d5ea', 0.0002514042129935533), ('3da4626411d83c19c9919bb41dba94fff88da90e', 0.00025198785796674047), ('ac225094aab9e7b629bc5b3343e026dea0200c70', 0.00025198785796674047), ('2b76b6e766547b3c6dbc2785a084ec3b72cb760d', 0.00025198785796674047), ('33998aff64ce51df8dee45989cdca4b6b1329ec4', 0.00025198785796674047), ('8eef32d2f75604fc829a169d671b08fb48fff947', 0.00027492831048311965), ('10aa9ee7caaf9381b6a0468ae899a9729824a6b7', 0.00025198785796674047), ('d2c34737e20d005820abe6f1b82bd191205a87f2', 0.00025198785796674047), ('53667f0491e2d4c53098ced5bfaf170d359d102c', 0.00025198785796674047), ('50cae99cfd6b3ef223107d92f31487bb3dace540', 0.00025198785796674047), ('aac03568de0225fed4a3d46a6fec538ece19a09b', 0.0002520380603957053), ('e90220e977eff2860667e64dc83e28689733b7d7', 0.0002520380603957053), ('575c64a8bc688162d5648b491e382ff5bcc2f56a', 0.0002520380603957053), ('1728cb805a9573b59330890ba9723e73d6c3c974', 0.0002520380603957053), ('a32ec5656d7cc05d770f401c78fbca759aa52b08', 0.00026392711996887), ('b0e5ec93c2648ec25a5afd51dc6ba9f171615abd', 0.0002520380603957053), ('c9ac3dddef9a4c366bb40376c0bc801a1c7d51ad', 0.0002520380603957053), ('04a420199b43f5ecdc703aa4e661af802c706218', 0.0002520380603957053), ('4f6eafafc9563a5b904535078df7e74afe39ef59', 0.0002509509273887617), ('945aa2eb4b7ceecebf0562dfc12fcadb8fd38970', 0.0002509509273887617), ('5474ddca920f59c4ec3c243345a5b9248e64065b', 0.0002509509273887617), ('3ea71ab8877a3e96ce82daf24aacd3ccbcd19138', 0.00028708141603677633), ('e09f45e59dcd455ab9105393703999110a488d4f', 0.00026833036594367293), ('7b61333d086b2c81fe091e62da0f94899411adbe', 0.00026070546582038814), ('849f843d480920aa1421c9c07cf30960bbbd54ac', 0.00024268792758542986), ('a6382dc10f31868653fc743e58680b3a69a6b426', 0.00024268792758542986), ('f0d73109c2457945596a08c32e36357e6b30ca24', 0.00024268792758542986), ('a9082ed8f0e7cfd16c4d917b6c95064e9d6d85bc', 0.00024268792758542986), ('ad21bfc4e779e8b7e74318e31833e7d2d5e462cd', 0.00024268792758542986), ('9c01e052dbaf6cf0f6373a033ba3d8a485c4bd00', 0.00024268792758542986), ('efdccb5ebbdd69eeb70a17a5019174090336a623', 0.00025442177958187037), ('58afd19190dfa172df90d7ef6b8bad0535662950', 0.00024268792758542986), ('b0fc464d967b407a9d52c1b9e79e920f7c8a1312', 0.00024861578089127736), ('d06f803819418b7188596257a361800e51093bf4', 0.00024861578089127736), ('16e1bdb834340b0fd7a5737dfb87abda373f72ca', 0.0002923137425813891), ('b20e564edbef25009fa1baa2c369437c89147e61', 0.00024861578089127736), ('3a16085d520502077558e90c0d7228fb718c8488', 0.00026253270905384466), ('d880d303ee0bfdbc80fc34df0978088cd15ce861', 0.00032061258832479937), ('af624107c85d9c2816b4b60a45d40df263280d24', 0.00025192143933165407), ('06a54ba6c5633283ac6e287719a846c164141297', 0.00025192143933165407), ('5a54325a367de2535c9c72badc1a7cfd3a1c5c1e', 0.00025192143933165407), ('c624f5a55a23123d6ffbf85ead69fed3aacd70cb', 0.00026400959854885875), ('b990d34339074ae720a13e0978ad1ce5b4665d0c', 0.00026857754645177563), ('95b2b516e38fdd929aa3f6e9bcf92b9e527b178b', 0.00025192143933165407), ('8700263a9bea406772159e860b3a188c1dd9e9d9', 0.00025192143933165407), ('13dcb153a5ddd4ec88603dd452771218ee7e141e', 0.00025192143933165407), ('f197805d72438761e833d9c7a5dbf2ace726f6b9', 0.00025192143933165407), ('83fff0ea583937b6ad1486a3b6ca52498c8a5a00', 0.0002397865622919783), ('93a21a162cbfe6e1ea3e0c0be1e7997af41a6a89', 0.0002397865622919783), ('6581d6c1b0bd052bf0c37248a437bf0c430890f0', 0.0002397865622919783), ('6d15890a60f727b20bfa1bfaccac8cbc40defd58', 0.0002397865622919783), ('3e40fe76e9ec98524c4a4679bc68245d552662ce', 0.00025128214989026234), ('cbb6fbc4b6e3a0df8fe91fe70508e65268141ab2', 0.0002397865622919783), ('f4ffaa6fc995dcffdec41919b2d70b887c0b46fa', 0.0002397865622919783), ('bb2d46a1c25f392379f9939b2111fc761443e63f', 0.0002397865622919783), ('a153cbc17d3f42d2de3e16670b57ad3cd505b504', 0.0002397865622919783), ('7278b2de8b37e5bbc77248d3c946ba6a7b0c2ca9', 0.0002397865622919783), ('6a06baf51265e80f122cffadcfd2ff6a0f830b9f', 0.0002397865622919783), ('7d4a23cf9b30495ba042eecbc8ce8aaf7fb0f2de', 0.0002397865622919783), ('085c2c9571d54086ee32e047abf7ee50ff03a555', 0.0002397865622919783), ('84e22ce1d05b61718cb0e4b904c240c8bf04ba20', 0.0002397865622919783), ('046e707eb66676604fed74bd0e694b27509efd23', 0.0002397865622919783), ('365e8934b65a4441005e0f1e67d63587c47e7631', 0.0002397865622919783), ('b91571368abd73dbaa3f267173d2daa585d32f67', 0.0002397865622919783), ('cb57eeff9e584ae7dfc16dc47407f133ff43f18b', 0.0002397865622919783), ('59b3899a8fc3b34c278f21e7989e2d1ecea534b3', 0.0002408432185006526), ('b753a6424a95b6469321264ec2b6852d7f6fd229', 0.0002408432185006526), ('47ba0fffa132177ff9c1900fbd02e202663636ba', 0.0002524937624206093), ('378ba59aa19b4e4591972988b753509f95126a2a', 0.0002408432185006526), ('8ec6aa40c7b9020ef3dd5f2e02863efaac7a4d58', 0.0002408432185006526), ('d8bdf72c2ccfcce5ee3e6f6064b65ffe7a43cad9', 0.0002588545075082405), ('5cfbff0383bb6ec2c6f0780252bbae53678529c0', 0.0002408432185006526), ('ffd6380fb77b399d86558c980b34d3c9fe46e1f7', 0.0002408432185006526), ('80c5265faae660df0487bed8bcc0f63bdaaec4df', 0.0002408432185006526), ('3811172f22edf3f37e676f50f1010b9773abee3a', 0.0002408432185006526), ('21ba757bf394720e0b66b86e7638ae28742d6570', 0.0002408432185006526), ('47262a72c9c7bf5070b97e70b55c6190d1079260', 0.0002524937624206093), ('29c7193c7f8aea85dd7e2c4acb9c3646eba065a7', 0.0002408432185006526), ('a58015a59562caf325a3f05288147704c055ce8d', 0.0002408432185006526), ('f429816e4561150b7b26684e606880815f2c3d3f', 0.0002408432185006526), ('42f1d7d46b52d06dfb07060be65889a98b03cad1', 0.00026534744660840106), ('dac5ad2509fe9886d25ad1dd75bf5b6c6c5e48ed', 0.00026534191822773033), ('8d732f0ecb290c022de6ad9061bebe377b00b5d9', 0.00026505876524403343), ('80f4c7c360d1150ba58c3bacf5c35718ebdd0c10', 0.00032135152963674933), ('8b008beb62007504aed4234980b5481edda644b0', 0.00026534744660840106), ('a09cbcaac305884f043810afc4fa4053099b5970', 0.00025002062364046777), ('722ad6ac92286507437b31486f47987d6ece05c9', 0.00025002062364046777), ('b9b4e05faa194e5022edd9eb9dd07e3d675c2b36', 0.00026132658202865085), ('4f1d1921ad91699ac076763de968eac549f32847', 0.00025401639528367794), ('87e823d2cb58e741230c0fa3b83f3459c7e32241', 0.00027710216450446744), ('2b009e12a42efe77b8daeffd218b912fd23c19aa', 0.00024952493284520277), ('6a0bc6e194608b9e41cbf69794343888edb54378', 0.00024952493284520277), ('0949978a51943a8547632b273496375616a9931b', 0.00024952493284520277), ('ff85a9d7182063bb71b47ab239d662fd2975c4fc', 0.00024952493284520277), ('e924a5cc4739f18fb225b7a8b506099042567ffa', 0.0002836246509543404), ('a32fa13941f9c9beaa86000f8873e7c6422825e2', 0.00024952493284520277), ('69fe2ed78956f22a36ccb2029b8315cd3bbc36da', 0.00024952493284520277), ('e84ed70a8e00a2feec0e8462bf72af0a30cff2a9', 0.00024952493284520277), ('014576b866078524286802b1d0e18628520aa886', 0.00026229033331875165), ('068adb4a137f317150b9037381f91d16e26e4d78', 0.00025088950368014513), ('edf218c6ed87c59c0b022f1cc94d3a51f6925e92', 0.00025088950368014513), ('53a93716144efcc1daf6899830c63ccd23a3fba1', 0.00025088950368014513), ('85a13982141135eb504b33337bf98f34b35117de', 0.00025088950368014513), ('773337a6f0fa2e988434ad94d2cbbbe9e12a60ac', 0.00025088950368014513), ('e81700d0cc3f0a1872131a2425c22e4600a5b34f', 0.00025088950368014513), ('697cf4c1c860dd9e2d569eb095601a141a0391ca', 0.00025088950368014513), ('81cdd6b280c197e1dd88986a77d7a5d9bcb7933d', 0.00034960894338414804), ('de49d99bf08dcc0cd77a2c5421fe2b764cf9083a', 0.00030922491995295895), ('a7e6557899f7eb19e12f163a2cf9102a469e4a45', 0.00030922491995295895), ('7e0b9ebd83643d91e3997a5a83fa43acc5ae4bf2', 0.000270647653559764), ('e28ed0ff4c0eb05b67f9a51ebf0c75ffe64c04b1', 0.00024339664644828759), ('18cc616713bd3ad78dbf51ef158e37a39634ce63', 0.000270292006806012), ('f847cf7215bc063f705d3393a65e8a885688db1e', 0.00024339664644828759), ('77d4235f8a387e28dc7fd9a6d33dfad4f189268e', 0.00024339664644828759), ('1bbc5e671591c1d74a9deb165bf0a575104b2e0a', 0.0002714923909379125), ('d44e3d1dc6bd08351a885a4ed3d6bb35931fffe0', 0.00025740797297728904), ('52291fecbeb1af12bfcd0987487c50406edee5d0', 0.0002794825301666819), ('b934c6ea9a2f0bd719e120e0cef051672ce56ae8', 0.00025740797297728904), ('7e2c0f64431f2e8235eeff6fc093a212f514a6a3', 0.00024205622409368923), ('766f1c39771ddddf940d49f4f22e0d7c3d97c6fc', 0.00024205622409368923), ('ef345a62e9a05263eb2a495af845d7f41e0774d0', 0.0002794825301666819), ('fe739fb2c3f83df9f16fd3fae9320a53bdf60d07', 0.00024205622409368923), ('17d1bfc59cff24c21da40913de0bda483530d8b9', 0.00027449756708862683), ('a0111fbbc51b990597b1b3235a91038d3595b9aa', 0.00024205622409368923), ('f6dce3d63f8e4a0bfb14aeecb0925cbfff15cde5', 0.00024205622409368923), ('1af573c96c2c0bc46a4ee01dfa303c43fcc11274', 0.00028057884933858646), ('193b518bc3025804c6d587c74cbc154d91478417', 0.00026522710045498666), ('0c03e4c17ca4eb1c7fa8c22bee0a59afd139ca3a', 0.00024205622409368923), ('c087773ab02786fe0aab67ec49607d1a9edac757', 0.00024205622409368923), ('762a75cc06ff35ce026182d1907300e75f9d24c6', 0.00024205622409368923), ('c1cc356ae6303b254ce88919ade3907221a5b58d', 0.00024205622409368923), ('1365b4a286e607a4902ef11c84a1f309719d946c', 0.00024205622409368923), ('04b45aeaa59a19340652ad28d650429054d3e7fd', 0.00024205622409368923), ('97b03dbc329d1c18adea23a6c81558a5abeb3d12', 0.00025581052018129727), ('e624c652f094e4478f31325b7286b028da402228', 0.00024280302556855594), ('2313b22beecf4bd1c69f7cebce2bac61e35bf74b', 0.00024280302556855594), ('f1983237c325ed8fa15710dff826ad9e51282126', 0.00024280302556855594), ('cab882ea5322e3af28854fe4b3df1219e6f6258c', 0.00024280302556855594), ('600c76554c1fc26ff8c8cb0be2a4f1ea87f5766e', 0.00024280302556855594), ('e505a777370fb9a9d2bb8ea3d1d6818627514cd0', 0.00024280302556855594), ('97f287a817355ec4f3f864edb18070dd5a5379ae', 0.0002953494740274882), ('9c6afedcac93929b3e5f46b5ddd75b34e8abb3b8', 0.00024280302556855594), ('a65b07970e4deb8b237e043a669912682a1e015a', 0.00024280302556855594), ('6415cbbdb171433e081f84b90897043e4c2a37dd', 0.0002658301053690832), ('1c9f47519b998dd8f9f49b0fb8477035b63a6bd1', 0.00024280302556855594), ('0200e8f470ff6692effabdd76b3154735055944e', 0.00024280302556855594), ('346f0144f12b58ac161afe9ab7a778f45e32fd44', 0.00025137432542099707), ('7207721ba8e12750758269722668ccb03707ddd0', 0.00025137432542099707), ('11e1df865497805435881f7cf9e45fe6917149b0', 0.00025137432542099707), ('a024ac49a2b3272ee174ef2a991d3515359fe148', 0.00025137432542099707), ('dae4243c7e45f0d73c56cb58898ece8c9693469b', 0.00025137432542099707), ('a6d4a926600645ca591b3d8ac88a3eeaf10d5130', 0.00025137432542099707), ('eea203899d89d9047b7cf88090331551895b49a4', 0.00025137432542099707), ('e0e25f7bc95afd3c7fa8097f8db7fb83238de243', 0.0002639504280575927), ('06b002e1ba39fa5a3fb1642a79ee971e2d1e95af', 0.0002520856165470629), ('763fd38d01fb5804aa576ebcb28d123e643d1874', 0.00023975859717797695), ('3483f862e6c8d603d0e5b60ad720f860b1a9d532', 0.00023975859717797695), ('c4426f7ffb557562d9ff5d28b80b8e34d90e3e1f', 0.00023975859717797695), ('7a1125cdbd18d57a6cea747e42ce5584d18bc33e', 0.00023975859717797695), ('d1df03d2287d6c63919ff08140c3de1da13661d7', 0.00023975859717797695), ('8930dbcc2ccb15f41898f9fcd2f1e5e682e4c469', 0.00023975859717797695), ('221b2b14352ac777b5ff1704b95eb84c69683478', 0.00023975859717797695), ('8488066920ade4644d3561cb1601b2107a95d18d', 0.00023975859717797695), ('78a79a7cb5f4d39f7a87980ed7c41c5cd7d990cc', 0.00023975859717797695), ('313874e7655927fc1c40585ae21d884de5e126d8', 0.00023975859717797695), ('1faf3477c1dac16623720c47339822497679e0bc', 0.00023975859717797695), ('dce916351ef589afa7a63452648dd8acba931e92', 0.00023975859717797695), ('0fa49ec594ad49cee218543d0d1491425801e1a3', 0.00023975859717797695), ('06a741d894655045e327f8819575a8b3ccbd8a52', 0.00023975859717797695), ('58b4202b7174ed4cfae24c284d4003d74ac5371f', 0.00023975859717797695), ('02ebf1827a1cb08eea241e2fc80f8269f4d5a041', 0.00023975859717797695), ('f289f3ada9d0f3216e556460775ea162746d114a', 0.00023975859717797695), ('85b063ab7990c2a54ab2f009988cd1af4b84df6d', 0.00025358084683781937), ('2739efa693df35c9b9cd5f7e6002947a6cea756f', 0.00025358084683781937), ('9e537ce577fc680adde9abc38fc93b94e534ed4a', 0.000240448166288191), ('b7c4968ba4cbb4a3ceb45571e0fae75731beebaf', 0.000240448166288191), ('97a3c25186626434391ce1cf8a6622c62efc4a92', 0.000240448166288191), ('53b634165ce7ce9cd2c3dffaa74bd8c5122f4088', 0.000240448166288191), ('d4ad700850cd7a02944f996adc3a72cfc3fca884', 0.000240448166288191), ('071de7472b63d03dacb51eb239ca1e2f219584e2', 0.000240448166288191), ('9019e38f66d97241e476924f66dc9e3bb7a457c6', 0.000240448166288191), ('5e2d9d7e94b4587c452df573b9b8ed05fa9ac828', 0.0002671822393799885), ('cd85bd61e6cfd477e104a8b4dde723c0e0e7ad3d', 0.000240448166288191), ('8315c4fdcd976315d061f4451493198829e2b348', 0.000240448166288191), ('13f8a836c61f316cade2a5b027e359b41e4396b7', 0.000240448166288191), ('a18bfcd9b3bdc8d9e1f771e5809f22d965ec4ceb', 0.00026499403342584846), ('a47f8794d88c5c27123153c4eb9e08046e2b0c9d', 0.000240448166288191), ('55a7188fa69a1a78e735a056991db8ca1f82ba06', 0.000240448166288191), ('f7bb1636ced9036b3d0edafc7d82ad43164d41a3', 0.000240448166288191), ('1fc134c0cc82632a7c28479a4ff430f3988f1da4', 0.0002548481675594353), ('77089019b91e2af43ad9fd046bd001c62dc2838e', 0.0002430145141511045), ('37e76cc4d5810903f69614a2d284110b39164029', 0.0002430145141511045), ('2928e5157a13fcdb386aa3921c8382dd84ac44ed', 0.0002430145141511045), ('7d76d47f6df7e84d40f38ac42414a9031b88d2eb', 0.0002430145141511045), ('c799a47cdb19e16efe5997884ed5e1491a70e369', 0.0002430145141511045), ('722620692e742a4f279c5471a9dc17c8abf70777', 0.0002430145141511045), ('bead92b0fe3aecf9ded8dedf0ececf5bd5623657', 0.0002430145141511045), ('8a19aa94a3b5cea49d79a8b12e7324b5ec1466e7', 0.0002430145141511045), ('36ee2c8bd605afd48035d15fdc6b8c8842363376', 0.00028903974926249655), ('43d2ed5c3c55c1100450cd74dc1031afa24d37b2', 0.0002430145141511045), ('135334ea7fdef8eef0367e862797cac7dcd232a4', 0.0002430145141511045), ('0834e74304b547c9354b6d7da6fa78ef47a48fa8', 0.00026595496666748347), ('c047f91ece3e9ec74bf42b8f69f375e27498a54a', 0.0002430145141511045), ('fff114cbba4f3ba900f33da574283e3de7f26c83', 0.0002430145141511045), ('f5a059e8f50ae137e0146fbf32e199d8c6dcb83a', 0.0002430145141511045), ('e751128df94f367eea17933e9dbe218f3ef1f724', 0.00026415390403155024), ('59bf9eacb5d9fca6de4b08dbb93fb48776cb11d3', 0.00024033572554891435), ('e866371809149f8bb4eb8b60f8fba4e46a63fd0e', 0.00024033572554891435), ('f60e50df0674dc8446c507395ce4343495d2b5ff', 0.0002645989278794505), ('ec0abc6cc2fbe70c0e88c8e42b3c5a6e2ddc9f24', 0.00024033572554891435), ('723218098246622705092709acdc2da67aa24fb5', 0.00024033572554891435), ('9031bc8591886005f1aa2e7f27847c68b07bb975', 0.00024033572554891435), ('33f5913a2d499e7de12b1d645636902265297374', 0.00024033572554891435), ('0af1e03219f841852d558172661ecc60697ef55a', 0.00024033572554891435), ('b7eceaa1ecaf36748cd564212cda8414024c85d3', 0.00024033572554891435), ('64aff4bac4dd205861488adade6c651085ce6b32', 0.0002760429636047148), ('217c1c0c67a007ee1ccb4d602702fd1f560b20e3', 0.00024033572554891435), ('e66afb33d246dbe3199fd57bcfc1b611136d96c2', 0.00025270986830628576), ('0d737e86745903d6a9ab5c6c21d2ce74fe10164f', 0.00024033572554891435), ('60f317f7e5ddba6789535db49e309bc39b604135', 0.0002748813291295051), ('2444be7584d1f5a7e2aa9f65078de09154f14ea1', 0.00024033572554891435), ('bc3245f3aa9810c2dedc43dff9b8085c3dda7663', 0.00024033572554891435), ('16161051ee13dd3d836a39a280df822bf6442c84', 0.00024033572554891435), ('9c38986568db937527c3a6c8d847c317136eac74', 0.0002629922695563404), ('87f6a7c014ce206ac5b57299c07e10667d194b39', 0.000249269135533138), ('6138553d7919172ac500d4ce24ec50b1a0ba812b', 0.00026417120081453444), ('014df485e731b8af31ef0609aee387c3be7886a1', 0.00024137785591732695), ('38fe1305e704bdd5852226b8c109b7b6eb4253b1', 0.00024137785591732695), ('67a42d0eb5565b64ad692c8cfd6172b300f0f8d3', 0.00024137785591732695), ('d9084620a15a94d0853c5f94ff29767362176185', 0.00025424507658739073), ('3ade37352a8d63048528d67badff5e4090ee019a', 0.00025275128582715134), ('feee5eb3dc2603cba83f7a139b69611668830c08', 0.00024137785591732695), ('e0b10d90ee717d9b12b84c0f4bdfe850c6710e65', 0.00024137785591732695), ('f342394d98a878200901be61902c1ab5e36c2437', 0.00024137785591732695), ('cf3636e3a33b15e7423c7c13bcd6d69df0a58044', 0.00024137785591732695), ('458c8ca3c2818b479d91dbdb83f2d10ded3708fa', 0.00026613491465551686), ('4fa8467208a4ba0d1770766944467fc3e2e6c9da', 0.00024137785591732695), ('7f68da146ba5d4eb0fbf267b07b68d7c402253b8', 0.00024137785591732695), ('17422a9fcf3f05408f7f2f270b127aa812e9b2b3', 0.00026613491465551686), ('d2ace21f80a8ac89a07159247762623a1738cd55', 0.00024137785591732695), ('74e86a3375ac2c2ffe89577fbf16456eb39ff581', 0.00026561850649721555), ('e6368f1cb43fb26b0f006ebd711984d5a8cd530f', 0.00026561850649721555), ('14f0406e615c001aae413fc28d65475f7853da1e', 0.00024137785591732695), ('c75f827cefef8da91be9e88d8a99ab308428084a', 0.00024137785591732695), ('25a15f29e54fad3b3451b13be3eed80e4888d486', 0.00024137785591732695), ('ec230350b307cde84583a2b5d97da38cc009eae5', 0.00024019072508702128), ('78802de2085e250c36c90da8f85100aede454a5b', 0.00024019072508702128), ('6c5f2c4764dbb436933b821d2261c736388066d2', 0.00024019072508702128), ('bd3fd27d2a7f6b8e58db3ae07f3a772fbf90c4c4', 0.0002533489582189899), ('aae369697b10bd7eb2e9c21a8c1911a4359707f0', 0.00029235269876284246), ('e0de0bed782b1eb8cd061c947538d8472753d864', 0.0002540573995653585), ('17d19ff35adf28d46d074e03b0f93e510ea7cee2', 0.00024019072508702128), ('49ec0f8f1d39b606432f4007a2c2472db1abe8b8', 0.00024019072508702128), ('db1c634a9b3eaf628cbfde78b70794dcc37178c3', 0.0002540573995653585), ('562d1ce1bdbc9502caa51d4696da74fa8334cc5c', 0.00024019072508702128), ('f60191030674a718604f4b9051704337d9a57ef5', 0.00025820826332197957), ('1eb2da956a1db86eb3b4816715b4e010c18f274f', 0.00024019072508702128), ('82fc72e6a84577e91617571f7c515edef725a329', 0.00024019072508702128), ('bc4ad3176ce94f3d15c0ab54a9d51e566e7bef4d', 0.00024019072508702128), ('cc0571b3f95f37c669f6e04fa145b7bfed10f037', 0.00025967321910749265), ('2b7f4c6ef0bff93236b313ab78dd71ba4723f0b1', 0.0002457562909449253), ('69e4b7eb454fcc140b3e0896dacb56642b1db56b', 0.0002457562909449253), ('0e168983a36d0c1246210ebca2d54ebd7190b4e6', 0.00028836301909593336), ('2f0bbb6cb441002909d1dc7c5a6d235d30c55c88', 0.00026232084736216695), ('86bdbcafde6b0d5be048c67ac517f9c045269e19', 0.0002457562909449253), ('448833a6d8b3e564742f1139a322940927ede14d', 0.0002457562909449253), ('b51da153a88c70fd48ff1599e67598777589592e', 0.0002457562909449253), ('9d9aced120e530484609164c836da64548693484', 0.0002457562909449253), ('80bfcf1be2bf1b95cc6f36d229665cdf22d76190', 0.0002457562909449253), ('d25c65d261ea0e6a458be4c50c40ffe5bc508f77', 0.0002457562909449253), ('f01fc808592ea7c473a69a6e7484040a435f36d9', 0.0002457562909449253), ('c8599a64beec9ec141a97c8117aa5b1726c13223', 0.0002457562909449253), ('f9c990b1b5724e50e5632b94fdb7484ece8a6ce7', 0.0002457562909449253), ('08064909d04c1a9a7529eb0b33c90141bdaa8948', 0.00024054503230778508), ('2a9d753341647b1eee629764e15e01185ce91c4b', 0.00024054503230778508), ('1636ab1809019a5a5166c2742b33ed624a950387', 0.00024054503230778508), ('2f7029df33308e856b23570c8eb272162a3bea29', 0.0002524880218930072), ('2c3d38969126dd01b110a6801996133b54485ea8', 0.00024054503230778508), ('da0f9c08d6d2c0ae828268050e20418871bad704', 0.00024054503230778508), ('ca9a5fdfccbe1bead53cc17e6aa29f16e213bb9d', 0.00024054503230778508), ('15a9365a88190ff0d50b486d7eb8f2638110e78c', 0.00024054503230778508), ('970c02ad04a0ad795616f74333c6bbed0cf81d71', 0.0002572011394279064), ('8d34d2f7893aa6294e481e2275f3032bd6e75a2c', 0.00024054503230778508), ('ed5b18a57cd694d2a3bb0aa33977cfeb8665317b', 0.00024054503230778508), ('caa2e0ba4d3cc38ec26dbdf5959b482093aab061', 0.00024054503230778508), ('54a90a9f1cb2d5b8df8e0bfcbc7e88b540b5bb46', 0.0002572011394279064), ('8620d18899ed8becbcdb32576cc1de29d8a208ce', 0.00024054503230778508), ('caa97af428fccc070392963fb9ceeac6cd6778b2', 0.00024054503230778508), ('fe7efbe95e45dc15393d488ec7f8755ab8686a45', 0.0002759747911151105), ('7f6b0b235b1c7301707cc7beee7007540656b9da', 0.00024902001246516803), ('1aaffc5017d8b6d37d60f459a58090d7f10b6e7d', 0.00024902001246516803), ('f51387371383b13336ce40fa87370a27b444fcef', 0.00024902001246516803), ('9a73de850d01eb794e7bbe607997f2d6417496eb', 0.00024902001246516803), ('d30aad4dcc37af5425a138230fe166f2ffff4893', 0.00024902001246516803), ('31ef7cfecf9d2179d8be7086461e7748b31ceea4', 0.00024902001246516803), ('deee9fceba581171444281158f4e6d0812a758b4', 0.00024902001246516803), ('1e1dc99a9f1440634cc83c1f4f15ebf02e6aef10', 0.00024902001246516803), ('c387d88c70801cd94f51b05cf44dd0d9042a2ee4', 0.000287313379328863), ('7f3ad99786e12be94fa64c9e80570094a0bfe77f', 0.0002988613917840171), ('cb0c906a45dfbb92f7761b00dd637fa78091bc51', 0.00024010741701053747), ('7b49ba2b07c2f03c6bd2cf36064218babcce133f', 0.00024010741701053747), ('f72a20ec9cd40a5680763eb61568f0414a494c54', 0.00024010741701053747), ('2023e1f721bff83f47dd57f0fe521c81964aadd8', 0.00024010741701053747), ('63af80a7ad8a3d0e3207f743b91846c1adad99ba', 0.00024010741701053747), ('153e6d1a929324a94bc8f15bc49c4b81699d106f', 0.00024010741701053747), ('5c706720303728af0f25ea75cd47ee3b588975c7', 0.00024010741701053747), ('c0bc9c8b3756b821d96b4769566a4133fca67c99', 0.00024010741701053747), ('9c167051549a6fe7c1084c2a3e735fdee9afc8c6', 0.00024010741701053747), ('fd92511012b74333f87dd2b904df201adf184076', 0.00024010741701053747), ('e37ab4e114de7b8ab60ca74e6a89e4fbbed3a625', 0.00024010741701053747), ('57a892b9576baeba70277179712d5b09e19224b9', 0.00024010741701053747), ('2c2f461af47644c0c05a62da0739c4bb48b99cdf', 0.00024010741701053747), ('39a52867ea3d60ec4f28182e0e618b762d3d7909', 0.00025811870601812536), ('97dd42c101a3d3b77924a58a6fea1968f905c029', 0.0002611667705611028), ('b4afdbc4be5c2f626fdc6fe35e4305820290c838', 0.0002470088819538631), ('057159cbdca99b6ad047cd63f8c53904eb07e8ca', 0.0002611667705611028), ('e7d003e2080ef6706850a1b18f9978d09211114c', 0.0002470088819538631), ('4f78b4ddbfcd26f40a477ae19f028d015134c40f', 0.0002470088819538631), ('541c4e90c41246c66eda138a9d173522cfe38838', 0.0002470088819538631), ('22b5c32df7d7f0dfc91abacc590b9f8349f2fa0f', 0.0002470088819538631), ('96eb276dea38697194d44efb762cd0fc09f7b8a9', 0.0002470088819538631), ('f57455c38b89bb5f4a17f762777a0fc0b1aa3239', 0.0002470088819538631), ('ccdc50de7a0602d3df5ed9bd9782565bbff2a8eb', 0.0002470088819538631), ('71cdc2345df62d60a1ed88333a6101ce669663b0', 0.0002470088819538631), ('7f167d10e6fb57f4aa95fb7099a76ba9b5671025', 0.0002470088819538631), ('1fb5d9c589ea53f25b981673a7a750e854e7d687', 0.0002470088819538631), ('fb91db6aa4f710814f8aec28a7f3ecbc4e5ad4fd', 0.0002470088819538631), ('41396b28fb56f5699f24ac0a85902165b88c696f', 0.00024248175156002581), ('d5fced09f76f2f7cdc5eef7d0feebfab124315cd', 0.00024248175156002581), ('800cfb3d23115cdcd4d114234b65bbdf2080f798', 0.00024248175156002581), ('ef46f254ad6f3ee2b7d5ba1f041b033da1d42c51', 0.00024248175156002581), ('ea67a17edae00652a0b5ea5987e9b0ddf7fd2cb5', 0.00024248175156002581), ('51dd3023f773ddea40f9358e91aedb791c893f1a', 0.00024248175156002581), ('76fbecc05f3060ddcbbf65fb6d1305a1278119c7', 0.00024248175156002581), ('98e702ef2f64ab2643df9e80b1bd034334142e62', 0.00024248175156002581), ('dae903091d2c5f82c4595e53e8144ccce93f8fb9', 0.00024248175156002581), ('af21d7b29a8b48967d0151a0b86f15d755eba02b', 0.00024248175156002581), ('d2e54b3a596a1dce0def9d035dfe1fb7c0c6142a', 0.00024248175156002581), ('3e398bad2d8636491a1034cc938a5e024c7aa881', 0.00026833922680109183), ('0ae67202f0584afccefa770865d14a46655d2975', 0.00025703326841290864), ('16f2d2f2b8103ed0c4a4e6f339a21247e58c5e78', 0.0002773593718113406), ('dbe077f8521ecbe0a1477d6148c726d4f053d9c9', 0.00026560252779581073), ('35248e4b63c96067ccf1bc3f3fa0f2e27a0e6cee', 0.00024248175156002581), ('654247d5b184495fca18c6aa7e840e4f4559fef0', 0.00024248175156002581), ('5e502c618d559ce1e676eea02aff1e797ac3f1ef', 0.00025646250780875295), ('3f8a2addbdab4fddc7455bbc699da0f432a61a4d', 0.00025926088906475984), ('1e4421a8278d97027bd03fcf6410e43f47b8c3cb', 0.00024231446852754043), ('3134a48116e9d79fb9c931fd448e8aea30e5dfd4', 0.00024231446852754043), ('0cd526723b87ae37981922992992d203448a2014', 0.00028043764724355495), ('afbf47e408aabd87fb312ec6baef01cfc31f04b5', 0.00024231446852754043), ('d44c20c48e764a546d00b9155a56b171b0dc04bc', 0.00027954827702954233), ('f07bef10500f55d4d34bac96bbe93f1120a6ca8d', 0.00024231446852754043), ('16091f0821502b70294ef66671183dadd1afcdc0', 0.0002942024810455799), ('51aafc680ccf6ba7d879e31fce49c55fd299f760', 0.0002628681091304373), ('13afd3c131dbb836bf9c6c65466ca8f5234bca11', 0.0002657705190548224), ('41579777836a07a1bd8b4d8593fcda7983b68e67', 0.00024122227356412955), ('fb2826bc74dafcbadd79d78669cb27971b15f2b8', 0.00024122227356412955), ('a69a61b81b31e16339df59cd125027522b11a775', 0.00025367615610695905), ('4616d468f2ec5b78206f2d00d0c6704b4bda19b4', 0.0002628681091304373), ('f5225015bcdad0a1daf7d205c67fc297fb9ec978', 0.00024122227356412955), ('5466a6fa708db56300e62c1a9e261f4948800a4d', 0.00024122227356412955), ('40bf9de59df11ee2713b29c36a050a3ee31fe0ef', 0.00025331663651199254), ('5049a371e2bba11cd4919f839a759d19f02b9501', 0.00024122227356412955), ('d57d4128f3deec01912f47684f9191cc550801d9', 0.00024122227356412955), ('d0ac7ed7919a3567d03b70b9b24f8683897471dc', 0.00024122227356412955), ('c10075b3746a9f3dd5811970e93c8ca3ad39b39d', 0.00024122227356412955), ('5d71c918db224e21982d9eb5ab2359735466959b', 0.00024122227356412955), ('64ea8f180d0682e6c18d1eb688afdb2027c02794', 0.00027532199167326713), ('2ef8be98d6f2028fc54cd354bb1fc22d97378125', 0.0002638722829252379), ('6206a661c02b553f279b76debcdb2181e7e6a549', 0.00024183668263872142), ('96d8a8dc43af5aabc1ec2e2bb51cbcd38354c6c4', 0.00024183668263872142), ('d52cdaa8bdf79243a884cd394f431cda07cc61b9', 0.00024183668263872142), ('72df7f4496d2a46a6d3c69554961354b8d493d69', 0.00024183668263872142), ('f58188a89ab0d96173fe7a3970f63465ca8bdbdd', 0.00024183668263872142), ('09415598649f019f905c70b183417d83f06e9d49', 0.00024183668263872142), ('e31e3e03b152756f2207195a0f023cc25e31e93e', 0.0002634301087266941), ('94b43a5a4224c8c1d62f5fa3ac567de37f0c44aa', 0.0002634301087266941), ('051672b323d171ffd2222e0c3221d3f2114e3fa3', 0.00024183668263872142), ('62feffa9322f08934fadfa3f2dfc9a6183048d26', 0.00024183668263872142), ('b1a507a7efb3ab49816b689d822352a9d14b4a25', 0.00024183668263872142), ('5fe24f2bb81d4695ae6dca46318dba6d52523d11', 0.00024183668263872142), ('2419112b554c8e2c3d01474611d26bf966572b69', 0.00024260892824454016), ('eb856b00d26a8d4cdbc321e7eeb1ebf26c884e6c', 0.00024260892824454016), ('27bf55fd4625103c40a58daf8acd9468c0ba113c', 0.00024260892824454016), ('bc27eedb807996ee91a06e021c0e385f5a12095a', 0.00024260892824454016), ('75e479acd038d70f7f8d70ecf789746f4dfe3617', 0.00024260892824454016), ('1316fb5b131cbd0b8deaa75e5882d4a08e07e4e6', 0.00024260892824454016), ('1676611ed06e3079168223281814b54ca21da064', 0.00024260892824454016), ('285a699650834c3d8e91126cd953c15e54dd404a', 0.00024260892824454016), ('28d84201425a08252af8ea8455afb04817fdff8d', 0.00025162774945187776), ('4a1eb41f1df29a76ddab80823f62b77bcdb13489', 0.00025162774945187776), ('da30ccbc77adec96354d974abf46b953eb0a5f53', 0.00025162774945187776), ('888eedc8e95882e19a5e5e5cf537317ffe15b909', 0.00025162774945187776), ('b60f795c6f512ff3ebf6ee09f487aec21edbfec0', 0.0002683997115547666), ('0170fc76e934ee643f869df18fb617d5357e8b4e', 0.00025148395289110764), ('c147261ad2a359865d5780607816c05dc4b48b56', 0.00025148395289110764), ('9d9d7ee2d4f34af92a6c5172f6c693e12eb7e0f1', 0.00025148395289110764), ('1dc324681ac58abd2fad6b1da01c32997e06df50', 0.0002579738325600898), ('1496bf26c493fb9df581d9fc04bb974a41b38fb9', 0.00024140927614284822), ('edee93ddcfcfeb0674464080800623bf0ac0e71b', 0.00024140927614284822), ('aadfea10bcc097ca786ffe566467fe7ecd933256', 0.00024140927614284822), ('bb51ca71833d42fa58f9adccb2296bdf665cc158', 0.0003069716383205912), ('50e84132a1e405fd04ec59a72093ba30d9a74281', 0.0002642296852590848), ('88ece7e67fbc19ac180867221e65cf096e70ffbb', 0.00024140927614284822), ('b4cfbefc7cc3217c133c75d48ace1cddc078d870', 0.00024140927614284822), ('6c551fa9bdfb3c1e285bc9fa69e4c89a736af3e7', 0.00025532620430541536), ('ae37774ff871575b7799411bf87f42eb52634390', 0.0002539853787794435), ('6f68ce1e03c56c186256dac689a21f6405ae8d96', 0.00024140927614284822), ('1ac4e83971cb2d0114eb3101651239c27d1b5b2b', 0.00024140927614284822), ('4c04ede41c2b77568f6b33c06cef6fbe425e6c95', 0.00027388459712713095), ('561f5bd4dd8db04e8b74c12b225757e0665b707a', 0.0002511486513828897), ('fd0ff60d9cccd4ca2ad4a6aff2eb5b8eb39414de', 0.000263475670751976), ('bb2280b4b45cdee70d2728f4939b50a2235c6cce', 0.0002511486513828897), ('9c6eca31f311eae935e84efa6966c0165bc4e14a', 0.0002511486513828897), ('770a02f93febfeba2f5e6ceeb29b7e252930f919', 0.0002511486513828897), ('ffe9564e96ca9a92e0da3ecc6ef535c77bb4d125', 0.0002511486513828897), ('f0c588accc500902311eed678498824014b81671', 0.0002511486513828897), ('ad949e25e85d9469eed2c05097110a201586bdd9', 0.0002511486513828897), ('b16408a97170785fb216c9e8b7920d64f478fbc8', 0.0002511486513828897), ('8fd0431186564148b8c0b8a30c363fe724ff320e', 0.00029178496551684905), ('86fb22cc461f77b5c85b21227f74b9dfb90159ed', 0.00025396301358315734), ('9077d34f9b719a7fd37f5794cad71d88a7c5cf89', 0.00023987005967860943), ('7a925e5cb7bac0faa9293353652d52db6849cfa0', 0.00025300274022823776), ('46be52d8c389f749ab5f2b0dd07a0a16923a78a9', 0.00023987005967860943), ('0497b410e841d42536cc48ba5869ee0258781b5c', 0.0002666041327704069), ('ce7781833a699d013c99ddf027aea852a2a8e940', 0.0002656438594154874), ('4bfaba5a04c6c88a1774c1acb9d6e8b7f8e5d409', 0.00023987005967860943), ('3ca7ad47068f96b0cd2f55cd19f41a1845611ebb', 0.00027973681332003544), ('bc3a460122bb7f27388e65258d8cb98c890636d5', 0.0002525111788658586), ('f65ccb2cc8403a4879c5c74870c12792ea8f94a7', 0.00023987005967860943), ('c144420df0aec4f3d8f5771021cc1217ceca5184', 0.00025300274022823776), ('dfdce1d5e31384a4edcab79499b8218bf115749e', 0.00023987005967860943), ('edd274b011440b1b02deee05a8e0c69d618c1273', 0.00023987005967860943), ('920f85bda27df741984238a164e738e152028c1b', 0.00023987005967860943), ('203ccb9940a48a97aae702fedc7ed5f9ae41206f', 0.00023987005967860943), ('4531f346abb78892822825c56d33f2f1c7a6bead', 0.00027973681332003544), ('d52802ba603d81afcb9b6ded2f9f9d27340bc8d1', 0.00023987005967860943), ('f15456a69473643f565f4b1353638766ea796d2f', 0.0002629228769130345), ('03b15e0ffa62d2626b8051e738ef7399447122d9', 0.00025139732560695936), ('2a005868b79511cf8c924cd5990e2497527a0527', 0.00025139732560695936), ('257a2e6730674c19be98780f4c58f8f7371baf4d', 0.00025139732560695936), ('096e5ce26a9d697fdf5b2804f00006df33869aef', 0.00025139732560695936), ('d0aeff67a19f5c2be25ed6ffb601bcdb1da8f8e1', 0.00025139732560695936), ('ee292a61fc7469eff11d26b5a46c291019c8673e', 0.00025139732560695936), ('54f0e4ef52ac767058c2e6a06793a6ae4c225b00', 0.0002403459326637451), ('1119a2fc0e943d6014d81ea41e7f66a9cf2bfe32', 0.0002403459326637451), ('c667a944fb0b37728a63e869293c2980b71ebd45', 0.0002403459326637451), ('9cd1e55d05a18677799abf87cbd68f5b5a703083', 0.0002403459326637451), ('da0f8276d2bd5d04c9419823b2023a67af08c0e9', 0.0002403459326637451), ('649cda08148d664e869751bcb9d9f488ca7c7773', 0.0002403459326637451), ('04e1b37dbdbcb8e9b0f28da65c65e2be105d3f7e', 0.0002403459326637451), ('5332063dd508e9695b723e14d3f33051a8981b31', 0.0002403459326637451), ('f7a83c2d64d4fb6b48fc52c429475f80e9b990d8', 0.0002403459326637451), ('dbfc7ed6dacf99c861ca3b84f1cc85f4bc3afc8c', 0.0002403459326637451), ('c2f19932fcf6839a2df99863fecfd17333558a06', 0.0002403459326637451), ('1c6011a67e1a97f89dee9587523fdb3b1b0047e3', 0.0002403459326637451), ('117fcfef38aa4641ae33e2605dc35013fc908719', 0.0002403459326637451), ('029bb71bc00c34870cd6cae950e41e507fe7ff45', 0.000264164111146381), ('809003357de849d443a37b29996e2130c7bdb041', 0.0002876960090755544), ('ae65aaaaaadb1317e919c5b41a4ca3e0f071c973', 0.0002403459326637451), ('a10d6877c90de39c42a143af60c0bf5e588be763', 0.0002644202774092026), ('498e003901f8287e89e5064477cd22dd47e49d61', 0.00025307334188614004), ('e1bb329621de73d08c47beae9b5439a1c244eb1a', 0.00025307334188614004), ('aa207668318fec38d60b79f407fb64982e46fce9', 0.00025307334188614004), ('85e3375ff47be23ad3cee66f379284c416a57e2c', 0.00025307334188614004), ('2ae610a9233e7ef20aa2242410d40ffaf1387884', 0.00025307334188614004), ('ecf1b50214ff13d2378e8f637c846c61ff2a0b43', 0.00025307334188614004), ('30c9e588b8d41fdf28b043417440a62875f80b49', 0.0002532139318287703), ('ca1597d483d597b38ff8e0fe6785176067d2ba32', 0.00024034671115870653), ('49d531e13840c46184e924354412511548788da5', 0.00024034671115870653), ('626af7bfb4269b9e27b61cea949818e27d23bf7a', 0.00024034671115870653), ('036e2d72ee31c19fd8b0cf81d8788552116d4532', 0.00024034671115870653), ('7adbd763e8a2d4faa033b7912ab5389aedc51fd5', 0.00024034671115870653), ('17114bb128c38cc2750bbe39ea7944b3976106d2', 0.00024034671115870653), ('1f5f61e8bce64410a9b6f9410c3180acaddf426f', 0.00024034671115870653), ('b74ffc64858940f29e99a6fe806e9a28cb5596b8', 0.00024034671115870653), ('cd28e7ed2dc1ce521c8b00ec02993a067b4e7440', 0.00024034671115870653), ('2287a3930a7568a956aae5f3f037efe8fed675e7', 0.00029875413654562716), ('d889f05b79dd1ac67743d2f15760d58a5cda3c14', 0.00024034671115870653), ('db45a1e03550df2a6d3dc1476c9415b80bf69e89', 0.0002532139318287703), ('56bf103a956b4a2ad11868c05db189d1e3f64ac1', 0.00029875413654562716), ('9801c18d3ed0085d9cc3bd8007086682bcafc31e', 0.00024034671115870653), ('d5baf1912d43d0af0e8f683eb5532f5f5445430e', 0.0002858869158755631), ('829fff0f1bab67a4bb98a0c77120ff80311d7da4', 0.00024034671115870653), ('0f1eb8d363609dc3c0f7a8f78e9b6b50529b45fd', 0.0002464744113255388), ('cbcbebb791af53979ac465e774249c09a2a9e3b1', 0.0002464744113255388), ('487d9b927b8b61504609ff2c5a2f8793dd5809f7', 0.0002464744113255388), ('0301fa9d3928638c37d183c5538f776a40b37dda', 0.0002464744113255388), ('254d87080d3c2a6d31a9a185552c8e9001fdcf0a', 0.0002464744113255388), ('2a3df97a9ee04536e8283361379d42b6834a40c9', 0.0002464744113255388), ('770c840fe25e4c09405529c639f1fcf0a1b245ea', 0.00030920956225726794), ('a283e48c27f5b0430536a4e8264aa1055de65cd6', 0.00027125291877590495), ('8ee527b72f096a6e93e64a49978db7edb8d47fd5', 0.00024220674668546364), ('d8fb87ee41aa4189e64ff87c3919cc663fea217f', 0.00024220674668546364), ('120d6d2b8869604ff59a1d6d12634db24b0715d8', 0.00024220674668546364), ('91ac83a71b088247801aa3604b78eefd23e25339', 0.00024220674668546364), ('851ff5f13fbff7023717c3913f2df4a7551a374a', 0.00024220674668546364), ('cab837cb314a0523c1b8224f67bcde977f1b59be', 0.0002572499169516632), ('642aae205443fe0eeb12ee647a3b4aa78d5117d9', 0.00024511298021070185), ('b82950c18ec83e63f458f64f58b794804d13d9d8', 0.00024511298021070185), ('3fa34c272b27e895357f0f353fb75938b1caf84b', 0.00024511298021070185), ('a2b8cfa1b84e59e62bcc62d0a961b67f31f66510', 0.00027529769196946873), ('a4a43a1edc32b64e7650a92082db6da3f5dab417', 0.00024511298021070185), ('d5805070831487b217fcc1e165e217639855ac3e', 0.00027529769196946873), ('2cb0d8b44efdb570d26ed302e50d8aa0227fac7e', 0.00024511298021070185), ('87ba99c2fb719258e02fdf95f6a20d9c6aca5d51', 0.00024511298021070185), ('9fc584a229d699e85d183ed8428a4e3808cd95c8', 0.00024511298021070185), ('23209c011cc17b83edb0ed239a7b81ec253ec009', 0.00025329906305773906), ('e313e034e86f6261b8b49dc79dac7e4f52bc8a6d', 0.00025329906305773906), ('40fb968dfe2ffb25dfbe05cbacb9b343123a71bd', 0.0003000261795054709), ('952df44a2d1d94c833228ea70a22bbd883f0d2e5', 0.0002651211031203564), ('d8377bcdbc8cc7657557613d0450bf59926ef92c', 0.00025329906305773906), ('a33204154ea93df70229157435dfde8b8067dd86', 0.00026675023995427553), ('5dab9d7275a066f4541689dd8d273f6950783bef', 0.00025329906305773906), ('3204fcc328c6ca66b66fa70440f3aa600a76ff0a', 0.00025329906305773906), ('9792bc635e7896642895d75aaf394f637ea29eac', 0.0002598034403977995), ('0368dd7538b7245aca5133baff6bea4df228d152', 0.0002831899475291394), ('b75246ba25f10bc002a18ee03d78981d7b48f376', 0.00024646816209816834), ('1a7125dd9c88a0174536479f5d5ee4c9ae96da11', 0.00024646816209816834), ('cf2ae94f126635e4f736d840adc3dff3e3c994b9', 0.00024646816209816834), ('30d0a269f8ffeb562808c9e4f4c675e641af4f6e', 0.00024646816209816834), ('51df5094e18bc1ed239b3405033a73afb7f52c96', 0.00024646816209816834), ('e17f23e736ef7a71f907623e752811e1f2616f76', 0.00024646816209816834), ('6d38bdd172cdbccb11745f5f031f848679117f25', 0.0002519661019631629), ('56e5586d90c4a3af2b99705d3e7abc7b5e41304d', 0.0002519661019631629), ('9406246f6972c03e5bfaac4df4676648dc4ac935', 0.0002519661019631629), ('aa0b4b6ab37e75ba8407e0eddd69e778319e8fe0', 0.00024300838994346344), ('c1d79e63a4dfb68478fa5885c3951cbd67ce84ee', 0.00024300838994346344), ('c8b126409c412667fad7176bb15f4049d19b1dde', 0.00024300838994346344), ('d6dccb5d71fbb6f5765f89633ba3a8e6809a720d', 0.00024300838994346344), ('67040b931c1a384426c44ae73f9553e97f08cf6a', 0.00024300838994346344), ('df67d46e78aae0d2fccfb6212d101a342259c01b', 0.00024300838994346344), ('061d6d5f3df0db70b12f9e90bec327e19b7259c1', 0.00024300838994346344), ('d3d784b07fd4a444d11ac753e36964767214d667', 0.000267192776636065), ('9b234fd1357b552f2a5eeca1bfb5f0cbe6db595d', 0.00026727866632228925), ('4e39e59f41a480f68c934cc38eb874a25ceb5073', 0.00032991488793153776), ('4fe56f5f7a7196571e81ec243d86df376269695c', 0.00026569068159258246), ('364574aeb179196e1ef9155e1034ad385ddd9db2', 0.0003496266589328026), ('1987ee6b983fd2d082e0555e21909978c41d9c8f', 0.00026451272824590564), ('73253320ba713ebc83d0794b78e40aa57bdbdc69', 0.00024091075563341022), ('2e965b5d97c2d6fb4af284307735be39283792ba', 0.00026255659119971803), ('618911cda803267d03615d1a04db0bbfe584e28c', 0.00024091075563341022), ('616c95094f582623ae31926e7f95484b7788df4c', 0.00024091075563341022), ('510a068ba6ce4979202e309a0eafb82d6d89f243', 0.00024091075563341022), ('993f0eb1cf576a50cba4fbc667e10f15d63b07f4', 0.00024091075563341022), ('da959782ef230a5653967585090ea31e67390ce1', 0.00024091075563341022), ('c5427eab1a236e4529dc004307e921677fde304b', 0.00024091075563341022), ('acbeebdfd9dd3456628604eefcd53f50f974b132', 0.0002575672923196773), ('b33d527aa5a1a17caea7a9cb3d8cb65bd9803929', 0.00024091075563341022), ('32095de948f289ba4bc40c730a5f2a90a5cb09b7', 0.00024091075563341022), ('1f1c4153224370a8e3ee0d78c9948e163c273d65', 0.00024091075563341022), ('e72f626074252b7e17ebc48d9fd4a4cd9d231359', 0.00024091075563341022), ('289db3be7bf77e06e75541ba93269de3d604ac72', 0.00024091075563341022), ('242a62aa1850bb1bcd146a8c6e14c41777574694', 0.0002500502991785531), ('0f52f931e4493e810994a5a6dab71ee3ba89f77e', 0.0002720858994650698), ('4edac46abeb9ce6535cede3755c662d4aabfd3bd', 0.0002500502991785531), ('9e74f1d682fb233a028d5607f64c5c49827baa74', 0.0002500502991785531), ('cd5da7f4409655859ae08c0c3212eb3b0fd72ff4', 0.0002500502991785531), ('e631fc7e9459386915b382fe74ce40de76251a1d', 0.0002500502991785531), ('a9c1f65c759b028f5651531255fd5cb901a50eaf', 0.0002553522334483048), ('796b1f4fc8a89b969c883990a15000538472fbd9', 0.0002553522334483048), ('5b69ac5d710af62a77899d09d128d225faa561be', 0.0002553522334483048), ('b2bfdad365f2032cc2bc046a992f2c64efbd1fd9', 0.00026242164830378055), ('2ec1b9e25cf08f412cac08149d8f7ab12222944e', 0.00024380862197418042), ('5c855f76c36d82ff70399fc8247bef346ba443a2', 0.0002658831791635732), ('c8eec916ea6e6d2a57a0d9ca29c9b95525b53314', 0.0002658831791635732), ('817d5982c78b28411fb78569859c9d950998f5cf', 0.000260580584077069), ('aead7bdd35a3780f1a1c169fae3f5f04dd946747', 0.00024380862197418042), ('88b91fb2834432273b915a8fb63ccf017e1bc034', 0.0002856817508188984), ('d43330d88a052fc9e38e57f7c8c0a59a68e8f9a2', 0.000260898216085518), ('2758b3a82fae061e2e4301da0f9c5f14714bcc4b', 0.00024380862197418042), ('9a0cf9c7f1af4ea6e1e5e80b8dc4a6d64f81fcd2', 0.0002795112424151183), ('89fb34d44de8e63ec5bcaa736c2f52a363c90942', 0.00024380862197418042), ('38f09749b6863d43c23a68fb7655cae9d4a5b1bb', 0.000241464367703322), ('8d84feba4d65feb7b782fc5e62c148edf8721070', 0.000241464367703322), ('4f0d940a12083d96d4e8ec1ab9f4afe237f22020', 0.000241464367703322), ('50ab6ec65e2582b9b88956468f0a713974814f2f', 0.000241464367703322), ('e6885b232df4996a3f25fc5614351f15160959ed', 0.000241464367703322), ('8cd7faf524c0b6e3e7a986c6a315b6773793c7bb', 0.000241464367703322), ('fd8358e4c90a511496cc7fbdd981f7ec28d7ca98', 0.00026193352409547893), ('12d30796c1f4432ec287426841d3e357809eae52', 0.00026898286754349984), ('97dd0e4e5dac778e54fd93f04edf6faef07fd215', 0.000241464367703322), ('e8425c4471794073c8c3dc3a77a9a16905e24b94', 0.000241464367703322), ('75020f90bc2e65d069458dca79b4bfaa28ac1826', 0.00026193352409547893), ('9a41f42dfd89bf5b5876e28a62f4d507e3d2792b', 0.000241464367703322), ('40c7e97580e8ab66778916608bbcf9c7f2452868', 0.00026193352409547893), ('86a315c282c4a443d48a66ddf48dadc098fe0eae', 0.000241464367703322), ('2a9c0595726cbdd42e973697d9781c27132e2500', 0.0002516786859565993), ('3dab77815d36acfda913e48738ce1f63dde4b336', 0.0002516786859565993), ('75b6c92326b4cabf5cf3cebb5c6b3de1e1da0e3c', 0.0002516786859565993), ('0c369ecc6f818ea89cf57462771c8240fd2be370', 0.0002516786859565993), ('e851978bb31848aba212e0d84c422742984cadff', 0.0002516786859565993), ('66a22af50a42f1705533fa2845eb632313876c27', 0.0002525762779314678), ('3b9f96afbab12b70bf1545ed0201fb384fed0763', 0.00024078389245966666), ('567f187da24ea2003b3262af3f7264bcea98f08e', 0.00024078389245966666), ('7c5fc996cf81c2452dfbf57322bafb6594b52fd7', 0.00024078389245966666), ('542b9b7724fe728c62e1a32ebc5a6c0fd63b1e37', 0.00024078389245966666), ('72f44f41b0adae31f5edf3f0cca57af0e63ffb76', 0.00024078389245966666), ('380dc3c8d39d1998cf22495019d648712b2c7935', 0.00024078389245966666), ('f50d880d153a8c23654e622fa239b7d113cc09a1', 0.00024078389245966666), ('bb4b1a083eabddcad7da66a526ee46177bd8489f', 0.00024078389245966666), ('649d0aa1be51cc545de52fc584640501efdcf68b', 0.00024078389245966666), ('6adfa744231b1ef4e194a1ab05d24c6d458ed676', 0.00024078389245966666), ('91c3eacf47c33192b11a99938359da1e7b4a9b42', 0.00024078389245966666), ('e0cd100dbf93befe1d224f5efe63d670595f59a0', 0.00024078389245966666), ('f724f90d987360e7bb4db9a10069d5efeeba6c66', 0.00024078389245966666), ('dd9a8643ef80fd3fb95060f9b02e0233759639aa', 0.00024078389245966666), ('8411c85c27da21e763e326706a85bf183ef38844', 0.00024078389245966666), ('e9b8f2ee742b32ae272c950cc6fa2d5a2d05f028', 0.00024078389245966666), ('62b378f3d8d6d7803ba3a3339949aea9ecdc5749', 0.0002635198382039077), ('3400cec603a0a67511afa7adc4099f567d11cbd7', 0.0002415895536402091), ('6ccf31afcf5dcf5ad2b8752f064995580544dc0d', 0.0002415895536402091), ('83a345181f1db7b925c064290bc4bf2b36c84ba2', 0.0002415895536402091), ('f0d6f459208e737a11c458e7caccacc6fbfd5a81', 0.0002415895536402091), ('b4acff631876436b330aaa150a0f7abfed404d3e', 0.0002415895536402091), ('7ff0063bcc074d04b89ef4bc3eede54521d7b654', 0.00026677038638665135), ('25fb31c992edc8f4b913777c7a646cb0fe2f66ca', 0.00028086334029119947), ('892d41979d1b76f9e2f789de8f27e31f12e65b96', 0.0002935044594784489), ('b2ff78b76a302b005ab65ad0d404373a70f3d5ee', 0.0003131205433292464), ('6abc99d8a1e2ee6c4f1038cbd449ac52959a47b7', 0.00026677038638665135), ('80a1f750e9654103aa30bd7290acef6806ff8efe', 0.0002415895536402091), ('f0717bed735fb8a9f375947eb749611881f644f5', 0.00025607739240264305), ('f73790ca569f9d1667502f13556080ea334c54ba', 0.00024029052649891152), ('b62f64e5d54a59e5aac1efe04aff4773486039c3', 0.00024029052649891152), ('562b21849a3fba7a000b10671eb3203750882dfe', 0.0002518160778049864), ('9d83da4743cbacd503dc5c6db41d3b551d487f4f', 0.00024029052649891152), ('dad3c32d58c67fc02963572492a1e44bc0a09458', 0.00024029052649891152), ('db60e94e2008f83851218a54a676cd278e90584c', 0.0002518160778049864), ('61b65adb2240808f8253c38f1b7657f896915a02', 0.00024029052649891152), ('75a04f706484566594df8f4652e8677ad2f6e461', 0.00024029052649891152), ('9a6878b47486cd3f6bf44d976b3324e46eb97d58', 0.00024029052649891152), ('92c8dbecdce4427f04a27b443de0d9fb0d2e2aa7', 0.00024029052649891152), ('f848c7aeacee204c319236506a02a2dec7181ee0', 0.00024029052649891152), ('264d2798abe444214d51033827fe3353f6db9add', 0.00024029052649891152), ('fcd2e4a26b90e1057e01e25ba56cefe66868d33e', 0.00024029052649891152), ('521b3375a6ec0b439c24e4706937aa97bcdd202d', 0.00024029052649891152), ('23bc42eb6670d36d12749ca4565478f9a2dc57d5', 0.00024029052649891152), ('29efbdf3f95cee97405accafdebd3bd374f1f003', 0.00024029052649891152), ('c9e5ff32e13cbf0bffcb1a6477918edb6413583a', 0.00024029052649891152), ('78aaa500828380b8929d63c16336933f94ef26b9', 0.00024029052649891152), ('fc6a78d27a2268a2e0c9d4675018d1e92e7c67e5', 0.0002749315955806426), ('dc889d3f6d199ae67576a209c6ab0188abbd3e27', 0.0002749315955806426), ('bbb916e452fa9e5b0b8cf09cbdc27a93f9396e98', 0.00025227505157321623), ('689b224a812ba4f9558a074d4dd2974267e4d10b', 0.00025227505157321623), ('cbb364f549debb914767c047104bb0c303e9f337', 0.00025227505157321623), ('cdaa75b42c4c232b73e2decabda9f5bd74286937', 0.0002749315955806426), ('52b7cb1705f0815c3e66b785b3a4432b1af6d47a', 0.00027696858397759967), ('4923c6bc3ab501651763f6814a8384745f3d9a4d', 0.0002521088651937319), ('0a25c137edc7c9752aa6d99ae4084683c3fe6b56', 0.0002403579216175606), ('caffa07ead18aae78bf654bc57023eef58e74faf', 0.0002403579216175606), ('b5dd2ec1bbbf9732ea52a34d6e18e368f622479b', 0.00025170485714062275), ('397e9b56e46d3cc34af1525493e597facb104570', 0.0002403579216175606), ('f8de84ef31bb4b5fa467df234fab902e647d4726', 0.00025170485714062275), ('6dd9da05e28e38976cc7aef8fa155455b211cf69', 0.0002403579216175606), ('b2dbe0d7f769410a26e2488b31b9fe6a34c5626a', 0.0002403579216175606), ('5924bfeb91ff47e5f01d7307ccae3869834db79d', 0.0002403579216175606), ('b48eb1a32dcc4dcd122a5234c0fc055b71752e98', 0.0002403579216175606), ('aa425336f0fb396965d8abd757f87f80677c4034', 0.0002403579216175606), ('687e80eb70c7bbad6001006d9269b202650a3354', 0.0002403579216175606), ('0eb2e4a205a628ab059cab41d3b772f614ad29f2', 0.0002403579216175606), ('3411535f7888a943853895e8eef2bb0b6d328c2a', 0.0002403579216175606), ('923562d216386a88947d40da310d94bbb1376a41', 0.0002403579216175606), ('3203d306c230c584e29cdf0aab0bb1ac947f1c15', 0.0002403579216175606), ('6bdb186ec4726e00a8051119636d4df3b94043b5', 0.0002403579216175606), ('6c036729284a73075d4f9b2ce7b87cd05fe2bbba', 0.0002403579216175606), ('1420e02a8cf5d8c4ee0a966086aefa51a1c637c1', 0.0002403579216175606), ('b437b5a0445f17b06b12791bc48aeb8110e95dc5', 0.0002403579216175606), ('2ae47c27b0d6bc2a52b69359f3f7810fb371ffa0', 0.0002626236478976125), ('ba0452a487f67e7c233967f4c5b56d1c786631b0', 0.0002626236478976125), ('9c2fc4e9eb3ed915dddb04e7d1dbdfca11b030e7', 0.0002512502179877878), ('6ecf1dfa2688d949a309e2cc336ddd929a69b12b', 0.0002512502179877878), ('ed5d6be2eb8fc1d42f9a0e3c50abaf5439bbd8dd', 0.0002512502179877878), ('571c3ea8cabd16ab0ae7a1a3495d3f3aca918e23', 0.0002512502179877878), ('9e31ceae5ada558541d1995e3f06d0166f79e37b', 0.00028486484399940337), ('8e9e78bd9892c545f3e7a4a38fc24c67165f25da', 0.00024232354756891796), ('cf2395b281802968efce09a560ff52dd2007d913', 0.0002681346415401276), ('7fff09b192d98b27e39a34aed9c6130c7c840da9', 0.0002722119831601627), ('3a222306e77c7a4660b88df73f563123bcbe8ee0', 0.00024232354756891796), ('e77720d72cff8e9613cc237221d506fd00ffd141', 0.00024232354756891796), ('4bd43d99d7cbf26495a26f8797d842bb734df33a', 0.00024232354756891796), ('ebd0abdcae4d0580aa2ae4de7905e59349b9071a', 0.0002811242190591299), ('cf064bc383a7a4030a4a2f3138205cccb0fc913d', 0.00024232354756891796), ('a712a368b53c5a4b437e9fffd79a8f3deb832a35', 0.00024232354756891796), ('a8802905bf00aa79a578e9ebbffc7e4f162e93ef', 0.0002811242190591299), ('f3afe15c5975b38b3e9b7dd9c9333688fe24d055', 0.00024237380125314786), ('409eecbca7febe13ab7dc77cdd7f86d66cf9181a', 0.00024237380125314786), ('2d26033ada57a73f7c8135195bdaaef2573c6917', 0.00025494990388974314), ('54a9bcf3edf88bbbb24159b09cfc5957cc7ae623', 0.00027051530642094226), ('c988c6631df77482313dac577e3b02d8b696d85d', 0.00024237380125314786), ('f750730710e0fd9632f86626ad554eb430fada77', 0.00026515165573466647), ('a2812bce010a0548688cd344330fe39a2f4d7381', 0.00026515165573466647), ('b8b401cec9f6ea099e6d8705099c9400b9353545', 0.00024237380125314786), ('248461bad5d66f4d202ecbeb3e5cf9443a3d3b32', 0.00026966129687375613), ('68d66179b0e0d221524684c3307acd4b981efab8', 0.0002516135218559506), ('6da4b98fe4825111425fc8cd9528e61aa6e8087a', 0.0002516135218559506), ('84f9051933c480b0b7a53adc7271d368d3ff078c', 0.0002516135218559506), ('0d6bff5689759d14a8b236a10df0b49be882989f', 0.0002516135218559506), ('81de3d63846d359057b6f54575e62d5b6e30dcfd', 0.0002516135218559506), ('a360ba00c38b341320f7504ce64590d021f55634', 0.0002516135218559506), ('48109a656fc51824ebedadc175f7bc303d674540', 0.0002893414520129668), ('d3014fcc0fc1a4fc8021e1beec80cfce90148faf', 0.0002516135218559506), ('aaf737ce00c72af501e6dc117dc176dba4aee231', 0.0002516135218559506), ('319b52c4d3af7e6d19a6b646316655e279946491', 0.0002554116517405228), ('2dea372c9f048d5a5c4ca3fd7841e1b0ac0aa091', 0.0002419080499871168), ('e0ed3fd8f7e7b9d8697444f8a6402c4cf235f34d', 0.0002419080499871168), ('ef48b245014922a2927c1da8546b50640d4b1b25', 0.0002554116517405228), ('3d6ae8370d8cc3614e4592ba262392532b2e4717', 0.0002419080499871168), ('0b7c01b1814949b7f6f7044bee3b4e84b29a4917', 0.0002787292794014242), ('b7e342288904fb2fe6ae00bc74788e1872019d78', 0.00025340363758540084), ('fcde018a3c96d0b302eb7df9e000492243935a13', 0.0002419080499871168), ('0f5e498cdc29a3845d6f23e58d1f8a430c399821', 0.0002419080499871168), ('467e345f64049246843059f6a3867ceca2268b3f', 0.0002419080499871168), ('dfb53c1ac293ac3468fe151380f17125cacda31a', 0.0002419080499871168), ('796ac799dccb041ffa6077ffbb062ba36b841b01', 0.0002419080499871168), ('67acaf3aa6672a43ea3e7f5540f8e39264db3f7a', 0.0002419080499871168), ('010c196a3cd1a3486eb5ce6ec2df2e4c7d4f649f', 0.0002419080499871168), ('ae107458587d9093e0951e9ef0795db15d481bae', 0.0002554116517405228), ('6cb50d864135d20ea42f2306660e8f03c5285f09', 0.0002419080499871168), ('1fafff85108fc64f9fd3956ae2606992d81169de', 0.00025184338022192016), ('8efefb1f16bd01d6b41df74511c10117afe5258c', 0.00025184338022192016), ('b00de2e18011659a26ffcc51c8e5f24d76efa8dd', 0.00025184338022192016), ('13cfe1d5a4e89612f239568d75133717196d996d', 0.00025184338022192016), ('602fa606683b65ea3ddc5a992a62c6060e4aa9ff', 0.00025184338022192016), ('248a51ea477d2635b5d87b1b25f46c91425821e1', 0.00025184338022192016), ('5a1cce0bb153c54e13707ee613d885bbfbb2bcd5', 0.00025184338022192016), ('2be1006604c0ad08097821a38b050bab8e2dbae6', 0.00025184338022192016), ('5f9c44deffb3151ccdfc2eac1f99222fbb10abe9', 0.00025184338022192016), ('7f575a0661bf6396cdbb92db763ffcd566142d87', 0.00024261476169782031), ('86a25de9047a686099cb8e68c3b0abc8527baea8', 0.00024261476169782031), ('67444a4a2f351cc92fb06af6bcc36078ae835ffe', 0.00024261476169782031), ('f2a7803df0382897a91413f34ac17c4601bb1263', 0.00024261476169782031), ('ccb5a70f8a6f7b7fc923b9d4c18488b2837daa6f', 0.00024261476169782031), ('89f3bf3de592a7a22673c23fb7cdac041846c75f', 0.00024261476169782031), ('7b4125cced6db9b14af663de1c593416f314e0da', 0.00024261476169782031), ('ee4a012a4b12d11d7ab8c0e79c61e807927a163c', 0.00024261476169782031), ('11d4bac69cf940cb13c2cac9a5b1e3af64960fce', 0.00024261476169782031), ('554cb0e8a604701ca78f2d782f2a26119eadaa81', 0.00024261476169782031), ('6e22b09ce6a67377a2463c271f94295edf69f886', 0.0002618603459483079), ('c0417c57bc38a031faaf2951e38e1127b4879291', 0.0002494934723593569), ('f4b11a696aa5a03fed1bfc47e65fdb7eb0e529c1', 0.0002494934723593569), ('0eff37167876356da2163b2e396df2719adf7de9', 0.0002494934723593569), ('576c462dbc1f3d732b919ef1daac37a817123e52', 0.0002494934723593569), ('e0e6ae2ef8ef9f02e0c65ada61eadd82b7ce8a9c', 0.0002494934723593569), ('2ad12a7be5eaf339a98c4defd8669e11fe726acc', 0.0002494934723593569), ('9f7f81b1c82828a45a52df8f0c6a92636af76c7e', 0.0002494934723593569), ('a883336e5c2e9f46f5012343227a6be4671c9ca0', 0.0002494934723593569), ('48418b285a92376a38daafa664a2dd07d42e3fe3', 0.0002494934723593569), ('15b0e710a9b8069d898ae6a0963d627e0fb86bd8', 0.0002494934723593569), ('c945efdeefaacb8ca679298720f4b0b054dc84bd', 0.0002494934723593569), ('458e5d02c0612deae07e5fb241179b52429a81d4', 0.00026078875635909636), ('7366fe7b4e7756dd13220d29077142ff802b41b3', 0.00029149651487371504), ('08e8f6ad2c7f83ff04c6ef416fbb288976b1a890', 0.00025825504669648824), ('abac1f1f876d2cc332830bdf705ba5e8d7f92313', 0.0002729092507125258), ('c8f5c6426ab2a3db12457756d941a14a09c6deb2', 0.00024260491237179313), ('481f18278fc707dd7cf8254da1e68b96f6913326', 0.00024260491237179313), ('73a6b52896ff246f1278008f42858238e2814d2d', 0.00027420553692505023), ('644602c65a5d8f30e62be027eb7b47f7c335191a', 0.0003422769137229328), ('f0dfe7f0528eded4096a741a751aea4b1f707e82', 0.00024260491237179313), ('57c61a12a9a152ca3641785234dc1477844e39b8', 0.0002621970716047515), ('1775333ad759bc827b8fde72c93ccbaca821c1e7', 0.0002501027086568883), ('804989a3687af0b13102569ffbb1c80f81eb454f', 0.0002501027086568883), ('7d638720991f354497a9e50a1d6d61d4b1d53a2f', 0.0002737046812693838), ('580062407427236ced45253a2ff7df2e147a81e2', 0.0002501027086568883), ('aae4ec3b514ad67e28a563d7801b98b4426a83a5', 0.0002504924733770969), ('44a7973b71ffb6005134d53dd0c78713bd7ed528', 0.0002504924733770969), ('46edfb243e871d2f274b6faacca2b94c4b3dd652', 0.0002504924733770969), ('84826040cdf50b312f789b51df584f17cb56895f', 0.0002504924733770969), ('3eaeec814b5c5b77490cc4d79a972df099789e98', 0.0002504924733770969), ('56769ae06210d92bf976575eb562126b82c99179', 0.0002504924733770969), ('5adb465b3969ee3105da94b06f2166368b11f66a', 0.0002504924733770969), ('464cd13c6557c40e6c1113d6b8bb63908c102cc2', 0.0002504924733770969), ('33071a03d4793c8e2cf0fe47e3805d2ced3e1ab3', 0.0002417641908663916), ('b89786e3bb4d1b4e52e943ab93d81b480b20a2fb', 0.0002417641908663916), ('5e91322f10a0a19d24221bbd27da3a820424405c', 0.0002557078802020568), ('fa2dbba2c67f1b6e15d36e0cbff5feae4f12217a', 0.0002417641908663916), ('59f2d96b85716e490b75ee575776184830e2e789', 0.0002417641908663916), ('5cabe9d1f0226c1de3c4a8ca725dc2c7ae778138', 0.0002417641908663916), ('2827df792f87ce1be6fc4e7b6658784909fe4803', 0.0002417641908663916), ('42be73d172cb9e78d05cb3b3ffc263501c2feac9', 0.0002417641908663916), ('aa9cf90cb675c75eade0584c1f5ebd36d85b5b66', 0.0002417641908663916), ('0568673ea1e8b749cb7be7338f4ad7fbb756ca4b', 0.0002452288351934692), ('88f132ce3d8b04f42aa51d81cd90be1d4c14b1e8', 0.0002452288351934692), ('2a7b1424713a5895c4f3373f405feec5bea443e9', 0.0002452288351934692), ('4b1da51ff23dcc3fb21b109d0f1f58d8f0ca8e66', 0.0002452288351934692), ('1163e9b771bd1c43249fa959bf84a63d5dbfa08d', 0.0002452288351934692), ('a35cf646bed6628417a681d9b6688553adce0979', 0.0002638418615230694), ('faf3f776a74dfbe18ac51cb424e9d1cbc1f514c5', 0.0002684889377085871), ('928d7e118bba3518dc3d40b182481655fcad15df', 0.0002905634948979797), ('0b8dacf57a29343448c9ad564596ba91b1d23f1f', 0.0002452288351934692), ('2d054c85a51f101b51f0427d332e22eb5c502165', 0.0002623184293048068), ('7a9057c5e91e7fe3611b80df10f4911ba0e56b87', 0.0002871141912990961), ('3aadb6c7e584e4f4a281f7d9053b8d4a369c23f8', 0.0003101094994348633), ('b42590f5f9bf7802d453dbe89544f27cc3f1b058', 0.00024892602948273755), ('31985bc14d312c310c1eb7838a42eca9641753e3', 0.00024892602948273755), ('261368d0bcd9df8706d344997b3139acc6c37e0f', 0.00024892602948273755), ('573f0f7fbf980ab21c1c1c3c7d87acb6e31421e3', 0.00024892602948273755), ('de3d8f6a981ad21b3e28a242575b9b9c25e0c2ca', 0.0002450214295078222), ('e6e2c93ee6ef830bd8e3bf6ef8ff2f7cf834746e', 0.0002450214295078222), ('0de3d8697dd2ff82e78e49fab86ac03b912c0e66', 0.0002450214295078222), ('84139f71ca68d35ec2ba4008ce39bdb910ee5373', 0.0002450214295078222), ('2b47a0178521cbedcb1cfa791ae17ccaf29e51ba', 0.0002450214295078222), ('b72d0d2c024688202952f3007298a9cf68688eaf', 0.0002620059762550337), ('726d428dd8baf7721e6d06da395cb9f382bce05b', 0.0002511928188348214), ('11fa0230f3802fbbc8dbae94d38c99b1025b1fe3', 0.00026298520430662276), ('83ef7de2669bb2827208fd3a64ac910e276fbdb4', 0.0002511928188348214), ('ef500cd3c401cd0632656c9fddccb1655c6659f9', 0.00026298520430662276), ('63c5e590028a08210261b98fe995684d6870c68f', 0.00026298520430662276), ('aab368284210c1bb917ec2d31b84588e3d2d7eb4', 0.0002511928188348214), ('db5ac25593250c62f848459b9e27a468f6fc3ad2', 0.0002536377058370226), ('ff1946e76c7320f0a67d5a05490fd7334dbab7c1', 0.0002536377058370226), ('9bd74ce88249bee09e6c2e7fec74af7efd4db468', 0.00026773065974157093), ('f74fb6b38dd2d38a5f7a61a69958f5191e21d035', 0.0002536377058370226), ('95476a8b26b8e51c5f1bc7ebd245685a0feb489f', 0.0002630672069916685), ('ab3d19a8fc0076f07ad75d6fa94e3331f470adb4', 0.00023998242439665564), ('fc6488e71546d79f74392c56c04d8af04d649bb6', 0.00023998242439665564), ('20db0740a2c519e9e43f99983fb906127fcd9512', 0.00023998242439665564), ('a4dcd366db2f276da070b19c64d085d6b5565e1b', 0.00023998242439665564), ('c4616603b407a4757dcca72d702af1bf1eff1bb3', 0.00023998242439665564), ('7598d6b7dfe363c50b53cda94dadfa394aa8f818', 0.00023998242439665564), ('9e17dcfc7cf86e7db30363df37e7211c8e63d9eb', 0.00023998242439665564), ('e4ea943603fd90674c9fc665d4f9ea53faf65e16', 0.00023998242439665564), ('518ae77a62a2b2f95d2830817a0b8b4ff8c2164c', 0.00023998242439665564), ('02d4cde6bb29529293f313f331c098866214a187', 0.00023998242439665564), ('219d95a38e8e3f2e7f2c102cc5f31f9fdddb1742', 0.00023998242439665564), ('4acde4989e7d15a59334958a2c8eb58ece657bae', 0.00023998242439665564), ('33841403bb8676b462a30707754fac09b312165f', 0.00023998242439665564), ('3c5c43b7713b81293a94cc0bee622d5f35f6af14', 0.00023998242439665564), ('9cf365fbc0267762ad0365e57c8f247a2357ac0c', 0.00023998242439665564), ('e1f99e48d09a972385118178aa6f8609feb712f3', 0.00023998242439665564), ('0a3532d23a94e5fbe69a5f184040b60160189d5f', 0.00027686361423514877), ('e9828c471bc07f32769bd6f38a0f6fa7d7e87da1', 0.00024083101584795213), ('07b0f35afcd9368968b6f5f125ea4a46eefa86c3', 0.00024083101584795213), ('5bcb50523a8ea315f4c16c8fb05f26a8220d70d6', 0.00024083101584795213), ('57da7d24de0b2c3b68e12d90e6fbea5a922af3c7', 0.00024083101584795213), ('38ee21170e984f3b3e8d95c029a1afe0c4924d85', 0.00024083101584795213), ('30f89a8c2482f1d37fb851321d51659270acbdb9', 0.00024083101584795213), ('a0ab545031ebafb3d2ec87de631fb5632f744b95', 0.00024083101584795213), ('597617684e7156914563e9fed6969a592981fefe', 0.00024083101584795213), ('eea1d303b4e78c86a2675880fa20ff35cf1fe6cb', 0.00024083101584795213), ('447ca540fcde8630e60a98853dbddb57b5628c07', 0.00024083101584795213), ('ea88fd2474d3beb46f630808ce1e6dbc42d248d0', 0.00024083101584795213), ('f225641fa0e9fa2c34dd2c10a909b1f2639cd128', 0.00024083101584795213), ('5177be422e9eadcc806551c78430173e5a4a3f42', 0.0002872007685955632), ('42576ab7fffb380d6746d458467e2468e0f973ba', 0.00024083101584795213), ('84c1717345dd451e7a61fe89807b4c017754fc4e', 0.00024083101584795213), ('1d30b941448645bc2dc304dcb1aacf9261070e0e', 0.00026108521053309355), ('b9fea96a88d9a390d0a51d25022ca73b90f801b4', 0.00023980380861364286), ('89ba88a4df711fcd1d1dd7de8f7d49985a38de00', 0.00023980380861364286), ('fce40f1b04c3e81d0a36d624a81ef5c76169afa5', 0.00023980380861364286), ('abd5ae25308d3fe352e1c6a6182fe603220e78fa', 0.00023980380861364286), ('e9b86473062151369341fa25608e3d24568677f5', 0.00023980380861364286), ('62f1ba6f5a7ad125dd62261fb5fec1a125232c8c', 0.00023980380861364286), ('e0d5dd85d98e93c1eeab39ccc829c48cdb4b77b4', 0.00023980380861364286), ('0c717f5c1361a3c064b269462e27bdc685f85444', 0.00023980380861364286), ('8b5253c8159ffa7cca12901af26a0a0897b45cda', 0.0002515547521898142), ('05d7697cfbc0c2c7dd2aa5a4bc5fac1682d80220', 0.00023980380861364286), ('9fa3720371e78d04973ce9752781bc337480b68f', 0.00023980380861364286), ('f37e90c0bd5c4a9619ccfb763c45cb2d84abd3e6', 0.00023980380861364286), ('af14da35d7fd12d182b10594027232489c6a8b51', 0.00023980380861364286), ('ab1234274c0138e552080672647cba634d11edf5', 0.00023980380861364286), ('fec3714f5a2d7d4cd8c8e2e5ba83a162fbefcb38', 0.0002596553306297338), ('ed16b5a85e06fc0e6c81b3843a5bb2bb50a35ac1', 0.00023980380861364286), ('f48d75612695cc36c3a820ae175261329318ab4c', 0.00025269752367046894), ('2aa7fde76a1e362845a630246c47ddb82d7d1bec', 0.0002413240937606445), ('26bf74add0ee73ec8c80662508f39b41da1eca6d', 0.00025269752367046894), ('e2fde6d6f5ddb0cc14aca91203d195f65e769176', 0.00025269752367046894), ('21e611d2225dd07a8665df64979a3286c46c7ea9', 0.0002413240937606445), ('eed5b5059e529f4cae816938bcfe11129bd285ab', 0.0002413240937606445), ('45b14f2573e26dd217c7e0cb041dc9632df37095', 0.0002413240937606445), ('adb164bfb92e28f51fdecebc3c38e049de4195d3', 0.0002413240937606445), ('2bf824eae3ce1e842124901c0fbf8bba0e3c074c', 0.0002413240937606445), ('427eaafcd47b3abc620b953ff021f25925ff0e62', 0.0002413240937606445), ('a48a98e6251407660ce1d80a17b4fcbc00b01861', 0.00026725754458079243), ('3d8f2e8be2a2ce7ac2501b7d6f79d257515269e0', 0.0002540993114488234), ('49c102ecdc3460995ee842fb414ecefcd34d333d', 0.0002540993114488234), ('cf2c460aee10886b6b8a8b6534d9e7a574aa718a', 0.0002540993114488234), ('5cccc8bab11927e5527dd5b917ed4c306a2ccf49', 0.0002773194539405835), ('1a5c917ec7763c2ff9619e6f19d02d2f254d236a', 0.00027076064848152726), ('4d9aaa1cfd1d0fa6a18a88425d62442e8126e751', 0.00024059380983154188), ('2bd87958108786f5e200bcfdaf191c6e31558c3d', 0.00024059380983154188), ('fdb7f6bc1154dc30f90592ed7237374f6187fe73', 0.0002586415848493472), ('d6609c67edd0496448f9ef56a008da76157fa3fa', 0.00024059380983154188), ('b355734d31204827bc4ae70db808033a347a4321', 0.00024059380983154188), ('2bbe7ea99fe71e42171ed0b77a5b777899b843a1', 0.00024059380983154188), ('269292470ccfa71ab9a5e7df3eb9e06ef9f46ac7', 0.00024059380983154188), ('e35c8b90762a50a073b3a1815f03eb04bb7fbd02', 0.00024059380983154188), ('4301b85900b9b662f382eec10be90eb9867c8bd7', 0.00024059380983154188), ('67563f0cb12ceecad7702c48dbfe8786aea45187', 0.0002586415848493472), ('092f4bdd6b004f9d3ebb7fcbe75f73f3b244ee64', 0.00024059380983154188), ('eb77bf5db008814f3ea78a59ac0de5fc3e8a83f0', 0.0002586415848493472), ('93aa6f1747e1e54aa8212faf0a00ec25252d6aeb', 0.00024059380983154188), ('30e1d123b7615ac64f7130a91f12b43c4a65a1a6', 0.0002586415848493472), ('72ac0055be21d75940c0569cf0759c5e647a9415', 0.00024059380983154188), ('4cb8923b1e100f7601d2f487b865b5b1900486d8', 0.00024059380983154188), ('53d46bda432ba1a722418676688474a4e3659655', 0.00024059380983154188), ('07a546e20150faefe25c0c9f04216387c92ad3fb', 0.00025345606244227064), ('e650c229d10be2f8efd26d331b9d61690b5fc6d2', 0.00023995246068886475), ('e0ef656d51374c60f1a53b86eaaaa1e40d7a505a', 0.00023995246068886475), ('e6c3421dec53cbd708e5e94a0d3b2af59f507dc4', 0.00023995246068886475), ('a1c1c96dfa942c3715f1dcad32ac8206eda4fa4b', 0.00023995246068886475), ('2ca11a3e5a4002123fa36a3ef50178af084e1141', 0.00023995246068886475), ('61005948f1f6946411a7059ac344d51147b0fb98', 0.00025345606244227064), ('ac40123de90d564e110473a9ecb4f3b3f6a92daf', 0.0002761198507832816), ('0bf44839521120b5226aabd96d04d69d4b77edc1', 0.000275236414395182), ('b4035a200c091a3210615ad01d8094138ffb43f1', 0.00023995246068886475), ('73bd1e8c8e9e9bf418e798c12180326411b43b21', 0.00027504387287034554), ('0c17feadd55e3e0577e727a4dee4eae71c311d4b', 0.00028598247654486303), ('74dfb0fc01b7988a1df21343b961c59444db0df0', 0.00026322183280772844), ('90e1449668fa6d4c82baa36dac58e52f928d7bf7', 0.00023995246068886475), ('62aad400e79196516af347c2841919bb023630c3', 0.00023995246068886475), ('3a9ba7c482b4ff4141b54aa084bca766c5dfe6f6', 0.00024179215139021162), ('010a56b4b2fe30785f30807ea672c5826501b9b6', 0.00024179215139021162), ('d05d27c7b4f639b104498d15aea0a90d65cbebce', 0.00024179215139021162), ('458e554fe0e5219e27aa75a39d28bc025912dadf', 0.00024179215139021162), ('a932aa4621106478255a5b1defd17236ca2e6c35', 0.00024179215139021162), ('f2d66eede760722f5b19e815ee01bfbb79d13794', 0.00024179215139021162), ('65d5aa2c5a277332a03d984703c0af2b919992d1', 0.00024179215139021162), ('395cc086fa298cf161bcf51a4bf8be02a647bc3f', 0.00024179215139021162), ('ffae8af43cfa956ad10f4ca280d0e36e9b154d6a', 0.00024179215139021162), ('11ded8e630c3d52bf3563c30b72cc06f6e66af7f', 0.00024179215139021162), ('230b8255925d56b72444df3f358f5851b3158b59', 0.00024179215139021162), ('b9cda12ff13b1b78ebed18f8de8e005c1e9472bb', 0.00024179215139021162), ('a6ee87dc926e1ada80673d702c7de278e53682c9', 0.00024179215139021162), ('aed671e50e5d1ef8f8b05d8b0d04cb6e5aa2439e', 0.00024151755579757085), ('01316758ddfd43096fb092268c56bcb4215d59e3', 0.00024151755579757085), ('008212081ea839e0681f8d2ea16fd34237151a85', 0.00024151755579757085), ('08f4fd40a4f1c01f7fcbdabc754a2b1e4c696314', 0.00024151755579757085), ('4ee07fe9a00163993ac16829b0100d5c947ba132', 0.00024151755579757085), ('41b6cc4acedea461646ea85426f4f750a753a33b', 0.00024151755579757085), ('db85506a2c1cce507327fcf37fc5bd848894013b', 0.00024151755579757085), ('870c5ca509f73bd7576195bc53b10732d868a63b', 0.00024151755579757085), ('f3ec8c29a34d0cc1bb7c7892ba4cae86347914e8', 0.00024151755579757085), ('7f56fd54d19d37e23ea96f94e956bb5e9c06e952', 0.00024151755579757085), ('14764f61e66f0e78f2c9a47b45c77a09bb068755', 0.00024151755579757085), ('dc9c60de646b3ae8b3220089ec3a5d891633d3ae', 0.00024151755579757085), ('82b46dd7c67b17dfc34b10b4e7db6f8391cd4886', 0.00024151755579757085), ('e2f2662f0734e2edc2b4b36a734de111c7f8d54d', 0.00027477008749789204), ('eb36750a31af99baf22ed01d0b8c24d9ff550b40', 0.00025202853495371203), ('d451901a6a12c61179289cac7a4588a86c234112', 0.00027477008749789204), ('c2a0c18e810535db52e5ebaf180c64ce70356748', 0.00025202853495371203), ('dbdcabd0444ad50b68ee09e30f39b66e9068f5d2', 0.00026439540854266325), ('93efaf8c27940aaef145d8bcbca957be634d26e5', 0.00027477008749789204), ('53e4247f7743767f39805573c71b820651335d89', 0.00026260838189024046), ('bc110959a69fad8e0db611bb5710193226fdd31e', 0.00024410700741527567), ('7811df11a75f58646d04b3132d35f0656e50a109', 0.00026105342795249513), ('940214c9afde6664127ba552de2ac8fa67997769', 0.00024410700741527567), ('5c32fa84747c4b9d0cf63ee038dddae644ac53e0', 0.00024410700741527567), ('311909621177c397c6b7099beff32332124f7d46', 0.00024410700741527567), ('a486e2839291111bb44fa1f07731ada123539f75', 0.00024410700741527567), ('37a052144b510b8827634c38146b190d8b2c8d0b', 0.00026871538238934305), ('ce62ee331a43338ccaad0461faa0dfbe5db3d6a2', 0.00025205884570307576), ('419100bc2f2035198e1ed55ffa632a535c16a2fa', 0.00025205884570307576), ('7fc23bc11fde815b7735b115ffe5c57ff0d6cc93', 0.00025205884570307576), ('0597aba86088282423e7c2d2deb6fca4075e7a91', 0.00026871538238934305), ('003ec88cbec156131058e53409115cd056057644', 0.00026871538238934305), ('30f2d1fc88e3e1362ff4bda44d1f521841c6bea4', 0.00025205884570307576), ('ebfa2827fc65c69b9dbfcb8aed861785b7cbb69a', 0.0002641532086509391), ('97326c0468e4e412630b4db7cea9d0f8ac4dc475', 0.0003170178429163141), ('066891143bc4975efecfcc4263089df37346736e', 0.0002510052427580901), ('ec41dcec1f4ed3fd49686d850ebc93d91e683452', 0.0002510052427580901), ('77ccb7485bcec1d3fc732b19717b69b3c779339d', 0.0002510052427580901), ('c2f5914412b6e10b6f2e847e27392d5c3435c407', 0.0002510052427580901), ('fa78a6ed2fa66688b1fe5eb18c635a4850fab20f', 0.0002510052427580901), ('f2c899599e11ec7c503e7d1a9f07930c8d1d7f96', 0.0002510052427580901), ('318a7d2ce087462fbb0ad6378219f493a9c5bd58', 0.0002510052427580901), ('7e89b3f074e7928541ab6d3da5fe1d9802dc0119', 0.0002510052427580901), ('039259f77d4bfc148fa67b80179f5a45bbf96801', 0.0002510052427580901), ('8703994d245dff6d27a5992dfad23ee8ce4a8ead', 0.00026439361019117957), ('41455cb3511505e8abadec3f21c8d3ea6b793222', 0.00024240056242624586), ('68d83b6bbb5c1087d67f5556babeadbfe3901097', 0.00024240056242624586), ('0996ec7cbe04d1d3e1529623363acf7435ae69e2', 0.00025826702680857317), ('af300b2cddf9978cd63097bb2e27f22a7ef202ce', 0.00025826702680857317), ('ef88cfadf2cf02dd7829c2736bf1585028632bf8', 0.00024240056242624586), ('f8878abc4f61fbc066ec0144f7a32de97c3c4d9f', 0.00024240056242624586), ('f687510a7f8d3907acfd564b81fb326cd627769f', 0.00024240056242624586), ('19f5bba735f71831bfbe83e1ee385e3c0d8db902', 0.00025053143027997313), ('0f1ea968782fec91658677139c7905dfa866f2d9', 0.00025053143027997313), ('5dad30cb489818245f05c9691af25981de00aa6b', 0.00025053143027997313), ('e939719b2a66bbaddd74ed139970e5a7e0b5f3cd', 0.00028100332154951276), ('8d626c5a879501b29b50cd60f17ba8d0d5f64bab', 0.00024281515973315423), ('9536bbdabda55e299e0583fb48d41d2605483e94', 0.00024281515973315423), ('b12c7c4125d442fc9fc7c6f7509ff8ce6fd274af', 0.00024281515973315423), ('3dc7fb0dc1310c4766967be14bb53fc23abda932', 0.00024281515973315423), ('b5c2b952e0bd42086644cdf12d1f6910720a76dd', 0.00024281515973315423), ('ee3432bc0586b19b8c576292b0d5b0c5e45a395f', 0.00024281515973315423), ('e9e01af30f1507555008f4b0a1b83ea2debe6f19', 0.0002789706810665257), ('00ac1ffc1f0bfd1a4598d143064c323c577df67a', 0.00024281515973315423), ('a6d087332d4cadd9a90c8c4aa2c122413033cd9d', 0.00029239669232386067), ('7fba53b652d920b3bcb71893814d336150335c66', 0.00024281515973315423), ('8c2f2972518f5dafcd2ca1bcbcbb9ccdf31d918a', 0.00024281515973315423), ('0548c96de57f8fad3053be706e094320e14c10ec', 0.0002529638990383737), ('e6dec25eead54db490aa80a7f2ee36d0139c98b5', 0.00024097305900076284), ('8acf1ec907ad22d57c1dbba18d9d4ab2b1d1543e', 0.0002561536176050527), ('e4e6f0afca17f79dc7a1ab671ab5ad448e97ae7d', 0.0002561536176050527), ('d7de9df4dd7c579651c4b4189cfda6810d2cf032', 0.0002534546746739622), ('db20d81d40243d66ff90f11b5c6f058d43d3701f', 0.00026375091348228134), ('158506c9db9ec99ef23675bb6b289673009b38fc', 0.00024024925856238184), ('57dfb9302e930d8bf6f7c26b87e5b82431bf79dc', 0.00024024925856238184), ('03e425482988a0a2fceb245c6c373a2e3c841ac0', 0.00024024925856238184), ('5986dbda3e05745595670a9f8e64944b10e9cb8f', 0.00024024925856238184), ('33e24619010c833beb08d2df38cf28bafa650f8d', 0.00024024925856238184), ('2b85527d066dd4475724d190943196c053495c5d', 0.00024024925856238184), ('6870c750ac03576a82e23f238227015aa596434a', 0.00024024925856238184), ('18f123410c49dd3b8cf162d527c868e4e40e2564', 0.00024024925856238184), ('074e0ae7b19af435c9486392d68855dc6132d619', 0.00024024925856238184), ('58139ebda484a3b857db2d08f94ad7e8f7cc7686', 0.00024024925856238184), ('5c07c93ef0c16be9368c3c712e69b239271360ea', 0.00024024925856238184), ('f8a727877dd258f80eec6d075a3d440c2ac98d36', 0.00024024925856238184), ('f440566df837b5be18be456eef47ed8f6206b66f', 0.00024024925856238184), ('bf18ece0f8f962474ffd34297f0fcb49f4e55c57', 0.00024024925856238184), ('b396083d07de0c45c7f1a3d2b98017801d15dad0', 0.00024024925856238184), ('300cac3d7b8ff14a4ee1aaf2345e55b7d79f1790', 0.0002410979922778299), ('86eb5ad210695c51b521604d94320ad2e0d39799', 0.0002410979922778299), ('78b7bed9176cc1eab592041c95faff8fd157e1c8', 0.00025519094618237786), ('b544ca32b66b4c9c69bcfa00d63ee4b799d8ab6b', 0.00025519094618237786), ('033c08ca48aaed2d5ab0a17d668d410538678ed8', 0.0002410979922778299), ('2ac11a0b84580e88bb8c6e5edb38c92fe1456864', 0.00025519094618237786), ('819167ace2f0caae7745d2f25a803979be5fbfae', 0.0002410979922778299), ('d1b9a3b11e6c9571a1553556f82b605b2b4baec3', 0.0002410979922778299), ('52c6814a3d323c6226ba7df16d6d40137428d4d4', 0.0002410979922778299), ('af4f116aee6d01670b76f90a9a349e4b15446087', 0.0002410979922778299), ('fc3fb8de45d2376df82e8d43d2f4119942609d7d', 0.0002410979922778299), ('03f64803afaf312a3b299fe1c2bc26c329d43747', 0.00025645154726771827), ('fb64dcee40eda740389d0385455c368a305bf8dc', 0.0002442437389943122), ('7189914c398836d234bf4e1d7a581f795ffbb90d', 0.0002442437389943122), ('10557902eacd64c443493c8291ed16b1fc676442', 0.0002442437389943122), ('9534939ce648bfc23000ec3e6a8d114e6224b7f5', 0.0002442437389943122), ('d9e92ee8d60d9d9fb4d6c31eea8d12dd4ac21c13', 0.0002442437389943122), ('6b724755aaf9b5afb526e9f8ba3df73fd44d26a1', 0.0002442437389943122), ('bdd3025b6753dc9364170c467374d9ad42e2a475', 0.0002442437389943122), ('22ce86429439dd963f5d67175497b94c7ca505ea', 0.0002442437389943122), ('89d7f8991a8e3deae5adafaf55252c6064c05f28', 0.0002442437389943122), ('792e527d2d95bcec985770b88680e2964a30600f', 0.0002442437389943122), ('e5ec5959a77a80514c30af6c8618db8375da0c7c', 0.0002442437389943122), ('0dbf44863c156ab4fafedc3d017ebc4287f16317', 0.0002442437389943122), ('e273d90f87e42558d60035f88b200d379cde832e', 0.0002442437389943122), ('97af4edcd2978b535c4efd1df45243eac8ff8d37', 0.00026343280674501825), ('f4e207955d89f7d962cdd98e9443fe27dbab5baf', 0.0002511134170980065), ('811551ca0c9e74fb673ff5698a5c34380394eaa1', 0.0002511134170980065), ('f224f57fa20ee6e7526a7f0e88ce90ca30d6969d', 0.0002511134170980065), ('fec702c4fef109faccd98fb3f0502c7258970d80', 0.000260059338682843), ('85410d1078a5816ad6419da27ee17e97661435f4', 0.00024020781666675206), ('c24f3b54286c987a2abec4fc63b569af27c31471', 0.00024020781666675206), ('5e0e3955dc70fc7dba67fa6a332bf55d67e87b95', 0.00024020781666675206), ('dca59c4536d9045ef7e6c514f5315e19da5695a6', 0.00024020781666675206), ('6d0100a6d8e3be6f51f80e1668870acb00f6fa32', 0.00024020781666675206), ('566df4f3189155a84e10fb4c48adb370c34068d1', 0.00024020781666675206), ('11fb274bf7d843045704e221a1cdc5af80e11579', 0.00024020781666675206), ('df512f9bdaa045196140c253961a6cb377a2b907', 0.00024020781666675206), ('946ce4354c990bf37f3393b19fd896e525240377', 0.00024020781666675206), ('d2d443cd8f26340d1daf2d4cda45bb450a3098f6', 0.0002614892185862028), ('5e698ed0a4e2a3d8a2ddb3a1682ed569d1066f1e', 0.00024020781666675206), ('83083c5760bd1b58e5f827e57415e5ed676ef3bc', 0.00024020781666675206), ('95069a2d3bbfb885580c2ee08b5dd00c8bfa3539', 0.0002551089948909308), ('836a143a4bf5b78f883934e3d5de611ca747aa38', 0.00024020781666675206), ('e9d0b27eca503547f56b9e042f61441ab12d9e5f', 0.00024020781666675206), ('91bd017c1b19c36e430a22929d8de3af0795dfa4', 0.00024020781666675206), ('d42c6d60e984880ca5528159f465f4b4ca2a03b5', 0.00024020781666675206), ('614784ef42a5200cd5cfae7b2ea5a3d2cc763bca', 0.00025120373291022955), ('c341dcd2162a11976f20131421ac7e65167d52f5', 0.00023983030300040516), ('1b4ccadcc489a354bf74ec89960bcf8824daef65', 0.00025120373291022955), ('d88158745b69f5732397175389101e2d98799c00', 0.00025120373291022955), ('c4c1c40b63707a5936ff20e9220a596d37d1a1fa', 0.00023983030300040516), ('426f2616b7531c18fa6ecee1abc75baf0ccfdd2a', 0.00023983030300040516), ('2e68442733604d3ff3f9fe5e62201ffc4f1ea951', 0.00023983030300040516), ('bf3447b4c5fd98b236f408ff86d1f8acfd467676', 0.00023983030300040516), ('ecb81c5d18e38b29316da77f69c8a36d5b98f196', 0.00023983030300040516), ('d197473a348efadb23a6bb52de3476fdfdfe7dec', 0.00023983030300040516), ('219bee9fde1303f423fac52ff373f19552c60d53', 0.00023983030300040516), ('f8177af5f696b2feb9de679ba35de8420433fcd2', 0.00023983030300040516), ('2760c75dde76cdcfb45c78facc9d880c2bd03cf3', 0.00024110973392982125), ('1ccde1415cdcb7815a6bc2c975555d288809861f', 0.00024110973392982125), ('4e853c29996684ebfb6d59348f508a9258de03d5', 0.00024110973392982125), ('69bc7c9029af92827549e14d96de8ae015678b11', 0.00024110973392982125), ('e968d46a904c88cc15276d99ee7884469e30106f', 0.00024110973392982125), ('c427b07b94abb0c3a73850948246a21099970022', 0.00024110973392982125), ('a9d45da99245c6fd72e288b8d476db47cb57892f', 0.00024110973392982125), ('d44b267f7cb250da1a5218a4d52860317c81088b', 0.00024110973392982125), ('4dbf4359da59e7091983fc1be7dae091a502c59e', 0.00024110973392982125), ('786c626f7127743d3a42ffe8c1fdc717957fc37f', 0.00024110973392982125), ('ad8c2bf71aa9f8f95bc450ea03b0cbd033da2d76', 0.00025426796706178994), ('e1b9d11efa3362ed6968c324ed3afd616a4241bd', 0.00024110973392982125), ('228273c1beb2f54a56dd19a650e73c10780044c5', 0.0002535145914003754), ('2ed0438c7136463c7d742c99b525299268fe854a', 0.00024093848876378016), ('6d7e7d102559743cbae81ea0b4ec1f040f17a68f', 0.00024093848876378016), ('274fe6d15b7d13d9514976fad2cfc8f744bb8c4b', 0.00024093848876378016), ('b08e6cb814868eae2d0941372efd1e23bd39dee1', 0.00024093848876378016), ('40257e46141b0f0533ab8ac93c3c0dcbd632f105', 0.00025844763769360823), ('7126c8faba2c2ba9bda04c0a2a0c7ce51572d98c', 0.0002465046481083858), ('67c8a6b745d9df926532189cb46f84975050d7f2', 0.0002465046481083858), ('3d73c7eb861bf3e8df881127a4267bf813d35c9d', 0.0002465046481083858), ('b36587ac104b5f2bd9cfd0bcf1d99e2b0954ec8e', 0.0002465046481083858), ('c200ac3ae8083fba1f3a7027525265ee0e68932a', 0.00024196047484398666), ('14ae68a383e1cc35d8c02e5f858491216e740480', 0.00024196047484398666), ('d1552ac6cca0cb868472a1459bf75a2dfaca8059', 0.00024196047484398666), ('a3650764669059b7e6dd81608405435222d43d6f', 0.00024196047484398666), ('4ac60f2a8d82e1f55fa74bf5e8e2529c198fe660', 0.0002662101387470738), ('a63a1a6219106269bb91b6c6e5c82e34cd16b4c7', 0.0002528022231223802), ('3a9ac634399c8565a2cfa2ccdf88aa8e3726e4ed', 0.00024196047484398666), ('e2c4112109be2a2c3abc1878dcbbb9c078bbfc1b', 0.0002637408267968978), ('2c0c8f77275c38fe485214d254e06823c9433695', 0.00024196047484398666), ('22bda2439a0f1b2929dbc069c5205896a48491ba', 0.00025378251490660355), ('0852ca8b92a957a016e88b380bf4445f88ae849b', 0.00026032115979418715), ('594e4c6cd44a4c505fd3b0f225b2add616b49e44', 0.0002474686922399551), ('64cde7d04c3fe506286eb4f6d4f65cf9bb9968f9', 0.0002474686922399551), ('a5c6968aabc95eece01d61484f7e24e279897d8c', 0.0002474686922399551), ('38a3511f5ace7871aa6b0a51e8a3ea62dbc24e14', 0.0002474686922399551), ('6e5c1be5d62f534114c70170a53c787a9e118cbb', 0.0002474686922399551), ('e0b0b46107ee943ff3739146b17cc7523bfb90dd', 0.0002474686922399551), ('dea5aa0d76331724ff3e7f301719c536cd8e0587', 0.0002474686922399551), ('becc21aed36681804997ecb5df564c0a77ac333a', 0.0002474686922399551), ('7f28b0048d2828e6a31f7508004a031685dd4919', 0.0002474686922399551), ('69dca46739f802219e4ae2f68782bbf0d833ef0f', 0.0002474686922399551), ('6050d3b64eadae2ab87eaf9030cadf5ff871c929', 0.0002725566831671645), ('a441052a8c01ffbe6f95e29ce44d47c8e2b6ef79', 0.00024822094771125697), ('3b0c85d6195b28277e0e847a2ca496936f750145', 0.00024822094771125697), ('674e20e42c8bf6285989e2e3880170e3c5a78834', 0.00024822094771125697), ('27ebbe7a8fba498ed918f33bd2b5188d2b83144c', 0.00024822094771125697), ('8a5b513d7bdc4bbb15cec34a1963ba8a34bb917e', 0.00024822094771125697), ('ef33b66c0f95700e20ab4df8f96b7e43c67f98bd', 0.00024822094771125697), ('aa2b30f8efa6733feec9ab32e2c8b70a5c65c2b8', 0.00024822094771125697), ('6fadd5b08391b0fd0b9bf9f6c18b2dc3194907b9', 0.00024822094771125697), ('679a66e4a87f9ec1f8ac84bddfe27d16c671b5a6', 0.00024822094771125697), ('f5ed4167776fe75cb69a6c3d1af7185e66d151f1', 0.00024822094771125697), ('e60b6836b45ad0ae02a5fa663c8c31119f0c0a94', 0.0002526385645271331), ('38212997a6e8c55141574c329bb58d2eadcb0db5', 0.00024082374667953155), ('a92d2c468835571f3302ce9299fdf37b36c2e367', 0.00024082374667953155), ('ed00842931ebb0db2c634330a77c8dee6f77e547', 0.00024082374667953155), ('d79d8ecda2cbb3712a021d14c50278ae4c3c1cd9', 0.00024082374667953155), ('b3ccbba3b77728cffc323d8d4bc3ada615e8e273', 0.00024082374667953155), ('5b5f5ece7e73317ff1d66a6a79372c66ea960a2e', 0.00026394452291531636), ('6f4093a7ad5378e8cd3b73a52fbec80b784c107d', 0.00024082374667953155), ('3093854172b2912db6ba8da7021ccf373c796639', 0.00024082374667953155), ('0acd7ff5817d29839b40197f7a4b600b7fba24e4', 0.0002635652992237113), ('efbe9f591090018f78b42c84613c8afda9292fdb', 0.00027538011707131313), ('e775e649d815a02373eac840cf5e33a04ff85c95', 0.00024082374667953155), ('2c9fdba6bf846e0986cbbf30d56b467d9e334333', 0.00024082374667953155), ('9fa283d4f9c2ed991383c0434ef6043bee0dc8e2', 0.00024082374667953155), ('4f5a194ee365b074dcb0434e9c2eb976f6f32298', 0.00024082374667953155), ('6140abf6acd1a3594a69c24edf1cbe448489e6ef', 0.00024664071707788374), ('06c8cdd8c517e45adcbb519d77c897aaa6766282', 0.0002808781155637681), ('7b10ff58096da3881cd5b9f82d4559bd78f2e637', 0.00024664071707788374), ('9f9bec2b0b27fa6995940fe493418e400ebc7420', 0.00024664071707788374), ('bb7fb4ab8c09937d7389f06839361be625dc062b', 0.00024664071707788374), ('74669631d3f1fcc06d0e5e5daa7e4bfd5b6f6b59', 0.0002793231616260228), ('95c466170f60cc5a652b51ec23814320666a4f73', 0.00024664071707788374), ('bb431f8dd5df4868eac2028c926eb0f010d30eed', 0.00024055123603844376), ('9b223b9e9e136680d8f6934ea24b52ce3cf3ed43', 0.00024055123603844376), ('3c75099ce09df4a364782a3248a1f76c8da603a6', 0.00024055123603844376), ('9a41af609f3514dafddbc2a2d31b972e17475221', 0.00024055123603844376), ('3deb69a3153c3a011c4bb1e8d9f9553548577033', 0.00024055123603844376), ('bf0674362e418e10a76ba3509348e18f2b14a0c5', 0.00024055123603844376), ('90ebfcda74a92a9111f330951e2e5bfd871ff952', 0.00024055123603844376), ('ef6abdcbd0871cb356e8669b6cdb31ed8b013cc2', 0.00024055123603844376), ('dc421786d8883d99f3709da2b68ee1f3a3643894', 0.00024055123603844376), ('757993ad8c3574857a01906d2b46a5909882a4fa', 0.00024055123603844376), ('b2662b3dd67415f75722e128a62a527c6ceae396', 0.00024055123603844376), ('b363baf921caf973a966b5498443a548fc559378', 0.00024055123603844376), ('8b6b0c1139a3ab405e6df58aaa79305867f453ef', 0.00024055123603844376), ('8acbe90d5b852dadea7810345451a99608ee54c7', 0.00024055123603844376), ('ce52577e4f7fe983467f4983d42a7f3473193aee', 0.00024055123603844376), ('5d317135562c408aceceb11adfac0ccdc8ff68c5', 0.00024272523695976648), ('66f536f7e2ef072f021207af9e39d813a96e0ebf', 0.00024272523695976648), ('72a09f4e482a405ac3e0691400338e989b77b5f2', 0.00024272523695976648), ('807e198558c26d4be621eb6fffacab08ebf0eb26', 0.00024272523695976648), ('d95def7c56453df7a2c2b53dbe7bebc52a9dbec8', 0.00024272523695976648), ('ac41d7785f10208e66bca8b722e9992ed2ee0477', 0.00024272523695976648), ('064c076d37748844e6bafa1bfc55513d42ba1b29', 0.00024272523695976648), ('e34f9063ce56948f919c4458ef5d954d61676d97', 0.00024272523695976648), ('be6d2a227049c50e64f857469185751b301d1500', 0.00024272523695976648), ('302e73be5a6f47e81abdd562605e5700b55c16f6', 0.00024272523695976648), ('389250f71549858554eae9c5d6778b1624cd8c1f', 0.00024272523695976648), ('2bc472478247173b25aaf5e12f2604a74a8d2063', 0.00024272523695976648), ('cd94cd76627c1a9be3fd91acfbb8323a77baa061', 0.00024432333747290787), ('385ad46d69b49e422583178cc5c8814d520e383f', 0.00024432333747290787), ('c2bd19673fa22b01a516ffeb1e8af6cca882567e', 0.00024432333747290787), ('af257199d04543437b57781afe9f3f0e1d43d430', 0.00024432333747290787), ('dc8d88a23684f344ee1564634066cb3c485a197e', 0.00024432333747290787), ('9a20bcac2213253b054e990ce00774c26f67ae63', 0.00024432333747290787), ('70b71aed928bcf39acfe0ac58ce4443f6fba1b54', 0.00024432333747290787), ('630f70bffa9a3ab30aca3ee620c763c0517b8203', 0.00024432333747290787), ('5dc0831b7d1fdf9cacc7689e92967c5d0a3b9c22', 0.00024432333747290787), ('25bc69c6343c711f90b7aed62f11e0393671d023', 0.00024432333747290787), ('e3a8b8b9300e05321ffa92439d5c49bd02d99e50', 0.0002455464672019182), ('f451015017417fb4d45bb084cee73ba3318967f7', 0.0002455464672019182), ('12350ad25eddab793bdfc64af9c0fba46d03366f', 0.0002455464672019182), ('76c03bc14aa3ee387d8ebf4dc3b78276bf9103a8', 0.0002455464672019182), ('2c3880954cd76ed2d5b86dd4faf151f8b0bd7ec8', 0.0002641594935315184), ('e3998e916c7f944745b4599b963c736135a304b4', 0.0002455464672019182), ('f8f3134cdbd3159f15144cd630ee24343bedcd6b', 0.0002455464672019182), ('3581e7fee260cbb92ba7356ae6569fe8659227b4', 0.0002455464672019182), ('d8239a910afd9a6400d03dba7c50414c5f2d68ca', 0.00026880656971703604), ('4593068aeb2b2fc9d961b14e656d1b1afaf8a872', 0.0002455464672019182), ('ae32cc948e196ab3dd9f8e01a5cd0cb128d92e72', 0.000256875764527751), ('47ec115fb91adcd00716467fa038b0507ad6ac41', 0.00026880656971703604), ('f020b386f5a2be002e09b17cd348c388cc1199fc', 0.0002455464672019182), ('ad3830183f3620c475b9d7d1304823dcd1dc7dc2', 0.0002455464672019182), ('96660e0f1664a44dcfa5659006c2696fe2543d07', 0.0002455464672019182), ('97008b8fb65fea3e10d4d4c1b5315f39682e5f3d', 0.0002455464672019182), ('e9852705307b09b6b067c91973e836a182e68503', 0.000278038405681287), ('f227c76e3fb7924abcc54911ce2e18070e236dca', 0.00025145218122634767), ('8fde5f2e4b9950e708aeaf3a0c6f47037cc5d6a1', 0.00025145218122634767), ('dfd4fe7fb38f148ce0fcf6d5b6771245ba26be9a', 0.00025145218122634767), ('64f5dad3c616a1c34c788c166e7df3d3be7a6fb3', 0.00025145218122634767), ('83665e3366c67aade3e771825b2d886fb77e6b02', 0.00025562827173248145), ('8ac566e14bf837f3525cd002aabfbdc299b0ec3b', 0.00024363743169487055), ('014ad6b5c003ecf7566570266d43154ac8683758', 0.00024363743169487055), ('a420ed5d7a8f8fd1a1ccf4c819b19d14749b7488', 0.00024363743169487055), ('91336c65cddd8546745f67a1b860c2595904ac15', 0.0002664152861763891), ('2ac0ad0afcbc73a2063f4f003592d0d216e61e54', 0.00024363743169487055), ('f9870bfdcec0de7b3aebce75768e0ee75952cd71', 0.00024363743169487055), ('ee80947b8d7a87009a2d2c9f3646aa0d725796b6', 0.00023927003051079276), ('3fcb3826469046a078fc510d66e8d0c29631b742', 0.00023927003051079276), ('008e123a6b7df2bd8b4e50377bf663d6094460d8', 0.00023927003051079276), ('92775aca1142fcd274e208608de9c12f00602685', 0.00023927003051079276), ('4d4fd9b57abf1355180c9c2d5bad583c9f235357', 0.00023927003051079276), ('48796cdfcc79768576ebc2162dfe292deddbeb37', 0.00023927003051079276), ('2898571ec05cfacf61e24822e1e6e45a9619d376', 0.00023927003051079276), ('98b4d9f0a08f0234d1881d7ca109ba712e849d70', 0.00023927003051079276), ('6d655be24eab30c37084b3f3eb4e0393af21c2a9', 0.00023927003051079276), ('1b064b6b9999958060f762809be695b777324943', 0.000263472615166967), ('e0c9e793e046d58af98a789592d81ea168e47345', 0.00023927003051079276), ('f44d4fdc3eaf3546ff3c99ce306681b82dea1f95', 0.00023927003051079276), ('68c82ad323d85a51b38a362c74c5db44e8e5d75a', 0.00023927003051079276), ('18056fcac6fc744b940a8d10ff36d42269006f3c', 0.00023927003051079276), ('10fb16414324a5db44f5d830adcb4810af59eed0', 0.00023927003051079276), ('56ac2cac5c9f4996de3cc0c344d12ec3b8e7e8e6', 0.00023927003051079276), ('ad4e5f7ffceba9dc9a8de461d0bb1c7a57bbc501', 0.00023927003051079276), ('3e496094ccd932c8e1b24189710d819b016ff4c1', 0.00023927003051079276), ('33b2ad104a71644444ffa10563c2792614a4d7ec', 0.00023927003051079276), ('1b9171593aeedca2314e539031c7c28b6de9d718', 0.00024254982699512868), ('930015ee9b741c723fc3e6504f3cb67b3fba0e53', 0.00024254982699512868), ('5d38bc57cbd2dc2da316d51ab124bbee3cd08ee6', 0.00024254982699512868), ('366f54591cc3257bbc1d7704c683b95d71faecc8', 0.00025434941081550576), ('2b7a0cb7ff419faaaec2a5c228c18ea1bd269dd6', 0.0002880584485708518), ('0b8be881b5c4611087713e7b5d823119742bce26', 0.00024254982699512868), ('5354140931564832e98db08556311fe91185a1c4', 0.00024254982699512868), ('096302a0294ff007787fe58d1476598c9675b870', 0.00024254982699512868), ('ad720ec891fd143090de390a2e800eb8e9e6eb4d', 0.00025154165568559337), ('e4715a13f6364b1c81e64f247651c3d9e80b6808', 0.00025154165568559337), ('3608eced135f5f405f0f45635ed7f44d26cd3baf', 0.00025154165568559337), ('4c92208c7062ae5f9daf8df8b06ac5378233bc02', 0.00025154165568559337), ('4bf76588122827157c43a59e656dccc6b6a22e90', 0.00025154165568559337), ('72e48f3c71fc749f0b589e02a1ce7a4f0afba07e', 0.00026374946395899966), ('0d67d3ddca1c4e370eaf1e99ec674f612c39c66c', 0.00025154165568559337), ('2c65aeb1ddb6edcf636e4548a7dcd76aac3dc48b', 0.00027123593714406384), ('28ec028c2bd8a535fa665e20a1317a6c8835af52', 0.0002521700818307654), ('ed2cb425300837f99af4cc188dbbfafc3391c71a', 0.0002521700818307654), ('b8b43e4a2b476743cbaa05451e1c72b309083e42', 0.0002521700818307654), ('fb9e348fe06882e517db6d5c5548c749324783f7', 0.0002521700818307654), ('441dd647943c4f807672a61d6b4928f9bf335a69', 0.0002521700818307654), ('d01f5f3d1971e7906d58dcc8baf9efb406c47fd2', 0.0002521700818307654), ('08d350a25720d865a52c00f3af6cb80e7af52d58', 0.0002521700818307654), ('7ddf5423b45aa8f68f07e83f2aa43b286aac92d4', 0.0002737150781790387), ('f58502f06ce5f964f65f7960edbbab9bb8531233', 0.00024973827501003124), ('6f1d7d584b39b423151488832b98880c6c7391cd', 0.00024973827501003124), ('702a6d1168a6601086817c72e6fb0f2bf2f2bbba', 0.00024973827501003124), ('2611e2502864ace363f6decbaec591a25c8e4544', 0.00026958979702612233), ('7c2517f714a9015cf1673f9f7d2e024cb2be7230', 0.00024973827501003124), ('54e8f504c3fc6b8e8e27c9a9cd7285698272c81d', 0.00026958979702612233), ('b9802c0ed57fa2027e1365272bfbf1d3170f1b0e', 0.00024973827501003124), ('53c8bc7cf08bed28493237e5004dd202077fc59f', 0.00026463945323421036), ('60a70eec9d6e49620655e334b61ecc469214678d', 0.00024973827501003124), ('8e74bfbd533a7c5d9a3d2351961ecd8bab640e20', 0.00023983030300040516), ('7fc07ff3169a8201036df815856d371388465572', 0.00023983030300040516), ('41ae69550ffc4e58c7810c630ef5230c6b3ee515', 0.00023983030300040516), ('cd5ce83ca2237072ebd36e492faf98d4086adabe', 0.00023983030300040516), ('e2f5cf0f51616e63f52d05e873da0cce49293452', 0.00023983030300040516), ('24a943ce641020cf16f1f23968d3b7ae31e6ea57', 0.00023983030300040516), ('72d125f8bdfc38b4ddfcb2e5bae13563875479ae', 0.0002625898632951178), ('ea90f772d80b0532dc3e7736a25f6551d1920cf2', 0.00023983030300040516), ('16427167f541cf06f9200dfc81ab78f168695559', 0.00023983030300040516), ('b2e4afcea95a65cf4769472654dfdb0d418bf4de', 0.00023983030300040516), ('a7bd11d13570562177c25418ff752368fa5297c5', 0.0002416151062225494), ('368f245ecac5ed1a2adc3a5c4d7c830910a6a96c', 0.0002416151062225494), ('02fa59af1e966d2c22c57c7ebd009032d7d35218', 0.0002416151062225494), ('f66476bb4dd3bb45d60be9165201f70f8a546027', 0.0002416151062225494), ('18e1d803ddde843de679ae08d0e39e503cceb388', 0.0002416151062225494), ('dcca6794546d7ec7c3349cea7e74639bc2b9e8c6', 0.0002416151062225494), ('c04858d173a19ac9dc24bf9e2f101c5a7db91eb9', 0.0002416151062225494), ('7832bb9f8f2685adeb207d688c007a0cc640514b', 0.0002416151062225494), ('5472fc060d6d22ed3b055732013ac767eb522fa4', 0.0002794187873746114), ('5e5f58be34c5d893ee49762dc664770a9dad97f2', 0.0002496063848933387), ('b62568b84529efa73576e0984cc456bb37c61baf', 0.0002496063848933387), ('0c6977c45884ec3e152d278202de5cc9c36292c6', 0.0002835315558861959), ('7dae22288bd091a2ab8d9ed8b00afe79076bbca7', 0.0002496063848933387), ('b2c9335b9dc9d0e6888b7f4d7cf70867b1358cb4', 0.0002873343150503548), ('0bee1de4d11fb7959d792822b533e0d04c466b92', 0.0002496063848933387), ('bc6865198bc359c8b38a286c4612f2663f36507c', 0.0002496063848933387), ('3a0c040b409c77c7cd97a8b33384d5f94259e758', 0.0002653521336427199), ('8273de8ca463db89c54c06018033af0c7883cd6e', 0.0002496063848933387), ('496585f00f7f4dc066dfbcef433ae3192c1c9c69', 0.0002653521336427199), ('d441591a56ee858e64d07239afd308af84669142', 0.0002496063848933387), ('f559a5a09de67821d9c77b3613fdacc32d672664', 0.0002735065971623554), ('16805cfd017a40d8eb597d7c3e48c4cdece561ed', 0.0002502372250434916), ('650862a460b1a175c4855557e8ee537ffde8671a', 0.0002502372250434916), ('8d218f4d1b21ed31c51ab289a9f0f305f8010e6c', 0.0002502372250434916), ('1c818ec06ce4bca12dd1571099d2433e1718e58d', 0.0002620592651061087), ('7525f81423bfbeaedf23b9f179a7447afbbce848', 0.00026266484888396173), ('faec7030c99bf2fa29d341bc09d351b7edfa05bc', 0.00025188998333209114), ('a94d7711320f83a5f39742f7985b17c3e7ced9e3', 0.00025188998333209114), ('df69e8c28c7f125939a1e294fea5d705038521dc', 0.00025188998333209114), ('6d99522ac8c6dda2d93f0f2fbaaba4297047a532', 0.00025188998333209114), ('6a3adc7c77e2e1e24b575a4e97a0a42c59fced18', 0.00025188998333209114), ('83b8410211e849c29d66245f4d9c1d081a647c2a', 0.00025188998333209114), ('90e9d8e87ff6895937f280a8c1038a1de2cc2d81', 0.00025188998333209114), ('e1ec11a1cb3d9745fb18d3bf74247f95a6663d08', 0.0002666372187016996), ('1cbfcc1a0d4fcec1a3e329b80461f6088dc08172', 0.00025188998333209114), ('4a980355c6e926b31a6c255f13f623b84792c0f8', 0.00028555912770025375), ('c9863b102aecde03454f050ed27b233c136c14de', 0.00024732956926552596), ('a22ca11f90516ef6e98a45848ef867acee5a1fb0', 0.00024732956926552596), ('193afa6d0bde27c6fcc005174feb7003f026096e', 0.00024732956926552596), ('12e4e2819964d184081454051b4b85c3fe747f80', 0.00025996478915813853), ('47de226ca26abd0517b97c77ac3518d70c69e26b', 0.00024732956926552596), ('a96a1b0c8fae6947b6882423a59336fe0f0e7d30', 0.0002807322683843117), ('88f9a4a16362238a8ec7f8b88b647e1e20d771da', 0.00024732956926552596), ('7cf541ec0692b55c24dc81e111ba693b74e7beaa', 0.0002690317528210168), ('70f4ff56aedf755c88cb52faf4cf17069ee5dd28', 0.00025996478915813853), ('c8ea6615e85e0df16cc52486bfdf725cc578ff59', 0.00025996478915813853), ('c49d0a7285161cab3fcf9bd953b03949a29c08dd', 0.00024732956926552596), ('c374df35ea0a85328871b24895c8af8b6438c01f', 0.00025996478915813853), ('589e66d5a2a67892512de83ca64319521223f079', 0.00025996478915813853), ('58c486ad4020177f5ed3d9f2883f3fc327b55770', 0.0002511984256347602), ('4c69fdca6e8a1f10871ab9dc47f62c81ba7ead4a', 0.0002625043840229433), ('76d40153acfbb35a7eb8272a4215854cafa10e78', 0.0002511984256347602), ('ac591dbf261777e05d89c27f9a7bcb06f88aab5a', 0.0002511984256347602), ('837c0eabe65900f6c8d5636514eb0d755e1880a0', 0.0002469582475655453), ('09800c86308450ff102f9d36df171c3d8d2518d1', 0.0002469582475655453), ('a4b404872f075c10c0c07114e7805907508fdf49', 0.0002469582475655453), ('a0cf790c3a650d8cf4d201e17a12ec84812bee60', 0.0002469582475655453), ('109156b008f569fd279bddc48ae0d462b82ca635', 0.0002469582475655453), ('d78b3af53e690f094747b72d42dbc84b45f571a9', 0.0002469582475655453), ('4abeaf00b66459938306545c3441af9c3a2563eb', 0.0002451134097768476), ('21a1baaee1956f0d9edb921bb2a4c0d7f7884c98', 0.0002451134097768476), ('1471eb64b1a0ed8180329188d6cf35c93e8d8a74', 0.0002451134097768476), ('5443e8aca3deb9dae313e7796435023727102130', 0.0002451134097768476), ('3f95b6ff3fda46db7fae313f5412759b86da0341', 0.0002451134097768476), ('0a869336c65185f078ba473d7ca5b86a371ab929', 0.0002582068446974303), ('d47f8587ad5080c831548cb3f36d7745b545882c', 0.0002451134097768476), ('9c763df6843aba88d7fb3ab3c55a5937a5f39276', 0.0002451134097768476), ('9145a80e62613acd0771d558dd35a007ed832a33', 0.0002451134097768476), ('c3c41318e114b7605151ba15f99ef4454ec43250', 0.0002527337540896418), ('b3a419ca8fa3afaeab61fe7f087b2b9a731f8c56', 0.0002527337540896418), ('8c69762e9f3db1de58e6cfece22690f9b00e59bb', 0.0002503060659897357), ('05413ea5c16302f286dabe0d0cacf404dba3ecbf', 0.0002503060659897357), ('cb9b38e3b6e2a90657b8a3285986761b598b7bdc', 0.0002648631112232895), ('606be505e35c1f4275b4a2f08a049032119e3a1d', 0.0002503060659897357), ('d0b7d8d43ee4593e7eeef6f36e731f90cacdefda', 0.0002503060659897357), ('c67332e7c0e83f77909b77c02263f8a5409c8ecd', 0.0002662397421427683), ('d464098140c03cb9fde85abaa63232fe8e7c418a', 0.000250449920855514), ('1a59f3c7f830d279961cb75b71119675d0770387', 0.000250449920855514), ('ead328aacbbe66d2638eec734c6bf460c0efdee3', 0.000250449920855514), ('728fdbf57dac01d50b6a59d03a7ab602e89c794f', 0.000250449920855514), ('bbb972d8e671084a9da69a16d1be47bda4920e0d', 0.000250449920855514), ('f334211bd04f2b0e511513620a1bb732a865a175', 0.000250449920855514), ('d449f5a2c6d2a3fd0be8e7745e10065f5ff42dc6', 0.000250449920855514), ('9be9709bc5acd3bbacad3b941bd3b4d9a632a466', 0.000250449920855514), ('4942ef23503b2808982aa91db4fc96678e6ce46f', 0.00025839919674601356), ('d313dc9a1bc32dbd70de943dedc91ec249062c74', 0.00024706989942018063), ('1d6129e3ada322fa5d086c513ab20f94d5a3d689', 0.00024706989942018063), ('ba2e4e0c5ca1b7b62e9827fb6b39af6c4b99bf5e', 0.00024706989942018063), ('3d3b525fb08e23c02ee71ec913ed7a188b7500a7', 0.00024706989942018063), ('5d264bebd0894fcb387712eb67e036073850517a', 0.00024706989942018063), ('f1fcf425e5b8f413856a49d8a8863f79bc600fd8', 0.00024161708628818462), ('6d5578f1ac452e45106c2364bf7abdd2721b9270', 0.00024161708628818462), ('857b3ca9307fbd22e52cb3c264c45a5a2e52d8de', 0.00024161708628818462), ('acbff0dea9c5db2ef256a18d4dc7fe277bc666aa', 0.00024161708628818462), ('fd15d0caac9d4e96927adb1225d53e36a35b231e', 0.00024161708628818462), ('cb796787c7587f27b815575b4a7a433568cc93e7', 0.00024161708628818462), ('fdd2d6dcac8e16ef79e7afa5a951af264c19002f', 0.00024161708628818462), ('eae099ca54c9ee12a5763f6347b91f77df2c7bf4', 0.00024161708628818462), ('d032d7b4a232a736258aafb8c1926512cf37d0c3', 0.00024161708628818462), ('81ee79638113a225e01929def2a74374a64ddfdf', 0.00024161708628818462), ('f216444d4f2959b4520c61d20003fa30a199670a', 0.00024161708628818462), ('77695dfee8042ed09af5cf935d436cfebcac430b', 0.00024161708628818462), ('7340f090f8a0df5b109682e9f6d57e4b8ca1a2f7', 0.00024161708628818462), ('cf8e2b3a9bceb5c80a2b5df454e69f5c76bc6da7', 0.00024161708628818462), ('af2bb4fa5fd18aa854cf5987c421fb9a1113d901', 0.00025304184699085215), ('2db7509dbbe4a05336f1f3cb6ff7fb02de37308f', 0.00024044771312819161), ('314076656c9e684c3f79e040b92f32c0afaa6d7d', 0.00024044771312819161), ('b81258b74d3b701433964ff3de257c27a469faf0', 0.00024044771312819161), ('493a72a6af9e6eaada8e6a0c8c584cd1252b63c5', 0.00024044771312819161), ('e37daeaa20bc8cd68db07641201faf1db3b8c31d', 0.00025304184699085215), ('3d9f880418a19067a6bcd04a1d81af098f8a3b8a', 0.00024044771312819161), ('e0f73e991514450bb0f14f799878d84adc8601f9', 0.00024044771312819161), ('3a50bff2b3e06e3af1e419af112f657ea5e73993', 0.00024044771312819161), ('379d69eaa96d31e8add3a37477dcd1cfd153a3f5', 0.00027090314400931046), ('f73d5edb86895698007538887e90fff001b2a9e8', 0.0002688693409785327), ('b5d33a3501214b7121cdfef4bc15f007da0008d3', 0.000246700559353136), ('5cfc112c932e38df95a0ba35009688735d1a386b', 0.000246700559353136), ('48aced1b11e6a3e16dd1f1ed9d0823e8eae48729', 0.000246700559353136), ('dd30a98f5274541f018a762fba46a0730519606a', 0.000246700559353136), ('1aa245db626691d092f263210be486cb6d8023a5', 0.000246700559353136), ('6df4738784f2018ec2b8b7092016543832313719', 0.000246700559353136), ('d6a6d8f56c5db24bfae7c614f21195dc0e89f4a8', 0.000246700559353136), ('8d3e71da2cb665118b6f6c4b4555781d43cd4f4e', 0.00029307192563470696), ('d1dbf643447405984eeef098b1b320dee0b3b8a7', 0.000246700559353136), ('00ae3f736b28e2050e23acc65fcac1a516635425', 0.000246700559353136), ('ad43db57322ecfc02ef09be9bc7ad84162a855ba', 0.000246700559353136), ('dbb6c098c7adf0ecd8392ac4e9b70f8b2fa3502b', 0.0002621659108459263), ('12220a63d1f4d2a2c00a06f18d753755255d6038', 0.0002621659108459263), ('c0fa578c1fae002e02834806a576d811002cb4a4', 0.0002513524294418783), ('1cda3472ac6af5b8b0647a4f1f769ed17cceca85', 0.0002621659108459263), ('d05d86db86a4ac0d95e6dcd951b42a9651939793', 0.0002513524294418783), ('10b0d53c0a8b3a85bb108e1eb436e7d5783085fc', 0.0002513524294418783), ('a4564c2dabb7888ff7a6e32d0d730809a98b7eeb', 0.0002513524294418783), ('9703fbf0cfcfc063351ae20153b2757dec63e452', 0.0002621659108459263), ('a350f701176355fcdc1eeb7c65648092aa1567f4', 0.0002406646813639867), ('fc60fd59ae7459a05bd6c47f1de6a2c8c069845e', 0.0002406646813639867), ('6c2b055238717bb37145b140511c0c595dd27854', 0.0002406646813639867), ('d95c7683cdc908e53af496eb5d3ce6bd6c8f5053', 0.0002406646813639867), ('fdc35a9e0158579500309fba3e3fc37598a3b93f', 0.0002406646813639867), ('fcc3a62a587adfbb46adeb4b042f4c9beeb545f6', 0.0002406646813639867), ('028b3bd3f4a16d04059bd5756f9024c224d91128', 0.0002406646813639867), ('9f35b0577ed27d0b61871df1bd357b0e3445a5aa', 0.0002406646813639867), ('236ec533889beee103df2e5b44a6250484362bc7', 0.0002406646813639867), ('1a39bb2caa151d15efd6718f3a80d9f4bff95af2', 0.0002603589628224569), ('7040c149b797506426177d23d5ab52d402fa0fd7', 0.0002603589628224569), ('7c6de5a9e02a779e24504619050c6118f4eac181', 0.0002603589628224569), ('e49ff72d420c8d72e62a9353e3abc053445e59bd', 0.0002603589628224569), ('c41eb895616e453dcba1a70c9b942c5063cc656c', 0.0002603589628224569), ('f09f7888aa5aeaf88a2a44aea768d9a8747e97d2', 0.0002406646813639867), ('5e925a9f1e20df61d1e860a7aa71894b35a1c186', 0.0002406646813639867), ('18b47b83a373f33d6b902a3615f42c10f7600d72', 0.0002406646813639867), ('34f0909c213546ca92c0dda262e0b98ae36564e5', 0.0002632804701242528), ('3c281d64543749581b44b1f194dee10d437bd48b', 0.00028482546647252586), ('4f478438f12a9e35800618ffe1664f49b619153e', 0.00024077626273759215), ('15d398cf7dc6b1f4df880e3d255d492176002305', 0.00026232125908586527), ('4c13d7dde418c33086a8f6e37ab184dc5139d16e', 0.00024077626273759215), ('31f0185f5fc42a38f5b4a5069d081d549ae5fb17', 0.00024077626273759215), ('cf1cec338d68bb3894a73292204c661fc7539d5d', 0.00024077626273759215), ('49f9cc900c7a5b51c3ffaddd98b2dcfd095011a5', 0.00024077626273759215), ('f0959b291381e15ecc31502af6bad4f22cdd41f5', 0.00026232125908586527), ('414a0e226aea2a77a2514e4c87f67853b5f642fa', 0.0002632804701242528), ('d24518ec24026d4969b982b18f0a6b295cb72b60', 0.00024077626273759215), ('bd408036145a4383aaa671c1d093c9b811a842cc', 0.00024077626273759215), ('67c545412446d97e2b8f031c87d4a27df0a7a237', 0.00024077626273759215), ('5c28f1f8b5e512eee06fb46844a33ddd51fcdd87', 0.00024077626273759215), ('ed5e7400047aa94ef42b5c3acec542bdc8b757c5', 0.00024077626273759215), ('6915ca1af5ba2de9828fcba48b3ac0cd454aa044', 0.00024077626273759215), ('be6a7d3f90c6a9d2575bf42745a3e27fe17884ce', 0.0002483083951066715), ('8aef04d7118798dc83b66ee75d790ae8429f81c9', 0.0002483083951066715), ('b61d31ff4fe4383e7511b8b261971e39a357b48d', 0.0002483083951066715), ('1dd3bf7b02bb60c789fc442d14fa0be3c785a0c0', 0.0002483083951066715), ('31e4705c75f872eae78db20e82151f27801bdce4', 0.0002483083951066715), ('ff095e2ff082fdb7e098e624bcd950f56b52d96d', 0.0002483083951066715), ('87903eb5b22a4545b774253921ee7fcd8119b15f', 0.0002483083951066715), ('d5ae5b3d97b52db12c62ffe3c4db2910f720851a', 0.0002483083951066715), ('bc868ce9aa25e3ee4f6dcc8bd74f69c2e82d9753', 0.0002528386147319804), ('64040e68278d9d4fb4e75bd3be29613821543bee', 0.00024027553819595002), ('d26fa0beea05aa96754d1c9666e34e1c25dcb550', 0.00024027553819595002), ('7ffd671d1132cb87da4b36bdfa902d60b196bd48', 0.00024027553819595002), ('e4b1856234be45606881873ae48d98b40741ea26', 0.00024027553819595002), ('9e46bd9ae0eec5a7b8cba691bf1cbdfc4280d2be', 0.00024027553819595002), ('1d9e7cb412d10aad7295515827ace8142e1b4ff7', 0.00024027553819595002), ('7deaaba89e8245651ba39ea75cada71f6b17d39f', 0.00024027553819595002), ('3bf875aa8b52b8390c30e30296ee0e6650298ea3', 0.00024027553819595002), ('6a34c86d941566c29f05013f02e0f8a6e513e3e5', 0.00024027553819595002), ('c29ae553d0bfc3981042899ce8b99b98f2c2bdbd', 0.00024027553819595002), ('0561b397a20d09bbe3dca7c7d8785b9f25a38716', 0.0002528386147319804), ('de3bd091e6f7daabf32b6956b15a77e9fb7643ec', 0.00024027553819595002), ('d3ebdd64aa62f4d92444aef8e6504b1e04fbe260', 0.00024027553819595002), ('a7c4633e005a48136e49b8e38f34958f4881b888', 0.00024027553819595002), ('d9bb990b286de15102ae3edc7a4f72c098cfc644', 0.00024027553819595002), ('008ec8443a275fcf2e2cc24f5e4d74327ce253c6', 0.00024027553819595002), ('f933350d8a188768a177f276dbac1e3c42b17eeb', 0.00024027553819595002), ('96bb9a68802e73707cec6028e337674b4c61578a', 0.00024027553819595002), ('784bf92e04236605a0e6621d76566e34a0838358', 0.00024027553819595002), ('51fc2b5afe4aa541894a94cfc06a6cd1b007b401', 0.0002565087136700741), ('8bd38dfb052bd15beb9be2ba7d1cbfddac0b631d', 0.0002451870755498563), ('e43bd55e097ac0b0c7d0c405b2f6a79c3c665712', 0.0002451870755498563), ('96cb79c770ab30506c9dc178dd129eb27fc9853d', 0.0002451870755498563), ('1b1d688ca1e130f496468511b479e14ae08c2777', 0.0002451870755498563), ('9e2feabaa17f3019455082fbdfda1e7fa68f1324', 0.0002451870755498563), ('a8f4acc0041feaad69abbfd63a509a41a081969c', 0.0002451870755498563), ('925afa0f1c978eefe334a022c69cb4c00e0b8124', 0.0002451870755498563), ('ba85f2786563dce6801534c78bc40802322a468d', 0.0002451870755498563), ('e7ff64fe7e07aa36d7daee4b8030ac1fd7a19c42', 0.0002451870755498563), ('318abe78ac4df567e812ba43e49bb10bf0da17c9', 0.000241032975727176), ('d47ac61d72a8287b3d28441c4329c81e9ef5ccdd', 0.000241032975727176), ('393302ba429287b6ebaba6e91b8013e0cf0141b6', 0.00025291287723778984), ('ad4355016b60c83ac585bff29b124ee1a9767d14', 0.000241032975727176), ('2c4194837fa408b63d52599b2b98f19b76ce6a67', 0.000241032975727176), ('7534e966db99d449d75090d5c7f340b03c1de418', 0.00025291287723778984), ('3262e77099cefe24cff1308f204e673cac832451', 0.00025291287723778984), ('5ef020fc4161e7b04f4df8717f80216ec0a1ea9d', 0.0002623820440834379), ('9251c9006c14e578eb9ee64ea75459ed07a07944', 0.0002403998626758029), ('fbcf387dd501ebdf16588136d54908f5e5ac6197', 0.0002403998626758029), ('76d0b8a7927d22a39a71b92d5914e2377e786f47', 0.00025614561142518386), ('7a5dc9c99dc7589aa3ae4fc5ce4848704099493c', 0.0002403998626758029), ('ca25dacb5c20fd4f02e93bfc5f2926389c9ce789', 0.0002403998626758029), ('0a4366365962f3db61252f5d73bbda9f609b59c3', 0.0002403998626758029), ('e82b3dfc8ee99783e9741aebe94f18a8f2558b8a', 0.0002403998626758029), ('d0d5b7e7fb40501888e287cbe3f4158e9ea801a3', 0.0002403998626758029), ('dee153d1f6d1eedf618dc1efac91bb88eedaa4cf', 0.0002403998626758029), ('586b9e777e6ccf049d15e14c4be1709d2bfd7664', 0.0002403998626758029), ('224d2e354d602e20f92f437daa08f7e92c711380', 0.0002403998626758029), ('7920f8ef0b82c299851e99ac1b3a7ff3bac9f1e8', 0.0002403998626758029), ('7b6ae33599e0503a6ee6cf84a1e334fd2fbd69fe', 0.0002403998626758029), ('e4cd1ed717da6a347343006347c1c63d87e05144', 0.0002403998626758029), ('d4204637c7008b0e2f2f5bb77715d3a769ecec25', 0.0002403998626758029), ('93368b064c69fefa30c7b07fb5a83632316cccf8', 0.0002403998626758029), ('41f2b4efd222e50abf3af4bf13a92c962556faac', 0.00025112066143159116), ('daed12e232c9fadd083a9d58b2971ceb422560cf', 0.0002402789131531976), ('f7340e226780484b45de88380fe8579781140d7e', 0.00026354828527206135), ('2498b3c6fb8457270370f3a119b16400dfc9f122', 0.0002527065369936675), ('a9419034c02b66d28d125329d668be16ed545b93', 0.0002402789131531976), ('d70cd0ff16272ea64074da3af6dab306fbac60f4', 0.0002527065369936675), ('ba1890e824bd6f2ea1cbd561c21cffafe36bf8c2', 0.0002402789131531976), ('669077cd16ff48b18487ecb9a9facb63ed205e1b', 0.0002527065369936675), ('e53e399dc18a9212fe8415869bfa38de0d8c4338', 0.0002402789131531976), ('ece27e349d815bb8d4fa286a0f6febb8431dc538', 0.0002402789131531976), ('790a7815964f4b4d9ab50dc7fd1cb2cb9fc236f5', 0.0002527065369936675), ('3a733d169d4de7ad770bcfbbd9eb4496ad07b775', 0.0002402789131531976), ('3e402735aa827797d2a52de9a9d7e37071edd33e', 0.0003740344589712873), ('77a98d49e435169a1e7a3d762a52a35f277214e4', 0.00024130934064481259), ('164e14a497f49ce5694c48e1c04a3125aeabec6e', 0.00024130934064481259), ('ff97adbdf7ba45c08c6abe277aba04b41e85e5b0', 0.00024130934064481259), ('1d2a7d14e2573cf1015c43e8ff782f9491dad1a7', 0.00024130934064481259), ('04e247b67e3579c5fc25f772555fe3fb6c3038ed', 0.00024130934064481259), ('cad962b1c7e912fe5f727bfc37f7d884ff4ecfc2', 0.00024130934064481259), ('c62fdc1881dd26001b8f7eff582b4d615762754f', 0.00024130934064481259), ('136173a55ffd15c8bc740b91fccf463ffa41571f', 0.00024130934064481259), ('7e588ec59faf9736c9b981492c5293a2e8849858', 0.00024130934064481259), ('588336811ef775391d45138d9c1684ab22632f53', 0.00024130934064481259), ('d3c787ccecad58b78c86530b780531dc7ee254b5', 0.00025605657601442084), ('70ec156f7e6de0275c7e4e95e35f1bc1e92e29b3', 0.00024130934064481259), ('fd41c526ab65ef21a43dfd2b427f8eaeea6c35ce', 0.00024130934064481259), ('846ff7afb7670d62f88b4a8cc99d306ffb81b075', 0.00024130934064481259), ('d2e05b456fe3954e8965ebd8b12cc03e348cc23a', 0.00024130934064481259), ('f01b512314420d53fa4209d732aba1ed77977730', 0.00025605657601442084), ('f5fbdbb31301263a6a5f67bd6dc485edaa3324e4', 0.00024130934064481259), ('546785490ac417be1f83ced6a8272e934934f411', 0.00025605657601442084), ('76fd81e9b067c4f812cd0243af28a1aa1c796a49', 0.00024015738865387548), ('bb28df836398692ad3875919cf95604def38c9df', 0.00024015738865387548), ('3a69abb6ab977c21ec869b68fd67cba60bb4828e', 0.00024015738865387548), ('28b9191ee50438345b471a317a52ac25237283ca', 0.00024015738865387548), ('e11b2d143167d770e4c954bc6817d8f136898113', 0.00024015738865387548), ('8bab0db8c7818ff6b1267e6e38798f650176ff6a', 0.00024015738865387548), ('263f49bf19eb3a64a3dce130dac6d669eb5048ae', 0.00024015738865387548), ('fd560852242413ba6999213f1f87b6057c021510', 0.00024015738865387548), ('5550156fb39afd71919bff9a01faf21e3700fb6c', 0.00024015738865387548), ('8c8c9c0ff996da9a2e8f8387788903e21a4c3668', 0.00024015738865387548), ('9c53d3569c141b2791b193e5dcc52fba8177710c', 0.00025279260854648783), ('65524aea4b6f800ba79404b81ced89fddb887932', 0.00024015738865387548), ('d83930212ec8c55b806523c06757cf2a7e6fbecc', 0.00024015738865387548), ('14b7c9ecc6a379b8cf7b6afc4b8499045ad2970d', 0.00024015738865387548), ('4be7d188de85050f8b585b8bc661052462dde621', 0.00024015738865387548), ('2b7902744b60319cadf7cecb14d3ab6a4bcdd1dc', 0.00024015738865387548), ('58948de0c5462633e97d21cda696081062148b2d', 0.00024015738865387548), ('b48c07298c5033fa94f2e76fb61f5ab835bd8b02', 0.00024015738865387548), ('a0964686d80e173529efca6377f47e6a1b2fe69a', 0.00023976283147876363), ('fc9bafc76d2166ac6d3a393a867e2d32b835f9cc', 0.00023976283147876363), ('7d2a78a1f713b71c3a337247d042c5c2f0b2da84', 0.00023976283147876363), ('968f628c3d42dbfd16fd4516e61cfedc16612310', 0.00023976283147876363), ('97f26219c5258b5bef84fe02a511de43133c72b3', 0.00023976283147876363), ('c723187a2230749b1e706df2217e928c8271a660', 0.00023976283147876363), ('4c8e43451d239f43c83759f2f7e6ab678548ecd7', 0.00023976283147876363), ('6eece39036fe90ecc92725b9380edd165f6290c4', 0.00023976283147876363), ('eb42cf88027de515750f230b23b1a057dc782108', 0.00023976283147876363), ('1ce1d287e825c78d381a95c0134e080bf1310611', 0.00023976283147876363), ('3070a1bd503c3767def898bbd50c7eea2bbf29c9', 0.00023976283147876363), ('8eba733040b016e9c7ec5c3dc87cc1b28a5c2000', 0.00023976283147876363), ('108c9f268b3a89d2570901b7997b683c8cbbe192', 0.00026005749764383766), ('dbffd748e6349bc87803f16999f958498e90a477', 0.0002454032936278001), ('7cc9d291d947c3321e74a909a0984cb233a9f6e2', 0.0002454032936278001), ('27d65e82cb4157a8d47fd8487c0dceefb00909ed', 0.0002454032936278001), ('5a65e6184d18cd93ccbaa4d940a27749358ef824', 0.0002454032936278001), ('212d7af298a4bd9090b834293067d2f091a95cfc', 0.0002454032936278001), ('7f6231aae6e5eb5b62f85429f3ad8eaa96fee11e', 0.0002454032936278001), ('a10cd29fec9dca66250dbde19db5e831f7ce6406', 0.0002454032936278001), ('1eb596303ce1f90e8070090be02c768e91fd75ed', 0.0002454032936278001), ('c4bc3e0586d998b791b75947d8e1135d2f7b1dda', 0.0002454032936278001), ('28b85543e8f12c3d2d2227dcc9f5e87c685535ea', 0.0002454032936278001), ('3539708f69ec8b7e59da278dcc8fd546e819782f', 0.0002618216972632183), ('93953d4fd1e9271912aae7dd6bc30389262b2690', 0.00024007826695209223), ('a9d209bcfc44676a17526f1b409d6385391b6f1a', 0.00025317170187267473), ('6f14f7b9ae27b34a47c7f203537386ed31ab2295', 0.00024007826695209223), ('b8df63d57baceab4d7b26d49dd7f2775233aeb5a', 0.00024007826695209223), ('cbdea56fd2e2464633fdc1edfc683191bca6b2fb', 0.00024007826695209223), ('76826f8bbc707dcb0fcd2c52bd212b1b86299b60', 0.00024007826695209223), ('22d8594c8776736f411928eb0989a050df3e7e6e', 0.00024007826695209223), ('28e66a4c817b772c248a434ae89cfd3eab9c5faa', 0.00024007826695209223), ('fbc5486a1ffb9039dbb5046b84f0eb32e4ce8eea', 0.00024007826695209223), ('b959d5655a3b2f92c2c1a8a7896fecafafea979d', 0.00024007826695209223), ('a89f0a78f86077864e108a1bd2c4e670c85907f8', 0.00027491513218380094), ('edf73ab12595c6709f646f542a0d2b33eb20a3f4', 0.00024007826695209223), ('acd87843a451d18b4dc6474ddce1ae946429eaf1', 0.00024007826695209223), ('14362128953607e7fc8226ae9c4ec3e55b7e7653', 0.00024007826695209223), ('744fe47157477235032f7bb3777800f9f2f45e52', 0.00024007826695209223), ('31ead3efa990a3e7f7c46ba030f9a73ad80f1b20', 0.00024301391832413417), ('4c98fa39eb8a50db4afcef15f68f150194e3c6e6', 0.00024301391832413417), ('75467e72821fdf303ec9b0bdfd0cc0b90268ea3b', 0.00024301391832413417), ('2f8e18dbc5dab7fb75b0f285a3f1f824b40c6bf2', 0.00024301391832413417), ('0a75743c3cf6fd67d53930456eb1339daf2856a0', 0.00024301391832413417), ('495ca7d0cdce89a287fa7d1ba3a48f9a70920405', 0.00024301391832413417), ('40445de181e1f014d71afb0612df837b87837f00', 0.00024301391832413417), ('5a672eab7d11eefc1d9b5e4f2c6e3f97c88af157', 0.00024301391832413417), ('63c3b61c4cfd0f80df487267ec562fc05d590a40', 0.00024301391832413417), ('f06ff5f719eb9cd939dde8fc9b199b17adcbc75f', 0.00024301391832413417), ('e5fb1c378086d072104b14f4fb2df9cf1da4b08c', 0.00024301391832413417), ('219cf4ff85056281f7b71c67513713d65d61c07a', 0.00024301391832413417), ('22f4683316a6b4144d4fe025372dc4024d334148', 0.00024301391832413417), ('e31e7fcdcd0c35c08f16fb288abebd48088e044e', 0.0002455753575734603), ('70e7673d36edb3adf9a0d7cb8c2a743457b72ed2', 0.0002613651788607144), ('0b3a393c6dce8ad95bdf599953404b6f6c6cfa4d', 0.0002455753575734603), ('e57eee20b37edded7319f9a40e0b01ec44b8be17', 0.0002455753575734603), ('ca00cf4fc31f1212c20fd1ed22a0eb73d9bf5df2', 0.0002455753575734603), ('e3afdb6dab435adf5c307f05413d3ca370782b1d', 0.0002455753575734603), ('a4b796d95cc86d8a6e74731ce466a29213809497', 0.0002455753575734603), ('baa357e1e836c4b43aaf159e9f01e03af2f3e1d2', 0.0002455753575734603), ('8a6e08e9dc7d72bdeb969f9370f39f17feea752a', 0.0002455753575734603), ('288220febf1ea089f369f22672cc1d74689f9397', 0.0002455753575734603), ('e6a19c9d824c7091992e5ce461d197f4ac239940', 0.0002455753575734603), ('c1073c3efc0a0dd873e7a6006d4eaef98a5d5434', 0.0002455753575734603), ('5cf17e11bd4e5a17cf03356695f0c6c1f4680849', 0.0002613651788607144), ('c924e9b0041d86fa8edbe5ee49bcdd218535773f', 0.0002517169756056982), ('68bc07327c3346f68f7fe4a101cd5dec62cad703', 0.0002517169756056982), ('d5993a9863b0eb95e974b745b02c0a2086193849', 0.0002517169756056982), ('d75eda1be14c7f784255d3b861c76a69868ee12e', 0.0002517169756056982), ('b867af7a73c0a20b725085266193d6892c24e96d', 0.0002550430975455195), ('a3d66f25c9fe9c890d11ad1a216d64d3668d186c', 0.0002550430975455195), ('3d43297ed9b6ce4df677a04491b745d1886a3c60', 0.0002550430975455195), ('635b079447ee46acc813a08305988e77dfe3d1dd', 0.0002550430975455195), ('8985bdeeea083d3ab6fd06f16e080535021ac62e', 0.0002550430975455195), ('29861616ecd74b59fffde138addd7326a2a2969a', 0.0002550430975455195), ('2704402a722882afa89c033d68fe054d40921143', 0.0002512347275720989), ('de420f342b15087515d9750a6fccec1909173d96', 0.0002512347275720989), ('3b568d829ff7302d58d884be3fed277631852a7c', 0.00027482823937215146), ('119975262d8d72d3ff0c958885cb0903642d2bff', 0.00025062565471597694), ('8ac7a6fca09c6d399f578df7655726712d2f9865', 0.00025062565471597694), ('efac96205126f6e823d23f242bab2f6644b41ae8', 0.00025062565471597694), ('f77beb721aa0b1735f75f2bddae4e70d8d5d76fc', 0.00025062565471597694), ('a12f654b8eb486fec50b334f42781fa744cf99a3', 0.00025062565471597694), ('b985aa61e82ff184a744e48016e37bf07892c351', 0.00025062565471597694), ('44ed782fe08688e2e788223d134a23dc518b3b61', 0.00025062565471597694), ('92480841e572e764eecefe4c1ff5e00bdf0a9709', 0.00025062565471597694), ('300b9bd202717193939fc972cb4c729049baa680', 0.0002402564569109578), ('21034205ed183b3f1e8329842bf4344b75a0e218', 0.0002402564569109578), ('00a120be6f039d6f84bf476a6e44af6351b98498', 0.0002402564569109578), ('24c8390c27230564a656b2cc24c94904ce374e50', 0.0002402564569109578), ('643822a7309a44e81e705a31b3fd9a54b222af76', 0.0002402564569109578), ('7d9c09efc488f8646536558449846ca554473827', 0.0002402564569109578), ('aedf0baeaac098103889deaa04b54f14570e126e', 0.0002402564569109578), ('9deda5b03f9a4a40a64ae838e5b1873d7f891a4e', 0.0002402564569109578), ('a3d09eca39be938e9233ec40905ea52d8a1936f8', 0.0002402564569109578), ('07d47634110a159688c1e3a1a3d4fa9714f322b5', 0.0002402564569109578), ('7e687d9244440e7ad76e1acecf7a5027a73bd65f', 0.0002402564569109578), ('0e2234d74c15c519505f31f72b916bebc6c39ee8', 0.0002402564569109578), ('076382e340e4f9b150d4309f917f3a323cd59e3d', 0.0002402564569109578), ('7b70856db34688fac6a7030577814b8fbd0ee4bc', 0.0002402564569109578), ('0987796f4320193444ad7d343cdbf337a0befc23', 0.0002402564569109578), ('c695be04135501cac8e084253f78a5adba2258c9', 0.0002402564569109578), ('5bfde75b19ed815dd5eef4d13166e32b0abe1501', 0.0002402564569109578), ('f44ed06c868f97b24a28df856646a931318f67e9', 0.0002402564569109578), ('f085bbf8561d40f230174348f6936ed09407366d', 0.00024815115454905075), ('81a4fd3004df0eb05d6c1cef96ad33d5407820df', 0.00024815115454905075), ('b5007972c6f5a2294f83357c73e12664dd7c85b3', 0.00024815115454905075), ('3efd851140aa28e95221b55fcc5659eea97b172d', 0.00024815115454905075), ('51a2bc2e8fb8ed47a085df33dd965e57335080a0', 0.00024815115454905075), ('e38cd95628bc2742d62a6111357481133b401f54', 0.0002500018694388536), ('2adaf7988fa991fb3b113925874967ad7031fefd', 0.0002500018694388536), ('a48d185eac50e78ad9dadab7a5e8c69c4dd13e8d', 0.0002725060768255143), ('8facb409b683ca952bf389391a995e9a51955eaf', 0.0002500018694388536), ('bd6cbb96c28a3cd179a5e77ce17a46069b42fb3e', 0.0002500018694388536), ('1ab930fc2c0b47cb7f24a7d0c9cc69f957b26579', 0.0002725060768255143), ('3baa130482983f44ed511071d2fdb76332c6653e', 0.0002725060768255143), ('efb0e6e7f4f5f7df3ecc59be5424753f19d5bd2e', 0.0002433580513147595), ('6700a65b221be9086551db34471a84b6128b4cce', 0.0002433580513147595), ('efc9fbbc639521763903555b38ab0b2831484e48', 0.0002433580513147595), ('49c2f3de221ed0a688731b6812540cc11d5a0300', 0.0002433580513147595), ('c54b974580b29857d9b2591237deac6a5c3449ea', 0.0002433580513147595), ('9868b1a123ec1fd2724f48380c35eb7e12c3ca4b', 0.0002433580513147595), ('cc752b73595183142f4d6b839fb2af06febbd6ee', 0.0002433580513147595), ('6b6760b21c03cff3c7617598dd07e216419984c0', 0.0002433580513147595), ('84a259fcb9268c82403a76e6db897d67e84c572d', 0.0002433580513147595), ('0d60264bbb41ed188f852d96441f43909c3e60ee', 0.0002433580513147595), ('22dd9a1d3cea23d8c0dc1e4837b844f7828799c4', 0.0002433580513147595), ('5beb7de7df53bd0c67969c93191e2c8b180340c4', 0.0002433580513147595), ('591dd6573403679ba82c0d4b12d058ae74af942c', 0.0002433580513147595), ('361316a426dd8dc61ddf8ba3c99ad04f97f6282c', 0.00025121643338529316), ('90ed15803987231feddb8de2271942a9690a265e', 0.00025121643338529316), ('4478d67332fa216c135d671b179c1c0c790e73ee', 0.0002637795099213238), ('2ebfa42ec2bc12d79abff5c0e1538470297ab1fd', 0.00025121643338529316), ('04f83707f82bb195bd978c3527782dea0945b75a', 0.00025121643338529316), ('4725e2f7bae9d904e9664d72e0e03ae7d6e37401', 0.00025121643338529316), ('47fa4802b64d23c9ee389e9bb28d38afced374b2', 0.00025121643338529316), ('3fe4a7c4366600b4dc2396edfcb0b10a9ab8f76d', 0.00025121643338529316), ('7f25d98a54560bf59bcf85e294194a2fd41a256b', 0.00025121643338529316), ('6b69ecc44d66b7eacd0517a9cb880b739a8214fa', 0.00025154680158541025), ('b9be1e218961b1f8689074e01370d909ab95d202', 0.0002628684397056281), ('cc43ec3aa1ff784934506864229e5398ce293013', 0.00025154680158541025), ('3498dce1e7a0c7d01ae2270b6aed21f9af2c7f4b', 0.0002628684397056281), ('9b91b478c0965b6fe435492808d05fb3a4cf9266', 0.00025154680158541025), ('2e5490adc436391104623dddeb4b5e66097fa955', 0.00025154680158541025), ('0e3213403fcc8e314aa2d7bc5168460110618303', 0.00025154680158541025), ('d137d41697acac1a93ad9d7e9bd48e9c141b592f', 0.00025154680158541025), ('0077b9f8b5c494134848e9312ac3942f76792be6', 0.00025154680158541025), ('e2897370f871b2f403e048ed0886eddeeb250d16', 0.00025154680158541025), ('46ecff6db6e08b7e610e392d7a07a0582d69e5bf', 0.00024033677460119456), ('9afbf2617e02d6bdd93137fd4b81a4edb8a4abb9', 0.00024033677460119456), ('3a5cba9420e8097218acf4e6772b63e469afdaa0', 0.00024033677460119456), ('91e46a251a17088fcfebc85b999ed4d84ed5e4f3', 0.0002565983782583748), ('f36f8d32252679f4221c3d2afc2407a9f56b29a7', 0.00024033677460119456), ('869b17632ed4f19f93b3b58dcaa9f0b8e92108f3', 0.00024033677460119456), ('4e31395a365db2efb7d80716faa7f57fb21778c8', 0.00024420262183996163), ('d684e2637694146b08128e3d8863b786bd241298', 0.00024420262183996163), ('b23ea90748102a76482fbe7f6bff803e63bfdca0', 0.00024420262183996163), ('8ddc5026471a2e0bc305b743b2946ee5feed795e', 0.00024420262183996163), ('374a454486b97053c1fa974d5966d3db58118424', 0.00024420262183996163), ('4372f68a84938c5425138d480c994f74c8aae99b', 0.00024420262183996163), ('6984ab999a5f08bc98aafc9ce177d136b8ea801a', 0.00024420262183996163), ('22deac6c5b5bcaba0d859f61d6dbf6f86ca4101a', 0.00024420262183996163), ('e39e063f4e4c88cc0cf89f6a398f25f5f653fe3b', 0.00024420262183996163), ('0e942f1d6f80515afaa23ff0c97352067f0ed874', 0.00024420262183996163), ('1f4a9d02cd9f8810f1045164e46553a53be958e8', 0.00024088449693105064), ('948cf15cc59b0003d582e6197f05b5ae491806e8', 0.00024088449693105064), ('dad41d953bc82e5e38bca2ededd88414d526d7bd', 0.00024088449693105064), ('7768e813356ac9a0e46fe020e02ecf3c676e8028', 0.00024088449693105064), ('38b7651bf34fd342e3979d9fd57189c3d62ba773', 0.0002517262452094442), ('c341919b50e590124f19f479a5329d209254f93f', 0.00024088449693105064), ('f53b8a4c645cd4cbefbe2eb7342e9154b82db41b', 0.00024088449693105064), ('aeb7e745eed1ffd7680f664a395e65d606a22618', 0.0002517262452094442), ('1678fbf33156eacdde78cc3767d9755b90aac36e', 0.00024088449693105064), ('c1c9cc40c806014421efe7dd4637998cfef3146e', 0.000262126017458743), ('6181fb5b6a97b0c955f0f73ad916c8e79c017902', 0.000262126017458743), ('52a9875e9640daaf0640cdf6b59eeca310be1207', 0.000262126017458743), ('d81ac9bdd9e0ad2bfa81852a5daeae50cf7e262e', 0.000262126017458743), ('8ff1430cb39605dcc10963a087777dd885e98b1a', 0.000262126017458743), ('8de503479da7bc414a907bfcd683f8a966b8177a', 0.000262126017458743), ('7b83fc957f50ff836003c27024d52c52395536c7', 0.000262126017458743), ('5d3397e1d7ffa82c808e9f5f06ed68dbe54f99ed', 0.000262126017458743), ('84c97789ff901f53af68d4f7b843802c5e588940', 0.000262126017458743), ('753da2666ac57b11fd153bdc62ef10ff443754f9', 0.00024109209298319307), ('e10cf0f28cf60b3a8e43f2a78a2b71d226173192', 0.00024109209298319307), ('49dda61386b9ec5e0dbeaa5cc0122f4cb9c2bfbb', 0.00024109209298319307), ('d2137dd7e50febf59beb4ad6f32d914282437770', 0.00024109209298319307), ('4d5bfda90546e3088c1d726f6bb8a14e45f8ec45', 0.00024109209298319307), ('1eb37076cf79015eed7b9330bd75679ba2385aca', 0.00024109209298319307), ('01fb4e77850f0c82167143ae98f428dd0bf29e28', 0.0002627942765386839), ('8dbc6e8c610c6af4fb3af1b46d0d5f091b93a4fe', 0.00024109209298319307), ('a2be6165009778af6489d71d5f6d8d52ba6a7e49', 0.00024109209298319307), ('dd612ad3e77153265b925821c9f8e4502b787d8d', 0.00024109209298319307), ('964f6b9d1bc925afcd307f128305831e1b34f49b', 0.00024109209298319307), ('3af36f12b586be7b2d4fcbde077f1f80f5cca342', 0.00024109209298319307), ('2b027d3d60dc211139e9909ad945ae7cd8a323f3', 0.0002627942765386839), ('113793840434696080208b9dd6034944fd6efd61', 0.00024027169093818234), ('59c53a0e49743b247ad99129d92d545f7a506863', 0.00024027169093818234), ('ec68079f15b620a8a7ad19b3477f895e2ecf193d', 0.00024027169093818234), ('2fe71acc2c3f1e75b6149dea72838f0b594ad013', 0.00024027169093818234), ('07be590365e7fb76680be4ed67a5505763ec2d96', 0.00024027169093818234), ('db7afc888e499edbd2946269a13073db752208b2', 0.00024027169093818234), ('15ea393d47239a8bf672ffd59e9364f83ea59228', 0.00024027169093818234), ('b6ffd0b74620ceff699df661a7bccc56d0e932d9', 0.00024027169093818234), ('33fd56e5067a1e8a9713378af3e1c1c08d5ce93b', 0.00024027169093818234), ('39b492db00faead70bc3f4fb4b0364d94398ffdb', 0.00024027169093818234), ('43cb4886a8056d5005702edbc51be327542b2124', 0.00024027169093818234), ('f4a8480cffa491020bdbb8c4c4e7a7e923b1c2c1', 0.00024027169093818234), ('cf8c44a703350ebc5df46a861c76db9f0e49457b', 0.00024027169093818234), ('9e890135a6e2034518a31be9b3e69a1a34ef2706', 0.0002588471011175375), ('d715a0fc2d6a9752a2e0fc647a0756ae6b5d3311', 0.0002441928971014999), ('ffa8f901372d67bd6e4b4f8c0f89f264fcdddce7', 0.0002441928971014999), ('78185ca44944e23c89ae165f5b83d420d5e36661', 0.0002441928971014999), ('f67770b66c198168cd71ada5e1204879e5350ad7', 0.0002441928971014999), ('1e3a1583e85df9fe27948e7d21c6d84f42e30566', 0.0002441928971014999), ('5607802968e594aecd9885813adb16c78fa5b602', 0.0002441928971014999), ('473fffb95c3db24938a21346ecd117a8a9204404', 0.0002441928971014999), ('944a1cfd79dbfb6fef460360a0765ba790f4027a', 0.0002441928971014999), ('fa72afa9b2cbc8f0d7b05d52548906610ffbb9c5', 0.0002441928971014999), ('91e4220449ea1d7ed2b49c916dd89af850c69b26', 0.0002441928971014999), ('93499a7c7f699b6630a86fad964536f9423bb6d0', 0.0002441928971014999), ('6828db066a894ee61c92ab719cbbd03b8d741a5e', 0.00024155030801116328), ('0d37a47e67b8b3aed896390b3596fbec77f620d1', 0.00024155030801116328), ('8db3ff84fec281f73029e8f5c02d9df00316de05', 0.00024155030801116328), ('2a28c18c0343e96336bb0f864b2a02a54415db72', 0.00024155030801116328), ('8fe648cb9580707e6f8da2bb2b1cebe45e2e63b9', 0.00024155030801116328), ('4ccb4008270a772e4bc0083d79cc22d545811adc', 0.00024155030801116328), ('ae27afd8505feb4db0e018645a6cb3c4672e660b', 0.00024155030801116328), ('92f7dcc20f0abc0d2bb8e5d694c3b884f917766d', 0.00024155030801116328), ('2e401ca63088e9e32a9fec06de68b9df8239034f', 0.00024155030801116328), ('3cd6941ffd95d58461d8b3e9b52660a43d8d9833', 0.00024155030801116328), ('e8f442574299f068e2c8c685dcb6d18668e386f5', 0.00024155030801116328), ('d21ebaab3f715dc7178966ff146711882e6a6fee', 0.00024155030801116328), ('a997f1ecd85e1467d11252741d188fac8db22722', 0.00024155030801116328), ('918ca934a4d1c36caa136b5fb95755aa30245887', 0.0002483433993505878), ('ba4a1a82cf7fca1f28436468778f5a6b2757f1dd', 0.0002483433993505878), ('f9fd516b24c951c78ffd98b6c51afc8a2c94173b', 0.00024424669437783463), ('038919abc3ddccf19ecfb0b70ee1e7d5d638c665', 0.00024424669437783463), ('ddeb309ccc1d8d5297b58583b2d39ab23244325d', 0.00024424669437783463), ('c20237f711f8b980a8d1a77ad40430fcaa313170', 0.00024424669437783463), ('5718395ce2b6a6d607091b64e65ad0b0ce9feab4', 0.00024424669437783463), ('6de23b615d730dc160d2cc0426e2cc45e681424d', 0.00024424669437783463), ('1d4908ec144224b4b3340a54e20568453e92f8c9', 0.00024424669437783463), ('76deff0777011b15cc4588b78a522f25e4e22f7d', 0.00024424669437783463), ('f885e7a048dcf690325773aceb0adff169042c59', 0.00024424669437783463), ('77e46b45cd6a62f431bfe384baaf1171e00b596c', 0.00023978617041641343), ('c8f95d660709209f6c5e882a0952752ecdf1c7cc', 0.00023978617041641343), ('e9478bb7d9ddf0bd963b073dcb9355bcfa808a46', 0.00023978617041641343), ('773e5aba749ce2054222b938255944a998639ea3', 0.00023978617041641343), ('4475dfe75c659cc64b5d6f053c4e79ac442223d4', 0.00023978617041641343), ('d5959436da53a7bde79b4a17e0b184dbd4559ccf', 0.00023978617041641343), ('73a07c0e1691665a5b376475c4a8355eba8f05f8', 0.00023978617041641343), ('f9a11d8186840c9be16e997f2abc9e8975164479', 0.00023978617041641343), ('cd41ede9f3125c6647041d1bcf57fe815d461995', 0.00023978617041641343), ('134dbba5a7f34cd1feedc49615adc3a699fbeb62', 0.00023978617041641343), ('246e6977cd6efbcb8abcc9ac3505bff2bd9b0133', 0.00023978617041641343), ('0312ea54c4fc9d82ff62c5f699808273be2bf78a', 0.00023978617041641343), ('051db34f73eef42c1e969d4bf852b1f61ee66986', 0.00023978617041641343), ('3cf06f1704d94e733dd5174bdfc2485ea7c7a4f2', 0.00023978617041641343), ('b94d7ea64bd7f43fe59daf2ed2357374d3f2be38', 0.00023978617041641343), ('4fa6b41e4b9b61c45c069d51b691a7c5fedeb8b4', 0.00023978617041641343), ('c821600ee830105c296cd131626c13ccaaf8d7f1', 0.00023978617041641343), ('499158d3bdca16a06e0a03f49a4b83e779a6dd96', 0.00023978617041641343), ('53955e1959b8a7d8d356c2c04ceaec8ce1194850', 0.0002534848217093348), ('d1d6dfe9bfc8969bdf99b08e48603d9eacc33c20', 0.0002534848217093348), ('e378372dfbf45acbf478188a7a88ee5a2654094e', 0.0002534848217093348), ('ddde7dd799e478e5ebfb6463a58d223cccc02367', 0.0002534848217093348), ('97e6ed97b31d177c5b1d4a218f1912d8378d053e', 0.0002534848217093348), ('46ac1c0dcfca48ae34d01b9017516da3ab4ac096', 0.0002534848217093348), ('2e1e7e972023a9f320b5de2504a07fb6834a734f', 0.00024105100695324125), ('5dff8ba275384e6091dce0d16774e9ef2b2a04b9', 0.00024105100695324125), ('e182aff269bcc02f6a6f94ad0b9f691a42774825', 0.0002573126106104215), ('a03aa9703dcccf927786e5b55768e648527392d7', 0.00024105100695324125), ('ff36fed36d72df96282ec12c5537b66cb24184b1', 0.00024105100695324125), ('ea487c5920ea18d23df7bedf6dff0fb7fe8d440c', 0.00024105100695324125), ('4bf8cb1dedf3f780af4f750ea3f03abf71425396', 0.00024105100695324125), ('de4df9cd002f7ac04c260b657a8ba91c00ca8bfd', 0.00024105100695324125), ('9ce175a3837f2420878caddbd1aab0892e253ae4', 0.00024105100695324125), ('34a51fe1bbfbc2c347e706e139ffb2a49f9ba70a', 0.00024105100695324125), ('4e6bde2c3cec5e2f5e5bfb2f227a166a2a2ce5d8', 0.00024105100695324125), ('f7268a1948372b5dea1bfd13761373cfe8c46247', 0.00024105100695324125), ('f79c45c04a3a88794d9ab2e76872ca870d01feee', 0.0002526594577467547), ('f1902f99c53781601061d794d957f77982753352', 0.0002526594577467547), ('7cc24c750663d9a9d0c08857fa16d0fc9303abcc', 0.0002526594577467547), ('43535cbf700222b6eec8b7fdafe0a70b026b8a7d', 0.0002526594577467547), ('902d37e8602d8020d4d29d2c0bf1b140c130c46a', 0.0002526594577467547), ('73876321f30ea5f736ecb320bd9d4724bcae5eec', 0.00023927035449462845), ('915d2d4580d65620b149e0688dd5dc42bdaed662', 0.00023927035449462845), ('1f65e5679b872ef490357a3664f95218ede56935', 0.00023927035449462845), ('40742d4f47c0ad0ceef59033d5a3b3900ab6f3a2', 0.00023927035449462845), ('cb26dd9b5629b6d420a5c7cb9940794bc1c1b3b6', 0.00023927035449462845), ('1815b4b3850f6382d77b3bdfc628298737d91b3a', 0.00023927035449462845), ('168139d218b21e233505b32d396a7db4d40e978e', 0.00023927035449462845), ('5afdaf0a5d2beb14e3ac7964e73a5ced4c0de7e2', 0.00023927035449462845), ('2ed5fff879598474e33e875e3eb5565529498e0e', 0.00023927035449462845), ('8352936716bba1f0d5f87f923dcfed134f033fa9', 0.00023927035449462845), ('30edce3852af366d0eddfb1159da419341217813', 0.00023927035449462845), ('7a1086892e266f19f81fa19eeed47a0b0e2afae3', 0.00023927035449462845), ('9f8f858d9ac497af60a9d5c2afa3e6c4d6c3fdd8', 0.00023927035449462845), ('3b029260bbb6d7aec04609970c5853a96f0f875f', 0.00023927035449462845), ('66bc2f209dfa9b547b0523311dd69f8aaafda971', 0.00025079448623621724), ('153d5f337920b214389f87aa53492e93fbd7e270', 0.00025079448623621724), ('dd6f75f8a5e17e69338310d9457010560f73ef71', 0.00025079448623621724), ('840bdc32643b434556a800ae20caf63e25d1e3af', 0.00025079448623621724), ('b31e6f81bbe8456398e098045a19d7618815837c', 0.00025079448623621724), ('ccb7ad8ea38991798172c33aee83f4d68a45d376', 0.00025079448623621724), ('5969da915e121e2e2001e119f5962a1c413e44c1', 0.00025079448623621724), ('bae97241a21c9354f1f542cc9edb5dcdecb3011e', 0.00025079448623621724), ('c5a3ca067f3e43357bc26df2bcd7b23bf417717e', 0.0002509610804772411), ('802168a81571dde28f5ddb94d84677bc007afa7b', 0.0002509610804772411), ('76ec122179ee55dff6fe3d4493681566d1543d7b', 0.0002509610804772411), ('090d132ca927a9500de1563eb6cae8af85bda03e', 0.0002509610804772411), ('6457559e182ff2eabf50f5b734cd6ba11c655b1d', 0.0002503630295057045), ('d8adfa796b1666e0332d3715c9708a0d8d85097a', 0.0002503630295057045), ('12f08d59d9105b75a76da6ae62576e945d5ce487', 0.0002503630295057045), ('08e00d0468b47cbc125e3b08a7e979880a51b961', 0.0002503630295057045), ('a4bcedee3f50a419527d8a1c7d3fc019591a2561', 0.0002503630295057045), ('2e3da016401b06d15a64032c8c8a49485d0d8aad', 0.0002503630295057045), ('56eb4436c6f2630c1f01fd5c047bba83ad4e7a3b', 0.0002503630295057045), ('0f4facfac57a4752ecbac34dd4256c69db2437a4', 0.0002503630295057045), ('b822dd68cd1a30ee1c60e912df88e8b52d4c96a5', 0.0002503630295057045), ('1cd786770e7a3c7014e77a1d2469089b51542d51', 0.0002503630295057045), ('e41e3ba0695f1da1b7c897ccfd64b223b9963243', 0.0002410199496266111), ('161db3769b64d90e3250202b9442daa900067132', 0.0002410199496266111), ('9f3a69c10d8a5d7581ec2542d7d46df548a00a00', 0.0002410199496266111), ('3c86c86c06dbc1f9cbb34258b21397be66a9dbba', 0.0002410199496266111), ('a567bdf50c06f14365a8c866162b73e04bfb4ea7', 0.0002410199496266111), ('ab962e6623575e2d5ce40df50854f73411bf2a94', 0.0002410199496266111), ('2a61757544761da0545dbe86765bcd6abc1771f4', 0.0002410199496266111), ('003d69d3273ff38c80e16dd584951b6a7e22c284', 0.0002410199496266111), ('230f57422b47cbeb95af7ce383a2aa414fa2b8e1', 0.0002410199496266111), ('2b483c7293261972dcf76a99ea42d8af72ad14eb', 0.0002410199496266111), ('b72942b0069fc35514c87123f8eb61abee7bf314', 0.0002410199496266111), ('bcc975b156e421a37d5e6e29c22971a2a658216f', 0.0002410199496266111), ('243dc93778b4bbae004aed057ec0c54d97880eb2', 0.0002410199496266111), ('726c847bcddca4d1be6cde804c35eb5af14999fa', 0.0002410199496266111), ('ff7f38df49f3a9dde8f32fe48c05404ad0d2404c', 0.0002410199496266111), ('9536d501d6ed8f42e08f88559835b1c3e3bbd008', 0.00023977851121079834), ('90b6aca99b596f1a16a2fba3095ce824c7304135', 0.00023977851121079834), ('82f0aa91c775c2a05e1d9383e658280e0cdd1fe0', 0.00023977851121079834), ('4f239d919fc77d038873d2d7d18dae27b6b5d0ff', 0.00023977851121079834), ('eefdb7f68326ce6ad182c6d455b9fe36c4e6dda6', 0.00023977851121079834), ('fc8b3068f537f402065c738d741d1f903303724f', 0.00023977851121079834), ('543ddfb15f41f24e6f48837f992800af615e0ac9', 0.00023977851121079834), ('7a6771fce7b0b926bb4d7f462411139fcbb9615c', 0.00023977851121079834), ('329a79805ec179708da630ee3e6948362885a41c', 0.00023977851121079834), ('efd7081faa234f50491837ebfe847bcd8dd494db', 0.00023977851121079834), ('0721fcba6ed52ada464bfb1f513711aef334dde8', 0.00023977851121079834), ('bb8d48bb370e3443f9dee01ee7423db66e86601b', 0.00023977851121079834), ('f72677cbfa9d206e89fac02b795ab0e41fad7904', 0.00023977851121079834), ('3734d2d5471b642cb4046e8ac005d39d6985d227', 0.00023977851121079834), ('4c75d8dfdecbbb0b9f25a9861058d48bfe77896a', 0.00023977851121079834), ('6b84f7867979d00611dcc6351d15ad75ff68b8d0', 0.00023977851121079834), ('dfdea532ac8a5c4ee364f14199643709969b20c3', 0.00023977851121079834), ('5c3744df2175166aa5070ea17cff045075000246', 0.00024471847674776084), ('5556fe60cec7fad2fa2a7e500d09f2d0e4be6394', 0.00024471847674776084), ('3d138ca6e72f2983d7186634550919e83958714d', 0.00024471847674776084), ('f917e526b7b0a0ab318344f39435fc68adeeff54', 0.00024471847674776084), ('659af4508e03e2f38978a7fb1692f9e37414c5ae', 0.00024471847674776084), ('7061fd3afa86d4a0f4ef23b95c0503d3271d34af', 0.00024471847674776084), ('f2db30ce2596e36a97111247e58937f9feb610f5', 0.00024471847674776084), ('e1e5fbf1440850bdea40aeee99956cb6e01e2e22', 0.00024471847674776084), ('a9542b88c6c792e9f0bc3cad671d88a53b81aa8b', 0.00024471847674776084), ('7cd686bd8e51b86e163d738d7ee1568c8ffc1fdc', 0.00025043905449821543), ('605ac60364dbf64fa584c997e664d4de4932b540', 0.00025043905449821543), ('6db852ca97b91f01d3e9d720be026e3f3103eb01', 0.00025043905449821543), ('51c3214dfcb13382534c32531b59c3685ec6ed45', 0.00025043905449821543), ('b8c10d82992021e03c985e5dbe4efa9f99472a83', 0.00025043905449821543), ('b1e77efcc61c200149d6d4c43f70757c74cc2bcb', 0.00025043905449821543), ('58173beb19d18638375bb367bd7bacdfbe068c6f', 0.00023929862136897424), ('6d8f862a86f90fc1f8eb0603ec6f98ab37d5a425', 0.00023929862136897424), ('5fd543170a4545bcacdcd34ccfc81ddc2c06c0ad', 0.00023929862136897424), ('153f8e0b45d56a125064b3e055fc9828b3bd2f4c', 0.00023929862136897424), ('0817ee2c0e2feeb034726580b35804a8a285ec31', 0.00023929862136897424), ('08f11349594797b7339278de0c9a8130d4320d2d', 0.00023929862136897424), ('7cdfba42d080acec80e4d058facb0621723b9a5a', 0.00023929862136897424), ('6135c582439438e1b43f04ac784bbee69a0a037d', 0.00023929862136897424), ('72cdae9adc9e4af060e899877c3deed57a51e991', 0.00023929862136897424), ('649023407a61c212071504be3db57410803c2ef4', 0.00023929862136897424), ('93862ecaa611d6be395d182bfa1020aab7b17f2c', 0.00023929862136897424), ('ff2ea93072488f2b0e93446e894d226bb6ceabd3', 0.000346434756047447), ('e64892c66ebae3beaa0f166e898f3cc8e6e3b619', 0.0002432041084601889), ('b9141ece8735b52f8ebc98e03546cb8427efda21', 0.0002432041084601889), ('2b9f3a09ec649022e46ea9435a2a983606d70bd9', 0.0002432041084601889), ('fac33a76365e1b78ab170e81755bce2672f0e1fb', 0.0002432041084601889), ('54f6a729c321d78b00b79efe869e43442149e811', 0.0002432041084601889), ('c1c4fb5b8653b8730988e4c8df5ff5184edb1782', 0.0002432041084601889), ('7a28816ccfa2c7608ccba437d38d1e69de1f428e', 0.0002432041084601889), ('2286b53045dda4309a7f4da297e7d1974b1cb0d4', 0.0002432041084601889), ('0a135bca2100eca70768c2fddbb62d516b3cef1c', 0.0002432041084601889), ('4e50a8356f6e8239e08418b260bc6cbe640a512c', 0.0002432041084601889), ('561af930ceb87cc54677e16e7d4451b8ad646771', 0.0002432041084601889), ('4d401caf33b963b921c6c03d789a982ae24bfaf5', 0.00025015905664607126), ('0d895cdf6c93e2464fd7ed9bdf9865dad4c4c416', 0.00025015905664607126), ('04b69b22f6d7f730e08778acfd8c7beafb076d7d', 0.00025015905664607126), ('f755126b06d843e8ce6ec24c805f3071178ae204', 0.00025015905664607126), ('103c372c1086935be6717e393c67463a255d56b2', 0.00025015905664607126), ('0f644f606f582133bcd654bb93b8ccd3a2c69d45', 0.00025015905664607126), ('3db8730c203f88d7f08a6a99e8c02a077dc9b011', 0.0002500852072072539), ('282eda4516e0d4d7e6a462814fae6d48126f9c8f', 0.0002500852072072539), ('c889d6f98e6d79b89c3a6adf8a921f88fa6ba518', 0.0002500852072072539), ('e8262c9a0a63c765fd0529a6429f3b92cb7ad1b0', 0.0002500852072072539), ('bd3df472bc848083068a76e9ce2b2ab49543dc78', 0.0002500852072072539), ('90a16f34d109b63d95ab4da2d491cbe3a1c8b656', 0.0002500852072072539), ('1ff9a37d766e3a4f39757f5e1b235a42dacf18ff', 0.0002500852072072539), ('0e23d2f14e7e56e81538f4a63e11689d8ac1eb9d', 0.0002500852072072539), ('54b8fcf4cc95c0eee93910052018d6286dc78ad9', 0.0002500852072072539), ('951aec8bb6ef4114a69a4cf5b7d49f3f78c09c58', 0.00024311107710661817), ('3bbc8841012fdb5971d1c86dff528edd8590f1b8', 0.00024311107710661817), ('884be34dd5d2ea78940da96d2813be7768933857', 0.00024311107710661817), ('b12124f7bbdd3a99d6b392024806d0f3124380ac', 0.00024311107710661817), ('fb7ebf11df671d556e14501e63f61370c4ccf84c', 0.0002502003034017066), ('1fe4590e1807c61fc416612966010123036db3e7', 0.0002502003034017066), ('06e43829f9862f62ea38192a06e0f010737a07df', 0.0002502003034017066), ('e3445d7de264269ef3a00aacc803cf360ea9192b', 0.0002502003034017066), ('7badf468b881a006b6d33f4d031f9506e64c0bf6', 0.0002502003034017066), ('47143b310dfa81e62db1c91b121efd74372e7271', 0.0002502003034017069), ('d774b0c2462f7620f9055d0b1a6d9465e38c2b16', 0.0002502003034017069), ('f407419ca725e68fb5accd2413c8a30783922f0e', 0.0002502003034017069)]))\n"
          ]
        }
      ],
      "source": [
        "def important_articles(Professor: str, result_count) -> List[str]:\n",
        "    \"\"\"\n",
        "    Returns the most important articles in the field of given professor, based on the personalized PageRank scores.\n",
        "\n",
        "    Parameters:\n",
        "    Professor (str): Professor's name.\n",
        "\n",
        "    Returns:\n",
        "    List[str]: A list of article IDs representing the most important articles in the field of given professor.\n",
        "    \"\"\"\n",
        "\n",
        "    PATH = f\"crawled_paper_{Professor}.json\"\n",
        "    with open(PATH, 'r') as file:\n",
        "        articles = json.load(file)\n",
        "\n",
        "    graph = {}\n",
        "    for article in articles:\n",
        "        if article[\"id\"] in graph.keys() and len(graph[article[\"id\"]]):\n",
        "            continue\n",
        "        else:\n",
        "            graph[article[\"id\"]] = []\n",
        "            for reference in article[\"references\"]:\n",
        "                ref_id = reference.split(\"/\")[-1]\n",
        "                graph[article[\"id\"]].append(ref_id)\n",
        "                if ref_id not in graph.keys():\n",
        "                    graph[ref_id] = []\n",
        "\n",
        "    scores = pagerank(graph)\n",
        "    return sorted(scores.items(), key=lambda x: x[1], reverse=True)[:result_count], scores.items()\n",
        "\n",
        "print(important_articles(\"Rohban\", 5))"
      ]
    },
    {
      "attachments": {},
      "cell_type": "markdown",
      "metadata": {
        "collapsed": false,
        "id": "JGEqkby5_442",
        "pycharm": {
          "name": "#%% md\n"
        }
      },
      "source": [
        "<div>\n",
        "<font face=\"XB Zar\" size=4>\n",
        "    <h1>\n",
        "    <b>Personalized Search </b>\n",
        "    </h1>\n",
        "</font>\n",
        "    <br>\n",
        "<font face=\"XB Zar\" size=3>\n",
        "Change the search algorithm that you have implemented in the previous phases in such a way that the search results are sorted according to the person's interests. Use the linearity theorem for this.\n",
        "</font>\n",
        "</div>"
      ]
    },
    {
      "cell_type": "code",
      "execution_count": null,
      "metadata": {
        "colab": {
          "base_uri": "https://localhost:8080/"
        },
        "id": "V3CqG_puHHnA",
        "outputId": "9c9ffbdd-703f-4bdc-dae8-49af352d4b19"
      },
      "outputs": [
        {
          "name": "stderr",
          "output_type": "stream",
          "text": [
            "[nltk_data] Downloading package punkt to /root/nltk_data...\n",
            "[nltk_data]   Unzipping tokenizers/punkt.zip.\n",
            "[nltk_data] Downloading package stopwords to /root/nltk_data...\n",
            "[nltk_data]   Unzipping corpora/stopwords.zip.\n"
          ]
        }
      ],
      "source": [
        "from collections import Counter\n",
        "import math\n",
        "import nltk\n",
        "nltk.download('punkt')\n",
        "nltk.download('stopwords')\n",
        "import string\n",
        "from nltk import word_tokenize"
      ]
    },
    {
      "cell_type": "code",
      "execution_count": null,
      "metadata": {
        "id": "nd_4SEn0-xuu"
      },
      "outputs": [],
      "source": [
        "def preprocess_text(text, minimum_length=1, stopword_removal=True, stopwords_domain=[], lower_case=True,\n",
        "                       punctuation_removal=True):\n",
        "    \"\"\"\n",
        "    preprocess text by removing stopwords, punctuations, and converting to lowercase, and also filter based on a min length\n",
        "    for stopwords use nltk.corpus.stopwords.words('english')\n",
        "    for punctuations use string.punctuation\n",
        "\n",
        "    Parameters\n",
        "    ----------\n",
        "    text: str\n",
        "        text to be preprocessed\n",
        "    minimum_length: int\n",
        "        minimum length of the token\n",
        "    stopword_removal: bool\n",
        "        whether to remove stopwords\n",
        "    stopwords_domain: list\n",
        "        list of stopwords to be removed base on domain\n",
        "    lower_case: bool\n",
        "        whether to convert to lowercase\n",
        "    punctuation_removal: bool\n",
        "        whether to remove punctuations\n",
        "    \"\"\"\n",
        "    normalized_tokens = word_tokenize(text)\n",
        "\n",
        "    if stopword_removal:\n",
        "        stopwords = [x.lower() for x in nltk.corpus.stopwords.words('english')]\n",
        "        normalized_tokens = [word for word in normalized_tokens if word.lower() not in stopwords]\n",
        "\n",
        "    if punctuation_removal:\n",
        "        normalized_tokens = [word for word in normalized_tokens if word not in string.punctuation]\n",
        "\n",
        "    if lower_case:\n",
        "        normalized_tokens = [word.lower() for word in normalized_tokens if len(word) > minimum_length]\n",
        "    else:\n",
        "        normalized_tokens = [word for word in normalized_tokens if len(word) > minimum_length]\n",
        "\n",
        "    return normalized_tokens"
      ]
    },
    {
      "cell_type": "code",
      "execution_count": null,
      "metadata": {
        "colab": {
          "base_uri": "https://localhost:8080/"
        },
        "id": "ymhvCZfX6QHy",
        "outputId": "0251db3b-6514-49ea-e9a3-6715a13897a4"
      },
      "outputs": [
        {
          "name": "stdout",
          "output_type": "stream",
          "text": [
            "1999\n",
            "searchEngine is ready.\n"
          ]
        }
      ],
      "source": [
        "class SearchEngine:\n",
        "    def __init__(self):\n",
        "        self.num_to_word = {}\n",
        "        self.word_to_num = {}\n",
        "        self.index = {}\n",
        "        self.N = 0\n",
        "        self.my_doc_id_to_article_doc_id = {}\n",
        "        self.title_summary_length = {'avg_title_length': 0, 'avg_summary_length': 0}\n",
        "        self.articles = {}\n",
        "        self.professors_score = {\"Soleymani\": {}, \"Rohban\": {}, \"Sharifi\": {}, \"Kasaei\": {}, \"Rabiee\": {}}\n",
        "        for professor in self.professors_score.keys():\n",
        "            _, score_items = important_articles(professor, 400)\n",
        "            self.professors_score[professor] = score_items\n",
        "\n",
        "\n",
        "    def build_indexes(self, articles):\n",
        "        doc_id = 0\n",
        "        for article in articles:\n",
        "            self.articles[article[\"id\"]] = article\n",
        "            self.index[doc_id] = {'title': {}, 'summary': {}}\n",
        "            self.my_doc_id_to_article_doc_id[doc_id] = article[\"id\"]\n",
        "\n",
        "            self.title_summary_length['avg_title_length'] += len(article['title'].split())\n",
        "            self.title_summary_length['avg_summary_length'] += len(article['abstract'].split())\n",
        "\n",
        "            for w in preprocess_text(article['title']):\n",
        "                if w not in self.word_to_num.keys():\n",
        "                    word_id = len(self.num_to_word)\n",
        "                    self.word_to_num[w] = word_id\n",
        "                    self.num_to_word[word_id] = {'word': w, 'all': 0}\n",
        "                    self.index[doc_id]['title'][word_id] = 0\n",
        "                else:\n",
        "                    word_id = self.word_to_num[w]\n",
        "\n",
        "                if word_id not in self.index[doc_id]['title'].keys():\n",
        "                    self.index[doc_id]['title'][word_id] = 0\n",
        "                self.index[doc_id]['title'][word_id] += 1\n",
        "                self.num_to_word[word_id]['all'] += 1\n",
        "\n",
        "            for w in preprocess_text(article['abstract']):\n",
        "                if w not in self.word_to_num.keys():\n",
        "                    word_id = len(self.num_to_word)\n",
        "                    self.word_to_num[w] = word_id\n",
        "                    self.num_to_word[word_id] = {'word': w, 'all': 0}\n",
        "                    self.index[doc_id]['summary'][word_id] = 0\n",
        "                else:\n",
        "                    word_id = self.word_to_num[w]\n",
        "\n",
        "                if word_id not in self.index[doc_id]['summary'].keys():\n",
        "                    self.index[doc_id]['summary'][word_id] = 0\n",
        "                self.index[doc_id]['summary'][word_id] += 1\n",
        "                self.num_to_word[word_id]['all'] += 1\n",
        "\n",
        "            doc_id += 1\n",
        "\n",
        "        self.title_summary_length['avg_title_length'] /= len(self.index)\n",
        "        self.title_summary_length['avg_summary_length'] /= len(self.index)\n",
        "\n",
        "        self.N = len(self.index)\n",
        "\n",
        "    def normalize_score(self, score_dict):\n",
        "        norm = math.pow(sum(value**2 for value in score_dict.values()), 1/2)\n",
        "\n",
        "        for key, value in score_dict.items():\n",
        "            score_dict[key] = value / norm\n",
        "\n",
        "        return score_dict\n",
        "\n",
        "    def get_log_tf(self, corpus_term_ids):\n",
        "        query_score = Counter(corpus_term_ids)\n",
        "\n",
        "        for term in query_score:\n",
        "            query_score[term] = np.log(1 + query_score[term])\n",
        "\n",
        "        return query_score\n",
        "\n",
        "    def dot_product(self, dict1, dict2):\n",
        "        result_dict = {}\n",
        "\n",
        "        common_keys = set(dict1.keys()) & set(dict2.keys())\n",
        "        for key in common_keys:\n",
        "            result_dict[key] = dict1[key] * dict2[key]\n",
        "\n",
        "        return sum(result_dict.values())\n",
        "\n",
        "    def get_log_tf_idf_document(self, doc_id, category):\n",
        "        title_ln = {}\n",
        "        summary_ln = {}\n",
        "        N = self.N\n",
        "        for key, value in self.index[doc_id]['title'].items():\n",
        "            value = np.log(1 + value) * np.log(N/self.num_to_word[key][category])\n",
        "            title_ln[key] = value\n",
        "        for key, value in self.index[doc_id]['summary'].items():\n",
        "            value = np.log(1 + value) * np.log(N/self.num_to_word[key][category])\n",
        "            summary_ln[key] = value\n",
        "        return title_ln, summary_ln\n",
        "\n",
        "    def ltn_lnn(self, title_query_term_ids: str, summary_query_term_ids: str, doc_id: int, category: str, weight:float):\n",
        "        query_title = self.get_log_tf(title_query_term_ids)\n",
        "        query_summary = self.get_log_tf(summary_query_term_ids)\n",
        "\n",
        "        doc_title, doc_summary = self.get_log_tf_idf_document(doc_id, category)\n",
        "\n",
        "        title_score = self.dot_product(doc_title, query_title)\n",
        "        summary_score = self.dot_product(doc_summary, query_summary)\n",
        "\n",
        "        return weight*title_score + (1-weight)*summary_score\n",
        "\n",
        "    def ltc_lnc(self, title_query_term_ids: str, summary_query_term_ids: str, doc_id: int, category: str, weight:float):\n",
        "        log_tf_title_query = self.get_log_tf(title_query_term_ids)\n",
        "        log_tf_summary_query = self.get_log_tf(summary_query_term_ids)\n",
        "        query_title = self.normalize_score(log_tf_title_query)\n",
        "        query_summary = self.normalize_score(log_tf_summary_query)\n",
        "\n",
        "        doc_log_tf_idf_title, doc_log_tf_idf_summary = self.get_log_tf_idf_document(doc_id, category)\n",
        "        doc_title, doc_summary = self.normalize_score(doc_log_tf_idf_title), self.normalize_score(doc_log_tf_idf_summary)\n",
        "\n",
        "        title_score = self.dot_product(doc_title, query_title)\n",
        "        summary_score = self.dot_product(doc_summary, query_summary)\n",
        "\n",
        "        return weight*title_score + (1-weight)*summary_score\n",
        "\n",
        "    def okapi_bm25(self, term_id, doc_id, mode, category='all'): # mode: title or summary\n",
        "        k1 = 1.2\n",
        "        b = 0.75\n",
        "\n",
        "        idf = np.log(self.N/(self.num_to_word[term_id]['all']))\n",
        "        avg_length = self.title_summary_length[\"avg_\"+mode+\"_length\"]\n",
        "\n",
        "        length = sum(self.index[doc_id][mode].values())\n",
        "        if term_id not in self.index[doc_id][mode].keys():\n",
        "            term_freq = 0\n",
        "        else:\n",
        "            term_freq = self.index[doc_id][mode][term_id]\n",
        "\n",
        "        bm25_score = idf * (k1+1) * term_freq / (term_freq + k1 * ((1-b) + b * length/avg_length))\n",
        "\n",
        "        return bm25_score\n",
        "\n",
        "    def set_terms_of_query_colorful(self, text, query, color):\n",
        "        output = \"\"\n",
        "        query = [q.lower() for q in query]\n",
        "        for term in text.split(\" \"):\n",
        "            if term.lower() in query:\n",
        "                output += color[0] + term + color[1]\n",
        "            else:\n",
        "                output += term + \" \"\n",
        "\n",
        "        return output\n",
        "\n",
        "    def snippet_output(self, article_ids, title_query, summary_query, print_):\n",
        "        snippets = []\n",
        "        for i, article_id in enumerate(article_ids):\n",
        "            snippet = \"\"\n",
        "            snippet += f\"Article ID: {article_id}\" + \"\\n\"\n",
        "            snippet += \"Title: \" + self.set_terms_of_query_colorful(self.articles[article_id]['title'], title_query, [\"\\033[1;32m\", \"\\033[0m \"]) + \"\\n\"\n",
        "            snippet += \"Summary: \" + self.set_terms_of_query_colorful(self.articles[article_id]['abstract'][:100], summary_query, [\"\\033[1;32m\", \"\\033[0m \"]) + \"... \\n\"\n",
        "            snippets.append(snippet)\n",
        "            if print_:\n",
        "                print(snippet)\n",
        "        return snippets\n",
        "\n",
        "    def search(self, title_query: str, abstract_query: str, max_result_count: int, method: str = 'ltn-lnn', weight: float = 0.5,\n",
        "           print_=False, preferred_field = [1/5, 1/5, 1/5, 1/5, 1/5]):\n",
        "        \"\"\"\n",
        "            Finds relevant documents to query\n",
        "\n",
        "            Parameters\n",
        "            ---------------------------------------------------------------------------------------------------\n",
        "            max_result_count: Return top 'max_result_count' docs which have the highest scores.\n",
        "                              notice that if max_result_count = -1, then you have to return all docs\n",
        "\n",
        "            mode: 'detailed' for searching in title and text separately.\n",
        "                  'overall' for all words, and weighted by where the word appears on.\n",
        "\n",
        "            where: when mode ='detailed', when we want search query\n",
        "                    in title or text not both of them at the same time.\n",
        "\n",
        "            method: 'ltn-lnn' or 'ltc-lnc' or 'okapi25'\n",
        "\n",
        "            preferred_field: A list containing preference rate to Dr. Rabiee, Dr. Soleymani, Dr. Rohban,\n",
        "                            Dr. Kasaei, and Dr. Sharifi's papers, respectively.\n",
        "\n",
        "            Returns\n",
        "            ----------------------------------------------------------------------------------------------------\n",
        "            list\n",
        "            Retrieved documents with snippet\n",
        "        \"\"\"\n",
        "        title_query_bare = preprocess_text(title_query)\n",
        "        abstract_query_bare = preprocess_text(abstract_query)\n",
        "        title_query = [self.word_to_num[t] for t in title_query_bare]\n",
        "        abstract_query = [self.word_to_num[t] for t in abstract_query_bare]\n",
        "        docs_range = range(self.N)\n",
        "\n",
        "        if method == 'okapi_bm25':\n",
        "          score = {}\n",
        "          for doc_id in docs_range:\n",
        "              result = [0, 0]\n",
        "              for term_id in title_query:\n",
        "                  title_result = self.okapi_bm25(term_id, doc_id, 'title', 'all')\n",
        "                  result[0] += title_result\n",
        "              for term_id in abstract_query:\n",
        "                  abstract_result = self.okapi_bm25(term_id, doc_id, 'summary', 'all')\n",
        "                  result[1] += abstract_result\n",
        "              score[doc_id] = result[0]*weight + result[1]*(1-weight)\n",
        "          top_articles = [self.my_doc_id_to_article_doc_id[td] for td in [id for id, score in Counter(score).most_common(max_result_count)]]\n",
        "\n",
        "          scores = {}\n",
        "          for article in top_articles:\n",
        "              scores[article] = 0\n",
        "              for i, professor in enumerate([\"Rabiee\", \"Soleymani\", \"Rohban\", \"Kasaei\", \"Sharifi\"]):\n",
        "                  scores[article] += self.professors_score[professor][article]*preferred_field[i] if article in self.professors_score[professor] else 0\n",
        "          top_articles = sorted(scores, key=lambda x: scores[x], reverse=True)\n",
        "\n",
        "          return top_articles, self.snippet_output(top_articles, title_query_bare, abstract_query_bare, print_)\n",
        "        elif method == 'ltc-lnc':\n",
        "              scores = {doc_id: self.ltc_lnc(title_query, abstract_query, doc_id, 'all', weight) for doc_id in docs_range}\n",
        "              top_articles = [id for id, score in Counter(scores).most_common(max_result_count)]\n",
        "\n",
        "              scores = {}\n",
        "              for article in top_articles:\n",
        "                  scores[article] = 0\n",
        "                  for i, professor in enumerate([\"Rabiee\", \"Soleymani\", \"Rohban\", \"Kasaei\", \"Sharifi\"]):\n",
        "                      scores[article] += self.professors_score[professor][article]*preferred_field[i] if article in self.professors_score[professor] else 0\n",
        "              top_articles = sorted(scores, key=lambda x: scores[x], reverse=True)\n",
        "\n",
        "              return top_articles, self.snippet_output(top_articles, title_query_bare, abstract_query_bare, print_)\n",
        "        elif method == 'ltn-lnn':\n",
        "              scores = {doc_id: self.ltn_lnn(title_query, abstract_query, doc_id, 'all', weight) for doc_id in docs_range}\n",
        "              top_articles = [id for id, score in Counter(scores).most_common(max_result_count)]\n",
        "\n",
        "              scores = {}\n",
        "              for article in top_articles:\n",
        "                  scores[article] = 0\n",
        "                  for i, professor in enumerate([\"Rabiee\", \"Soleymani\", \"Rohban\", \"Kasaei\", \"Sharifi\"]):\n",
        "                      scores[article] += self.professors_score[professor][article]*preferred_field[i] if article in self.professors_score[professor] else 0\n",
        "              top_articles = sorted(scores, key=lambda x: scores[x], reverse=True)\n",
        "\n",
        "\n",
        "              return top_articles, self.snippet_output(top_articles, title_query_bare, abstract_query_bare, print_)\n",
        "        else:\n",
        "              raise ValueError(\"Invalid retrieval method.\")\n",
        "\n",
        "professors = [\"Soleymani\", \"Rohban\", \"Sharifi\", \"Kasaei\", \"Rabiee\"]\n",
        "articles = []\n",
        "for Professor in professors:\n",
        "    PATH = f\"crawled_paper_{Professor}.json\"\n",
        "    with open(PATH, 'r') as file:\n",
        "        new_articles = json.load(file)\n",
        "    articles = articles + new_articles\n",
        "print(len(articles))\n",
        "\n",
        "searchEngine = SearchEngine()\n",
        "searchEngine.build_indexes(articles)\n",
        "print(\"searchEngine is ready.\")"
      ]
    },
    {
      "cell_type": "code",
      "execution_count": null,
      "metadata": {
        "colab": {
          "base_uri": "https://localhost:8080/"
        },
        "id": "JzRWheYB_442",
        "outputId": "ea18fce6-1d26-41e0-a68a-156f6a024b76",
        "pycharm": {
          "name": "#%%\n"
        }
      },
      "outputs": [
        {
          "name": "stdout",
          "output_type": "stream",
          "text": [
            "Article ID: dc9e589f4c576a963d5cd2cc57c7378a8ec91178\n",
            "Title: ETECADx: Ensemble Self-Attention Transformer \u001b[1;32mEncoder\u001b[0m for Breast Cancer Diagnosis Using Full-Field Digital X-ray Breast Images \n",
            "Summary: A new AI-based computer-aided diagnosis (CAD) framework called ETECADx is proposed by fusing the ben ... \n",
            "\n",
            "Article ID: 83dbc15934831ce98a265db526f4c380ce9e04bb\n",
            "Title: Exploring \u001b[1;32mvision\u001b[0m transformer layer choosing for semantic segmentation \n",
            "Summary: This paper designs a neck network for adaptive fusion and feature selection, called ViTController, a ... \n",
            "\n",
            "Article ID: 7b2cf4599fdbfa7bb073ce3737e6350c8a7d8c3d\n",
            "Title: \u001b[1;32mVision\u001b[0m Transformer Approach for Classification of Alzheimer’s Disease Using 18F-Florbetaben Brain Images \n",
            "Summary: A method for classifying dementia images by applying 18F-Florbetaben positron emission tomography im ... \n",
            "\n",
            "Article ID: 076a8e778f2e9efb3c2fd45fed534ae9e6035f1b\n",
            "Title: Self-Supervised Pre-Training of Swin Transformers for 3D Medical Image Analysis \n",
            "Summary: A new 3D transformer-based model, dubbed Swin UNEt TRansformers (Swin UNETR), with a hierarchical en ... \n",
            "\n",
            "Article ID: b6dbc6e7f676e0e52f0d649ef9ccad9f97a64677\n",
            "Title: Polyp-Mixer: An Efficient Context-Aware MLP-Based Paradigm for Polyp Segmentation \n",
            "Summary: A novel Polyp-Mixer, which utilizes MLP-based structures in both \u001b[1;32mencoder\u001b[0m and decoder, and uses Cycle ... \n",
            "\n"
          ]
        }
      ],
      "source": [
        "article_ids, snippet = searchEngine.search(title_query=\"computer vision and VIT models and encoder decoder\", abstract_query=\"Computer Vision, VIT models, Encoder Decoder\", method=\"okapi_bm25\", print_=True, max_result_count=5)"
      ]
    },
    {
      "cell_type": "code",
      "execution_count": null,
      "metadata": {
        "colab": {
          "base_uri": "https://localhost:8080/"
        },
        "id": "rDl8BzkjUmpq",
        "outputId": "5e192574-47b5-43e4-fb7f-cc78cefa1557"
      },
      "outputs": [
        {
          "name": "stdout",
          "output_type": "stream",
          "text": [
            "Article ID: dc9e589f4c576a963d5cd2cc57c7378a8ec91178\n",
            "Title: ETECADx: Ensemble Self-Attention Transformer \u001b[1;32mEncoder\u001b[0m for Breast Cancer Diagnosis Using Full-Field Digital X-ray Breast Images \n",
            "Summary: A new AI-based computer-aided diagnosis (CAD) framework called ETECADx is proposed by fusing the ben ... \n",
            "\n",
            "Article ID: 83dbc15934831ce98a265db526f4c380ce9e04bb\n",
            "Title: Exploring \u001b[1;32mvision\u001b[0m transformer layer choosing for semantic segmentation \n",
            "Summary: This paper designs a neck network for adaptive fusion and feature selection, called ViTController, a ... \n",
            "\n",
            "Article ID: 7b2cf4599fdbfa7bb073ce3737e6350c8a7d8c3d\n",
            "Title: \u001b[1;32mVision\u001b[0m Transformer Approach for Classification of Alzheimer’s Disease Using 18F-Florbetaben Brain Images \n",
            "Summary: A method for classifying dementia images by applying 18F-Florbetaben positron emission tomography im ... \n",
            "\n",
            "Article ID: 076a8e778f2e9efb3c2fd45fed534ae9e6035f1b\n",
            "Title: Self-Supervised Pre-Training of Swin Transformers for 3D Medical Image Analysis \n",
            "Summary: A new 3D transformer-based model, dubbed Swin UNEt TRansformers (Swin UNETR), with a hierarchical en ... \n",
            "\n",
            "Article ID: b6dbc6e7f676e0e52f0d649ef9ccad9f97a64677\n",
            "Title: Polyp-Mixer: An Efficient Context-Aware MLP-Based Paradigm for Polyp Segmentation \n",
            "Summary: A novel Polyp-Mixer, which utilizes MLP-based structures in both \u001b[1;32mencoder\u001b[0m and decoder, and uses Cycle ... \n",
            "\n"
          ]
        }
      ],
      "source": [
        "article_ids, snippet = searchEngine.search(title_query=\"computer vision and VIT models and encoder decoder\", abstract_query=\"Computer Vision, VIT models, Encoder Decoder\", method=\"okapi_bm25\", print_=True, max_result_count=5, preferred_field=[0,0,0,0,1])"
      ]
    },
    {
      "attachments": {},
      "cell_type": "markdown",
      "metadata": {
        "collapsed": false,
        "id": "8cuxw_sb_442",
        "pycharm": {
          "name": "#%% md\n"
        }
      },
      "source": [
        "<div style=\"text-align: justify\">\n",
        "<font face=\"XB Zar\" size=4>\n",
        "    <h1>\n",
        "    <b>Authors Ranking</b>\n",
        "    </h1>\n",
        "</font>\n",
        "    <br>\n",
        "<font face=\"XB Zar\" size=3>  \n",
        "To rank authors, the concept of referring authors to each other is proposed. When author A refers to article P in his article, where author B is one of the authors of that article, i.e. article P, we say that author A has referred to author B. According to this relationship, it is possible to create a graph of references between authors and then rank the authors using the HITS algorithm. For ranking, we need to use hub and authority indicators.\n",
        "</font>\n",
        "</div>"
      ]
    },
    {
      "cell_type": "code",
      "execution_count": null,
      "metadata": {
        "id": "MD5QTXNLXIsn"
      },
      "outputs": [],
      "source": [
        "import numpy as np\n",
        "import json"
      ]
    },
    {
      "cell_type": "code",
      "execution_count": null,
      "metadata": {
        "colab": {
          "base_uri": "https://localhost:8080/"
        },
        "id": "tb8kMRio_443",
        "outputId": "f70dfa5a-0e89-42d3-88f6-bf4c243fab43",
        "pycharm": {
          "name": "#%%\n"
        }
      },
      "outputs": [
        {
          "name": "stdout",
          "output_type": "stream",
          "text": [
            "('Martin Danelljan', 'Huchuan Lu', 'Matteo Dunnhofer', 'C. Micheloni', 'Dong Wang')\n"
          ]
        }
      ],
      "source": [
        "def hit_algorithm(papers, n):\n",
        "    \"\"\"\n",
        "        Implementing the HITS algorithm to score authors based on their papers and co-authors.\n",
        "\n",
        "        Parameters\n",
        "        ---------------------------------------------------------------------------------------------------\n",
        "        papers: A list of paper dictionaries with the following keys:\n",
        "                \"id\": A unique ID for the paper\n",
        "                \"title\": The title of the paper\n",
        "                \"abstract\": The abstract of the paper\n",
        "                \"date\": The year in which the paper was published\n",
        "                \"authors\": A list of the names of the authors of the paper\n",
        "                \"related_topics\": A list of IDs for related topics (optional)\n",
        "                \"citation_count\": The number of times the paper has been cited (optional)\n",
        "                \"reference_count\": The number of references in the paper (optional)\n",
        "                \"references\": A list of IDs for papers that are cited in the paper (optional)\n",
        "        n: An integer representing the number of top authors to return.\n",
        "\n",
        "        Returns\n",
        "        ---------------------------------------------------------------------------------------------------\n",
        "        List\n",
        "        list of the top n authors based on their hub scores.\n",
        "    \"\"\"\n",
        "    G = {}\n",
        "\n",
        "    for paper in papers:\n",
        "        for author in paper[\"authors\"]:\n",
        "            if author in G:\n",
        "                G[author].append(paper[\"id\"])\n",
        "            else:\n",
        "                G[author] = [paper[\"id\"]]\n",
        "\n",
        "    author_nodes = set(G.keys())\n",
        "    author_node_indices = {node: i for i, node in enumerate(author_nodes)}\n",
        "    page_nodes = set().union(*G.values())\n",
        "    page_node_indices = {node: i for i, node in enumerate(page_nodes)}\n",
        "\n",
        "    A = np.zeros((len(author_node_indices), len(page_node_indices)), dtype=int)\n",
        "\n",
        "    for node, outgoing_edges in G.items():\n",
        "        for edge in outgoing_edges:\n",
        "            A[author_node_indices[node], page_node_indices[edge]] = 1\n",
        "\n",
        "    a = np.ones(len(page_nodes)) # a: authorities, h: hubs\n",
        "\n",
        "    for i in range(10):\n",
        "        h = np.matmul(A, a)\n",
        "        a = np.matmul(A.T, h)\n",
        "\n",
        "        h = h / np.linalg.norm(h)\n",
        "        a = a / np.linalg.norm(a)\n",
        "\n",
        "    sorted_lists = sorted(zip(h, author_nodes), reverse = True)[:n]\n",
        "    _, top_authors = zip(*sorted_lists)\n",
        "\n",
        "    return top_authors\n",
        "\n",
        "professors = [\"Soleymani\", \"Rohban\", \"Sharifi\", \"Kasaei\", \"Rabiee\"]\n",
        "papers = []\n",
        "for professor in professors:\n",
        "    PATH = f\"crawled_paper_{professor}.json\"\n",
        "    with open(PATH, 'r') as file:\n",
        "        papers += json.load(file)\n",
        "\n",
        "top_authors = hit_algorithm(papers, 5)\n",
        "\n",
        "print(top_authors)\n"
      ]
    },
    {
      "attachments": {},
      "cell_type": "markdown",
      "metadata": {
        "collapsed": false,
        "id": "SyMUCGmq_443",
        "pycharm": {
          "name": "#%% md\n"
        }
      },
      "source": [
        "<div>\n",
        "<font face=\"XB Zar\" size=4>\n",
        "    <h1>\n",
        "    <b>Recommender System</b>\n",
        "    </h1>\n",
        "</font>\n",
        "<font face=\"XB Zar\" size=3>\n",
        "In this section, we try to implement an article recommender system based on a user's searches or interests. The recommender system that we intend to create should be able to recommend articles based on a list of articles that the user has previously read or are interested in. has suggested the newly published articles to the user.\n",
        "\n",
        "In the recommended_papers.json file, there is a list of users, and in the positive_papers field of each user, the number of 50 articles that the user was interested in is specified. And also, in the recommendedPapers field of each user, there are 10 articles in order of importance, from the new articles that the user liked.\n",
        "\n",
        "In this section, your goal is to learn the recommender system based on this data, and in other words, you should divide the users into two categories, training and testing, and based on the training data, you can predict the new articles liked by the testing users. (Therefore, you cannot use the recommendedPapers field of these users in this prediction.)\n",
        "</font>\n",
        "</div>"
      ]
    },
    {
      "cell_type": "code",
      "execution_count": 11,
      "metadata": {
        "id": "2tzCjAYp_444",
        "pycharm": {
          "name": "#%%\n"
        }
      },
      "outputs": [],
      "source": [
        "import json\n",
        "import numpy as np\n",
        "from sklearn.metrics.pairwise import cosine_similarity\n",
        "from sklearn.model_selection import train_test_split\n",
        "from sklearn.feature_extraction.text import TfidfVectorizer\n",
        "\n",
        "with open('recommended_papers.json', 'r') as fp:\n",
        "    recommended_papers = json.load(fp)"
      ]
    },
    {
      "cell_type": "code",
      "execution_count": 4,
      "metadata": {
        "id": "DN8Rt5pT_445",
        "pycharm": {
          "name": "#%%\n"
        }
      },
      "outputs": [],
      "source": [
        "sample_user = recommended_papers[0]"
      ]
    },
    {
      "cell_type": "code",
      "execution_count": 5,
      "metadata": {
        "colab": {
          "base_uri": "https://localhost:8080/"
        },
        "id": "qwa2b_qW_446",
        "outputId": "67af91a3-6527-4c43-9275-eeb9321cfc47",
        "pycharm": {
          "name": "#%%\n"
        }
      },
      "outputs": [
        {
          "name": "stdout",
          "output_type": "stream",
          "text": [
            "d9404b4a794c07b5e2cdf3203aabf06d70c6be9b\n",
            "CENTAURO: A Hybrid Locomotion and High Power Resilient Manipulation Platform\n",
            "Despite the development of a large number of mobile manipulation robots, very few platforms can demonstrate the required strength and mechanical sturdiness to accommodate the needs of real-world applications with high payload and moderate/harsh physical interaction demands, e.g., in disaster-response scenarios or heavy logistics/collaborative tasks. In this letter, we introduce the design of a wheeled-legged mobile manipulation platform capable of executing demanding manipulation tasks, and demonstrating significant physical resilience while possessing a body size (height/width) and weight compatible to that of a human. The achieved performance is the result of combining a number of design and implementation principles related to the actuation system, the integration of body structure and actuation, and the wheeled-legged mobility concept. These design principles are discussed, and the solutions adopted for various robot components are detailed. Finally, the robot performance is demonstrated in a set of experiments validating its power and strength capability when manipulating heavy payload and executing tasks involving high impact physical interactions.\n",
            "['Computer Science']\n"
          ]
        }
      ],
      "source": [
        "print(sample_user['positive_papers'][0]['paperId'])\n",
        "print(sample_user['positive_papers'][0]['title'])\n",
        "print(sample_user['positive_papers'][0]['abstract'])\n",
        "print(sample_user['positive_papers'][0]['fieldsOfStudy'])"
      ]
    },
    {
      "cell_type": "code",
      "execution_count": 6,
      "metadata": {
        "colab": {
          "base_uri": "https://localhost:8080/"
        },
        "id": "3jm1d498_447",
        "outputId": "f09fdba5-79ce-4ab9-8abe-fb53b69a1138",
        "pycharm": {
          "name": "#%%\n"
        }
      },
      "outputs": [
        {
          "name": "stdout",
          "output_type": "stream",
          "text": [
            "94eebbefe8a37cf394be899b85af295c2e3a1f01\n",
            "Efficient Parametric Approximations of Neural Network Function Space Distance\n",
            "It is often useful to compactly summarize important properties of model parameters and training data so that they can be used later without storing and/or iterating over the entire dataset. As a specific case, we consider estimating the Function Space Distance (FSD) over a training set, i.e. the average discrepancy between the outputs of two neural networks. We propose a Linearized Activation Function TRick (LAFTR) and derive an efficient approximation to FSD for ReLU neural networks. The key idea is to approximate the architecture as a linear network with stochastic gating. Despite requiring only one parameter per unit of the network, our approach outcompetes other parametric approximations with larger memory requirements. Applied to continual learning, our parametric approximation is competitive with state-of-the-art nonparametric approximations, which require storing many training examples. Furthermore, we show its efficacy in estimating influence functions accurately and detecting mislabeled examples without expensive iterations over the entire dataset.\n",
            "['Computer Science', 'Mathematics']\n"
          ]
        }
      ],
      "source": [
        "print(sample_user['recommendedPapers'][0]['paperId'])\n",
        "print(sample_user['recommendedPapers'][0]['title'])\n",
        "print(sample_user['recommendedPapers'][0]['abstract'])\n",
        "print(sample_user['recommendedPapers'][0]['fieldsOfStudy'])"
      ]
    },
    {
      "cell_type": "code",
      "execution_count": 13,
      "metadata": {
        "id": "w43IWaSFfJDJ"
      },
      "outputs": [],
      "source": [
        "paper_train, paper_test = train_test_split(recommended_papers, test_size=0.2, random_state=42)"
      ]
    },
    {
      "cell_type": "code",
      "execution_count": 41,
      "metadata": {
        "id": "fiPfVVdqnIfu"
      },
      "outputs": [],
      "source": [
        "# Collaborative Based\n",
        "\n",
        "G = {}\n",
        "\n",
        "for id_user, sample_user in enumerate(paper_train):\n",
        "    for paper in sample_user[\"positive_papers\"]:\n",
        "        if paper[\"fieldsOfStudy\"] is not None:\n",
        "            for fos in paper[\"fieldsOfStudy\"]:\n",
        "                if id_user in G:\n",
        "                    G[id_user].append(fos)\n",
        "                else:\n",
        "                    G[id_user] = [fos]"
      ]
    },
    {
      "cell_type": "code",
      "execution_count": 15,
      "metadata": {
        "id": "QbcZixHKkXQa"
      },
      "outputs": [],
      "source": [
        "# For Content Based\n",
        "\n",
        "train_recommended_papers = []\n",
        "\n",
        "for user in paper_train:\n",
        "    train_recommended_papers.extend(user['recommendedPapers'])\n",
        "unique_list = []\n",
        "for item in train_recommended_papers:\n",
        "    if item not in unique_list:\n",
        "        unique_list.append(item)\n",
        "\n",
        "train_recommended_papers = unique_list"
      ]
    },
    {
      "attachments": {},
      "cell_type": "markdown",
      "metadata": {
        "collapsed": false,
        "id": "NE2GgSrO_447",
        "pycharm": {
          "name": "#%% md\n"
        }
      },
      "source": [
        "<div>\n",
        "<font face=\"XB Zar\" size=4>\n",
        "    <h2>\n",
        "    <b> Collaborative Filtering Method</b>\n",
        "    </h2>\n",
        "</font>\n",
        "<font face=\"XB Zar\" size=3>\n",
        "\n",
        "In this solution, we try to guess his taste by using users similar to a user and display the articles that similar users have seen to the user.\n",
        "\n",
        "In this method, you must first find $N$ users who have the same taste as user $x$, and recommend 10 articles to user $x$ by combining the list of new favorite articles of those $N$ similar users.\n",
        "\n",
        "Note that in order to find the similarity between two users, you need to use cosine_similarity between the vectors of interest fields of the two users. This vector consists of $M$ fields, where $M$ is the number of unique fields in the data. And in this vector, the $j$ th vector represents the ratio of the number of articles read by the user in the field of $j$ to the total number of articles read by him. (Note that each article can have several fields and therefore the sum of the vectors of this vector is not necessarily one)\n",
        "</font>\n",
        "</div>"
      ]
    },
    {
      "cell_type": "code",
      "execution_count": 45,
      "metadata": {
        "colab": {
          "base_uri": "https://localhost:8080/"
        },
        "id": "RahJ6DvV_447",
        "outputId": "d9e06994-d4f9-44e8-b498-37fe156adfd4",
        "pycharm": {
          "name": "#%%\n"
        }
      },
      "outputs": [
        {
          "name": "stdout",
          "output_type": "stream",
          "text": [
            "{'Chemistry': 0.0, 'Business': 0.0, 'Economics': 1.0, 'Sociology': 0.0, 'Art': 0.0, 'Environmental Science': 0.0, 'Mathematics': 16.0, 'Political Science': 0.0, 'Computer Science': 40.0, 'Engineering': 2.0, 'Philosophy': 0.0, 'Psychology': 0.0, 'Geography': 0.0, 'Biology': 1.0, 'Materials Science': 0.0, 'Physics': 0.0, 'Medicine': 7.0, 'Geology': 1.0}\n",
            "\n",
            "Keys of the 10 highest values with fieldsOfStudy:\n",
            "\n",
            "94eebbefe8a37cf394be899b85af295c2e3a1f01 ['Computer Science', 'Mathematics']\n",
            "682ff0690c87a31c6bc148e53f56b5b494621d66 ['Computer Science']\n",
            "555e1eb9a171b70309c84d5c5db71e78e255c403 ['Computer Science']\n",
            "16176c4916b1a21323870f551d7b1f8d960659c6 ['Computer Science', 'Mathematics']\n",
            "1d36e7ba19be5db9694ed256ea21dae5f753ede3 ['Computer Science']\n",
            "79f43d149cd569abf46428ed8a27a8a2b3e44a8f ['Computer Science']\n",
            "62f3ecee1135503bb2cab776e915281521ef2f3a ['Computer Science']\n",
            "00474bfec99c5b6852de1ac5190a1243b7a5fa91 ['Computer Science', 'Mathematics']\n",
            "df7bbadd7b791b864b7f061c71c7d08a6be0e1a1 None\n",
            "7d03af1ccf5404e23bee02903b41850e88cc8590 ['Computer Science']\n"
          ]
        }
      ],
      "source": [
        "import copy\n",
        "\n",
        "def collaborative_filtering(user, N=10):\n",
        "    \"\"\"\n",
        "    Returns the top 10 related articles to the user, based on similar users (Similar users should be on \"train data\").\n",
        "\n",
        "    Parameters:\n",
        "    user_id (int): The unique index of the user.\n",
        "    N: The number of hyperparameter N in Nearest Neighbor algorithm.\n",
        "\n",
        "    Returns:\n",
        "    List[str]: A list of 10 article IDs that are most relevant to the user's interests.\n",
        "    \"\"\"\n",
        "    global G, paper_train\n",
        "\n",
        "    G_prime = copy.copy(G)\n",
        "    user_id = len(G)\n",
        "\n",
        "    for paper in user[\"positive_papers\"]:\n",
        "        if paper[\"fieldsOfStudy\"] is not None:\n",
        "            for fos in paper[\"fieldsOfStudy\"]:\n",
        "                if user_id in G_prime:\n",
        "                    G_prime[user_id].append(fos)\n",
        "                else:\n",
        "                    G_prime[user_id] = [fos]\n",
        "\n",
        "    user_nodes = set(G_prime.keys())\n",
        "    user_node_indices = {node: i for i, node in enumerate(user_nodes)}\n",
        "    topic_nodes = set().union(*G_prime.values())\n",
        "    topic_node_indices = {node: i for i, node in enumerate(topic_nodes)}\n",
        "\n",
        "    A = np.zeros((len(user_node_indices), len(topic_node_indices)), dtype=float)\n",
        "\n",
        "    for node, outgoing_edges in G_prime.items():\n",
        "        for topic in outgoing_edges:\n",
        "            A[user_node_indices[node], topic_node_indices[topic]] += 1\n",
        "\n",
        "    user_score = {key: A[user_id][value] for key, value in topic_node_indices.items()}\n",
        "\n",
        "    A = A / 50\n",
        "\n",
        "    user_i_scores = A[user_id, :]\n",
        "    similarity_scores = cosine_similarity(A, user_i_scores.reshape(1, -1))\n",
        "\n",
        "    top_indices = np.argsort(similarity_scores.squeeze())[::-1][1:N+1]\n",
        "\n",
        "    top_scores = similarity_scores.squeeze()[top_indices]\n",
        "\n",
        "    result = {}\n",
        "    for top_id, score in zip(top_indices, top_scores):\n",
        "        for rp in paper_train[top_id][\"recommendedPapers\"]:\n",
        "            if rp[\"paperId\"] in result.keys():\n",
        "                result[rp[\"paperId\"]][0] += score\n",
        "            else:\n",
        "                result[rp[\"paperId\"]] = [0, rp[\"fieldsOfStudy\"]]\n",
        "\n",
        "    top_keys = sorted(result, key=lambda x: result[x][0], reverse=True)[:N]\n",
        "\n",
        "    return top_keys, result, user_score\n",
        "\n",
        "top_keys, result, user_score = collaborative_filtering(recommended_papers[80], 10)\n",
        "print(user_score)\n",
        "print(\"\\nKeys of the\", 10, \"highest values with fieldsOfStudy:\\n\")\n",
        "for key in top_keys:\n",
        "    print(key, result[key][1])"
      ]
    },
    {
      "attachments": {},
      "cell_type": "markdown",
      "metadata": {
        "collapsed": false,
        "id": "Q0wYoCqF_447",
        "pycharm": {
          "name": "#%% md\n"
        }
      },
      "source": [
        "<div>\n",
        "<font face=\"XB Zar\" size=4>\n",
        "    <h2>\n",
        "    <b>Content Based Method</b>\n",
        "    </h2>\n",
        "</font>\n",
        "<font face=\"XB Zar\" size=3>\n",
        "\n",
        "In this method, we suggest a new article to the user using previous articles that the user has liked.\n",
        "\n",
        "To do this, first collect all the articles suggested for all users. (Actually, the model you implement should not know which articles were suggested to which user)\n",
        "\n",
        "Then create a tf-idf vector for the title of each article, and compare the vector average of each person's favorite articles with the list you collected of new articles and output the 10 most similar articles.\n",
        "\n",
        "</font>\n",
        "</div>"
      ]
    },
    {
      "cell_type": "code",
      "execution_count": 23,
      "metadata": {
        "colab": {
          "base_uri": "https://localhost:8080/"
        },
        "id": "UE_VeOoiFp78",
        "outputId": "9c023d1c-9999-4f6f-a425-ab79009b0f88"
      },
      "outputs": [
        {
          "name": "stdout",
          "output_type": "stream",
          "text": [
            "542\n"
          ]
        }
      ],
      "source": [
        "print(len(recommended_papers))"
      ]
    },
    {
      "cell_type": "code",
      "execution_count": 24,
      "metadata": {
        "colab": {
          "base_uri": "https://localhost:8080/"
        },
        "id": "oE-pAwP__448",
        "outputId": "97f711d3-f412-47f7-efa3-dba96b0d5753",
        "pycharm": {
          "name": "#%%\n"
        }
      },
      "outputs": [
        {
          "name": "stdout",
          "output_type": "stream",
          "text": [
            "10 related articles: \n",
            "['b7b4ed9933eed2542d58495ce7629ff8a6e4c9ee', '3ba97b614fc39f1e7a8219162389e06feb1b1ae2', '982089a6013555065c7fd65ca7b1864d0601595e', '6625a66e96821efed9b19e81d86bda7d66931020', 'b2db53ac752045905063eb497a6a484627b037b1', '957d6d3f88d54273f44cb3c3335da209bf9657b9', 'c39f3752591181899f680644e8f6ce77cc5a8e3e', '638e508b1a0694c847d3094ad664006b2b761f09', '12ffb095891a42dd80625667a3234ded06ffa040', '20492f35f31e2a045a709fccc6be5cfe374c6867']\n"
          ]
        }
      ],
      "source": [
        "def content_based_recommendation(user):\n",
        "    \"\"\"\n",
        "    Returns the top 10 related articles to the user, based on the titles of the articles.\n",
        "\n",
        "    Parameters:\n",
        "    user_id (int): The unique index of the user.\n",
        "\n",
        "    Returns:\n",
        "    List[str]: A list of 10 article IDs that are most relevant to the user's interests.\n",
        "    \"\"\"\n",
        "    global train_recommended_papers\n",
        "\n",
        "    titles = [paper['title'] for paper in train_recommended_papers]\n",
        "\n",
        "    vectorizer = TfidfVectorizer()\n",
        "\n",
        "    tfidf_vectors = vectorizer.fit_transform(titles)\n",
        "\n",
        "    positive_papers = user['positive_papers']\n",
        "    user_titles = [paper['title'] for paper in positive_papers]\n",
        "    user_vector = vectorizer.transform(user_titles).mean(axis=0)\n",
        "\n",
        "    similarities = cosine_similarity(np.array(user_vector), np.array(tfidf_vectors.toarray())).squeeze()\n",
        "\n",
        "    top_indices = np.argsort(similarities)[-10:]\n",
        "\n",
        "    result = [train_recommended_papers[idx]['paperId'] for idx in top_indices]\n",
        "\n",
        "    return result\n",
        "\n",
        "print(\"10 related articles: \")\n",
        "print(content_based_recommendation(recommended_papers[5]))"
      ]
    },
    {
      "attachments": {},
      "cell_type": "markdown",
      "metadata": {
        "collapsed": false,
        "id": "qs3nliaF_448",
        "pycharm": {
          "name": "#%% md\n"
        }
      },
      "source": [
        "<div>\n",
        "<font face=\"XB Zar\" size=4>\n",
        "    <h2>\n",
        "    <b> Evaluate Recommender System</b>\n",
        "    </h2>\n",
        "</font>\n",
        "<font face=\"XB Zar\" size=3>\n",
        "\n",
        "In this section, evaluate the recommender systems that you have implemented using the nDCG criteria and using real data of users' interests towards new articles and compare the results of the two methods.\n",
        "\n",
        "</font>\n",
        "</div>"
      ]
    },
    {
      "cell_type": "code",
      "execution_count": 26,
      "metadata": {
        "id": "ACZF_FfNcz59"
      },
      "outputs": [],
      "source": [
        "from typing import List, Dict\n",
        "\n",
        "def cacluate_NDCG(actual: List[List[str]], predicted: List[List[str]]) -> float:\n",
        "    \"\"\"\n",
        "    Calculates the Normalized Discounted Cumulative Gain (NDCG) of the predicted results\n",
        "\n",
        "    Parameters\n",
        "    ----------\n",
        "    actual : List[List[str]]\n",
        "        The actual results\n",
        "    predicted : List[List[str]]\n",
        "        The predicted results\n",
        "\n",
        "    Returns\n",
        "    -------\n",
        "    float\n",
        "        The NDCG of the predicted results\n",
        "    \"\"\"\n",
        "\n",
        "    ndcg = 0.0\n",
        "\n",
        "    for i in range(len(actual)):\n",
        "        query_actual = actual[i]\n",
        "        query_predicted = predicted[i]\n",
        "\n",
        "        dcg = 0.0\n",
        "        for j in range(len(query_predicted)):\n",
        "            if query_predicted[j] in query_actual:\n",
        "                relevance = 1.0\n",
        "            else:\n",
        "                relevance = 0.0\n",
        "            dcg += relevance / (j + 1)\n",
        "\n",
        "        ideal_dcg = 0.0\n",
        "        for j in range(len(query_predicted)):\n",
        "            ideal_relevance = 1.0\n",
        "            ideal_dcg += ideal_relevance / (j + 1)\n",
        "\n",
        "        if ideal_dcg > 0.0:\n",
        "            ndcg += dcg / ideal_dcg\n",
        "\n",
        "    ndcg /= len(actual)\n",
        "\n",
        "    return ndcg\n"
      ]
    },
    {
      "cell_type": "code",
      "execution_count": 47,
      "metadata": {
        "colab": {
          "base_uri": "https://localhost:8080/"
        },
        "id": "1os6rtla_44-",
        "outputId": "073e9b97-b9e2-4c5b-839d-a96827191cfa",
        "pycharm": {
          "is_executing": true,
          "name": "#%%\n"
        }
      },
      "outputs": [
        {
          "name": "stdout",
          "output_type": "stream",
          "text": [
            "Content-Based Recommender nDCG: 0.061995279225484756\n",
            "Collaborative filtering Recommender nDCG: 0.5645700776479161\n"
          ]
        }
      ],
      "source": [
        "from sklearn.metrics import ndcg_score\n",
        "\n",
        "ground_truth = [[rp['paperId'] for rp in paper['recommendedPapers']] for paper in paper_test]\n",
        "\n",
        "collaborative_recommendations = [collaborative_filtering(paper)[0] for paper in paper_test]\n",
        "ndcg_collaborative = cacluate_NDCG(ground_truth, collaborative_recommendations)\n",
        "\n",
        "content_recommendations = [content_based_recommendation(paper) for paper in paper_test]\n",
        "ndcg_content = cacluate_NDCG(ground_truth, content_recommendations)\n",
        "\n",
        "\n",
        "print(\"Content-Based Recommender nDCG:\", ndcg_content)\n",
        "print(\"Collaborative filtering Recommender nDCG:\", ndcg_collaborative)"
      ]
    },
    {
      "attachments": {},
      "cell_type": "markdown",
      "metadata": {},
      "source": [
        "<div>\n",
        "the collaborative recommendation system has an NDCG of 0.56, while the content-based recommendation system has an NDCG of 0.06. There are several reasons why this difference might occur:\n",
        "\n",
        "Data Sparsity: Collaborative recommendation systems rely on user-item interactions or preferences to generate recommendations. There are many user-item interactions available, the system has a better chance of identifying patterns and making accurate recommendations. On the other hand, if the content-based system lacks sufficient user-item interactions or the data is sparse, it may struggle to capture user preferences accurately.\n",
        "\n",
        "Personalization: Collaborative recommendation systems leverage the collective behavior and preferences of multiple users to generate recommendations. This collaborative approach allows the system to capture diverse user tastes and provide personalized recommendations. In contrast, content-based recommendation systems rely on analyzing item attributes or content to make recommendations. If the content-based system lacks sufficient information about user preferences or struggles to capture the nuances of user tastes, it may lead to less accurate recommendations.\n",
        "\n",
        "Item Representations: Collaborative recommendation systems consider the interactions between users and items, which can provide a more comprehensive understanding of item relevance and user preferences.\n",
        "\n",
        "System Design and Algorithms: The performance of a recommendation system heavily depends on the design choices and algorithms used. Collaborative recommendation systems utilize techniques such as matrix factorization, neighborhood-based methods, or deep learning approaches. Content-based recommendation systems often employ natural language processing, or other content analysis techniques. The effectiveness of these techniques depends on various factors, including the quality of the data, feature engineering, algorithm selection, and hyperparameter tuning. If the implementation of the content-based system is not optimized or lacks advanced algorithms, it may result in inferior performance compared to the collaborative system.\n",
        "</div>"
      ]
    },
    {
      "attachments": {},
      "cell_type": "markdown",
      "metadata": {
        "collapsed": false,
        "id": "ysWYk-fY_44_",
        "pycharm": {
          "name": "#%% md\n"
        }
      },
      "source": [
        "<div style=\"text-align: justify\">\n",
        "<font face=\"XB Zar\" size=4>\n",
        "    <h1>\n",
        "    <b>Simple UI</b>\n",
        "    </h1>\n",
        "</font>\n",
        "    <br>\n",
        "<font face=\"XB Zar\" size=3>\n",
        "\n",
        "</font>\n",
        "</div>"
      ]
    },
    {
      "cell_type": "code",
      "execution_count": null,
      "metadata": {
        "id": "cnPmtA0WRpcH"
      },
      "outputs": [],
      "source": [
        "import tkinter as tk\n",
        "from tkinter import messagebox\n",
        "\n",
        "def search_articles():\n",
        "    title_query = title_entry.get()\n",
        "    abstract_query = abstract_entry.get()\n",
        "    method = method_entry.get()\n",
        "    max_result_count = int(count_entry.get())\n",
        "\n",
        "    top_article_ids, prettify_string = searchEngine.search(title_query=title_query, abstract_query=abstract_query, method=method, print_=False, max_result_count=max_result_count)\n",
        "\n",
        "    messagebox.showinfo(\"Search Results\", f\"Top Article IDs: {top_article_ids}\\n\\nPrettify String: {prettify_string}\")\n",
        "\n",
        "window = tk.Tk()\n",
        "window.title(\"IR Project GUI\")\n",
        "\n",
        "title_label = tk.Label(window, text=\"Title Query:\")\n",
        "title_label.pack()\n",
        "title_entry = tk.Entry(window)\n",
        "title_entry.pack()\n",
        "\n",
        "abstract_label = tk.Label(window, text=\"Abstract Query:\")\n",
        "abstract_label.pack()\n",
        "abstract_entry = tk.Entry(window)\n",
        "abstract_entry.pack()\n",
        "\n",
        "method_label = tk.Label(window, text=\"Method:\")\n",
        "method_label.pack()\n",
        "method_entry = tk.Entry(window)\n",
        "method_entry.pack()\n",
        "\n",
        "count_label = tk.Label(window, text=\"Max Result Count:\")\n",
        "count_label.pack()\n",
        "count_entry = tk.Entry(window)\n",
        "count_entry.pack()\n",
        "\n",
        "search_button = tk.Button(window, text=\"Search\", command=search_articles)\n",
        "search_button.pack()\n",
        "\n",
        "window.mainloop()"
      ]
    }
  ],
  "metadata": {
    "colab": {
      "provenance": []
    },
    "kernelspec": {
      "display_name": "Python 3 (ipykernel)",
      "language": "python",
      "name": "python3"
    },
    "language_info": {
      "codemirror_mode": {
        "name": "ipython",
        "version": 3
      },
      "file_extension": ".py",
      "mimetype": "text/x-python",
      "name": "python",
      "nbconvert_exporter": "python",
      "pygments_lexer": "ipython3",
      "version": "3.8.5"
    },
    "vscode": {
      "interpreter": {
        "hash": "08ac30a6a1fd2e576b33e03f7d61c3a285d7ee0582c2dd23dde6343ef303ebe9"
      }
    }
  },
  "nbformat": 4,
  "nbformat_minor": 0
}
